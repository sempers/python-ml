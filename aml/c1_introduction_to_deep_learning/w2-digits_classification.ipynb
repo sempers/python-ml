{
 "cells": [
  {
   "cell_type": "markdown",
   "metadata": {
    "slideshow": {
     "slide_type": "slide"
    }
   },
   "source": [
    "# MNIST digits classification with TensorFlow"
   ]
  },
  {
   "cell_type": "markdown",
   "metadata": {},
   "source": [
    "<img src=\"images/mnist_sample.png\" style=\"width:30%\">"
   ]
  },
  {
   "cell_type": "code",
   "execution_count": 1,
   "metadata": {},
   "outputs": [
    {
     "name": "stdout",
     "output_type": "stream",
     "text": [
      "We're using TF 1.2.1\n"
     ]
    }
   ],
   "source": [
    "import numpy as np\n",
    "from sklearn.metrics import accuracy_score\n",
    "from matplotlib import pyplot as plt\n",
    "%matplotlib inline\n",
    "import tensorflow as tf\n",
    "print(\"We're using TF\", tf.__version__)"
   ]
  },
  {
   "cell_type": "code",
   "execution_count": 2,
   "metadata": {},
   "outputs": [
    {
     "name": "stderr",
     "output_type": "stream",
     "text": [
      "Using TensorFlow backend.\n"
     ]
    }
   ],
   "source": [
    "import sys\n",
    "sys.path.append(\"../..\")\n",
    "import grading\n",
    "\n",
    "import matplotlib_utils\n",
    "from importlib import reload\n",
    "reload(matplotlib_utils)\n",
    "\n",
    "import grading_utils\n",
    "reload(grading_utils)\n",
    "\n",
    "import keras_utils\n",
    "from keras_utils import reset_tf_session"
   ]
  },
  {
   "cell_type": "markdown",
   "metadata": {},
   "source": [
    "# Fill in your Coursera token and email\n",
    "To successfully submit your answers to our grader, please fill in your Coursera submission token and email"
   ]
  },
  {
   "cell_type": "code",
   "execution_count": 3,
   "metadata": {
    "collapsed": true
   },
   "outputs": [],
   "source": [
    "grader = grading.Grader(assignment_key=\"XtD7ho3TEeiHQBLWejjYAA\", \n",
    "                        all_parts=[\"9XaAS\", \"vmogZ\", \"RMv95\", \"i8bgs\", \"rE763\"])"
   ]
  },
  {
   "cell_type": "code",
   "execution_count": 53,
   "metadata": {
    "collapsed": true
   },
   "outputs": [],
   "source": [
    "# token expires every 30 min\n",
    "COURSERA_TOKEN = \"S49QcLBE9mmY1zBA\"\n",
    "COURSERA_EMAIL = \"groddenator@gmail.com\""
   ]
  },
  {
   "cell_type": "markdown",
   "metadata": {},
   "source": [
    "# Look at the data\n",
    "\n",
    "In this task we have 50000 28x28 images of digits from 0 to 9.\n",
    "We will train a classifier on this data."
   ]
  },
  {
   "cell_type": "code",
   "execution_count": 5,
   "metadata": {},
   "outputs": [
    {
     "data": {
      "text/plain": [
       "(50000, 50000, 10000, 10000, 10000, 10000)"
      ]
     },
     "execution_count": 5,
     "metadata": {},
     "output_type": "execute_result"
    }
   ],
   "source": [
    "import preprocessed_mnist\n",
    "X_train, y_train, X_val, y_val, X_test, y_test = preprocessed_mnist.load_dataset_from_file()\n",
    "\n",
    "len(X_train), len(y_train), len(X_val), len(y_val), len(X_test), len(y_test)"
   ]
  },
  {
   "cell_type": "code",
   "execution_count": 6,
   "metadata": {},
   "outputs": [
    {
     "name": "stdout",
     "output_type": "stream",
     "text": [
      "X_train [shape (50000, 28, 28)] sample patch:\n",
      " [[ 0.          0.29803922  0.96470588  0.98823529  0.43921569]\n",
      " [ 0.          0.33333333  0.98823529  0.90196078  0.09803922]\n",
      " [ 0.          0.33333333  0.98823529  0.8745098   0.        ]\n",
      " [ 0.          0.33333333  0.98823529  0.56862745  0.        ]\n",
      " [ 0.          0.3372549   0.99215686  0.88235294  0.        ]]\n",
      "A closeup of a sample patch:\n"
     ]
    },
    {
     "data": {
      "image/png": "[encoded data removed]",
      "text/plain": [
       "<matplotlib.figure.Figure at 0x7fbeaa469c18>"
      ]
     },
     "metadata": {},
     "output_type": "display_data"
    },
    {
     "name": "stdout",
     "output_type": "stream",
     "text": [
      "And the whole sample:\n"
     ]
    },
    {
     "data": {
      "image/png": "[encoded data removed]",
      "text/plain": [
       "<matplotlib.figure.Figure at 0x7fbe8b443240>"
      ]
     },
     "metadata": {},
     "output_type": "display_data"
    },
    {
     "name": "stdout",
     "output_type": "stream",
     "text": [
      "y_train [shape (50000,)] 10 samples:\n",
      " [5 0 4 1 9 2 1 3 1 4]\n"
     ]
    }
   ],
   "source": [
    "# X contains rgb values divided by 255\n",
    "print(\"X_train [shape %s] sample patch:\\n\" % (str(X_train.shape)), X_train[1, 15:20, 5:10])\n",
    "print(\"A closeup of a sample patch:\")\n",
    "plt.imshow(X_train[1, 15:20, 5:10], cmap=\"Greys\")\n",
    "plt.show()\n",
    "print(\"And the whole sample:\")\n",
    "plt.imshow(X_train[1], cmap=\"Greys\")\n",
    "plt.show()\n",
    "print(\"y_train [shape %s] 10 samples:\\n\" % (str(y_train.shape)), y_train[:10])"
   ]
  },
  {
   "cell_type": "markdown",
   "metadata": {},
   "source": [
    "# Linear model\n",
    "\n",
    "Your task is to train a linear classifier $\\vec{x} \\rightarrow y$ with SGD using TensorFlow.\n",
    "\n",
    "You will need to calculate a logit (a linear transformation) $z_k$ for each class: \n",
    "$$z_k = \\vec{x} \\cdot \\vec{w_k} + b_k \\quad k = 0..9$$\n",
    "\n",
    "And transform logits $z_k$ to valid probabilities $p_k$ with softmax: \n",
    "$$p_k = \\frac{e^{z_k}}{\\sum_{i=0}^{9}{e^{z_i}}} \\quad k = 0..9$$\n",
    "\n",
    "We will use a cross-entropy loss to train our multi-class classifier:\n",
    "$$\\text{cross-entropy}(y, p) = -\\sum_{k=0}^{9}{\\log(p_k)[y = k]}$$ \n",
    "\n",
    "where \n",
    "$$\n",
    "[x]=\\begin{cases}\n",
    "       1, \\quad \\text{if $x$ is true} \\\\\n",
    "       0, \\quad \\text{otherwise}\n",
    "    \\end{cases}\n",
    "$$\n",
    "\n",
    "Cross-entropy minimization pushes $p_k$ close to 1 when $y = k$, which is what we want.\n",
    "\n",
    "Here's the plan:\n",
    "* Flatten the images (28x28 -> 784) with `X_train.reshape((X_train.shape[0], -1))` to simplify our linear model implementation\n",
    "* Use a matrix placeholder for flattened `X_train`\n",
    "* Convert `y_train` to one-hot encoded vectors that are needed for cross-entropy\n",
    "* Use a shared variable `W` for all weights (a column $\\vec{w_k}$ per class) and `b` for all biases.\n",
    "* Aim for ~0.93 validation accuracy"
   ]
  },
  {
   "cell_type": "code",
   "execution_count": 7,
   "metadata": {},
   "outputs": [
    {
     "name": "stdout",
     "output_type": "stream",
     "text": [
      "(50000, 784)\n",
      "(10000, 784)\n"
     ]
    }
   ],
   "source": [
    "X_train_flat = X_train.reshape((X_train.shape[0], -1))\n",
    "print(X_train_flat.shape)\n",
    "\n",
    "X_val_flat = X_val.reshape((X_val.shape[0], -1))\n",
    "print(X_val_flat.shape)"
   ]
  },
  {
   "cell_type": "code",
   "execution_count": 8,
   "metadata": {},
   "outputs": [
    {
     "name": "stdout",
     "output_type": "stream",
     "text": [
      "(50000, 10)\n",
      "[[ 0.  0.  0.  0.  0.  1.  0.  0.  0.  0.]\n",
      " [ 1.  0.  0.  0.  0.  0.  0.  0.  0.  0.]\n",
      " [ 0.  0.  0.  0.  1.  0.  0.  0.  0.  0.]] [5 0 4]\n"
     ]
    }
   ],
   "source": [
    "import keras\n",
    "\n",
    "y_train_oh = keras.utils.to_categorical(y_train, 10)\n",
    "y_val_oh = keras.utils.to_categorical(y_val, 10)\n",
    "\n",
    "print(y_train_oh.shape)\n",
    "print(y_train_oh[:3], y_train[:3])"
   ]
  },
  {
   "cell_type": "code",
   "execution_count": 46,
   "metadata": {
    "collapsed": true
   },
   "outputs": [],
   "source": [
    "# run this again if you remake your graph\n",
    "s = reset_tf_session()"
   ]
  },
  {
   "cell_type": "code",
   "execution_count": 47,
   "metadata": {
    "collapsed": true
   },
   "outputs": [],
   "source": [
    "# Model parameters: W and b\n",
    "W = tf.get_variable(\"W\", shape=(784,10), dtype=tf.float32)     ### YOUR CODE HERE ### tf.get_variable(...) with shape[0] = 784\n",
    "b = tf.get_variable(\"b\", shape=(1,10), dtype=tf.float32)    ### YOUR CODE HERE ### tf.get_variable(...)"
   ]
  },
  {
   "cell_type": "code",
   "execution_count": 48,
   "metadata": {
    "collapsed": true
   },
   "outputs": [],
   "source": [
    "# Placeholders for the input data\n",
    "input_X = tf.placeholder(tf.float32, shape=(None, 784))        ### YOUR CODE HERE ### tf.placeholder(...) for flat X with shape[0] = None for any batch size\n",
    "input_y = tf.placeholder(tf.float32, shape=(None, 10))         ### YOUR CODE HERE ### tf.placeholder(...) for one-hot encoded true labels"
   ]
  },
  {
   "cell_type": "code",
   "execution_count": 49,
   "metadata": {},
   "outputs": [],
   "source": [
    "# Compute predictions\n",
    "logits = tf.matmul(input_X, W) + b ### YOUR CODE HERE ### logits for input_X, resulting shape should be [input_X.shape[0], 10]\n",
    "probas = tf.nn.softmax(logits) ### YOUR CODE HERE ### apply tf.nn.softmax to logits\n",
    "classes = tf.argmax(probas, axis=1) ### YOUR CODE HERE ### apply tf.argmax to find a class index with highest probability\n",
    "\n",
    "# Loss should be a scalar number: average loss over all the objects with tf.reduce_mean().\n",
    "# Use tf.nn.softmax_cross_entropy_with_logits on top of one-hot encoded input_y and logits.\n",
    "# It is identical to calculating cross-entropy on top of probas, but is more numerically friendly (read the docs).\n",
    "loss = tf.reduce_mean(tf.nn.softmax_cross_entropy_with_logits(labels=input_y, logits=logits)) ### YOUR CODE HERE ### cross-entropy loss\n",
    "# Use a default tf.train.AdamOptimizer to get an SGD step\n",
    "step = tf.train.AdamOptimizer().minimize(loss) ### YOUR CODE HERE ### optimizer step that minimizes the loss"
   ]
  },
  {
   "cell_type": "code",
   "execution_count": 56,
   "metadata": {
    "scrolled": false
   },
   "outputs": [
    {
     "data": {
      "text/html": [
       "<img src=\"data:image/jpeg;base64,/9j/4AAQSkZJRgABAQAAAQABAAD/2wBDAAIBAQEBAQIBAQECAgICAgQDAgICAgUEBAMEBgUGBgYFBgYGBwkIBgcJBwYGCAsICQoKCgoKBggLDAsKDAkKCgr/2wBDAQICAgICAgUDAwUKBwYHCgoKCgoKCgoKCgoKCgoKCgoKCgoKCgoKCgoKCgoKCgoKCgoKCgoKCgoKCgoKCgoKCgr/wAARCAEgA2ADASIAAhEBAxEB/8QAHwAAAQUBAQEBAQEAAAAAAAAAAAECAwQFBgcICQoL/8QAtRAAAgEDAwIEAwUFBAQAAAF9AQIDAAQRBRIhMUEGE1FhByJxFDKBkaEII0KxwRVS0fAkM2JyggkKFhcYGRolJicoKSo0NTY3ODk6Q0RFRkdISUpTVFVWV1hZWmNkZWZnaGlqc3R1dnd4eXqDhIWGh4iJipKTlJWWl5iZmqKjpKWmp6ipqrKztLW2t7i5usLDxMXGx8jJytLT1NXW19jZ2uHi4%2BTl5ufo6erx8vP09fb3%2BPn6/8QAHwEAAwEBAQEBAQEBAQAAAAAAAAECAwQFBgcICQoL/8QAtREAAgECBAQDBAcFBAQAAQJ3AAECAxEEBSExBhJBUQdhcRMiMoEIFEKRobHBCSMzUvAVYnLRChYkNOEl8RcYGRomJygpKjU2Nzg5OkNERUZHSElKU1RVVldYWVpjZGVmZ2hpanN0dXZ3eHl6goOEhYaHiImKkpOUlZaXmJmaoqOkpaanqKmqsrO0tba3uLm6wsPExcbHyMnK0tPU1dbX2Nna4uPk5ebn6Onq8vP09fb3%2BPn6/9oADAMBAAIRAxEAPwD9/KKKKACiiigAooooAKKKKACiiigAooooAKKKKACiiigAooooAKKKKACiiigAooooAKKKKACiiigAooooAKKKKACiiigAooooAKKKKACiiigAooooAKKKKACiiigAooooAKKKKACiiigAooooAKKKKACiiigAooooAKKKKACiiigAooooAKKKKACiiigAooooAKKKKACiiigAooooAKKKKACiiigAooooAKKKKACiiigAooooAKKKKACiiigAooooAKKKKACiiigAooooAKKKKACiiigAooooAKKKKACiiigAooooAKKKKACiiigAooooAKKKKACiiigAooooAKKKKACiiigAooooAKKKKACvPfjt%2B1J8FP2b5NGsfil4g1Maj4ilnTQNB8OeF9R1zVNR8lVed4bHTbee5kjiVkMkixlI96biu5c%2BhV4N%2B0P8D/j5/wANJ%2BDv2tv2bLLwfrWueH/B2seFNX8KeOdcutLtLywv7mwuxcQXtraXj288U2noCpt3WVJSCUKK1ABpf/BTL9izWLvxPb2nxXv0h8FWsk/jLUrvwXrEFjoIS0iu9l5dy2iwWsrQzRskMjrJIWKorMrKL2n/APBQ/wDZK1HwBrXxFTx/q9vB4f1ay0vVdE1DwNrNrrkV5ebfscC6PNaLqEr3AYGER27eaAxTcFYjy2b9gH4y%2BMf2a/jn8NfGHinwppHin4o/FS38daHc6U1xeWFpeW0OiywQ3IkihkkiN3pRRwoyYHGDuJVaPi79i/8AaV%2BLmr/Ef45fG34S/CjWvFnjWx8KaPp/gKy%2BI2s2Wm6fY6Hcaldw3qa7b6al5DqDXOqTOksVoPJSKNFZiWcgHsviH9vv9mzwv4a8OeI9XvvG3meK0v5NE8P2vwm8SXGuSRWUscV3NJpMWntf28MLzQq8s0CIpmiy37xM%2Bmaz8RPBHhv4e3XxX8T%2BJbbSvDljo76rf6vqrfZYbSySIzPPMZdvlKsYLNvxtAOcYNfGHin9hH9s/WPgX4X8Nay3hfxV470a58RHRfGV/wDHbxNpGr%2BCLW%2BuUktLO11q1sJLzXIYkjhEy3qw/aTbReYCFGPUfjR/wTotfj1%2Bzb4n%2BHHxD%2BOfjW78d%2BMPhfH4Z17xS3jbWho818tpDE2oJoS3y2FuzzQLK3kRRSEPIBIrSM5AOkg/4KUfsZf8K58V/FbWPite6Jo3giysr7xQ/ifwdq%2Bk3NlZXkxhtb37LeWsVxJaSyK6pcxxtC3luQ%2BEYjj/AI3f8FZP2d/hn8ENU%2BMfgPRfFXiqbQfiD4X8L674Y/4QXXbHU7A6zqVrax3T2cmnNdeV5Fw88DeT5d48aW8MhknjB8r1T/gmJ8ZPHfwq8faR4i8DeG9G8Y%2BI9D0fR7DxDqv7RfjPxut3aWusW%2BoTRyf27AfsEZ8likUSzHe%2BGkxknv8A9qH9gz40/GD4g/F/4g%2BBfEPheOTxfB8LbzwlZ6tfXMSvf%2BE/EdzrUsN40dvJ5ENwGt4VljEzrl2MfyKrgHqFh/wUE/Zb1H4m2XwZh8T%2BJo/Fd5oun6xLoF38N9egudO0%2B9adILu/SSyU6dDut5VeS68pYiFEhQum6j4a/wCCmH7FPi3wZ4s%2BIWkfGC4TR/Bfgi68Zaxe6h4S1W0Fx4et0Z5tWsVntUbVLNVQ4nsxPGxZArEugbB0P9kP4ofEP4mfG74g/G9fD2gxfGj4O%2BHfCF1Y%2BE9duNRl0u4tE11Ltlnns7XzYwNViMT7FZikm6OPA3fN37Y37Kn7UOj/ALDHxS%2BJv7TF34AtIfhD%2BxT8QfBHhePwFqF5cNrzXukWxn1G6W5toBYqE0i3CWcbXAVppCZ22oKAPrPw9/wUl/Yy8TaHrHiPT/i1dQWehppU1/JqnhLVbJmtNSu1s7HUIUuLVGubCWdgovoQ9qoDO0qorMPT9E%2BLvw88R/FLX/gvofiH7T4k8LaXp%2Boa/YR2k22zgvmuBa7pinlF3%2ByzHy1cyKoRmVVkjLfJOofsz%2BIPFegeKfjb/wAFIvF/wz8J%2BBbf9nu5%2BHUlx4f8QTLay6beyQyXmq3k17BbpYOTBbCG2QzCAmT/AEiQsuOw/wCCPngP4u2f7I9r8f8A9pDUDf8AxJ%2BL15H4n8V6g9nJbtJCLSCy01fKl%2BeH/iX2lpI0TYKSzTZAYtkA%2BqqKKKACiiigAooooAKKKKACiiigAooooAKKKKACiiigAooooAKKKKACiiigAooooAKKKKACiiigAooooAKKKKACiiigAooooAK8R0j/AIKMfse6ld69Z6n8Urzw83hzw5c%2BINQk8a%2BEdV0GObSbd0jnv7WTUrWBb63R5IlaW2MqAyxjOXXPtN7FczWcsNndCCZ4mWKYx7/LYjhtp64POO9fmJq//BHL9uX4v6t4X1z43fHHQ31vw14P1Cz1DxRqHxW8TeJx4h1v7ZpV9a6idLvoobLSbaS50xfPsLIBRHJtWWQKgUA%2B2X/b/wD2YbX4aN8WNY8QeKtK0ttcg0axs9c%2BGWv2GqanfzIZIYLLTbixS9v2kQM6/Z4ZAyo7AkIxHReA/wBqz4H/ABH1%2By8J%2BHPEOqQ6vf8AhSfxJDpGteFdS0y7TTYbv7JLLLDeW8UkDrP8hhkVZe%2BzbzXk3xO%2BDn7bvxib4e/G3XPBvwq0P4h/Cjx1NrHh/wAM2vjjUr/Rdcs7jSbvTLmO4vn0qGaxmKXskkbpa3AjMQU%2BYJGxV%2BJPwG/bg1/4y%2BHf2mvA%2BjfCu08WX3ww1XwX4x0LUvFepSWGkLcX8N1a39lcJpwk1AxCN1kt5YrQSlxiWLHIB3Gk/wDBRv8AZA8R694F8LeFfiNqus6n8SfBuleLfBunaJ4H1m9nvND1F9lrqMiQWjNa2%2B7HmSTiNbcMpm8oMCdj4a/tufs3fFf4jXPwn8M%2BL9Ws9ft9LudThsvE/gzVtEW/sbeRI57uyl1G1gjv4I3liDy2zSIvmISQGUnyj9hT9hL4sfsw6/8ADjWfHniDw1dnwd%2Byl4R%2BGN%2B%2BkXM8rNq2lvM1zNF5kEe61bemxmKu235o0wK8a%2BGn/BKv9sbxP8UfC/ib9qb4w2eqRaf4A8V%2BF/GniaD4v%2BJNavPEUur2KW39p2umX0Men6EcqWNpaKUXKgTOI1WgD6l8J/8ABRf9kfxrosfirQfHeuf2Hcarpen6f4lvfh/rdrpWoy6lex2VlJaX09mlteQS3M0UYuIJHhBlQs4VgT6X4W%2BLvw88a/EDxT8LvC/iH7XrnguSzj8T2iWkwWxkuoPtEEZlZBG7tCVkKIzMiyRlgokTd8w%2BOPAnxF8K/wDBPbxp8CP%2BChnif4VeCPAWg/DSLQLb4meHfFt2GadI0trXUntLqzgTTZlmFvJDBHcXTGcoiOTtDdr/AMEr/h98WPDf7ImlfFX9oqwS3%2BJ3xYvpfHXxEhW3aL7Pf36xmG02N8yfZbGOys9pyQLXBoA%2BjaKKKACiiigAooooAKKKKACiiigAooooAKKKKACiiigAooooAKKKKACiiigAooooAKKKKACiiigAooooAKKKKACiiigAooooAKKKKACvF/j14/8A2i/%2BGi/AvwI%2BAvjPwV4fTX/BXiXXtX1Pxf4Lu9aJOnXeh28MMMdvqVj5Yb%2B1JWZmZ8%2BWgAXkn2ivCviNrkdj/wAFK/hBokoH%2BnfBT4hmNs8749W8GnH/AHyWP4Um0ty4QlUdoro39yu/wL//AAg//BQv/o6D4M/%2BGH1b/wCaij/hB/8AgoX/ANHQfBn/AMMPq3/zUV7NRTIPGf8AhB/%2BChf/AEdB8Gf/AAw%2Brf8AzUUf8IP/AMFC/wDo6D4M/wDhh9W/%2BaivZqKAPGf%2BEH/4KF/9HQfBn/ww%2Brf/ADUUf8IP/wAFC/8Ao6D4M/8Ahh9W/wDmor2aigDxn/hB/wDgoX/0dB8Gf/DD6t/81FH/AAg//BQv/o6D4M/%2BGH1b/wCaivZqKAPGf%2BEH/wCChf8A0dB8Gf8Aww%2Brf/NRR/wg/wDwUL/6Og%2BDP/hh9W/%2BaivZqKAPGf8AhB/%2BChf/AEdB8Gf/AAw%2Brf8AzUUf8IP/AMFC/wDo6D4M/wDhh9W/%2BaivZqKAPGf%2BEH/4KF/9HQfBn/ww%2Brf/ADUUf8IP/wAFC/8Ao6D4M/8Ahh9W/wDmor2aigDxn/hB/wDgoX/0dB8Gf/DD6t/81FH/AAg//BQv/o6D4M/%2BGH1b/wCaivUfGY36GIGJ2TX1pFKAcbke5jVl%2BhUkH2NeY6/%2B1B/wT98Ka7e%2BFvFP7RHwc03U9Nu5LXUdO1DxdpUM9rPGxSSKSN5QyOrAqysAQQQRkVlVr0KCTqTUb92l%2BbR3YHK8zzScoYLD1KrirtU4TqNLa7UITaV9LtJX0vfQZ/wg/wDwUL/6Og%2BDP/hh9W/%2Baij/AIQf/goX/wBHQfBn/wAMPq3/AM1FV/8Ahr//AIJwf9HRfBH/AMLbR/8A47VvQP2oP%2BCfvivXbLwt4W/aI%2BDmpanqV3Ha6dp2n%2BLdKmnup5GCRxRxpKWd2YhVVQSSQAMmsljsC3ZVYf8Agcf/AJI9CfCvFNODnPL8Qkk226FdJJattugkkkm220kk22kmxn/CD/8ABQv/AKOg%2BDP/AIYfVv8A5qKP%2BEH/AOChf/R0HwZ/8MPq3/zUVo/tV/Ev4Vfsofs3%2BNf2kvFPwuXVtP8ABXh641W603SNEE1xcrEudiLHGxGTjLkbUXLuVVWYc/pP7Wf7H%2BueN5fhrpfhrX5fENt4cXXtQ0X/AIU1rq3Wn2Dx3bxS3UbaeGtWl%2Bw3KxRzBJJnjEcau7ordR4Jf/4Qf/goX/0dB8Gf/DD6t/8ANRR/wg//AAUL/wCjoPgz/wCGH1b/AOaiqWmftOfsweJpPDv/AAiumWCHWfHU3hW9sPEvhLUdH1Gxvo9GutXMLWVzYCZJTa26zKtwtvG8MnmLKzGKOZvwU/a//YX/AGgtGm8R/DbxNpf9nReH9P11L/xF4Ru9FgudLvmZbW9gk1G2gW5t5HUoJYi6h8ISGIFAF/8A4Qf/AIKF/wDR0HwZ/wDDD6t/81FH/CD/APBQv/o6D4M/%2BGH1b/5qKg/bQ%2BJV1%2By98ELv40%2BBf2d/DPi%2BLSLuFtdstR1ldK%2Bz2LNteeJ1s7nzpQxQLEVQNuOZEAzXffEi6%2BDfwl8A6x8TfHui6TY6NoWnS3upXR0tHKRRqWO1VUs7HGFRQWZiFUEkCgDiP%2BEH/wCChf8A0dB8Gf8Aww%2Brf/NRR/wg/wDwUL/6Og%2BDP/hh9W/%2BaivBtX/4KT%2BH/Dv7OnhT40%2BPP2ZPAngO/wDEfj3xR4Y1G3%2BJnxAg0jRNBm0W9v7VkvNWSwnVbmc2J8uBYWVnZ0ErCMO/Y%2BOf2o/iVoXgP4SfFbwv%2BxV4Om0b4sXfhaytdF8SeMZdN8Q6dd6sY3nhexTR54WNlbGe4lzcoSlpMAAVG4A9I/4Qf/goX/0dB8Gf/DD6t/8ANRR/wg//AAUL/wCjoPgz/wCGH1b/AOaiuD8RftbaN4G/aY1z9nbxJ8A/BGtXWm%2BFtX1%2B10/4d%2BK11rX4LWzijmhOpaU1hAdPN2kirARNMHlZUBOdww/2XP20dX/bA8IeJb74G/s2/CfX9W0FNGlhudE%2BKIvfD7i/jmkktJ9Si0gyQaharCpntFtpSgurY7/3h2AHrH/CD/8ABQv/AKOg%2BDP/AIYfVv8A5qKP%2BEH/AOChf/R0HwZ/8MPq3/zUV41rn/BRT4Y2Hw88D6gnwk%2BGmieKvGOoeJ7WS0%2BIPxCt9E0CzXQNVGk38yasbKY3KSXcluLUJbB7iOcSFYgjhetsP2qdG1P9teb9jxPhb8IbC5sdF0rULxtZ%2BJKW%2Bs3y3cM8sn9m6YNMb7ckPkEM5niBDZIXGCAdx/wg/wDwUL/6Og%2BDP/hh9W/%2Baij/AIQf/goX/wBHQfBn/wAMPq3/AM1FcB8Lv2spPil46t/D2m/ss%2BGbTSPGFn4mf4Ta3deIhnXbjRroWzx30S2BOmpcZM8LxtdkwI7SJHIFhZvwN/aj139o74eeMPEHwe%2BA3wa1rU/BfilNLv8AU7D4pPceFL2A2cdzLLa6zDoztLLCZFimhNqojcMDJxggHoP/AAg//BQv/o6D4M/%2BGH1b/wCaij/hB/8AgoX/ANHQfBn/AMMPq3/zUV4NoX/BRNtb034Epqn7OPwf8Kan8b/BOo%2BJrC38e/Fn%2BybaK3hvNPhtLe0lbRnkvrm6g1GG4WExQMgVkOSM16p8S/2i9F%2BFf7XXhD9mnXfhF8OLyDxveCHRIdJ8ZLN4nSD7JPM%2BozaIdPUJp8ctvLC9yt04UlDtyxRQDpf%2BEH/4KF/9HQfBn/ww%2Brf/ADUUf8IP/wAFC/8Ao6D4M/8Ahh9W/wDmoryT4df8FDvgp47%2BFfj79oZPh78OJ/BHhDw7NrGn2vh/xxa6h4muod5WzF5pQtI49NN4oDwb7pziSPzBGS4TtPhr8XPiX8ZfgonxJ%2BEfwH%2BAvijU38QvZmPw78aPt2iw2iQB3lk1KDRGYXKy/umtlt3UZDmbBIAB0/8Awg//AAUL/wCjoPgz/wCGH1b/AOaiqHgfxx%2B1Z4O/as8OfBH43fEf4e%2BJtG8TfD3xDrkM3hX4eX2i3VpdabfaJborPcavfJLG6apKSoRGDRIQ2Mg7HwT%2BIfgT9oP9lbQf2j/Cvw9g0L/hJfCSaxZW5iiMto7QlxsmjAEihhlJV%2BWRdrDhsVW8cf8AKQv4X/8AZGfHn/p28IUAezUUUUAFfP3/AAUuOmD9mu1/4TTy/wDhCv8AhYXhf/hZH2j/AI9/%2BEe/tm0%2B2/as8fY/L/4%2Bd37v7N5/mfu99fQNFAHwX4ItPhf4%2B/YC%2BLXwv%2BH/AMZfBXhbwJH471LVvATatrUdroh8Iw6xFI8TsjfudDup4NQsxNGDCLWY%2BUGjCKfB76HRfEXwxsbfxnf/AAT8EfCTUf2lNSuvAV3rWnDXfhTZaZH4NhjeDypW06K%2Bgk1U6i1vJutYjeLNLGHAijl/WyigDwL9hS%2B%2BIFp/wTk%2BGE/g/wAKNe6/a/DzTotO07xnr89st20cKojy3YtJJY45FUSI32csEdAYx0GB%2Bz/4y/4KJ/tAeBL/AOIl18Wfgt4RaPxt4m0UeHI/hfq%2BtiyXTNcvtMVft51yy%2B1kraBjL9lt9xYnyk%2B6PpyvBP2Qh5n7Out27E7Jvjp48ilAONyP4%2B1ZWX6FSQfY0Aav/CD/APBQv/o6D4M/%2BGH1b/5qKP8AhB/%2BChf/AEdB8Gf/AAw%2Brf8AzUU/X/2oP%2BCfvhTXb3wt4p/aI%2BDmm6npt3Ja6jp2oeLtKhntZ42KSRSRvKGR1YFWVgCCCCMiqn/DX/8AwTg/6Oi%2BCP8A4W2j/wDx2uV47Ap2dWH/AIHH/wCSPehwrxTUgpwy/ENNJpqhXaaeqaaoNNNNNNNpppptNMsf8IP/AMFC/wDo6D4M/wDhh9W/%2Baij/hB/%2BChf/R0HwZ/8MPq3/wA1FP0D9qD/AIJ%2B%2BK9dsvC3hb9oj4OalqepXcdrp2naf4t0qae6nkYJHFHGkpZ3ZiFVVBJJAAyavftV/Ev4Vfsofs3%2BNf2kvFPwuXVtP8FeHrjVbrTdI0QTXFysS52IscbEZOMuRtRcu5VVZhrSr0K6bpzUrdmn%2BTZ5%2BOyvM8rnGGNw9Sk5K6VSE6ba2ulOEG1fS6TV9L30M7/hB/8AgoX/ANHQfBn/AMMPq3/zUUf8IP8A8FC/%2BjoPgz/4YfVv/moqhpP7Wf7H%2BueN5fhrpfhrX5fENt4cXXtQ0X/hTWurdafYPHdvFLdRtp4a1aX7DcrFHMEkmeMRxq7uis7TP2nP2YPE0nh3/hFdMsEOs%2BOpvCt7YeJfCWo6PqNjfR6NdauYWsrmwEySm1t1mVbhbeN4ZPMWVmMUc2pwl3/hB/8AgoX/ANHQfBn/AMMPq3/zUUf8IP8A8FC/%2BjoPgz/4YfVv/moqh8FP2v8A9hf9oLRpvEfw28TaX/Z0Xh/T9dS/8ReEbvRYLnS75mW1vYJNRtoFubeR1KCWIuofCEhiBV39o34iN8K9f8H/AA0%2BEHwA8NeLvGfja9vE0rS9a1VdIsYLWztWuLm5nuks7p0A/cxKqwuWkuI87EDuoA7/AIQf/goX/wBHQfBn/wAMPq3/AM1FH/CD/wDBQv8A6Og%2BDP8A4YfVv/morntf/ak%2BFsH7Fvhr9r/wn8FLK8Hi8eHbfRvDuqGCz8i/1i/tNPggu7kRyLbxxXN4izSqsm1Y5CiyHarczqX7WOsf8M%2B%2BO/jHoP7O3wrOofCLWda074safq/xCmt9P0ltOtUvJXtL2DRZ2uwbeWJyJILdkLFGG5SKAPR/%2BEH/AOChf/R0HwZ/8MPq3/zUUf8ACD/8FC/%2BjoPgz/4YfVv/AJqK898e/ti6Z8ONO%2BC2ieJf2UdPXxl8Srjw7/wmvhiPU4inge31S4gs/MmuDaj7S63k/kxRGOE3At7pwUEDip/AP7Z/wd%2BIHxh8b%2BFtP8K/C628KeAZdai1u9ufG8J8S/8AEplkt766Ghx2bMtkl1BPAJ3uFdjCWEW1kLAHd/8ACD/8FC/%2BjoPgz/4YfVv/AJqKP%2BEH/wCChf8A0dB8Gf8Aww%2Brf/NRWL%2BxX8e/DP7XfhXUvHP/AArj4Y2OnxC1aysvC3jq31/UbMzI8httWgis4o9NvI08rdAktwNzOBJhAz%2B1%2BDBs0MwKTshvruKIE52olzIqr9AoAHsKAPLv%2BEH/AOChf/R0HwZ/8MPq3/zUUf8ACD/8FC/%2BjoPgz/4YfVv/AJqK9mooA8Z/4Qf/AIKF/wDR0HwZ/wDDD6t/81FH/CD/APBQv/o6D4M/%2BGH1b/5qK9mooA8Z/wCEH/4KF/8AR0HwZ/8ADD6t/wDNRR/wg/8AwUL/AOjoPgz/AOGH1b/5qK9mooA8Z/4Qf/goX/0dB8Gf/DD6t/8ANRR/wg//AAUL/wCjoPgz/wCGH1b/AOaivZqKAPGf%2BEH/AOChf/R0HwZ/8MPq3/zUUf8ACD/8FC/%2BjoPgz/4YfVv/AJqK9mooA8Z/4Qf/AIKF/wDR0HwZ/wDDD6t/81FH/CD/APBQv/o6D4M/%2BGH1b/5qK9mooA8Z/wCEH/4KF/8AR0HwZ/8ADD6t/wDNRR/wg/8AwUL/AOjoPgz/AOGH1b/5qK9mooA8Z/4Qf/goX/0dB8Gf/DD6t/8ANRR/wg//AAUL/wCjoPgz/wCGH1b/AOaivZqKAPGf%2BEH/AOChf/R0HwZ/8MPq3/zUUf8ACD/8FC/%2BjoPgz/4YfVv/AJqK9mooA8Z/4Qf/AIKF/wDR0HwZ/wDDD6t/81FH/CD/APBQv/o6D4M/%2BGH1b/5qK9mrJ8W%2BPvAngCx/tPx3410nRLbBP2jV9Sitkx/vSMBSlKMVeTsjSlRrV6ip0ouUnskm2/RJNv5Jnl//AAg//BQv/o6D4M/%2BGH1b/wCaij/hB/8AgoX/ANHQfBn/AMMPq3/zUVleNv8AgqN/wTz%2BH7OviD9rzwTK0ed66Rqw1Eg%2BmLQSHPtXCv8A8Fmf2WfEzGH4C/D34q/FOUnEa%2BAvhxezhj9bgQ4HvXnVM5ymlLllXhfspJv7o8z/AAPssH4beIOOpe1pZViOT%2BaVKVOHznV9jBfOSPT/APhB/wDgoX/0dB8Gf/DD6t/81FW/2VviN8afGGsfFDwJ8dNf8L6tqngH4hRaHZ6r4T8NXOk291ay6Do%2Bpqz29xe3jLIsmoyoWEu0rGh2qc58l/4bj/b88b/8kh/4JSeJ1hk%2B5e%2BOvHun6MYx2ZoHDOf90HNdF/wTq1n4yeIdb%2BPOs/tAeDNK8PeLp/jNAdW0bRNRN3bWwHhHw2Igsp%2B%2BTCI2Y9AzMBwK0w2YYfF1HGmpbXu4Sivvklf5HDnfCGbcPYVV8bOim5cvJDEUKtRaN3cKVSo4pWs22tWl1PpOiiiu4%2BXCiiigAooooAKKKKACiiigAooooAKKKKACiiigAooooAKKKKAPCP2H/FHxe1HVvjL8PvjB8YtS8cT%2BB/i4dG0bWtW0qws51sn0DRb8QlLG3giKpNfT7WKl9pUM7kZr5b8A/tTf8FDviRpvjrSvA/i7XrjxH4u%2BCPxA1j4QPqOleHhpOsa/Y3kMOjT%2BHJI4xL9kRLhDKutkNKZ7WSMSRLcOPsL4R/sT/Af4G%2BKNc8Y/DqXx3Df%2BJdci1jXn1X4t%2BI9Sjvb2ONIlmeK8v5YyfKiiiYbdrRwxowKxqBW8J/sE/sveBdQ1TVPB/g3WtOn1PSr3TYntfHWsr/ZFpdzpcXMGlj7XjR0kmiikYWIgy0MZ/wCWaYAGfsZ/Eu98ZeHfE/gvxb4t%2BI1/4q8J%2BIxZ%2BJNP%2BKdhoUGq6a8trBcQxg6DEljNA0MqSpJGZDmR0Z9yFE8c%2BMnxo8O63/wWW/Z78AaRYeIILux%2BH3xIsNQl1XwnqNhazs3/AAjs6/Zbm5gjgvlH2Y7mtnlVPl3Fdy5%2Blvgx8Avhd8ANK1LSvhnpF/E2tamdQ1rUta1%2B91bUNRuvKjhEtxeX001xOyxQxRLvkbYkaIuFUAfLH7c2sHQf%2BCwv7E1%2Bz4jm0z4k2jj186x0hFH/AH0R%2BVcmNn7PD83nH/0uK/U%2Bg4Ywv13N1R706/3rD15L8Yn2zRRRXWfPhRRRQAUUUUAFFFFABRRRQAUUUUAFFFFAGX4w/wCQTD/2FbH/ANK4q4XX/wBib9jLxXrt74p8U/sj/DHUtT1K7kutR1HUPAOnTT3U8jF5JZJHhLO7MSzMxJJJJOTXdeMP%2BQTD/wBhWx/9K4q%2BdvH/APwWU/4JufC/x3rfw08dftHfYdb8O6vc6ZrFl/wiGsS/Z7q3laKWPfHaMj7XRhuVipxkEjmuHHVstowi8ZKCTenPy2v5cyetuxUeJKnDf72GNeG59LqrKlzW1teNSne29m3be3U9E/4YH/YV/wCjLPhL/wCG50z/AOMVb0D9ib9jLwprtl4p8Lfsj/DHTdT027jutO1HT/AOnQz2s8bB45Y5EhDI6sAyspBBAIORXjP/AA/N/wCCWX/R0X/lk65/8hVr%2BAf%2BCyn/AATc%2BKHjvRfhp4F/aO%2B3a34i1e20zR7L/hENYi%2B0XVxKsUUe%2BS0VE3O6jczBRnJIHNefDG8MOaUZ0b3VrezvfpbTe9rFf8RNxNf9088nLm0t9bqu99LW%2BsO972tZ3vazvZ%2By/tNfBOy/aT/Z08d/s96hr8ukw%2BN/COoaG%2BqwQCV7P7VbvCJghIDlC4baSA23GRnNeX%2BIv2JviF4/0H4uy%2BPfj7axeJPi38O9N8M32teE/Cs2mw6bJZjUQtzFFJfTyMji/AaIzA4ibEg8wbPXPjr8YfDn7Pvwe8R/G/xlpmo3WjeFdKl1PWU0qFJJ4rOIbp5grugZY4w8rDOdsbbQzYU%2BX/Gf/goh8Hfgtpfi7XNU8N6nqFj4K8W2fhvWNRHiDQdKtHv7jTYtRCQ3Gr6lZwybIJ4AwD798wVFfZIU94zPOvgj/wAEpovhF4ih8TQ/EnwhYbfi4PHL6D4C%2BF8egaRAw8I3nhw2dtapeSmEN9qF20rPIzOjKR84dPQvgb%2BxR4h%2BAUfgS78I/Fyyub/wN8DdK%2BHVvLqHhd2hu/sckDG%2BaNLtWXesLAQhzsLg%2BY23a3KWv/BR3SfFPj6O/wDBNxaXHgLXPBnwk13wjqsWhST3l1/wmHiDVtNKzI93CscYis7MqwBeBpJnZLnCwVY8G/8ABRo/Ez9orwf4I8IfB/xNZeAfEfgrxZr9p4s1TQlnbxDDpNxp0Mc%2Blx2VzNOY3%2B1St5U9uk8waBoUIJyAekftt/AD4mftQ/s9at8Dfhj8VNC8HT67JHFqesa94Qm1pPsiku0cUMV/ZlJTIsREjSOoVXXyyXDJf8ffs%2Bz/AB8%2BHEPwu/aW1%2By1zTHttLur/wD4RBNU8OTtrNndLdLe29xbak09tEJord44VkZ42iJaaUMAsP7YHxB%2BL/w4/Za8Y/Fv4Cah4dtPEHhzwzd61at4y0O6vLRora3ed43t4bi2l3sqbR%2B8TaTkg42nft/jD4f8OfAGD48fFHVbXStNtvCcet67dqjeVbR/ZhNKVX5mIHOFG5jwBkmgD588Cf8ABMXxB8DdE0aT4CftGXEOuaJ498Y%2BILe5%2BI1hqfiqxlg8QXU0z27291qqTCaCNooxcpcKZW%2B1SyRs95Nn0D4Z/sPaP8NW%2BBOixfES61LQPgP4OudL0PTL3T18y%2B1N7GDT4dUeRXCxNFZ/2hCIUj241FsMgjCt4vaf8FDv2mU%2BG/iDW/idoPgP4b3dr8fYvB9x4h8Uafcz6Z4I0S48NW2t29xrKreRCW5ElxFpzulxbwC4uoiDtX56MH/BTH4w%2BL/CPwz%2BJum%2BIPDXhHwNq%2Bk%2BL18ffEPUPhBr/iDSbXUND16DSQfMs7yBdHtLgJqF0s187LHHCoZvkckA9k%2BLv7F/xR/aK8c3ep/Gz9oTT18P2ui%2BJdM8K2XgjwdLpOqWMOr2klkTc6hJf3IuTDBJlRFDbq00cUrKTGijktT/AOCfX7SV74J8appP7YegaD4y8Z%2BGfDXhWfxF4Z%2BF01haWugaRLev5EdrFqwlS7uFv7iF7uO5jMUfliCOF4w9X1/buvvEH7b2u/s%2BWPxC8NeG/D/hDxZpvhi%2Bg1jwFq1/Nr2pXelWupJHFq8M8Wn6WzJewRQw3CzS3EkU2xQChPI/sqft2ftRftM/E/V/hXDD4N0nULzwdq%2BraSdS8B6tawaHdWmrw2KQrcTXoi8VW5SV3kvNNaGGJ4okdlN3FtAO58UfsFeNtV8M/D6%2B8KfEL4c6B4u8AeDNc8HWF1Z/CWWTQF0DU/sgltrfSpNVL28iJp9kqSG6kTCzAxlJii3tS/Yd8cX/AIf%2BHHwVHxs0gfDD4bX3hW90zS5fBckniO6uNBa2ltTJq7X3lBZJbSMy7bMO8TyxbwJCax/Cv7TP7SPiv4F/EPxWnjjwit98OviVPoA8beG/g3rviOw8TWUNrameSy0TT9RN75sN9czWMnl3Fwqvpty2MEiLidL/AOCg/wC0BrI%2BEfjTxfeeFvh/4L8YfDfT9e8UeJ734Ya14i02LUZ71YTZnUrK9htdHRoyHD3hcRs4VixQggHovw4/YQ%2BIfwx8Zw69ofx%2B0ybTPCFn4mT4SaRd%2BCHb%2BwbjWbtbl5L%2BVb4f2mlvgwQpGtoRBI4keSQrKti//Yh%2BJni74WfGXw34%2B/aGsv8AhKvjXaQ6fr%2Bv%2BFfB0mm2Wn2KWa2Li1s3vp5FuXtvNU3L3LsGaIhQsKR1xtp%2B3l8b7v8Ab2H7Nb6VoFvoE3xCu/DEdtP4P1IMkEXh5tUTUF177SNOuLlplWM6MkYvFidpiQkTtWv4L/ax%2BPnw6%2BJXxk0/9obxd4L8WeFvhdpWhWdtc%2BA/AV5pF/qPijUQ8q6NHHc6terNKYZ9IEagoXk1SNeAuSAd7%2B1R%2By/8Qfj78JL79nbwD8SfCfhLwJr/AISuPDfiPTrz4fvqd6LCaPySLCb7dDDaOsJIQy29yqsEbYQpVl%2BIH7NPxa%2BJ3xX8Kar4q%2BNmiJ4E8F%2BKbTX9C8P2HguZNbNzb2rwpHNq0moOjxM8kjOEtI3dG8oybS5fx0/tk/toyfsEXH7St9Y/DPS/GXhf4oa1oPjLSv7E1C906azsPE91oxitCL2KRZikUbfaHZkLBm8gBhGvpX7ZvxV/am%2BEPijwIfgd458AGHxr470XwxYeFfEfgK%2Bvb25kmnebULhL2DVrdI1g0yC8ughtnObQgsQ/ygHnVh/wSI8MXngW9%2BDnjL4o6fc%2BC9O%2BGGv%2BBPAOk6P4MSzudK03VL6zvWkvpnuZk1OeGWwtfLIit4ziVpI5GlLLp/EH/gnt%2B0H498AeMtHP7V3hjTte%2BJfi/Tb/AOItxYfC%2B5h0nV9Hs7BLMaQlnHrC3ECzrFELif7YzyRh4QERlCU/Df8AwUoj1j4xePZdZ8caBpfhLwXrHifSLLwpN4B1ZtT1u50K3ne88nW2nTThcbrW5lGnrFLP9liEzMAxEen8Lf2mv2uPEWm%2BIfBPxJ1fwHpvio/CnQ/iDoGq%2BHfh7q2rW1jaXc1yt5pkumw6h9q1O4hFqFimt5IWuGuF22yGPy5AD36y0HxB4W%2BBzeGvFN9otzf2Hh2W3nl8OaG%2BmWB2QsqiC1eedoIwoACGV8Ade1cR44/5SF/C/wD7Iz48/wDTt4Qql%2Byr8e/GX7SX7JWo/Evx5YWUOore%2BINLaWx0m400XcdleXNrHcPp93JJc6bJIkKu9ncMZoGJR/mBFXfHH/KQv4X/APZGfHn/AKdvCFAHs1FFFABRRRQAUUUUAFeC/sf/APJvWr/9l78c/wDqwNVr3qvBf2P/APk3rV/%2By9%2BOf/VgarQB1mv/ALE37GXivXb3xT4p/ZH%2BGOpanqV3JdajqOoeAdOmnup5GLySySPCWd2YlmZiSSSScmqn/DA/7Cv/AEZZ8Jf/AA3Omf8AxivO/H//AAWU/wCCbnwv8d638NPHX7R32HW/Dur3OmaxZf8ACIaxL9nureVopY98doyPtdGG5WKnGQSOayP%2BH5v/AASy/wCjov8Ayydc/wDkKvBnjeGFNqU6N7u9/Z3v1vpve9zT/iJuJofulnk48ulvrdVWtpa31hWta1rK1rWVrL2bQP2Jv2MvCmu2Xinwt%2ByP8MdN1PTbuO607UdP8A6dDPazxsHjljkSEMjqwDKykEEAg5Fa37TXwTsv2k/2dPHf7Peoa/LpMPjfwjqGhvqsEAlez%2B1W7wiYISA5QuG2kgNtxkZzXjXgH/gsp/wTc%2BKHjvRfhp4F/aO%2B3a34i1e20zR7L/hENYi%2B0XVxKsUUe%2BS0VE3O6jczBRnJIHNe4/HX4w%2BHP2ffg94j%2BN/jLTNRutG8K6VLqesppUKSTxWcQ3TzBXdAyxxh5WGc7Y22hmwp9DA1strQk8HKDSevJy2v58qWtu5MuJKnEn72eNeJ5NLurKry31teVSpa%2B9k1fe3U8j8RfsTfELx/oPxdl8e/H21i8SfFv4d6b4Zvta8J%2BFZtNh02SzGohbmKKS%2BnkZHF%2BA0RmBxE2JB5g2cN8Ef%2BCU0Xwi8RQ%2BJofiT4QsNvxcHjl9B8BfC%2BPQNIgYeEbzw4bO2tUvJTCG%2B1C7aVnkZnRlI%2BcOnovxn/AOCiHwd%2BC2l%2BLtc1Tw3qeoWPgrxbZ%2BG9Y1EeINB0q0e/uNNi1EJDcavqVnDJsgngDAPv3zBUV9khTkbX/go7pPinx9Hf%2BCbi0uPAWueDPhJrvhHVYtCknvLr/hMPEGraaVmR7uFY4xFZ2ZVgC8DSTOyXOFgruJOr%2BBv7FHiH4BR%2BBLvwj8XLK5v/AAN8DdK%2BHVvLqHhd2hu/sckDG%2BaNLtWXesLAQhzsLg%2BY23a3WftG/ALxx8VPEHg/4mfB/wCJ%2BneEfGfgm9vH0rVNa8NPq9jPa3lq1vc209ql1au4P7mVWWZCslvHnehdG8w8G/8ABRo/Ez9orwf4I8IfB/xNZeAfEfgrxZr9p4s1TQlnbxDDpNxp0Mc%2Blx2VzNOY3%2B1St5U9uk8waBoUIJz6T%2B1J8aPiB8PdG8C%2BFvg4mkQ%2BKPiT43t/Duhah4n0ue4stNzZXmoT3M9rHNbyzbbWwuAsQliJkZAWUZoAp%2BHf2WNY8Bfsu2v7K3gzxT4X1DQ9M8D2GhWP/Cd%2BCW1iO8nj3C7udQgW8gju47hNuYEEOxzI291dUTjPDv8AwTg8O6F%2BzFf/ALN1v4w0ixt/FfxAsfEnxAfw74Oj07T9Tghu7OSXSrSxjnK2NpJaWNvYYLzMsAYsZJGL1oaV%2B118U3/YJ8a/tHv8O7LWPHHgX/hK9MvtE0eG4FnqGp6HqV9pss0MYMk628slkZxEDJKsb7Mu4yfGW/4KwarY%2BEtb8H6Z8TPh/wCNfEsfxK0Twr4d%2BIXgnwjqV54fvE1LTZtQE6ada3l1c3k0K2V/ALa2uXM08cKB4WeRYgD2X9qD/gmx8F/2lvHtn8V5vFHi/wAO%2BJF8U%2BHdU1e%2B0Tx7rtrb6jBpN2s8Vu1na6hBbo5USIlwIzJE0hkXLdcaH/gmjos/xKkn1v4gabN8PU8beKfF1r4Ts/Cht9Tk1XxDZX1pqQutTF0wuLVhqd66Qi3jdW%2Bz7pXFuoOV8d/2oP2ndH/Y30r9oz9nL46/CnxDqt5PFodhaal8JtWWHX/EN1qq6XaWiQNrcM%2BllLuRYLiGbz5YWjmLbTGyDvPil8ZP2ivhN%2B0x8PvBN34l8C654d%2BIPiV9Ks/COn%2BGbyDXbW0h0yW4utWN4b6SFoIZ40V4zaooW5hTzzK6LIAH7Iv7GHiH9m/xPJ4s8ZfFXS/EdzafD/RPBGgR6H4PGjRW%2Bj6U909ublPtM/2m6JunDSr5MQC4jgi3Pu9n8H/8gmb/ALCt9/6Vy1qVl%2BD/APkEzf8AYVvv/SuWgDUooooAKKKKACiiigAooooAKKKKACiiuQ%2BLX7QPwN%2BA2lf238afi74c8LWxUtG2uaxDbNL7IrsGkPsoJPpUVKlOlBzm0kuraS%2B92OjCYPF4/ERoYWnKpUloowjKUn6RipN/JM6%2Bivkm%2B/4K7/Crx7eS6H%2Bx58BviT8aL1HMYvPCvhmW20qNxwRLe3QQRjPG7Yw96jFx/wAFlPj1%2B8gsvhb8BtJm6C4d/EutwA/7uLNsD1xzXmf2zg6mmHUqr/uRbX/gT5Yf%2BTM%2B5XhpxFhFz5xOjgI/9RNWNOfyoR9riH6exh%2BR9dV5H8af29f2NP2eVlT4v/tI%2BFNJuYM%2BbpqamtzejH/TtBvmP/fFeRD/AIJPWfxM/wBJ/a%2B/bJ%2BLfxRaT/j60iXxEdI0aT1xZWmNmfaTpXrnwX/YG/Yx/Z6aK5%2BEP7NnhPSruDHk6m%2Blrc3qY9LmffN/4/R7bOq/wUoU13nJyf8A4DBJffMf9neGmV/7zj6%2BMkvs4ejGjB/9xcTKU7eccP5pdDyRf%2BCrU/xL/d/sl/sRfF/4kxyf8eutt4fGj6PP6YvLs8fig4pR4s/4LP8Axb50T4TfBv4R2Mv3x4k12513UYB/s/ZALdmH%2B1xX1vXCfFL9qL9m74IW73Pxe%2BPHhHw3sBPlax4gt4JXx2WNn3ufZQTWdTB11HnxeLkl/d5Ka%2B/WX/kxlW434WymDll%2BS4aml9vEzq4mXq1UqUKKfpTa7aaHgR/4J7ftZfFT5v2nf%2BCnfxDvreTmTSPhpptr4YhC94zJCHeVexLAEitjwh/wRu/4J4%2BGL3%2B29Z%2BBR8U6q5zcat4w1691Ka4b1dZZTGT9EFUL/wD4Lef8Ey7G9lsl/aLluTE5VpbLwdq80RI/uulqVYe4JFQH/gtX%2BxPrR8n4WL8QPHVx/wA%2BnhL4dajNJn0xNFEM/jXnqXCSledSnUl3lP2j/wDJnP8ACJ4tbxzzt03Rw2cRw8HpyYV0sPH05cNTpyl85T/U978Efsu/s0fDRUX4d/s9eCNCMf3G0nwraW7D3ykYJPv1rulVUUIigADAAHAr5Hb/AIKCftf/ABRP2b9mv/gl38RZVfgan8UtRtfDMUQ/vmKVpHkX2UgmlXwh/wAFqPiYPN1z4v8AwR%2BGVtL9yPw5oF5rN5Avo5uyIWYf7Py16NPMsJFcuFozkv7lNxX3yVNHxeL4tr5pV9pL2%2BJl/M1Ul/5PWlH82fXFeM/sv/8AJb/2jv8Ass1j/wCoV4Xry0/8E0/jt8SDu/aa/wCCmvxd8SI3%2BvsPBjW3hi0m9VeK2V9y%2B2RXSf8ABOj4JeBv2dNZ%2BPPwb%2BG6340bR/jNAbU6pqMl3cO03hHw3PIzyyEs5aSVzyeM4GAAK68NiMZWqP2lHkj5yi3f0je3/gQYTFY/EVH7XD%2Bzhbdzi5N9uWN0vXmZ9KUUUV3HohRRRQAUUUUAFFFFABRRRQAUUUUAFFFFABRRRQAUUUUAFFFFABRXk/7KX7QfxA%2BO6%2BP9H%2BKXwn03wfrvgDx63hu90/SfFLavBcA6Zp%2BoxzidrW2KsY9QRGj2EK0bYdwQa8H8I/8ABYTQNd1Dx%2Bup/CPTni8FeFdb1iTS/Dvjdb/WrCew1KLT4NL1qye1hGjX17JMGtomlnV1huGLqIssAfaFfn7/AMFV9X/4R7/gp1%2Bw7q%2B7bu8VeIrPP/XxcaBDj8d1fWP7OPx78ZfFjVvGPw9%2BLHw20/wn4y8C6vbWmtaVo3iN9WsZobmzhu7e5t7qS1tXkRllaNg8EbLLBKAGXZI/xt/wWz/4lv7XX7KXjXp/wjXiHUNTL/3duueFY8/%2BRK8vOpOOV1JLpyv7pwf%2BZ954Y0o1%2BO8FRl9t1YfOeHxUV%2BLifo1RRRXqHwYUUUUAFFFFABRRRQAUUUUAFFFFABRRRQBleMP%2BQTD/ANhSx/8ASuKtWob%2BwtNTtHsb6ASRSDDKSR3yDkcgg4II5BFUP%2BEP0n/n71T/AMHl3/8AHaANWisv/hD9J/5%2B9V/8Hl3/APHaP%2BEP0n/n71X/AMHl3/8AHaALOvaFo/ijQ73wz4i02K80/UbSS1vrO4TdHPDIpR42HdWUkEehr518E/8ABMH4UfDT4R%2BA/hh8PPjV8R9K1D4fa3qeqaX45XU9PudbvJb9JoroXUlzZSQSbopvKV1hSWNIYhG6bST9A/8ACH6T/wA/eq/%2BDy7/APjtH/CH6T/z96r/AODy7/8AjtAHg3gb/gmJ8A/h/wCGvD3hXRPFvjCS28NeGvh5odg13qVs8j23g3VbvVNLaRvs43SSz3kq3DcB0VBGIWBdrXw2/wCCd3gX4U/ETS/iB4S%2BOvxEVfC/hvXdC8B6FcXmmyWHhaz1Wa2mmS0Q2O%2BUxPaQeSbp7jYqbDuT5a9v/wCEP0n/AJ%2B9V/8AB5d//HaP%2BEP0n/n71X/weXf/AMdoA5v9oD4Jt%2B0B8Dtd%2BBt58UvEnhm38R6U%2Bm6nr3huPTzftbSIY50X7ZaXEC%2BZGWRj5OQHJQowDDO8Mfs06DZ/CTSvgf8AFHxvqnxH8NWPh640fVdM8eaNo9zDr0LyxNC17FBYQxO0EcRhjWNI42SRzMk0gSRO1/4Q/Sf%2BfvVf/B5d/wDx2j/hD9J/5%2B9V/wDB5d//AB2gDxn4cf8ABO/4IfADSvHNj%2Bybf3XwfufH/iu21zVtR%2BHfh3QrZ7YwWUFolnBFcadNALXbC8uySJ2WW5uHV18zAf4r/YJ8JeIfgpafs5aJ8dPiD4e8Dvo17pninQdGutNY%2BKI72SSS%2Bkvbq5sZrpZrh5rhpZbWa3ctcOwKttK%2Bx/8ACH6T/wA/eq/%2BDy7/APjtH/CH6T/z96r/AODy7/8AjtAHlHiL9hT4YeIPiy3xJTxp4nsNLuvE%2BkeJda8CafPZpo%2Bra1pcNtDYahPutmuhJCllYAJFcRxN9hg3xttbdyuh/wDBMjwD4Z8L3PhPw5%2B0b8VbCC08A6j4L8CXFlq%2BnRXHgbRb6a2kuINLlWwD7yLK0RJ7s3M0aW6BHUli30D/AMIfpP8Az96r/wCDy7/%2BO0f8IfpP/P3qv/g8u/8A47QB5T4G/Y%2B8RfDL4H6R8C/h5%2B158R9Fs9BuIxo2q6bo3hWK4tLGO3EKacsK6J9k%2BzjHmAm3M2//AJa7flrM17/gnz4I1n4RaV%2Bzva/G/wCIOnfDu10X%2BzPEHguzu9Ne38TRPO81y99czWMl4HuWkkExt7iAMrkALk17T/wh%2Bk/8/eq/%2BDy7/wDjtH/CH6T/AM/eq/8Ag8u//jtAHkth%2Bwn8PLD40x/FpPiV4xk0yDxvP4ytPAEt3ZnRYNfmtZLaS/Ui1F4WKyyyeS1y0AlkMgiDBSN3Rv2OfgDH8P8AxV8MviD4FsPHej%2BNfGl94n8TWfjzTLXU4r69uLkToHieERMluqW8EAKFkitYQWZ1Lnvf%2BEP0n/n71X/weXf/AMdo/wCEP0n/AJ%2B9V/8AB5d//HaAPnu6/wCCV/wC0T9mXWf2Ufgf4s1/4XeGfEPju/8AFOtyfD7SdCtp7ue5vpL37KwuNNmhW3hdoIogsYlSGzt4vMZFYN6vJ%2BzxomreP/h78TvGvjrxB4h1n4c6Lf2el3Gpm0RL67u4YIJdTuY7e3iT7WIopo1MKxRKt7cgRYZPL63/AIQ/Sf8An71X/wAHl3/8do/4Q/Sf%2BfvVf/B5d/8Ax2gDyKX9gX4RXnxVb4g6x4q8S32hr4k1LxFa/Dq6mszodtrOoWNxY3t%2BqrbC6d5oLy83RSXDwB7uWRYlfay1fhp%2BwTpfwj0LU7bwV%2B038TotdvNE0jQtM8YXlxo91qOjaLpjzNaabbibTWt3iBuZ98txDNcS%2BZmSZ2SNk9n/AOEP0n/n71X/AMHl3/8AHaP%2BEP0n/n71X/weXf8A8doA4n4e/Avw3%2Bz98FPEHhHQvEOr61c6jNqmsa5r/iCeJ73VNQui8s1xL5EcUKkkhQkUccaKqqqKABWH44/5SF/C/wD7Iz48/wDTt4Qr1E%2BDNDfCztfTJkExXGrXMiN7MrSFWHsQRXl3jj/lIX8L/wDsjPjz/wBO3hCgD2aiiigArz/9pf443PwB%2BGsXizRfCK%2BINa1XxDpeg%2BG9Dk1H7HHe6jqF7FaQLLP5chghVpfMlkEcjLFG5VJGCo3oFefftL/A66%2BP3w1i8J6L4vXw/rWleIdL17w3rkmnfbI7PUdPvYruBpbfzIzPCzReVLGJI2aKRwrxsVdQDz65/boutC/Ze8U/G7xb8KY7TxP4O8YnwjrfhK38RCS0j1h9SgsIMag8CYspDdWtwbloFaOCUs8QZGjrkPFn/BUHSfAfhLUdJ8beF/BGj%2BPtH%2BKEngXWNO1b4nra%2BGrC%2Bj0eLWmuZtalslZLYWNxACxtPM%2B0yrb%2BXnLjv/h/%2Byt8RvBHwj8Y%2BAdU%2BJng/wAQ6p46utS1XxFfa98O5J9Pu9VvZmMhksTqOHsFthDbLaGXzNkO57l2YmuB8If8EwrH4a%2BGdC1/4ZeL/BWifELQfiZceNrTVrP4ZCLw5Ddz6KdDe1g0aC9ja3tl08RIipd%2BYJoRK0j75EcA%2Blvhz4j1Pxh4A0XxZrMGkRXWp6XBdTpoGsnUbENIgb/R7oxRG5h5ykvlpvXDbVzgePfsf/8AJvWr/wDZevHP/qwNVrrfgv8Asr/D34Yfsv6P%2Byx4wsbDxloNlpbWmqwa7o8L2mpGSRppQ1owaJITI7bIfmWNAiAnaDXJ/wDBPfwT4P8ADv7Meo%2BAPDfhew0zQ9P%2BLXxCtNO0jTbVLe2tII/GmtLHFFHGAsSIFUKFAC7RjGKAPeqKyv8AhD9J/wCfvVP/AAeXf/x2l/4Q/Sf%2BfvVf/B5d/wDx2gDUqpr2haP4o0O98M%2BItNivNP1G0ktb6zuE3RzwyKUeNh3VlJBHoarf8IfpP/P3qv8A4PLv/wCO0f8ACH6T/wA/eq/%2BDy7/APjtAHz94J/4Jg/Cj4afCPwH8MPh58aviPpWofD7W9T1TS/HK6np9zrd5LfpNFdC6kubKSCTdFN5SusKSxpDEI3TaSbHgb/gmJ8A/h/4a8PeFdE8W%2BMJLbw14a%2BHmh2DXepWzyPbeDdVu9U0tpG%2BzjdJLPeSrcNwHRUEYhYF295/4Q/Sf%2BfvVf8AweXf/wAdo/4Q/Sf%2BfvVf/B5d/wDx2gDxD4bf8E7vAvwp%2BIml/EDwl8dfiIq%2BF/Deu6F4D0K4vNNksPC1nqs1tNMlohsd8pie0g8k3T3GxU2Hcny16R8c/gHonx38G6X4c1fxpruiapoGtWuseHvFmgParqOmahAGVbmITwS27Fo5JonSSF43jmkUpg8dP/wh%2Bk/8/eq/%2BDy7/wDjtH/CH6T/AM/eq/8Ag8u//jtAHF/Db9m2w%2BEXwwh%2BFfw9%2BKviqwtU07V1uNRJsJry61TUrpry41qR5bRlN79pluJgAoti9zJugcCMJyZ/YM8E3PhW%2Bg1f4weN7/xlf%2BMLTxOfijdSaZ/bkGp2tuLW3kiRLFbCONLUPbiAWnlFJpiyM8sjt7B/wh%2Bk/wDP3qv/AIPLv/47R/wh%2Bk/8/eq/%2BDy7/wDjtAHmPhj9iT4WeGvDvgDw0/iXxHqMPgHx5qPjNJNRvIGfXdcvf7Qee8v9kKq5%2B0anc3SxxCGNJhEVVViRBHY/sdLpv7Wesftc2P7R3xAXUtbtLOxuvC80OiT6XDp9umFsYGl01ry2t3lL3EixXKmSZyzMQqKvqX/CH6T/AM/eq/8Ag8u//jtH/CH6T/z96r/4PLv/AOO0AalZXg//AJBM3/YUvv8A0rlo/wCEP0n/AJ%2B9U/8AB5d//Hav2FhaaZaJY2MAjijGFUEnvknJ5JJySTySaAJqKKKACiikkkjhjaWWRVRVJZmOAAOpJoDcWivnH9oL/grL%2BwP%2Bze0%2Bn%2BMvj7pmrarBkHQ/CedTud46o3kZjib2ldK%2BRviF/wAHEk3ie%2B%2Bx/Av4f%2BD/AApp0ik23iL4o61c3Rb0D6fo8c80ZHXlznpXh4ziTJMDLlqVk5do%2B8/wdl82j6Wlwpmap%2B2x86ODp78%2BLr0cNG290q041ZaarkoSv0ufqPXI/Fr4/fA/4DaR/bnxp%2BLnh3wtbFS0b67q8NsZcdo1dg0h9lBJ9K/L24/bo%2BMX7QK/YvFf7ePxK1eG5OD4O/Zs%2BB13bXVxntBqN8scyenI966n4TfssfEy/wBXPiT4E/8ABJG1fV7lg7fEj9qfxv8A2jdPJ2kl04bpEcdd0ag/jXn/AOs0sVpg6V/N3l/5LTUvxnErn8Lss1xmcyxs/wDn3l9CpWv5PEV40aMfWMZ9z6SvP%2BCvXwh8c3sujfsj/An4m/Ga6RzH9t8H%2BE5odMjccES3d0IxGM8btrD3pi%2BPv%2BCyfxn/AHnhP4GfCf4PadL/ABeM/EM%2Bu6kinoyLZAQ7u%2B1xx0qHTP2Lf%2BCivj20jk%2BLv/BR0%2BE4UjCQeGfhL4ItrOzs1/upcTfvnHQDcoxj3qd/%2BCSXh7xZ%2B7%2BNv7b/AO0F43tG/wBfo%2BqfEVobCX6wwRKR%2BDCi2fYnWop27KVOkv8A3LU/FMX%2Bv2V4LTJOF4eVTG1/bz9XTUqdGPoqcrfnxHxK%2BBvi%2ByZ4/wBvb/gtjf6PARmfQfCN/pfg9QP%2BeW8O0synpyoYg4rz/wAJ%2BNv%2BCAfwG8S/aPBmjQ/FLxjI%2B/zP7F1LxXfXcg/5aK06Pbh84wVK88ivqz4bf8Eqf%2BCeHwqVD4b/AGTfCd3Ip3faPEVo2rSFv7269aU5zzx%2BFe2%2BFPA3gnwJYf2X4H8H6Vo1rx/o2lafHbx8f7MagVcMkxMpqco0k%2B8vaVpL51JKP3RRz4rxI8Wsfh5YenjqeDoy0dPDQ9lFrs1QjhlL/t6Ul%2BvytYf8FAP2ofHdnFpf7LP/AASu%2BIs1kqCO0uviDeWfhW3iQcB1jlLlkA5AXBI6VOlv/wAFs/Ho%2B2Sah%2Bz/AOAbaT/V2aw6nql7CP8AbbIhY/7vFfW9Femstrz/AI2Jm/KPLBf%2BSxb/APJj4d5Vi675sTjKsm/5XGmv/JYt/fJnyS37JP8AwU/8cHyviL/wVAt9FtG/1tl4I%2BFtlC7fS5lcyJj2FC/8EnYdZH2r4g/8FBv2lNaun5m2/E021ufZYY4cIPYGvrain/YuXy/iKU/8U5v/ANvS/AX%2Br2Vy/iqU/wDHUqS/9vS/A%2BSj/wAEXf2QdY%2BT4keJvid4xhP3rfxP8Sb%2BVGHofKeM/rXcfC//AIJbf8E9/g9dJfeCf2TvCRnjIMU%2BtWj6pJGR0KtetKVPuMGvfaKunk%2BU0pc0aEL9%2BVN/e%2BZmlLIMjoz54YaHN3cU398uZ/iQaZpemaLYRaXo%2BnQWlrAu2G2toVjjjX0VVAAH0qeiivSSSVkeskkrIKKKKBhXjP7L/wDyW/8AaO/7LNY/%2BoV4Xr2avGf2X/8Akt/7R3/ZZrH/ANQrwvQB7NRRRQAUUUUAFFFFABRRRQAUUUUAFFFFABRRRQAUUUUAFFFFABRRRQB4P%2Bzh%2Bzh%2B018F/iB8QvGHjb9oPwJ4gtfiF46h8SXtjpXwtvdOktGXT7LT5IElk1q4BDQWFuVYp8shkYhlZUTzay/4JU6lqvhuXwH8Rf2h01HRdH8AeIfCvgWfSPB4stUsI9VvrS9a91C7e6mXUrqGaxtnRhDbo7iSSVJGcFfsGigDy79nH4CeM/hPq3jL4hfFn4k6f4s8ZeOtXtrzWtU0bw4%2Bk2MMNtZw2lvbW9rJdXTxoqxNIxeeRmlnlIKrsjT4W/4Li/CH4VfDfxbp/wAbvA3ww8P6Pr8vgHWdX8R63pOiQW95qskPivwRGj3M0aB52UTvguWI3Njqa/Tqvgj/AILaaF/wkWh3Wn7N3l/s7%2BOLrH/XDxB4Jmz/AOQ815edxc8mxCW/JL8It/ofdeGFeOH8ScmqS2%2BtUE/SVSMX%2BE2vmfeysrqHRgQRkEd6Wud%2BEGu/8JR8JvC/ibfu/tHw7ZXW718yBHz%2BtdFXpQkpwUl1Sf3q58XiaEsNiZ0ZbwlKL9Ytxf4phRRRVGIUUUUAFFFFABRRRQAUUUUAFFFFABRRRQAUUUUAFFFFABRRRQAUUUUAFFFFABRRRQAUUUUAFFFFABRRRQAUUUUAFeM%2BOP8AlIX8L/8AsjPjz/07eEK9mrxnxx/ykL%2BF/wD2Rnx5/wCnbwhQB7NRRRQAUUUUAFFFFABXjP7B/wDyRDXP%2ByzfEf8A9TXW69mrxn9g/wD5Ihrn/ZZviP8A%2BprrdAHs1FFFABRRRQAUUUUAFFFFABRRRQAUUVFf39jpVlLqWqXsNtbQRmSe4uJAiRoBkszHgADuaNgbSV2S0V8qfGv/AILEfsf/AAy1C88LfDbVdV%2BKWv2MZe7034dWQvoLRAcGSe8JW2ijB%2B83mNtwcivlDXP%2BCyH/AAUT/am8Uz/Dr9hv9mPR4blZTFNPYM3iGazyPkklvF8vT4EbI5ZnAPFeBi%2BJsnwkuTn55bKME5tvtpp%2BL8zTKMLmPEc6kcmw1TFez%2BOVKN6dP/r5Xk6eHp/9v10/7r2f6tV4Z%2B0l/wAFJ/2Kf2UUubX4u/HnRo9WtmZH8OaPN9v1ESAZ2NbwbmhJ7GXYvuK%2BX/h//wAEt/2%2Bf2nLca1/wUi/bz8VLp92mbnwF4C1JbeFwf4Z3jRLYEdCqQyDB4kFfT/wB/4Jp/sNfszvb33wp/Zx8PxalbOskWt6vbnUb5JAP9Yk90ZHiJ64jKjPQCnDF53jYXo0FRT61HeX/gEP/bpo5sTSzbCV3TlClddq3tEvV0Y8rt2jUkv79ndeEWn7ef8AwUd/bEIj/YR/YtTwf4Yuf9R8RfjNM1tHJEy/LLDaRHc3PR4zcoe4FQXX/BIb9oL9pRRf/wDBQj/goT408WRTKrT%2BEvBKR6XpUbDttKmOUdt32eNsd%2B9feVFV/YdPEK%2BOqyreTfLD/wAAhZW/xORjChinLmqV537QbpR%2BXs3Gf31W%2B58xfCj/AII3/wDBOD4RRIdL/Zm0jWrhQPMu/Fk0uqGQ%2BpjuGaIfRUA9q978EfB/4S/DO3Fp8N/hd4d8PxKMCLQ9EgtFA%2BkSKK6KivRw%2BX4HCK1ClGPpFL8bX/EWHy7L8K%2BajSjFvqoq7827OTfduTb6sKKKK6zsCiiigAooooAKKKKACiiigAooooAKKKKACiiigArxn9l//kt/7R3/AGWax/8AUK8L17NXjP7L/wDyW/8AaO/7LNY/%2BoV4XoA9mooooAKKKKACiiigAooooAKKKKACiiigAooooAKKKKACiiigAooooA4X4C/tI/CH9pfRda1/4P63qV5B4e199F1mPVvDd/pU9rerbwXBjMN9BDKVMNzBIsgUo6yqVZhXG33/AAUL/Zb0bXfEvhzxRrvi/Qrrwj4J1Xxfrg8SfCzxFpkcei6a0a3t5FJdWEaXKxmWPCwl3fd8ivg45X9j2%2B%2BPHh74sfGjU/iL%2ByD478L2Hjj4swa5oOoarrPhyeNrI6HpOnNI62erTyIUl06V2XbuMckZUMxZEk1n9njX/iN41/aL%2BIvx3%2BEF/r%2Bl%2BMvCsHgPwv4S03WLaO71fwtBp8slwIpTcRpazXd7qWox/vJYW2W9szsmBtAPavhJ8X/CXxr8MyeLfBemeJrWziu2tinirwVqmg3DOER9y2%2Bp21vK8ZDriVUKEhlDEowHzF/wU70L/hJPEWpaQE3O/wCyb8V3iXHV0uPCrr/48or0/wDYe8FfGnwbbeNl%2BIHh7xl4f8K3fiGCT4f%2BFviL4zj1/W9MtVsoEufOvEu7zMUlysrxRNdTsik/MgZYo%2BC/aI%2BF3iS4/bE8vVviz4h1%2Bz8T/s5fEmCw8P6ra6clpowa88LIUtmtrSKdw%2B8Z%2B0Szn5BtK/NnnxlP2uEqQ7xkvvjJfqezw7ivqPEWCxP/AD7rUZf%2BA1aUvyiz179hTXf%2BEm/Yn%2BEOvM%2B57n4Z6E8pz/H9ghDf%2BPA16rXzv/wSZ13/AISL/gnH8I9Q37vL8KJa5/64SyQ4/wDIeK%2BiKyyyp7XLaE%2B8If8ApMTu43wv1HjXNMP/ACYnEL7q9X/NBRRRXafMBRRRQAUUUUAFFFFABRRRQAUUUUAFFFFABRRRQAUUUUAFFFFABRRRQAUUUUAFFFFABRRRQAUUUUAFFFFABRRRQAV4z44/5SF/C/8A7Iz48/8ATt4Qr2avGfHH/KQv4X/9kZ8ef%2BnbwhQB7NRRRQAVm%2BMPGXhD4eeF7/xx4/8AFem6Houl2zXGp6xrF9HbWtnCoy0ksshCRoB1ZiAK0q8Q/b%2B8N%2BItd%2BCejatonhTUtftPDfxL8K6/4g0PR9OkvLq802x1q0ubgxW0StJcvCsf2kQorSSfZ9qK7lVIB6Zpnxh%2BEetfDIfGvR/il4cu/Bp0978eLbbXLeTTDaICXuPtSuYvKUK2X3bRtOTxUGi/HX4I%2BJPhXP8AHTw78Y/Ct/4ItrK4vLnxjZeIbaXSoreDd58zXauYVjj2PvcthdjZIwa%2BWPDXw9tPiT%2Byf8W/D3i/QvHXhHTvE/xLv/HnhO2/4Vlql1d2drFrMF3ayvpot/Mma4vbN7yTTsLcvDdkPHG0hx5fqX7Pn7eHxc%2BBXxQ8S2nhjQfFWheO/itqHiy/8N%2BLbPVPBNxrFla%2BG9LsbJINMNnqNzbRNqdjLdfY7grLP5EDSPi4mQgH6MaLrWj%2BJNHtPEXh3Vra/wBPv7aO5sb6ynWWG5hdQySRupKujKQQwJBBBFeRfsH/APJENc/7LN8R/wD1NdbqT9lnQ/jhZ/sK/Dzwzf2Oj%2BDvHVr8OtKtXt9UsrnVLXTbmO1iTbPCTYzSMFX5490JRyy7jt3Nm/8ABOm38S2n7N19a%2BMtWsb/AFeP4t/ENdTvtM057S2uJx4z1rzJIoHmmaFC2SEaWQqCAXbGSAe6UUUUAFFFFABRRRQAUUV53%2B0l%2B1b8BP2SfA58ffHj4g2mi2sjFLC0OZLvUJf%2BeVvAmXmfkfdGFzliBzWdWrSoU3UqSUYrdt2S%2BZlXr0cNSlVrSUYrVtuyXq2eiV5r%2B0h%2B1/8As4fsleGx4l%2BPnxW0zQhKhay095DLe3pHGILaMGWXnjKrgZ5IHNfMfxF/ae/bj/aI8H3njnw/Fpv7LnwghTdefEb4mrE3iC7gPANtYuwjtSwOB5hLHKmNyeK8i/Z70PQ/EXi6XxN/wTb/AGYdV%2BKvi24n/wCJn%2B09%2B0FPObJZQcGW0EoEsxHI/cIjrwGDrzXz2Kz%2BTkqeGhq9nJO784U178l/el7OH9478hyDi3jKlOvk2GVPCwdp4vEv2OGh/wBvT5XN21UUuaX2YSue1%2BIP2hv29/2stGuPFfwt02y/Zq%2BE1vGZ7v4k/Ey2hk1y7thz5kNjKwitEIP35m5BDI/avmPVfhB4d/a98Uy%2BDv2e5Pip%2B1HqVtdeXqfxB%2BLHjG803wJpMynkxRW3lPc7TyYYmIIIZS6kivr3w5/wSzh%2BK2uW3xB/4KE/HzxB8ZtZglE9t4dnc6d4b0%2BTqPKsICA5H3dznDgDclfVXh3w34d8H6Ha%2BGPCWg2Wl6bYwiKy0/TrVIILeMdESNAFRR6AAVzLJsZmeuMbUXvzNSk/JRX7qmvlUl531PoYZH4bcN%2B/im87xneop0sDB/3aKlCpiEnspKjTf2udM%2BMPgd/wRe%2BHNvZ2V9%2B1z43Hjn7HKJ7PwJ4e09dE8KadLjgpY2uz7Q46GaU5kH31Y5r7I8GeB/Bfw48OW3g/4feEdM0LSbNdtppmj2Edtbwj0WOMBV/AVqUV9BgsswOXxtQgk%2Br3k/VvX5aLskc2d8V59xBTp0MXWtRp/wAOjCMaVCmu1OjTUKUPVQcn1nJ3bKKKK7j50KKKKACiiigAooooAKKKKACiiigAooooAKKKKACiiigAooooAKKKKACvGf2X/wDkt/7R3/ZZrH/1CvC9ezV4z%2By//wAlv/aO/wCyzWP/AKhXhegD2aiiigAooooAKKKKACiiigAooooAKKKKACiiigAooooAKKKKACiiigAooooAK8W%2BINvDd/8ABQL4Z2lwgaOX4LePUdT3B1XwgCK9prxnxx/ykL%2BF/wD2Rnx5/wCnbwhQNNp3R5r/AMER7iZP%2BCb/AIJ8OXTlp9D1LW9OnJ65j1a7IH/fLLX1hXyX/wAEef8AiW/Az4i%2BCen/AAjXx18VaZs/u7blZMf%2BRK%2BtK8rIv%2BRNh12il/4DeP8A7affeKqT8Ss3mvt15z/8GKFX/wByhRRRXqnwAUUUUAFFFFABRRRQAUUUUAFFFFABRRRQAUUUUAFFFFABRRRQAUUUUAFFFFABRRRQAUUUUAFFFFABRRRQAUUUUAFeM%2BOP%2BUhfwv8A%2ByM%2BPP8A07eEK9mrxnxx/wApC/hf/wBkZ8ef%2BnbwhQB7NRRRQAUUUUAFFFFABXjP7B//ACRDXP8Ass3xH/8AU11uvZq8Z/YP/wCSIa5/2Wb4j/8Aqa63QB7NRRRQAUUUUAFRX19ZaZZTalqV5Fb21vE0lxcTyBEiRRlmZjwoABJJ4AFef/tOftVfBT9kT4bS/E742eK1sbUv5Om6fbp5t7qlyR8tvbQg7pZG44GAByxVQSPmb/hSP7TH/BRlf%2BFiftwXF38KvgnbD7ZYfCGz1E29/rECfOJ9bugVMMeBuNupUr32Mm9vOxeYKjU9hRjz1bX5U7JLvOW0V66v7MXuvKxeZ%2ByrrC4WDq13a0F0vonOVnyp9NHKW0It6nQ%2BPf8Agop8Qfj/AOLb34I/8Ex/h1b%2BPdXtZjba38TtYLxeFdAbufPAzeygchIsg5DDzAGFeMyWvwq/Zp%2BOywwx6t%2B1f%2B11qCZMk5T7D4WOfvEcwaTbxlun%2BtGesKyV21n8SvHv7aIP7K3/AATQtIvht8E/Dsh0/wAUfF/R9PFstwFP7yx0NFC7nPO667ElgR8hl%2Bpv2Zf2TfgT%2ByJ4EHgH4HeCYdNhlYSanqUzebfapPzma5nb55XJJPPyrkhQo4rwaVDF5tWVTn5kn8dvcT/6cwekmtvaz5tfgTP0fDcE5Lwc6eP41/2vH6Sp4GLcKdG6vGWJablB6pqim8TJWdSWGjLlfh/w2/4JzeL/AIy%2BMrL48/8ABSv4h2/xI8S2snn6L4CsY2j8K%2BHWP8MVs3/H3IBwZJgdw4YPtDV9Z2dnaafaRWFhaxwQQxiOGGFAqRoBgKoHAAHAAqSivpMJgcNgotU1q95PWUn3lJ6v8l0SR53EHFOdcTVYPG1F7OmrU6UEoUaUf5aVKNoQXdpOUnrOc5XYUUUV1nzwUUUUAFFFFABRRRQAUUUUAFFFFABRRRQAUUUUAFFFFABRRRQAUUUUAFFFFABRRRQAV4z%2By/8A8lv/AGjv%2ByzWP/qFeF69mrxn9l//AJLf%2B0d/2Wax/wDUK8L0AezUUUUAFFFFABRRRQAUUUUAFFFFABRRRQAUUUUAFFFFABRRRQAUUUUAfF//AATD%2BLP7Evhnx9%2B0D8Jv2ePix8M7fTE%2BO8b6LoHhXxHYFGFx4c0KPfFFDIdxlu4rtSwBLzRzDJdXx518YP2ffh8viz9rX48/sq/BHQ/C154H%2BE8/gGwvfh74agsNQ1HUrm3XWNenje0jWSefyJdKhiYZdbi2nVTvJA/RWigD5Y/4Jyn4IHx/8YP%2BGQD4e/4Uz/bWjf8ACKf8IX5X9if2n/Zkf9pfYfI/c7cfY/N8r5ftHn7v3vm10F/qXxXu/wDgpt4Ls/G3gvw9p%2BhW/wAHvHA8NajpXiee8u79Dq3hLzGubaSyhS0IwmAk1wG3HJXaN30PXzd8bviPbeDf%2BCp37PfhC7kAHi34U/EjT7ZTjmaK68K3gI/7Z20vHv7VM5xpxvLy/F2/NkVKkKUeaT00X3tJfi0c5/wTC/4kvxK/af8ABPT7P%2B0VrGpBPQXkMEgP47K%2BtK%2BS/wBh/wD4kn/BQX9rjwV90Q%2BJfC%2BqKv8A1%2BaU7k/%2BOV9aV5eSaZeo/wAsqi%2B6pP8AzP0PxP8Af4wnW/5%2B0cJU/wDA8HhX/wC2hRRRXrH5%2BFFFFABRRRQAUUUUAFFFFABRRRQAUUUUAFFFFABRRRQAUUUUAFFFFABRRRQAUUUUAFFFFABRRRQAUUUUAFFFFABXjPjj/lIX8L/%2ByM%2BPP/Tt4Qr2avGfHH/KQv4X/wDZGfHn/p28IUAezUUUUAFFFeYftbfGTxl8GPhhYX3w1s9Ml8S%2BJPGGi%2BGtAk1uCSWytbjUL%2BG2N1PHFJG8scMckk3lLJGZTEIw8e/eoB6fRXzDf/tj/Gfwz%2ByH8RPiRrvh7w9e%2BOfhv43m8La3fWGm3SaMAt9bRf2y1t50k6WsNldx308AmZkEM0YmOBLWN8Kf2y/ir8dfgz8Q/FngP9o/4NWSfCTxpc6Z4q%2BKVz4Qvbvw1q2npo1jqovLS3TV42gRUv1ieQ3kybrWVl3K67QD63rxn9g//kiGuf8AZZviP/6mut1vfB/4%2BJrn7KPhP9pL9oOysPh0%2BqeCtO1vxVaa/fi1t9Clnt45JYppbjZ5YR3K/vArDGGAORXJ/wDBOnxP4a8a/s3X3jDwb4hsdX0jVPi38Q7vTNU0y7S4truCTxnrTRyxSoSsiMpDBlJBBBBoA90ooooAK%2BZf2hf%2BCknhTwh49l/Z1/ZV8B3nxg%2BK5yj%2BG/Dcy/YdHOdvmaje/wCqtkU9VzuBwrbNwasD9t347fEv44/FOH/gnB%2ByNr72XinWbNbj4neNbXLL4N0N8bgGB4vJ1bbGmQwDg/LuEievfDn4Vfsrf8E7P2e7qPw1p2k%2BDfCPh6wFzrus3IAluSihTcXMuN88zHAHUksEQfdWvGrYrEYurOnh5qEIaTqPWz6xjf3bpfFJ3UXpZu9vGjPM87x7wOWdJKDmo88nNtL2dKNmpT1SbakoyaioyldLxXwB%2BzNoHwFl1H/gol/wU9%2BLWl%2BJPHmk2ZuI7qZW/sTwZBn5bXTLcglpdxCiTaZHcgKCzM0mFp/gr4//APBWi%2Bg8T/F6w1r4bfs6CZZ9J8F%2Ba1vrXjqMEMk98yHNtZtgMsSnLDkE/JKJfhR8N/Hn/BUr4m6X%2B1H%2B0b4Zu9H%2BCXh%2B8F18KPhnqSbX8QSjITWtSj6MhHMUJypU90LNP9uKqqoVQAAMADtXDg8DTx1PROOHbvZ35qz6zm373K%2BkdOZau0OWD/Y8PQyzwgw/1TL1GpnDu6tZtVFhZPeFNvmjUxa/5e13zRw7/dUF7SEqlPN8GeC/CXw68K2HgbwH4bstH0bS7ZbfTtM063WKC3iUYCIigACtOiivpoxjGKSVkj84q1aterKpUk5Sk2222223dtttttttttttu7YUUUUyAooooAKKKKACiiigAooooAKKKKACiiigAooooAKKKKACiiigAooooAKKKKACiiigAooooAK8Z/Zf/wCS3/tHf9lmsf8A1CvC9ezV4z%2By/wD8lv8A2jv%2ByzWP/qFeF6APZqKKKACiiigAooooAKKKKACiiigAooooAKKKKACiiigAooooAKKKKACivCP2H/FHxe1HVvjL8PvjB8YtS8cT%2BB/i4dG0bWtW0qws51sn0DRb8QlLG3giKpNfT7WKl9pUM7kZr56%2BFP7X/wC1F8c/hn478S%2BD/EfxG034heOvhz42vfgZ4W1Tw54dh8OPf6fM0FotlKY2vWuoHa1WT%2B0nSC4aWaWKIwqPLAPvyvz3/wCCufi6/wDhd/wUH/Y6%2BMdtlLXw7q/iJdZuAceRYXl74csZ3Pti4A/Gvp39ir4l6x4t8P8AibwH4%2B8W/Ei%2B8Y%2BFdcjh8Sad8U7DQYNS07z7SGaBI20CJLGa2dCZEkRpH3NKjuCnlp8tf8FcToP7Q/ijXvhd4b0nxHFq/gz9nzxzq73OoeEdSsLdprPWvB96rWd3cQRw3vFs4LWzyBdwDEbhnzs3jUlldZw%2BJR5l6xtJf%2Bk2%2BZ5OfRqyyau6fxRi5L1g1NffyW%2BZ658Bf%2BJB/wAFffj7pP3f%2BEg%2BH/hXU8f3vIjkts/rivrSvhXwb8U0s/8AgoN8B/2pZpF/sX9on4GLoksmMJb6pbrHqUeT/CzrJ5IU9WB9OPuqufJakZ0qsV0qSfynyzi/mpXP1PjyccaspzOk708RgcK4vu6UJ0Jr1jKmk/Vdwooor2T4IKKKKACiiigAooooAKKKKACiiigAooooAKKKKACiiigAooooAKKKKACiiigAooooAKKKKACiiigAooooAKKKKACvGfHH/KQv4X/9kZ8ef%2BnbwhXs1eM%2BOP8AlIX8L/8AsjPjz/07eEKAPZqKKKACuN%2BPHwS8NftA/DqX4d%2BJtY1PS9upWOp6XrWiTRx3ul6hZXUV3aXcDSxyR7454Y22yI8bgFHR0ZlPZUUAeU/Dn9lgfCn4e6t4G8F/HrxxBda5JeXupeJpV0mXUJtWurp7ifVSXsDD55LiMReV9lSKKNEgULXEeOv%2BCbvg3x58O7TwLe/tE/Em1um%2BIMfjTxR4jgfRZrvxXq8UUcVvJqUNzpktnLFCsFp5UEdvHEhsrYhf3S19G0UAZ/hTRtR8O%2BGrHQtX8Wahr11aWqRXGtatHbpc3rqMGaVbaKGEO3UiONEyeFA4ryn9g/8A5Ihrn/ZZviP/AOprrdezV4z%2Bwf8A8kQ1z/ss3xH/APU11ugD2avAv2%2Bv2utY/Zv8D6X4B%2BD2ipr/AMWfiDeHSfhx4aUBjJckYe8mB%2B7bwKQ7scL90EgFmX2D4n/EXwv8Ifhxr3xU8bXwttI8OaRcalqU3dYYY2kfA7nCkAdyQO9fMX/BOj4Q%2BMvjHr95/wAFMf2kbRX8afEPTlXwPorEvF4T8NMS1tbQ5A/eTKRLJIACwf8AhLyA%2BXmFetKccJh3ac025fyQWjl6/Zgv5nfaJ42aYnETqQwGFdqlRNuX8kE7Sn/ibfLBfzO70i79/wDsp/s5/Dv/AIJ%2B/s96x4k%2BJHjiK81y7WbxD8VfiFqsh8zUr3a0k87u3zeUmWEadhk43OxPjHw%2B8DeOP%2BCsvxF074/fHHw/e6L%2Bz74evxdfDnwBfoY5fGE6EhNW1FP%2BffvFCchgecqWMtj436hf/wDBTr9p6f8AZI8HXso%2BCnwy1SK4%2BL%2Bs2shVPEerRtvh0KJ1%2B9HGyhpiDwVx8rLGW%2B1NO0%2Bw0jT4NJ0qyhtrW1hWK2treMJHFGoAVFUcKoAAAHAArhoYajj2qNNWwtLRL/n5JPW76wi9/wCed27qOv7Lg6NDwpyGjTwseXNK9NNP7WDoTj7rXVYrERk5ub9%2BjRmmuWtXcoSQwxW8SwQRKiIoVERcBQOAAB0FOoor6I/M222FFFFABRRRQAUUUUAFFFFABRRRQAUUUUAFFFFABRRRQAUUUUAFFFFABRRRQAUUUUAFFFFABRRRQAUUUUAFeM/sv/8AJb/2jv8Ass1j/wCoV4Xr2avGf2X/APkt/wC0d/2Wax/9QrwvQB7NRRRQAUUUUAFFFFABRRRQAUUUUAFFFFABRRRQAUUUUAFFFFABRRRQB5N8I/2J/gP8DfFGueMfh1L47hv/ABLrkWsa8%2Bq/FvxHqUd7exxpEszxXl/LGT5UUUTDbtaOGNGBWNQDSv2IP2bdD8Ua54z0Twjq9nqOvWepWs09r401aMadHqE63F9/ZqLdBNJeedElkeyEDvIiuSWANes0UAcX8GP2fvhZ8AdP1Sx%2BGukaikuuaiL7W9U1zxDfavqGo3AiSFXnvb%2Baa4m2xRxxoHkIRECqABivP/jB4d0vxh%2B3L4A8Ja5B5tlqnwL%2BIVpeR/34pdT8Io4/FWNe6V4z44/5SF/C/wD7Iz48/wDTt4QpNKSsxSSkmnsz4V0PTPGWqf8ABGXR/FGlIZ/Hn7K3xOmuoyMgiXR9Tcyxt3VBZT5ZeQfKGa/TrwD410H4leBdF%2BIvhW68/S9f0m21HTpv%2BekE8Syxt%2BKsDXyX%2ByT4T0PSv2wf2tv2QvFVmH0TxJrFn4pgtDwt3BrNiUvyB/10VUJ9TXQf8EgvFmuQfswah%2Bzl42vDL4h%2BDHjLU/BmptJw0kVvMXtpQP7hhkRFPQiLivlclbw2Ip039qDg/wDHQk4/e6bX3H1PDknnPg1Toy1q5ViHB9/Y4hyp/dHEYeD/AO43mfVVFFFfVny4UUUUAFFFFABRRRQAUUUUAFFFFABRRRQAUUUUAFFFFABRRRQAUUUUAFFFFABRRRQAUUUUAFFFFABRRRQAUUUUAFeM%2BOP%2BUhfwv/7Iz48/9O3hCvZq8Z8cf8pC/hf/ANkZ8ef%2BnbwhQB7NRRRQAUUVm%2BMPGXhD4eeF7/xx4/8AFem6Houl2zXGp6xrF9HbWtnCoy0ksshCRoB1ZiAKANKiuc0z4w/CPWvhkPjXo/xS8OXfg06e9%2BPFttrlvJphtEBL3H2pXMXlKFbL7to2nJ4rGvP2p/2YtO%2BEsPx81D9o7wHB4EuJ/Jg8azeL7JdJkk8wx7FvDL5JberJgNncCOoxQB3leM/sH/8AJENc/wCyzfEf/wBTXW69g07UdP1fT4NW0m%2BhurW6hWa2ubeUPHLGwBV1YZDKQQQRwQa8f/YP/wCSIa5/2Wb4j/8Aqa63QB5R/wAFSdT1D426x8M/%2BCd3hO9lS6%2BLfiZLnxhJbOQ9r4a09lubxiR9wyMqKhOAxR1710//AAUN%2BPvif4IfCjw/%2Bzf%2BzXbRJ8Tfidcjw18PbC1%2BQaZEEC3GoED/AFcVtCd27GFYocFVauH/AGJdb0n4/ftM/Gr/AIKS%2BL7%2BOPwxprSeCvh5f3B/dQ6HppMl7eof%2Bec1wDIG4I2yCrX/AAT38Na7%2B1V8XvEn/BT74p6XLCviOOTQ/g9o92vzaR4bhkZTcbT9ya5kDOx6hd2CUkAHyaq1cZOTpO08Q2otfZow0cl5ybly/wB6cX0PofC/AYGU8bxpmcFPDYdxVOEtq1Rcyw1G3WEpxqYmt/05p2f8VHv37KP7NPgP9kf4EaF8DPh9Dut9Ktt1/qDpibUr1%2BZ7uU8kvI%2BTyTtG1RwoA9Goor6ijRpYelGlTVoxSSXZI8rMcwxubZhVx2MqOpVqylOcnq5Sk2236t%2BiVkkkkkUUUVocYUUUUAFFFFABRRRQAUUUUAFFFFABRRRQAUUUUAFFFFABRRRQAUUUUAFFFFABRRRQAUUUUAFFFFABRRRQAV4z%2By//AMlv/aO/7LNY/wDqFeF69mrxn9l//kt/7R3/AGWax/8AUK8L0AezUUUUAFFFFABRRRQAUUUUAFFFFABRRRQAUUUUAFFFFABRRRQAUUUUAeT/ALKX7QfxA%2BO6%2BP8AR/il8J9N8H674A8et4bvdP0nxS2rwXAOmafqMc4na1tirGPUERo9hCtG2HcEGvK/Cn/BUTwp4q8IfE34v6fong698IfD7QNT1K2sdE%2BJMV54qvvss7Qwefo4tVSwivCjtBJJdMxV4S6RmRhH2n7OH7OH7TXwX%2BIHxC8YeNv2g/AniC1%2BIXjqHxJe2OlfC2906S0ZdPstPkgSWTWrgENBYW5VinyyGRiGVlRPOIf%2BCTejXmiX/wANtd%2BL1tF4LsvCXi7QfAmmeH/CK2Oo6NFr97FeTy3N41zKl89vLDGYQIIFJUNMJ3AcAHtn7OXx98b/ABU1/wAYfDT4v/DHTvCPjPwTe2aatpei%2BJX1exntby1W4trmC6e1tXcH99EytChWS3kxvQo7Znjj/lIX8L/%2ByM%2BPP/Tt4QrT/Zy%2BAXjj4V%2BIPGHxM%2BMHxP07xd4z8bXtk%2Bq6povhp9IsYLWztVt7a2gtXurp0A/fSszTOWkuJMbECIvF3/wj%2BFHgb/gpt4L8e%2BCfhj4e0fXfE/we8cS%2BJda0rRYLe71Z49W8JeW1zNGgecrvfBcsRuOOpoA4D9u5rr9kL9qz4d/8FF9LMieG5lj8DfF9Fzsj0m5m3Wd%2Bw6AQXJG5uWIaNB1NReKNZ/4Ye/4KVyfE/XAkfw0/aQh0/TLrVkbEOleKLSJo7bzP4VS5hJAYfecknAQk/Unxq%2BEfg349/CXxF8GPiDY/aNG8TaRNp9%2BgA3KkikB0J6Ohw6t2ZQe1fIX7LPg22/bB/Yz8e/8ABNT9qq5L%2BM/hVd/8Ivqeobcz%2BTGN%2Bj6zDuOeY0QqScv5LbuJCD8vjsNVo47lo6Ob9pTvt7WKtOD8qkPxTfQ9LgbO8DwxxZWwWZJvL8yhKnVtq4t8jlOC/nhKFLEwX2nSqw/5eafclFfNf/BOL9pLxx8RPB%2Bt/s1ftEXCxfFz4S3i6N4vikk%2BbVLcAfZdVjzy8c8W0lu7ZYhQ6ivpSvfweKp43DRrQ2fR7prRp9mmmn5r0OjiLIcbwznNbLcVZyg9JR1jOEkpQqQf2oVISjOD6xl3Ukiiiiuk8UKKKKACiiigAooooAKKKKACiiigAooooAKKKKACiiigAooooAKKKKACiiigAooooAKKKKACiiigAooooAK8Z8cf8pC/hf8A9kZ8ef8Ap28IV7NXjPjj/lIX8L/%2ByM%2BPP/Tt4QoA9mooooAK8Q/b%2B8N%2BItd%2BCejatonhTUtftPDfxL8K6/4g0PR9OkvLq802x1q0ubgxW0StJcvCsf2kQorSSfZ9qK7lVPt9FAHxd4a%2BHtp8Sf2T/i34e8X6F468I6d4n%2BJd/wCPPCdt/wAKy1S6u7O1i1mC7tZX00W/mTNcXtm95Jp2FuXhuyHjjaQ44D4XeFfjn4I%2BItl%2B2F8dPCfi3xP4V1H9oDWPEAtNE%2BE2qW19Z20/gu00WDU18OqLnULWNrq0vIhG4knCX6zyhRLKyfohRQB4X%2Bxj8NvjJ8O/2BfAfw2j%2BxeFPF1j4QgjsrPxFpL38Ohbvnhs57eG4gMn2eFkgKJMgBiwrYAz518I/iP4l%2BBf/BMf4pfE7xfr1jda54c8T/FW6uNQ0uwezt7m/TxXru1oYZJpmhV5tu1GlkK7gC7Y3H65r86P2rtUv77/AIJg658GNFuWi1H4o/tQeKfCOnsn3i9z8Q9XlZR65jgcfQmuHNK8sNltarHdRdvW1l%2BLR5uc4mWDymvWj8UYSt6tWj/5NKIzxxpviT4Pf8Efvgn%2BxT8OpDa%2BMfjZZ6X4dtY0X5rWPUj9t1OZ1HVEjmkjc9vOzX6A/DnwF4b%2BFfw/0P4ZeDbIW2k%2BHtIt9N0yAf8ALOCCNY0HudqjmvlD4X6XYftH/wDBVDW/FOnW6t4N/Zt8JR%2BGPDaLzF/b1/Hm7kjPrFbKLdx1BCmvsivPyWhFSnVXwxSpR/w01Zv/ALenzP8A7dR%2Bm8RYaPDHCWT8LU9JU6SxFb/r7iIQ9nF%2BdPCwpK3R1pbXYUUUV7x8IFFFFABRRRQAUUUUAFFFFABRRRQAUUUUAFFFFABRRRQAUUUUAFFFFABRRRQAUUUUAFFFFABRRRQAUUUUAFFFFABXjP7L/wDyW/8AaO/7LNY/%2BoV4Xr2avGf2X/8Akt/7R3/ZZrH/ANQrwvQB7NRRRQAUUUUAFFFFABRRRQAUUUUAFFFFABRRRQAUUUUAFFFFABRRRQAUV5t%2BzZ%2B0rpX7SVj4sktfhf4r8H6h4L8XP4e1vRfGENml0twLKzvlkX7Hc3EZjeC%2BgYZcOCWVkUriuL0P9v8A8N6r8DviJ%2B0pqf7PXxD0nwP8O9H8Q6jPr2oHRWGtJo011Fdx2UMGpSThy1nNs%2B0xwKwC5Zc4oA99rxnxx/ykL%2BF//ZGfHn/p28IV3vwh%2BInib4m%2BFn8SeKfgr4n8CTC6McOkeLLrS5rmaLYjCdTpl7dxCMlyoDSK%2BY2ygG1m4Lxx/wApC/hf/wBkZ8ef%2BnbwhQB7NXyv%2B21%2BzN8W/DXxIs/2%2BP2MYs/Ezw5YC28TeFGkK23jjRkO5rKQDpcIBmKTGchV5ITb9UUVy4zCUsbR9nO66preLW0k%2B6%2B56p3TaOLH4GjmGH9lNtapqS0lGS2lF9Gn8mrppptHxX4n8G%2BC/wDgoz8PfD37fX7CvjceDvjH4Yia3tbu7TYzSx8z6DrEI%2B8mTtBIO0MrrlGGfXP2L/24/DX7T1lqHw88c6A3gv4reFXNt43%2BHmpyhbm0mXAM8GTme1fIZZFyAGXJ5Vm4v9oH9h/4seBPizqf7Xv/AAT58b2vhjx5qZWbxf4J1YE6B4z2Z/18Yx9nuTk4nXGWJyULvIfNNQ8T/sk/8FI/Ett4L%2BLVpq/wF/aZ8JOI9PL3Qsdd0%2B5UEqbS4%2BRdTtWySEByUZioQMHPzqqYvA4u7SjVlum%2BWnW/vQe0Ktt4vfZ8yUZL7PIONcszPLqPDPGrdN0/dw2LjHmdNXb5Grp1KEm%2BZ0HJVaEnKeGc4OVKX3vRXxnpH7bv7S37EkyeBv8AgpH8NLrVfDcEohsPjt4G01rjTriMkBX1K0iHmWUn94qpVmOEQgbz9XfDX4pfDj4yeELXx/8ACjxzpfiLRb1c22p6PepPC57ruQnDDOCpwQeCAa97CZjhsXJwi%2BWa3hLSS9U915rmi%2BjNOIODs74dpRxNWKq4abtTxFJ%2B0oVPKNSPwytvTqKnVjtKnpc3qKKK7j5UKKKKACiiigAooooAKKKKACiiigAooooAKKKKACiiigAooooAKKKKACiiigAooooAKKKKACiiigArxnxx/wApC/hf/wBkZ8ef%2BnbwhXs1eM%2BOP%2BUhfwv/AOyM%2BPP/AE7eEKAPZqKKKACiiigAooooAK/MvxT4tsL/AOLXwT8BaiRJpnhb44fGf4ieIEJ4hj0nxLrklq5%2BspkUHsa/TSvxe8R/EFpda/a%2B%2BJ5lPk/DPwz418Dw88RXniD4gay4cejmKYrkdq8DiOuqGXLzkvujzVH/AOkL7ww2Uy4iz7K8kjvi8XhqP/bsq0HL/wAliz79/wCCOXgm80H9hTw98RfEe6XxH8R9T1Dxd4nvnHzXl3e3Lssp%2BsCwD8M96%2BpK4z9nL4eD4R/s%2BeBvhX5Plnw34P03THTHRoLWOI598qc%2B9dnXpZbh/quX0aL3jGKfrZX/ABbv5n03GmbrPuMMwzGL92rXqyj2UOeSgl2SpxppLZRSS0SCiiiu0%2BZCiiigAooooAKKKKACiiigAooooAKKKKACiiigAooooAKKKKACiiigAooooAKKKKACiiigAooooAKKKKACiiigArxn9l//AJLf%2B0d/2Wax/wDUK8L17NXjP7L/APyW/wDaO/7LNY/%2BoV4XoA9mooooAKKKKACiiigAooooAKKKKACiiigAooooAKKKKACiiigAooooA%2BeP2Vvhz%2B2D8NfiZ8VfEvxX%2BGPw1tdN%2BIXxJh8R2b%2BHviVqF9PaW/8AZOnabJG8c2i26tIBpyyrh8MZyhK%2BXvfkPCP7E3jvS/i74w%2BJdv8Asx/BPwro2t/D/X9D1fwJ4Z165k0/4iXuoXVtMt3rpOkwpEUSG5jLeTeyEapcZcqu2X62ooA8K/Yh/Zs8Yfs9Q%2BN7rX/B3g3wXpvinxFDf6J8N/h3fzXOieHo47OGCQwPLa2gD3EkbTSLHbQxhmHDuXkfNv8A4Y%2BG/B3/AAU28F%2BM9J1LxDNeeIfg944kv4dV8XajfWkRTVvCWBbWtzPJBZA7jlbdIw2BuB2rj6Hrxnxx/wApC/hf/wBkZ8ef%2BnbwhQB7NRRRQAV5p%2B0p%2Bx/%2Bzn%2B1x4ZXwz8evhhYa15Cn%2Bz9T2mG%2BsG67oLmPEkRzg4DbSQNwI4r0uis61GjiKbp1YqUXumrr7mY18PQxVJ0q0FKL3TSafyZ8av8Av8AgpV%2ByNZy6Z%2Bz78WNJ%2BO/gONGRPAvxUnFvrcNuRjyINTH7ufjjNwAoXgLXzjrPiD9i7w38RpNct7v4p/sO/Fe9l/fh9MlHhzU5xz80ag2dzAOuf3CEgnB7/qxWf4n8KeFvG%2BiT%2BGfGfhrT9X026Xbc6fqlmlxBKPRo5AVYfUV4WKyGNSKVKei2jO8kv8ADK8akP8At2bXl0N8hzLivg2rOfDuYToxmrSpTSrUZx/lnTqcylHykqiXTlPjfwH%2B19/wUF%2BFnh6LxB46%2BDPhX9ofwUv%2Br%2BIXwJ1uGS9kjHO%2BTTiSJpSOqwFUHr6%2Bn/B3/gqt%2Bw78YNU/4RU/GODwj4ijcR3Xhjx/bPot7by/88mFztjZ/wDZR2rD8bf8Ee/2MtX16Xxp8I9I8S/CjxDLyNc%2BFfiafSZEPUbYlLQKAeyxivN/i9/wTY/bW1vSv7Gj/aY%2BHnxl0mBCtjofx6%2BG8M80C%2Bg1K0Budx/vDaR2rj/4yTAfDH2ke11P7n%2B7qL5qfqz6d8ZZBmWnEGQOlPrWy2rGKfnLCYi9PztSqU%2BySPum1urW%2Bto7yyuY5oZUDxSxOGV1IyCCOCD61JX5IXH7H37cv7NtxJf/AAw/Zh%2BJXgVY3LtefAT4zrqGkyPnJJ0bU980ozyFMqjt9Fh/4Kyft7/s4sLb4u6xHf2cB2zJ8Zvg5qfhrUZMcAJJpnn2%2BT/efg9af%2BtVPD6Y2hOn52bX4qL/ADJ%2Bp8BY/XL8%2Bp03/JjqVfBT9PaShXwz9VXivlqv1uor84vh3/wcTfDG5W3h%2BMP7OuqWUkzBFk8DeLNO10v/ALfkb4ZkXvgqSB617z4C/wCCzf8AwTq8cXCaZe/HpfDWoMAX0/xdot3pzR5/vSSxeV%2BTmvRw/EeRYn4MRFeTfK//ACa35nZDgDi3E03UwGHWLglfmwtSjio27/7NWrSS83TifUlFcp8Pvjx8D/i1Gs3wr%2BMfhXxKrrlToPiC2vMj/tk7V1dexCpTqR5oNNd001%2BDZ8ricJi8FWdLE05U5reMoyi16qUYtfcFFFFWc4UUUUAFFFFABRRRQAUUUUAFFFFABRRRQAUUUUAFFFFABRRRQAUUUUAFeM%2BOP%2BUhfwv/AOyM%2BPP/AE7eEK9mrxnxx/ykL%2BF//ZGfHn/p28IUAezUUUUAFeQ/tr/Ejx98PPhPpFl8MvEraFrHizx/4d8MQ%2BIktIZ30mLUNTt7ee5jjnR4mmELyCLzEeMStGXR1BRvXq534sfCfwD8b/AV78M/ibobaho9%2B8Ek0MV7NbSxywzJPBPDPA6SwTRTRRyxyxOskckaOjKyggA%2BZNb/AGkf2gPCX7EXxbv4PiN/a3jn4ffEC78IaD4ru9MtEu9bZr%2B1itNkEcK2h1F472O1jHlJbveKhaNI2ZF8tH7VX7a1/ocPwlsfEvxMuPFNt8ZdW0bUPDem6Z4PX4hQ6RB4cttShWYzp/wjrYmu4ZnmibabW6tI1c3JlQ/Xlr%2Bxd%2BzlafCm9%2BCX/CF6hP4Y1K3kS/0698VancG4mkvXvnvXlluGla%2BN05nN8W%2B1eYFbzcouMqX/AIJ%2BfssyeGYPDaeEvEUM1v4hn1xfEdr8RNch159QmtVtJZ5NYS9GoSl7aOKBg87KYoYoyNsaBQCz%2BzJ8etS8V/sQ%2BA/2hfinqz65qN/4C03UvEl34Q8M31y1zePbx/aDb2MMDXRPmlx5Sxb1wQUGCB%2BYfw%2B8L2vj34SeOUtrC9jHx/8A%2BCh%2Bo6StvqOmz2dy2i2euXkxaa3uESaFkfeHikRXQghlDAgfsH8P/APg34VeBtH%2BGnw78O22kaDoGmw2Gj6XZptitbaJAkcajrgKAOck9SSa/PT4WabYeM/21/gb8LtOtUW28P8Axb%2BNvjPW4UX78h8WaxbW0p9xNnn8K8LiChGvhIxfWUYr/t9xi/8AyXm/E%2B48NsNH/XfDZlLbBU8TifnSwtdwfynOnbzsfpHRRRXunw4UUUUAFFFFABRRRQAUUUUAFFFFABRRRQAUUUUAFFFFABRRRQAUUUUAFFFFABRRRQAUUUUAFFFFABRRRQAUUUUAFFFFABXjP7L/APyW/wDaO/7LNY/%2BoV4Xr2avGf2X/wDkt/7R3/ZZrH/1CvC9AHs1FFFABRRRQAUUUUAFFFFABRRRQAUUUUAFFFFABRRRQAUUUUAFFFFAHM/Cz40/Bz456Jd%2BJvgn8WfDPjHTbDUpNOvtQ8La9b6hBb3kYVpLeSSB3VJVDoWjJDAOpI5FZngb9p/9mn4oa9rfhX4aftD%2BBvEWqeGhMfEem6F4ts7u40oRSGOU3McUrNBskVkbeBtYEHBGK8O/YW%2BKXhqH4s/HbTofhf8AEXQrTxB8Zbe%2B8Nvrfwe8Q6Ta3Vk3h3RLFZo5LqwijEYuLG5QnICCMM2EdGbxjxT8N/jTqfwo%2BL37K37MrfFTxd4B1n4YeMr6/wBK%2BI/w6fQTZa/danHcRaRpd1PYWLX0N5Hd6sjFjcogigJuEWQBwD7u%2BFvxh%2BEnxx8Kr47%2BCnxS8OeMNDa4eBdZ8La3b6haGVMb4xNA7puXIyucjPNeeeOP%2BUhfwv8A%2ByM%2BPP8A07eEKwf2N2vfGXxp%2BMXx00PwB4j8NeEvFmpaHFodn4p8LXeiXV9c2emRw3V79ivIop41INvah5I1L/YcrujEbMy/034r2n/BTbwXeeNvGnh7UNCuPg944PhrTtK8MT2d3YINW8JeYtzcyXsyXZOUwUhtwu05DbhtAPoeiiigAooooAKKKKACiiigApJI0lQxSoGVhhlYZBHpS0UAeZ/ED9jD9kX4qGST4ifsx%2BA9Xmkzuur3wpaNPk9SJfL3g%2B4NeM%2BL/wDgiJ/wTZ8VPLc2PwHn0G5lGGuPD3ibULbj2j84xj/vivrKiuCvlWWYl3q0IS9Yx/Oyf4nnVsoynET56mHg5LryxvfvdJO/ne/mfnb4v/4Nsf2OtSd7rwN8XviJok5bcgmvrO7jjIOQQDbK/wD4/VLTv%2BCJ/wC2N8KcP%2Bz9/wAFYfHGlQx/6nTLu1u44OOgby74o34xV%2Bj9Fea%2BFch5uaFHkfeEpx/9Jkj2YY/OaVFUqWOxMYL7KxNdx/8AAJ1a0PlypeR%2Bfun/ALOn/BwB8MyB4Y/bX%2BGfjCziHy2viTS9kr/8CFhuP4y1s2fxs/4L5eCZ0g8Tfsb/AAn8aW8f35fD3iZbGWQeu65vQM/SP8K%2B6aK0jkSpfwcTWj/3E5v/AEuMjjqyzKrrLFTf%2BKNGX50I/i2fEl1/wUr/AG%2B/BcqW3xN/4I8%2BPAAP30/hTxRHq2fUqkFqR%2BG8/WrOr/8ABaz4e%2BBbSKb4wfsP/tFeEndMyvrHw4WOFfo73Clh77RX2lRWn1DNYX5MY3/ip03%2BXKzkeHx7cf8AadFv%2B7p6/irfJHxn4f8A%2BC9//BNbVQE174p67oEv8cOr%2BDr4sn1%2Bzxyj9a7Tw/8A8FjP%2BCaHibH9nftY6HHnp/aGn3tp/wCj4Er6J1/wr4Y8V2v2HxR4csNSgIwYb%2BzSZMfRwRXm/if9g/8AYm8Zb28Tfsj/AA2upJPvzt4KsVlP/bRYg361LpcRw%2BGrSl6wnH/0mbNaeHxd3zYlf%2BCU/wAVWj%2BCKOif8FFP2CvEOBpv7ZPw0Bb7qXPjSzgY/hLIprrtG/aa/Zu8R4/4R79oLwRf7vu/YvFlnLn/AL5kNeMeKP8AgjP/AMEzfF246l%2BynpMDN/Fpeq39ng%2BwgnQfpivO/E3/AAb1f8E5de3f2V4d8XaLu6f2Z4pd9v0%2B0LL%2BtZSrcUQ/5c0Zek5x/OLO%2BlgZT3xtJf4qGIX4wqT/ACPtXSfEvhzXl36Hr9leqRkG0ukkH/jpNXa/N7xF/wAGz37KFwCfB/x5%2BIWntnKG/exutp/4BbxH9a52f/g3N8beH5PP%2BG//AAUH8QWIT7lvc%2BHJlB/4HDfoR%2BC1k8y4kp/FgE/8NWL/ADSO%2BnklaqvdzDB/9vSxlN/%2BTYSaX3n6h0V%2BWF//AMEWv%2BClfhtCnw2/4KGspX/VtJ4q8QWJ/wDIc0oFZ1t/wTk/4Lm%2BCQSn7aOs%2BINp%2BUad8atSXI9MXtmf51m8/wA1g/fy6r8nB/kzrhwnnlWN6WIwE/JY%2BnBv5VcLT/GSP1gor8nbv4K/8F/PCIxpOpfEDUwvWWH4t6Bcceu25tlLfSof%2BEy/4Ly%2BFP8AkLa58YbQL95bP4ceGNd/VZUzSfFDh/EwdZf9umq4I43mr0sJRqf9e8wy2b%2B54qm/wR%2BtFFfku37ZH/BW/wALfL4m1z45Db96fUf2SrIwfi9teH9BSD/gqN%2B3V4e/5GX476fp2373/CV/s96xbY%2Bv2bfj8KX%2Bt%2BXx%2BOnOPrFL82h/6heJj%2BDIcTP/AK9vDVf/AE1jaj/A/Wmivye07/gs3%2B0isv2WP9sf9mN5x1g8Q%2BAfGlmw%2BpS12j866nRv%2BCvP7Vd6AV%2BP37HF7n%2B74g1%2Bxz/4FIuPxrSHF2Tz2cvuj/8ALDlxHB/iLg1fEcOZjH1wVZr748x%2BnFFfnjpH/BUr9rq/wLXWf2StVY9I7H46QwOf%2BAzPn9K6jSP%2BCiH7euokDTP2X/gzrmen9jftB6Z8303ZrphxHls9ub/wBv8AKTPCxFLOsH/vOWYyn/iweJX50j7mor4/0z9tj/gplfKGs/8AglVpmqp3l0n9oLRWGPYGMk1c/wCG4P8AgoXaf8hf/gkV4kTHX7H8VdJuP/QUGa6FnWCavaf/AIKqf/Is8iee4OnLlqQqxfnQrL86Z9aV4z44/wCUhfwv/wCyM%2BPP/Tt4QrzA/wDBQb9sC0/5Cv8AwSe%2BJqY6/Y/EFhP/AOgkZqn8E/2kPiJ%2B0F/wUL8GL8QP2VvGvwyfR/gz4y%2BzDxekQGpebq3hXd5JjY58vyl3Zx/rUrahmmDxFVU4OV33hNfi4Jfia4bOcBiqypU3LmfeFSPnvKCX3tH2DRRRXoHqBRRRQAUUUUAFfnH/AMEvh/wsj/gpV8b/ABYRvj%2BG0/izwyPSKTUPHuu6jn2YqvXriv0cr4b/AOCLvgZ7HxX%2B1X8U7mDZLrv7VXjPTo2I5eGx1a62n6briQfUGvMx9OVXEYaK2U%2BZ/wDbsJNfi0fb8JYull%2BUZ1Xfxywvso%2BtbEUIS/8AKcJH3JRRRXpnxAUUUUAFFFFABRRRQAUUUUAFFFFABRRRQAUUUUAFFFFABRRRQAUUUUAFFFFABRRRQAUUUUAFFFFABRRRQAUUUUAFFFFABXjP7L//ACW/9o7/ALLNY/8AqFeF69mrxn9l/wD5Lf8AtHf9lmsf/UK8L0AezUUUUAFFFFABRRRQAUUUUAFFFFABRRRQAUUUUAFFFFABRRRQAUUUUAFFFFABXjPjj/lIX8L/APsjPjz/ANO3hCvZq%2BcP2j9X%2BNej/t4fCef4HfD/AMLeItSb4R%2BO1u7TxX4wudFgjg/tTwkS6S2%2Bn3rO%2B7aNhjUYJO/ICkA%2Bj6K8Z/4Tj/goX/0a/wDBn/w/Grf/ADL0f8Jx/wAFC/8Ao1/4M/8Ah%2BNW/wDmXoA9morxn/hOP%2BChf/Rr/wAGf/D8at/8y9H/AAnH/BQv/o1/4M/%2BH41b/wCZegD2aivnHSf2jv27dY%2BM%2Bv8AwOt/2UPhIuqeHfC%2Bka7eXL/HXVPIkg1G51K3hRCPDG4uraXOWBUAB48FiWC9R/wnH/BQv/o1/wCDP/h%2BNW/%2BZegD2aivGf8AhOP%2BChf/AEa/8Gf/AA/Grf8AzL0f8Jx/wUL/AOjX/gz/AOH41b/5l6APZqK8Z/4Tj/goX/0a/wDBn/w/Grf/ADL1y/gH9o79u34ieK/G/hDR/wBlD4SQ3HgPxRFoWqyXPx11QJPPJpWn6mHi2%2BGCSnk6jCpLBTvRxjADMAfR1FeM/wDCcf8ABQv/AKNf%2BDP/AIfjVv8A5l6P%2BE4/4KF/9Gv/AAZ/8Pxq3/zL0AezUV4z/wAJx/wUL/6Nf%2BDP/h%2BNW/8AmXo/4Tj/AIKF/wDRr/wZ/wDD8at/8y9AHs1FfOPwi/aO/bt%2BMvhS78X%2BHP2UPhJbW9n4o1vQpI73466ormfS9VutMncbfDDDY01pIyHOSjKSFOVHUf8ACcf8FC/%2BjX/gz/4fjVv/AJl6APZqK8Z/4Tj/AIKF/wDRr/wZ/wDD8at/8y9H/Ccf8FC/%2BjX/AIM/%2BH41b/5l6APZqK8Z/wCE4/4KF/8ARr/wZ/8AD8at/wDMvXL/AAR/aO/bt%2BPHwY8IfHHwr%2Byh8JLXS/GfhfT9d0221D466os8MF3bR3EaSBPDDKHCyAMFZhkHBI5oA%2BjqK8Z/4Tj/AIKF/wDRr/wZ/wDD8at/8y9H/Ccf8FC/%2BjX/AIM/%2BH41b/5l6APZqK8Z/wCE4/4KF/8ARr/wZ/8AD8at/wDMvXL/ABu/aO/bt%2BA/wY8X/HHxV%2Byh8JLrS/BnhfUNd1K20/466o080FpbSXEiRh/DCqXKxkKGZRkjJA5oA%2BjqK8Z/4Tj/AIKF/wDRr/wZ/wDD8at/8y9H/Ccf8FC/%2BjX/AIM/%2BH41b/5l6APZqK8Z/wCE4/4KF/8ARr/wZ/8AD8at/wDMvR/wnH/BQv8A6Nf%2BDP8A4fjVv/mXoA9mor5x%2BLv7R37dvwa8KWni/wAR/sofCS5t7zxRomhRx2Xx11RnE%2Bqara6ZA53eGFGxZruNnOchFYgMcKeo/wCE4/4KF/8ARr/wZ/8AD8at/wDMvQB69qOkaVq8X2fVtMt7qP8AuXEKuPyYGuX1n9nj4AeI8/8ACQ/A3wdf7vvfbPDNpLn/AL6jNcT/AMJx/wAFC/8Ao1/4M/8Ah%2BNW/wDmXo/4Tj/goX/0a/8ABn/w/Grf/MvUTpUqnxxT9Un%2BaZ1YfHY7CO%2BHqzh/hnKP/pMolzV/2B/2HNeJbVf2O/hhKzdZB4E09XP/AAJYgf1rl9X/AOCU/wDwTp1vP2z9kPwcmev2Sxa3/wDRTLitz/hOP%2BChf/Rr/wAGf/D8at/8y9cv4%2B/aO/bt%2BHfivwR4Q1j9lD4STXHjzxRLoWlSW3x11QpBPHpWoamXl3eGAQnk6dMoKhjvdBjBLLyzyzLanxUIP/tyP/yJ7uH4341wn8DNMTH0xFf/AOXMxdU/4In/APBMTVm8yb9ly2hfOQ1n4n1WDB9R5d0BVP8A4cpfsLWX/IsaN410TH3f7K%2BIeppt%2Bm%2BZq9O/4Tj/AIKF/wDRr/wZ/wDD8at/8y9H/Ccf8FC/%2BjX/AIM/%2BH41b/5l653kWSt3%2BrQ%2BUUvysevDxV8TIR5f7axTXaVacl903NfgeY/8Ofvg5Z/8iz%2B1F8ftFx93%2By/ircJt%2Bm9Gqn8FP2T/APhl7/goX4Mjj/aR%2BKvxAi1v4M%2BMvLj%2BJvi7%2B1v7N8nVvCv/AB7Hyk8oP5o39d3lR9NvPrX/AAnH/BQv/o1/4M/%2BH41b/wCZeqHgfwP%2B1Z4x/as8OfG743fDj4e%2BGdG8M/D3xDocMPhX4h32tXV3dalfaJcIzJcaRYpFGiaXKCwd2LSoAuMka0Mqy7DVVUpU1Frs5flzNfgcOacf8ZZ3gZ4PH4yVWnO11KNK7s017yoRmtUtqivs7q6futFFFegfHhXO/Ff4r%2BAfgj4CvfiZ8TdcbT9HsHgjmmis5rmWSWaZIIIIoIEeWeaWaWOKOKNGkkkkREVmYA9FXkH7a/w38ffEP4T6RffDLwy2u6x4T8f%2BHfE8Ph1LuGB9Wi0/U7e4nto5J3SJZjCkhi810jMqxh3RSXUA3LL9qz4C3/wKu/2kk8cvF4Q09riO/vbzSLuC5triC4a1ltZLKSJbpLpbhTB9maITebiMIWIU40f7c/7NMvw/k%2BIyeLda%2BzxeJ/8AhHH0U%2BB9YGuf2v5AufsA0c2n9oGf7MRc%2BWLfd5B87HlfPXh2vfAH9ojxr%2ByD8XfA938B72z134l%2BNrjxWPDV7rWmb7ewk1O2V9NjuYrp44NVawtGnSdSbeC6uY2W4YxFx59afsQfHK1h034kD4P/ABTi8P6V8bNW161%2BHll8VrdfG02j3vhq308zXOu/2qDPcLqMMki7tTaVbGRIfOKxi0oA%2B/8Awr4k03xl4Z07xdo0d4lnqljFd2qajps9ncLHIgdRLb3CJNA%2BCN0ciK6HKsoIIHiv/BOvwnpPhb4LeL59MRg%2BrfHn4lX94zYy0reM9YTPHYLGg%2BgrpvgN4E%2BPZ/ZI8MfD/wCNXxN1TS/iAPDMFvrfibSZLK7vrW5AHzb7i3ltp51XCPI0LI7h2C4YV4f%2BxJq37b3hD4Na14X8DfCr4feMtLsPi78QYbfxV4x%2BLN1peqaoV8Y6wHnubWx8NyW0MjPuJWFth4IVAdipxTab6Fxq1IQlCLspWuu9ndX9HqfYdFeM/wDCcf8ABQv/AKNf%2BDP/AIfjVv8A5l6P%2BE4/4KF/9Gv/AAZ/8Pxq3/zL0yD2aivGf%2BE4/wCChf8A0a/8Gf8Aw/Grf/MvR/wnH/BQv/o1/wCDP/h%2BNW/%2BZegD2aivnH4I/tHft2/Hj4MeEPjj4V/ZQ%2BElrpfjPwvp%2Bu6bbah8ddUWeGC7to7iNJAnhhlDhZAGCswyDgkc11H/AAnH/BQv/o1/4M/%2BH41b/wCZegD2aivGf%2BE4/wCChf8A0a/8Gf8Aw/Grf/MvR/wnH/BQv/o1/wCDP/h%2BNW/%2BZegD2aivnH43ftHft2/Af4MeL/jj4q/ZQ%2BEl1pfgzwvqGu6lbaf8ddUaeaC0tpLiRIw/hhVLlYyFDMoyRkgc11H/AAnH/BQv/o1/4M/%2BH41b/wCZegD2aivGf%2BE4/wCChf8A0a/8Gf8Aw/Grf/MvR/wnH/BQv/o1/wCDP/h%2BNW/%2BZegD2aivGf8AhOP%2BChf/AEa/8Gf/AA/Grf8AzL1y/wAXf2jv27fg14UtPF/iP9lD4SXNveeKNE0KOOy%2BOuqM4n1TVbXTIHO7wwo2LNdxs5zkIrEBjhSAfR1FeM/8Jx/wUL/6Nf8Agz/4fjVv/mXo/wCE4/4KF/8ARr/wZ/8AD8at/wDMvQB7NRXjP/Ccf8FC/wDo1/4M/wDh%2BNW/%2BZej/hOP%2BChf/Rr/AMGf/D8at/8AMvQB7NRXzj4%2B/aO/bt%2BHfivwR4Q1j9lD4STXHjzxRLoWlSW3x11QpBPHpWoamXl3eGAQnk6dMoKhjvdBjBLL1H/Ccf8ABQv/AKNf%2BDP/AIfjVv8A5l6APZqK8Z/4Tj/goX/0a/8ABn/w/Grf/MvR/wAJx/wUL/6Nf%2BDP/h%2BNW/8AmXoA9morxn/hOP8AgoX/ANGv/Bn/AMPxq3/zL1y%2BrftHft26P8Z9A%2BB1x%2Byh8JG1TxF4X1fXbO5T466p5EcGnXOm28yOT4Y3B2bVICoCkEJJkqQoYA%2BjqK8Z/wCE4/4KF/8ARr/wZ/8AD8at/wDMvR/wnH/BQv8A6Nf%2BDP8A4fjVv/mXoA9morxn/hOP%2BChf/Rr/AMGf/D8at/8AMvR/wnH/AAUL/wCjX/gz/wCH41b/AOZegD2aivnHSf2jv27dY%2BM%2Bv/A63/ZQ%2BEi6p4d8L6Rrt5cv8ddU8iSDUbnUreFEI8Mbi6tpc5YFQAHjwWJYL1H/AAnH/BQv/o1/4M/%2BH41b/wCZegD2aivGf%2BE4/wCChf8A0a/8Gf8Aw/Grf/MvR/wnH/BQv/o1/wCDP/h%2BNW/%2BZegD2aivGf8AhOP%2BChf/AEa/8Gf/AA/Grf8AzL1y/gH9o79u34ieK/G/hDR/2UPhJDceA/FEWharJc/HXVAk88mlafqYeLb4YJKeTqMKksFO9HGMAMwB9HUV4z/wnH/BQv8A6Nf%2BDP8A4fjVv/mXo/4Tj/goX/0a/wDBn/w/Grf/ADL0AezV4z%2By/wD8lv8A2jv%2ByzWP/qFeF6P%2BE4/4KF/9Gv8AwZ/8Pxq3/wAy9W/2Vvhz8afB%2BsfFDx38dNA8L6Tqnj74hRa5Z6V4T8S3OrW9raxaDo%2BmKr3FxZWbNI0mnSuVEW0LIg3Mc4APW6KKKACiiigAooooAKKKKACiiigAooooAKKKKACiiigAooooAKKKKACiiigAr5X/AGnv2tPi58MPjH4s1rwD4d8HyeGPg/4f8P3vjU61pFxNquqW%2Br38qXMFhcR3EaWXkW1nHcZkinFzIUjIh8vzT9UV4z8Z/wBiH4cfG74pH4ma5458VaXFqNrpFr4v8NaNdWqad4pg0u9kvbGK%2BWW3kmCxzTS5%2BzywGWOQxTGWMKgAPZqKKKACiiigD5j8OftK/EyH9v8A8UfB/wCI2seHvCfhtfEFpongyLUfhFrKXXjGAaBBqOIPEbXa6c0sd3c6gBaCF5PLtJgFBZpF%2BnK8r8WfstQeP/jJpHxT8e/G/wAa6vpXh7XY9a0DwBcHTItGsdQjt3gjnDQ2SXsuzzJJFSa6kjEj7tnyIF9UoAKKKKAPF/8AgoL8Xfjh%2Bz9%2ByP40%2BPXwCvfCkeseCdCu9cuoPGGi3N9bXdpa20sz26JbXVsySuyIokLlUBYlH4Fef%2BPP2tPi54L%2BPHi3U/Cnh3whF8PPCHxj8I/D7xlZzaRcHW9V1XXYNFSPUIbtLhYY44P7c0mMxSW8ryJDPiWPagr2H9rH9nGy/a0%2BBGvfs%2B618VfFPhHSfE9lLY65f%2BEF077Xc2UsTxTW26/tLqNEdX5ZEWQFRtdec8XB%2BwD4On%2BItn8RfFXxx8fa6x1nSdc8TaNqEulRWPifXNMSNLHVr2O2sImW4iEFphbZoIGNjbF4mMeSAe90UUUAFeL/ALZPxd%2BOHwStfAPjH4WXvhT%2BxtQ%2BJnhzw94vsfEGi3NzdXNrqus2Omg2csN1CltJGtzLJvkSdSURdnJNe0V5V%2B1d%2By2/7VXhvQvC8/x98b%2BBrfQvElhrqN4Lh0dnu72xvILyzaU6lp94NsVxbxuFjCBuVk3qdoAPOP2ef2lfiZrf7VXi34I/FDV/D3hPTofFOt2/gnwlJ8ItZ0y5162hdJTf2%2BtXF39g1B2Mk0ssVtAX5LsVwxP05Xkuk/soh/jJovxl%2BI/7QHjvxrN4Xu7y78J6F4hGkw2Gj3VzbyWslxEthp9tLK/2eaeFfPklVFnfaASCPWqACiiigDw/9u74ufHj9n74Nav8dfhR4x8C2On%2BFtFuby90XxZ4Zvb%2B58Q3uUWz0yzktr2D7PNcSkW6N5V0zSzxBYWPyt5/8Ef2vvjPrnxL8Ff2t4M8JaR8NPG/xP8AFHw28K%2BGtO0uaPV9Ev8AQIdW3zz3IuGt5oJG8P6miwx28RjVrY%2BZJlgPT/2lf2QYP2kvHngj4gTftA%2BO/CFz4Bu7m90Wx8MRaNPZyXsqCNbyaDU9OvEeeGPzFhkAUxieUj5myKvgP9hr4e%2BA/jLb/F2H4i%2BLtSg07XdT17RPCGpXNl/ZOla3qMbx6hqkCRWqT%2BfOJ7ssrzPCjX1yY4o/M4APa6KKKACvl/8Aa5%2BPH7S/wW%2BImn%2BFNKh8AeNdH8cw61baL8OYvB99JrCWtpod1dyX9xOL14rq2F1Fb20kItYgft8KCYyMiSfUFeHTfsTXEf7R/iv9prRP2q/iXp2r%2BLdNh0650uGDw/PaafZwwNHDbWbXOky3NvEsrvdbFm2vO5dw4O2gBn7CH7Qfjf49/D28uviv4%2B0a%2B8XacLNtf8N2Xwu1fwjeaA89ssogubLV7qe4cFt/l3ACRyKh2htpNe6V5v8AA79m7Tvgz4n8SfEPWPil4p8ceKvFcVjb6x4n8XNYLcvaWYm%2By2qRafa2ttHFG1zcuNsIZmuJCzNkY9IoAKKKKAPjn/goJ%2B3H8VP2MPHP9p65ougeMfCL6NqOt2/hWX4c6nZS26abo19qSSf8JFNdPpk939r00bLFYEuhHMsoG2FpG9e/Zo%2BLvxz1b4qeN/2ev2jrnwpqHifwjpOh61HrXgrSLmwsbmx1QXkaRGC5ubl1liuNOu1L%2BbiRDE2yMkqK3x1/YS8EftOa1dWvx/8Ai3418UeC7mS4kX4ZXkmmw6LFJNYzWTNvt7KO%2BkAjuJmCS3ToHfdt%2BRAvT/s%2BfszaR8A7zXvEV38UPFnjjxH4kNnHq3irxrcWb30ttaRGK1tR9jtreFYog8rDEe9nnld2dnJoA9KooooAK%2BI/2p/2yv2s/g38avEHwo8HeG/DnjXU7DRbjXfDAT4H%2BII5NFA1HTLVDC325x4mkFjqlx539l%2BU8LQlZRGJhHX25Xh%2BvfsW6n4l8en4na1%2B1z8UZtb0%2BC8i8G3hTQAPCq3U0Mk/2SMaTsnZo4Ft916t0yxM4Uq7s5AOq/ZY%2BLD/ABk%2BEcHiy9%2BJmjeKr%2BHUbqy1S%2B0bwZfeHRbXEUrK1rNpuoXE91ZzxjCvHM4fPzbVDAV6NXDfAP4C%2BHvgB4Z1PRtK8U634g1HX9euNb8SeJPEc0DXuq38wRGnlFvFDAmI4oYlSGKONUiQBRgk9zQAUUUUAFFFFABRRRQAUUUUAUfFHiGw8JeGtR8V6qHNrpljNd3IiXLeXGhdsDucKa%2Bc/wBib9pP41%2BP/FOj%2BDPjZ4e8GWY8dfC2y%2BI3hmHwZpVxaDTI7y4Ju9PuzNcSi7mje5tn%2B2IIBO0sxMEe0F/pa7tLW/tZbG9t0mhmjaOaKVQyupGCpB4II4xXkP7M37FfgL9mDVX1fQPiD4t8Sy23hix8M%2BHR4svbWYaBoVm8j2%2Bm2pt7eEtGpk%2BaWczXEgji8yZ/LXAB7FRRRQAVwv7UHjz4i/Cz9mj4ifE74P8AhRde8W%2BHPAur6p4W0NrGa6Go6jb2csttbGGBllmEkqInlxsHbdhSCQa7qs7xbol/4l8Mah4f0vxXqOhXN7aSQ2%2BtaQsDXVi7KQJohcRSxF1PIEkbpkfMrDIIB5d%2BxT8Wp/ih8M76y1b4heH9Z1Pw7qq6deaZonww1Pwc%2BhoLaCSKzuNK1S5nuYXCOJFdvLR4pYtiYG9/Yq88%2BA/7O2k/A688S%2BI7n4ieJPGPiTxfqMN54i8U%2BK3sxd3Rht0t4IhHY21tbRRRxoAqxwpks7MWZmY%2Bh0AFFFFAHy5%2B1R%2B1j8UP2cPi944sviVo3hLxF8L7D9nfxf49ttCt9EuE1V20QaWs9tcXMly9vNFOt9OAgtkKhEy75YV2/wCzP8X/AI%2Bap8XPGX7Ov7Sz%2BErzxR4Y8MeHvEseq%2BCtJubGykstWfUrdbYw3NzcuZYbjSLsGUSBZEeJvLjO5ag%2BMf7Cvh346fHVvjL48%2BO3jmXTZvBWp%2BEb74ewwaL/AGJd6NqS232%2B0kL6a16RO1pA7OLoOpQhGRGZD0n7O/7Luh/s%2B32teI5/ih4t8b%2BIdftbCyv/ABP42ubSS9NhYpItnZj7JbW8flRGe4cEoZHe5ld3dmzQB6fRRRQAV8ifGv8AaX/a28Ga7%2B0B4Et/CvgzxZe%2BAvD/AIU8SfDax0n4f6nfzrHqOq6lCEvLWK8eXUZ4F02OdTbC3JckKvyq1fXdeFy/sUeIYvjp42%2BP%2BhftofFbStW8b6RY6Zc2NlZ%2BGGtNNtrK4uZ7NLYS6K8n7o3l0oMzyl1nIk8wqhUA6v8AZU%2BLc3xl%2BFI8Taj8TtG8U6ja6rc2OrXWj%2BCL/wANmzuIm%2Ba1n0zUbie6tJ0UruSZgxDK21VYV6TXCfAP4B6B8AdC1mx0/wAW654j1XxN4gl1zxP4m8SS27Xuq38kMMHmyC2hhgjCwW9vCqRRRoqQoAuck93QAUUUUAfG37S37Xf7S37PHxmg%2BG2sp8M/Gt9rcEE3hGHTvC17aS%2BC7zUvEOmeHtIm1OV76YXUU7avOC0S2cjixuljDL5hi9x/ZV%2BL/wASPiMPH/w%2B%2BMR0SfxV8NPHjeGtZ1Xw1p01nYan5ml6dq1vcQ28088lvm11S3R42mlxJHJhiCMcLbf8E1fCTXXxDfxD%2B0v8TtZt/iTrx1zWLfUjoXmWepRXEM%2Bn3NtdRaWl0psHt7cWkbzSRRLCgZH5z6x8A/gLofwD8Patptl4v1zxJq3iLXpta8T%2BKPEr2xv9XvpI4ofOmFrBBAuyCC3gRIoo0WOCNQvBJAO6ooooAZc/afs0n2PZ52w%2BV5udu7HGcc4zXxB8Vv2uf20/hp8RNc%2BG1vbeA/GeveGL3w1b6t468EfBXX9Wj8OW%2BrNePe2EulWepT3dzNHDZWN0TFOn7u6haWBAYmk%2B3ruGS4tZbeG6kgeSNlWeIKXjJGAy7gVyOoyCPUGvnv4MfsBeIPgJ8Nrj4afDv9ur4xRR3WrPqc2s3ll4Tn1CW7leWS5nmmfQj9pkneXdJJOJHzGmwoBggHrPwE%2BIdl8Vvg74f%2BIVh8QNG8VJqeniR9f8P6TNYWl3ICVkKWs800tsVdWRoZJHeNlZWO5SB19cl8C/gv4S/Z9%2BF%2BnfCnwVc39xZWEt1cTX2q3Imur67urmW6urqZwqhpZrieaV9qqu6Q7VVcKOtoAKo%2BJ4fElz4b1C38G6nY2WryWUq6XeanYPdW0FwUIjklhjliaaNWwWRZIywBAdSdwvVm%2BMdBv/ABR4Wv8Aw7pfi3UtBuby1eKDWtHEBurFyOJohcRSxF1PIEkbocfMrDIoA%2BHvhv8At2fta/GD4p638EvhZpvw%2BTxnptrrt9J4z8V/C7WtDXVNM0i10WVLGXRLy%2BTUNPle78Q7EmnmePyoZLhIXWdAfsb4BfFrTfj58CfBXx10bTZbOz8a%2BEtN160s5n3PBFeWsdwsbEAZKiQAn1FeLav/AMEyPA%2Bta5ffEW7/AGlPimnxA1ZLy11r4k217pEOrX%2BmXVta202mFE00WcNsUsrRh5FtFKskCyrKHLMfoPwX4P8ADXw88HaT4A8GaTFp%2Bj6HpkGn6TYQ52W1tDGscUa55wqKqj6UAadFFFAHL/GnUfHGjfC3Wtb%2BHPiGx0vVrCzN1Dfah4PvfECJHGQ8oGnWM8FzeSNErqkUMgcuy4Vz8jfFvwl/4KI/H7xJ400PU/G9x4R8CeDNSnnXxB44vPgZ4imttYv4dfutIRLmVb6NPDM8lraWv7jVGklgeVY3zsCV9t/EzwZrvj3wlN4c8N/FLX/Bt5JLG8Wv%2BGYrF7uDawJVVv7a5gYMAVIeJuCcYOCPFbr/AIJzeFNQ8H3Hw21b9pD4m3fhjXNQmv8Ax5oE1xo4i8YXc9411cTX0q6aLiLzSywtHZy2sQhiSNUUbtwB9E0UUUAFFFFABRRRQAUUUUAFFFFABRRRQAUUUUAFFFFABRRRQAUUUUAFFFFABRRRQAUUUUAFFFFABRRRQAUUUUAFFFFABRRRQAUUUUAFFFFABRRRQAUUUUAFFFFABRRRQAUUUUAFFFFABRRRQAUUUUAFFFFABRRRQAUUUUAFFFFABRRRQAUUUUAFFFFABRRRQAUUUUAFFFFABRRRQAUUUUAFFFFABRRRQAUUUUAFFFFABRRRQAUUUUAFFFFABRRRQAUUUUAFFFFABRRRQAUUUUAFFFFABRRRQAUUUUAFFFFABRRRQAUUUUAFFFFABRRRQAUUUUAf/9k%3D\">"
      ]
     },
     "metadata": {},
     "output_type": "display_data"
    }
   ],
   "source": [
    "s.run(tf.global_variables_initializer())\n",
    "\n",
    "BATCH_SIZE = 512\n",
    "EPOCHS = 40\n",
    "\n",
    "# for logging the progress right here in Jupyter (for those who don't have TensorBoard)\n",
    "simpleTrainingCurves = matplotlib_utils.SimpleTrainingCurves(\"cross-entropy\", \"accuracy\")\n",
    "\n",
    "for epoch in range(EPOCHS):  # we finish an epoch when we've looked at all training samples    \n",
    "    batch_losses = []\n",
    "    for batch_start in range(0, X_train_flat.shape[0], BATCH_SIZE):  # data is already shuffled\n",
    "        _, batch_loss = s.run([step, loss], {input_X: X_train_flat[batch_start:batch_start+BATCH_SIZE], \n",
    "                                             input_y: y_train_oh[batch_start:batch_start+BATCH_SIZE]})\n",
    "        # collect batch losses, this is almost free as we need a forward pass for backprop anyway\n",
    "        batch_losses.append(batch_loss)\n",
    "\n",
    "    train_loss = np.mean(batch_losses)\n",
    "    val_loss = s.run(loss, {input_X: X_val_flat, input_y: y_val_oh})  # this part is usually small\n",
    "    train_accuracy = accuracy_score(y_train, s.run(classes, {input_X: X_train_flat}))  # this is slow and usually skipped\n",
    "    valid_accuracy = accuracy_score(y_val, s.run(classes, {input_X: X_val_flat}))  \n",
    "    simpleTrainingCurves.add(train_loss, val_loss, train_accuracy, valid_accuracy)"
   ]
  },
  {
   "cell_type": "code",
   "execution_count": 39,
   "metadata": {},
   "outputs": [
    {
     "data": {
      "text/plain": [
       "1.5403153"
      ]
     },
     "execution_count": 39,
     "metadata": {},
     "output_type": "execute_result"
    }
   ],
   "source": [
    "s.run(loss, {input_X: X_val_flat, input_y: y_val_oh})"
   ]
  },
  {
   "cell_type": "markdown",
   "metadata": {},
   "source": [
    "# Submit a linear model"
   ]
  },
  {
   "cell_type": "code",
   "execution_count": 51,
   "metadata": {
    "collapsed": true
   },
   "outputs": [],
   "source": [
    "## GRADED PART, DO NOT CHANGE!\n",
    "# Testing shapes \n",
    "grader.set_answer(\"9XaAS\", grading_utils.get_tensors_shapes_string([W, b, input_X, input_y, logits, probas, classes]))\n",
    "# Validation loss\n",
    "grader.set_answer(\"vmogZ\", s.run(loss, {input_X: X_val_flat, input_y: y_val_oh}))\n",
    "# Validation accuracy\n",
    "grader.set_answer(\"RMv95\", accuracy_score(y_val, s.run(classes, {input_X: X_val_flat})))"
   ]
  },
  {
   "cell_type": "code",
   "execution_count": 54,
   "metadata": {},
   "outputs": [
    {
     "name": "stdout",
     "output_type": "stream",
     "text": [
      "Submitted to Coursera platform. See results on assignment page!\n"
     ]
    }
   ],
   "source": [
    "# you can make submission with answers so far to check yourself at this stage\n",
    "grader.submit(COURSERA_EMAIL, COURSERA_TOKEN)"
   ]
  },
  {
   "cell_type": "markdown",
   "metadata": {},
   "source": [
    "# MLP with hidden layers"
   ]
  },
  {
   "cell_type": "markdown",
   "metadata": {},
   "source": [
    "Previously we've coded a dense layer with matrix multiplication by hand. \n",
    "But this is not convenient, you have to create a lot of variables and your code becomes a mess. \n",
    "In TensorFlow there's an easier way to make a dense layer:\n",
    "```python\n",
    "hidden1 = tf.layers.dense(inputs, 256, activation=tf.nn.sigmoid)\n",
    "```\n",
    "\n",
    "That will create all the necessary variables automatically.\n",
    "Here you can also choose an activation function (remember that we need it for a hidden layer!).\n",
    "\n",
    "Now define the MLP with 2 hidden layers and restart training with the cell above.\n",
    "\n",
    "You're aiming for ~0.97 validation accuracy here."
   ]
  },
  {
   "cell_type": "code",
   "execution_count": 55,
   "metadata": {
    "collapsed": true
   },
   "outputs": [],
   "source": [
    "# write the code here to get a new `step` operation and then run the cell with training loop above.\n",
    "# name your variables in the same way (e.g. logits, probas, classes, etc) for safety.\n",
    "### YOUR CODE HERE ###\n",
    "\n",
    "#1st layer\n",
    "hidden1 = tf.layers.dense(input_X, 256, activation=tf.nn.sigmoid)\n",
    "#2nd layer\n",
    "logits = tf.layers.dense(hidden1, 10, activation=tf.nn.sigmoid)\n",
    "probas = tf.nn.softmax(logits)\n",
    "classes = tf.argmax(probas, axis=1) \n",
    "\n",
    "# Loss should be a scalar number: average loss over all the objects with tf.reduce_mean().\n",
    "# Use tf.nn.softmax_cross_entropy_with_logits on top of one-hot encoded input_y and logits.\n",
    "# It is identical to calculating cross-entropy on top of probas, but is more numerically friendly (read the docs).\n",
    "loss = tf.reduce_mean(tf.nn.softmax_cross_entropy_with_logits(labels=input_y, logits=logits)) ### YOUR CODE HERE ### cross-entropy loss\n",
    "# Use a default tf.train.AdamOptimizer to get an SGD step\n",
    "step = tf.train.AdamOptimizer().minimize(loss) ### YOUR CODE HERE ### optimizer step that minimizes the loss\n",
    "\n"
   ]
  },
  {
   "cell_type": "markdown",
   "metadata": {},
   "source": [
    "# Submit the MLP with 2 hidden layers\n",
    "Run these cells after training the MLP with 2 hidden layers"
   ]
  },
  {
   "cell_type": "code",
   "execution_count": 57,
   "metadata": {
    "collapsed": true
   },
   "outputs": [],
   "source": [
    "## GRADED PART, DO NOT CHANGE!\n",
    "# Validation loss for MLP\n",
    "grader.set_answer(\"i8bgs\", s.run(loss, {input_X: X_val_flat, input_y: y_val_oh}))\n",
    "# Validation accuracy for MLP\n",
    "grader.set_answer(\"rE763\", accuracy_score(y_val, s.run(classes, {input_X: X_val_flat})))"
   ]
  },
  {
   "cell_type": "code",
   "execution_count": 58,
   "metadata": {},
   "outputs": [
    {
     "name": "stdout",
     "output_type": "stream",
     "text": [
      "Submitted to Coursera platform. See results on assignment page!\n"
     ]
    }
   ],
   "source": [
    "# you can make submission with answers so far to check yourself at this stage\n",
    "grader.submit(COURSERA_EMAIL, COURSERA_TOKEN)"
   ]
  },
  {
   "cell_type": "code",
   "execution_count": null,
   "metadata": {
    "collapsed": true
   },
   "outputs": [],
   "source": []
  }
 ],
 "metadata": {
  "kernelspec": {
   "display_name": "Python 3",
   "language": "python",
   "name": "python3"
  },
  "language_info": {
   "codemirror_mode": {
    "name": "ipython",
    "version": 3
   },
   "file_extension": ".py",
   "mimetype": "text/x-python",
   "name": "python",
   "nbconvert_exporter": "python",
   "pygments_lexer": "ipython3",
   "version": "3.6.2"
  }
 },
 "nbformat": 4,
 "nbformat_minor": 1
}
