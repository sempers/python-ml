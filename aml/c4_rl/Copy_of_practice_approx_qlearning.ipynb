{
  "nbformat": 4,
  "nbformat_minor": 0,
  "metadata": {
    "colab": {
      "name": "Copy of practice_approx_qlearning.ipynb",
      "provenance": []
    },
    "kernelspec": {
      "name": "python3",
      "display_name": "Python 3"
    }
  },
  "cells": [
    {
      "cell_type": "markdown",
      "metadata": {
        "id": "LJNAufp_h764"
      },
      "source": [
        "# Approximate q-learning\n",
        "\n",
        "In this notebook you will teach a __tensorflow__ neural network to do Q-learning."
      ]
    },
    {
      "cell_type": "markdown",
      "metadata": {
        "id": "Nl8xLLumh768"
      },
      "source": [
        "__Frameworks__ - we'll accept this homework in any deep learning framework. This particular notebook was designed for tensorflow, but you will find it easy to adapt it to almost any python-based deep learning framework."
      ]
    },
    {
      "cell_type": "code",
      "metadata": {
        "id": "aM9KFAo4h768",
        "colab": {
          "base_uri": "https://localhost:8080/"
        },
        "outputId": "c30f7914-a5e6-4a79-e64f-4d2e4aeaf190"
      },
      "source": [
        "import sys, os\n",
        "if 'google.colab' in sys.modules:\n",
        "    %tensorflow_version 1.x\n",
        "    \n",
        "    if not os.path.exists('.setup_complete'):\n",
        "        !wget -q https://raw.githubusercontent.com/yandexdataschool/Practical_RL/master/setup_colab.sh -O- | bash\n",
        "\n",
        "        !wget -q https://raw.githubusercontent.com/yandexdataschool/Practical_RL/coursera/grading.py -O ../grading.py\n",
        "        !wget -q https://raw.githubusercontent.com/yandexdataschool/Practical_RL/coursera/week4_approx/submit.py\n",
        "\n",
        "        !touch .setup_complete\n",
        "\n",
        "# This code creates a virtual display to draw game images on.\n",
        "# It will have no effect if your machine has a monitor.\n",
        "if type(os.environ.get(\"DISPLAY\")) is not str or len(os.environ.get(\"DISPLAY\")) == 0:\n",
        "    !bash ../xvfb start\n",
        "    os.environ['DISPLAY'] = ':1'"
      ],
      "execution_count": 1,
      "outputs": [
        {
          "output_type": "stream",
          "text": [
            "TensorFlow 1.x selected.\n",
            "Selecting previously unselected package xvfb.\n",
            "(Reading database ... 146374 files and directories currently installed.)\n",
            "Preparing to unpack .../xvfb_2%3a1.19.6-1ubuntu4.8_amd64.deb ...\n",
            "Unpacking xvfb (2:1.19.6-1ubuntu4.8) ...\n",
            "Setting up xvfb (2:1.19.6-1ubuntu4.8) ...\n",
            "Processing triggers for man-db (2.8.3-2ubuntu0.1) ...\n",
            "Starting virtual X frame buffer: Xvfb.\n"
          ],
          "name": "stdout"
        }
      ]
    },
    {
      "cell_type": "code",
      "metadata": {
        "id": "v6DpOKQMh769"
      },
      "source": [
        "import gym\n",
        "import numpy as np\n",
        "import pandas as pd\n",
        "import matplotlib.pyplot as plt\n",
        "%matplotlib inline"
      ],
      "execution_count": 2,
      "outputs": []
    },
    {
      "cell_type": "code",
      "metadata": {
        "id": "F2ddBQFbh769",
        "colab": {
          "base_uri": "https://localhost:8080/",
          "height": 286
        },
        "outputId": "480c2e61-d4e8-4922-fb08-a69e4511d88d"
      },
      "source": [
        "env = gym.make(\"CartPole-v0\").env\n",
        "env.reset()\n",
        "n_actions = env.action_space.n\n",
        "state_dim = env.observation_space.shape\n",
        "\n",
        "plt.imshow(env.render(\"rgb_array\"))"
      ],
      "execution_count": 3,
      "outputs": [
        {
          "output_type": "execute_result",
          "data": {
            "text/plain": [
              "<matplotlib.image.AxesImage at 0x7fea1d267b70>"
            ]
          },
          "metadata": {
            "tags": []
          },
          "execution_count": 3
        },
        {
          "output_type": "display_data",
          "data": {
            "image/png": "[encoded data removed]",
            "text/plain": [
              "<Figure size 432x288 with 1 Axes>"
            ]
          },
          "metadata": {
            "tags": [],
            "needs_background": "light"
          }
        }
      ]
    },
    {
      "cell_type": "markdown",
      "metadata": {
        "id": "GgyaLUtEh769"
      },
      "source": [
        "# Approximate (deep) Q-learning: building the network\n",
        "\n",
        "To train a neural network policy one must have a neural network policy. Let's build it.\n",
        "\n",
        "\n",
        "Since we're working with a pre-extracted features (cart positions, angles and velocities), we don't need a complicated network yet. In fact, let's build something like this for starters:\n",
        "\n",
        "![img](https://raw.githubusercontent.com/yandexdataschool/Practical_RL/master/yet_another_week/_resource/qlearning_scheme.png)\n",
        "\n",
        "For your first run, please only use linear layers (`L.Dense`) and activations. Stuff like batch normalization or dropout may ruin everything if used haphazardly. \n",
        "\n",
        "Also please avoid using nonlinearities like sigmoid & tanh: since agent's observations are not normalized, sigmoids might be saturated at initialization. Instead, use non-saturating nonlinearities like ReLU.\n",
        "\n",
        "Ideally you should start small with maybe 1-2 hidden layers with < 200 neurons and then increase network size if agent doesn't beat the target score."
      ]
    },
    {
      "cell_type": "code",
      "metadata": {
        "id": "A_WIp6h9h76-",
        "colab": {
          "base_uri": "https://localhost:8080/"
        },
        "outputId": "54f32633-a567-4746-e37d-f703a8b63be5"
      },
      "source": [
        "import tensorflow as tf\n",
        "import keras\n",
        "import keras.layers as L\n",
        "tf.reset_default_graph()\n",
        "sess = tf.InteractiveSession()\n",
        "keras.backend.set_session(sess)"
      ],
      "execution_count": 4,
      "outputs": [
        {
          "output_type": "stream",
          "text": [
            "Using TensorFlow backend.\n"
          ],
          "name": "stderr"
        }
      ]
    },
    {
      "cell_type": "code",
      "metadata": {
        "id": "Fcho7gduh76-"
      },
      "source": [
        "assert not tf.test.is_gpu_available(), \\\n",
        "    \"Please complete this assignment without a GPU. If you use a GPU, the code \" \\\n",
        "    \"will run a lot slower due to a lot of copying to and from GPU memory. \" \\\n",
        "    \"To disable the GPU in Colab, go to Runtime → Change runtime type → None.\""
      ],
      "execution_count": 5,
      "outputs": []
    },
    {
      "cell_type": "code",
      "metadata": {
        "id": "N4QIGMKeh76-",
        "colab": {
          "base_uri": "https://localhost:8080/"
        },
        "outputId": "18e15d34-3963-4428-86bb-b0645594ceb1"
      },
      "source": [
        "network = keras.models.Sequential()\n",
        "network.add(L.InputLayer(state_dim))\n",
        "network.add(L.Dense(200))\n",
        "network.add(L.LeakyReLU(0.1))\n",
        "network.add(L.Dense(n_actions))"
      ],
      "execution_count": 7,
      "outputs": [
        {
          "output_type": "stream",
          "text": [
            "WARNING:tensorflow:From /tensorflow-1.15.2/python3.6/tensorflow_core/python/ops/resource_variable_ops.py:1630: calling BaseResourceVariable.__init__ (from tensorflow.python.ops.resource_variable_ops) with constraint is deprecated and will be removed in a future version.\n",
            "Instructions for updating:\n",
            "If using Keras pass *_constraint arguments to layers.\n"
          ],
          "name": "stdout"
        }
      ]
    },
    {
      "cell_type": "code",
      "metadata": {
        "id": "xM6AQ6aEh76-"
      },
      "source": [
        "def get_action(state, epsilon=0):\n",
        "    \"\"\"\n",
        "    sample actions with epsilon-greedy policy\n",
        "    recap: with p = epsilon pick random action, else pick action with highest Q(s,a)\n",
        "    \"\"\"\n",
        "    \n",
        "    q_values = network.predict(state[None])[0]\n",
        "    \n",
        "    exploration = np.random.random()\n",
        "    if exploration<epsilon:\n",
        "        action = np.random.choice(n_actions, 1)[0]\n",
        "    else:\n",
        "        action = np.argmax(q_values)\n",
        "    return action"
      ],
      "execution_count": 6,
      "outputs": []
    },
    {
      "cell_type": "code",
      "metadata": {
        "id": "xUpuSIjfh76_",
        "colab": {
          "base_uri": "https://localhost:8080/"
        },
        "outputId": "b94bf07b-65bf-4a88-f887-c9acbd15826d"
      },
      "source": [
        "assert network.output_shape == (None, n_actions), \"please make sure your model maps state s -> [Q(s,a0), ..., Q(s, a_last)]\"\n",
        "assert network.layers[-1].activation == keras.activations.linear, \"please make sure you predict q-values without nonlinearity\"\n",
        "\n",
        "# test epsilon-greedy exploration\n",
        "s = env.reset()\n",
        "assert np.shape(get_action(s)) == (), \"please return just one action (integer)\"\n",
        "for eps in [0., 0.1, 0.5, 1.0]:\n",
        "    state_frequencies = np.bincount([get_action(s, epsilon=eps) for i in range(10000)], minlength=n_actions)\n",
        "    best_action = state_frequencies.argmax()\n",
        "    assert abs(state_frequencies[best_action] - 10000 * (1 - eps + eps / n_actions)) < 200\n",
        "    for other_action in range(n_actions):\n",
        "        if other_action != best_action:\n",
        "            assert abs(state_frequencies[other_action] - 10000 * (eps / n_actions)) < 200\n",
        "    print('e=%.1f tests passed'%eps)"
      ],
      "execution_count": 8,
      "outputs": [
        {
          "output_type": "stream",
          "text": [
            "WARNING:tensorflow:From /tensorflow-1.15.2/python3.6/keras/backend/tensorflow_backend.py:422: The name tf.global_variables is deprecated. Please use tf.compat.v1.global_variables instead.\n",
            "\n",
            "e=0.0 tests passed\n",
            "e=0.1 tests passed\n",
            "e=0.5 tests passed\n",
            "e=1.0 tests passed\n"
          ],
          "name": "stdout"
        }
      ]
    },
    {
      "cell_type": "markdown",
      "metadata": {
        "id": "7vDBjtZEh76_"
      },
      "source": [
        "### Q-learning via gradient descent\n",
        "\n",
        "We shall now train our agent's Q-function by minimizing the TD loss:\n",
        "$$ L = { 1 \\over N} \\sum_i (Q_{\\theta}(s,a) - [r(s,a) + \\gamma \\cdot max_{a'} Q_{-}(s', a')]) ^2 $$\n",
        "\n",
        "\n",
        "Where\n",
        "* $s, a, r, s'$ are current state, action, reward and next state respectively\n",
        "* $\\gamma$ is a discount factor defined two cells above.\n",
        "\n",
        "The tricky part is with  $Q_{-}(s',a')$. From an engineering standpoint, it's the same as $Q_{\\theta}$ - the output of your neural network policy. However, when doing gradient descent, __we won't propagate gradients through it__ to make training more stable (see lectures).\n",
        "\n",
        "To do so, we shall use `tf.stop_gradient` function which basically says \"consider this thing constant when doingbackprop\"."
      ]
    },
    {
      "cell_type": "code",
      "metadata": {
        "id": "3fLTqj7Fh76_"
      },
      "source": [
        "# Create placeholders for the <s, a, r, s'> tuple and a special indicator for game end (is_done = True)\n",
        "states_ph = keras.backend.placeholder(dtype='float32', shape=(None,) + state_dim)\n",
        "actions_ph = keras.backend.placeholder(dtype='int32', shape=[None])\n",
        "rewards_ph = keras.backend.placeholder(dtype='float32', shape=[None])\n",
        "next_states_ph = keras.backend.placeholder(dtype='float32', shape=(None,) + state_dim)\n",
        "is_done_ph = keras.backend.placeholder(dtype='bool', shape=[None])"
      ],
      "execution_count": 9,
      "outputs": []
    },
    {
      "cell_type": "code",
      "metadata": {
        "id": "5BI6rGM9h76_"
      },
      "source": [
        "#get q-values for all actions in current states\n",
        "predicted_qvalues = network(states_ph)\n",
        "\n",
        "#select q-values for chosen actions\n",
        "predicted_qvalues_for_actions = tf.reduce_sum(predicted_qvalues * tf.one_hot(actions_ph, n_actions), axis=1)"
      ],
      "execution_count": 10,
      "outputs": []
    },
    {
      "cell_type": "code",
      "metadata": {
        "id": "y2ECGXHSh76_",
        "colab": {
          "base_uri": "https://localhost:8080/"
        },
        "outputId": "d590c377-c325-4fa6-bb13-0cfec1bf96c6"
      },
      "source": [
        "gamma = 0.99\n",
        "\n",
        "# compute q-values for all actions in next states\n",
        "# predicted_next_qvalues = <YOUR CODE - apply network to get q-values for next_states_ph>\n",
        "predicted_next_qvalues = network(next_states_ph)\n",
        "\n",
        "# compute V*(next_states) using predicted next q-values\n",
        "next_state_values = tf.reduce_max(predicted_next_qvalues, axis=1)\n",
        "\n",
        "# compute \"target q-values\" for loss - it's what's inside square parentheses in the above formula.\n",
        "target_qvalues_for_actions = rewards_ph + gamma*next_state_values\n",
        "\n",
        "# at the last state we shall use simplified formula: Q(s,a) = r(s,a) since s' doesn't exist\n",
        "target_qvalues_for_actions = tf.where(is_done_ph, rewards_ph, target_qvalues_for_actions)"
      ],
      "execution_count": 11,
      "outputs": [
        {
          "output_type": "stream",
          "text": [
            "WARNING:tensorflow:From <ipython-input-11-da5e21f985dc>:14: where (from tensorflow.python.ops.array_ops) is deprecated and will be removed in a future version.\n",
            "Instructions for updating:\n",
            "Use tf.where in 2.0, which has the same broadcast rule as np.where\n"
          ],
          "name": "stdout"
        }
      ]
    },
    {
      "cell_type": "code",
      "metadata": {
        "id": "QwAWivkOh77A"
      },
      "source": [
        "#mean squared error loss to minimize\n",
        "loss = (predicted_qvalues_for_actions - tf.stop_gradient(target_qvalues_for_actions)) ** 2\n",
        "loss = tf.reduce_mean(loss)\n",
        "\n",
        "# training function that resembles agent.update(state, action, reward, next_state) from tabular agent\n",
        "train_step = tf.train.AdamOptimizer(1e-4).minimize(loss)"
      ],
      "execution_count": 12,
      "outputs": []
    },
    {
      "cell_type": "code",
      "metadata": {
        "id": "IYkMf0UZh77A"
      },
      "source": [
        "assert tf.gradients(loss, [predicted_qvalues_for_actions])[0] is not None, \"make sure you update q-values for chosen actions and not just all actions\"\n",
        "assert tf.gradients(loss, [predicted_next_qvalues])[0] is None, \"make sure you don't propagate gradient w.r.t. Q_(s',a')\"\n",
        "assert predicted_next_qvalues.shape.ndims == 2, \"make sure you predicted q-values for all actions in next state\"\n",
        "assert next_state_values.shape.ndims == 1, \"make sure you computed V(s') as maximum over just the actions axis and not all axes\"\n",
        "assert target_qvalues_for_actions.shape.ndims == 1, \"there's something wrong with target q-values, they must be a vector\""
      ],
      "execution_count": 13,
      "outputs": []
    },
    {
      "cell_type": "markdown",
      "metadata": {
        "id": "lLlXt3nTh77A"
      },
      "source": [
        "### Playing the game"
      ]
    },
    {
      "cell_type": "code",
      "metadata": {
        "id": "EbLn4rslh77A"
      },
      "source": [
        "sess.run(tf.global_variables_initializer())"
      ],
      "execution_count": 14,
      "outputs": []
    },
    {
      "cell_type": "code",
      "metadata": {
        "id": "Cr_PYOXYh77A"
      },
      "source": [
        "def generate_session(env, t_max=1000, epsilon=0, train=False):\n",
        "    \"\"\"play env with approximate q-learning agent and train it at the same time\"\"\"\n",
        "    total_reward = 0\n",
        "    s = env.reset()\n",
        "    \n",
        "    for t in range(t_max):\n",
        "        a = get_action(s, epsilon=epsilon)       \n",
        "        next_s, r, done, _ = env.step(a)\n",
        "        \n",
        "        if train:\n",
        "            sess.run(train_step,{\n",
        "                states_ph: [s], actions_ph: [a], rewards_ph: [r], \n",
        "                next_states_ph: [next_s], is_done_ph: [done]\n",
        "            })\n",
        "\n",
        "        total_reward += r\n",
        "        s = next_s\n",
        "        if done:\n",
        "            break\n",
        "            \n",
        "    return total_reward"
      ],
      "execution_count": 15,
      "outputs": []
    },
    {
      "cell_type": "code",
      "metadata": {
        "id": "j95F3QDIh77B"
      },
      "source": [
        "epsilon = 0.5"
      ],
      "execution_count": 16,
      "outputs": []
    },
    {
      "cell_type": "code",
      "metadata": {
        "id": "SWZlWcluh77B",
        "colab": {
          "base_uri": "https://localhost:8080/"
        },
        "outputId": "26238913-f807-4791-ff00-f307d475de96"
      },
      "source": [
        "for i in range(1000):\n",
        "    session_rewards = [generate_session(env, epsilon=epsilon, train=True) for _ in range(100)]\n",
        "    print(\"epoch #{}\\tmean reward = {:.3f}\\tepsilon = {:.3f}\".format(i, np.mean(session_rewards), epsilon))\n",
        "    \n",
        "    epsilon *= 0.99\n",
        "    assert epsilon >= 1e-4, \"Make sure epsilon is always nonzero during training\"\n",
        "    \n",
        "    if np.mean(session_rewards) > 300:\n",
        "        print(\"You Win!\")\n",
        "        break"
      ],
      "execution_count": null,
      "outputs": [
        {
          "output_type": "stream",
          "text": [
            "epoch #0\tmean reward = 13.370\tepsilon = 0.500\n",
            "epoch #1\tmean reward = 13.420\tepsilon = 0.495\n",
            "epoch #2\tmean reward = 13.830\tepsilon = 0.490\n",
            "epoch #3\tmean reward = 13.870\tepsilon = 0.485\n",
            "epoch #4\tmean reward = 13.760\tepsilon = 0.480\n",
            "epoch #5\tmean reward = 13.150\tepsilon = 0.475\n",
            "epoch #6\tmean reward = 13.370\tepsilon = 0.471\n",
            "epoch #7\tmean reward = 13.280\tepsilon = 0.466\n",
            "epoch #8\tmean reward = 15.790\tepsilon = 0.461\n",
            "epoch #9\tmean reward = 25.680\tepsilon = 0.457\n",
            "epoch #10\tmean reward = 20.480\tepsilon = 0.452\n",
            "epoch #11\tmean reward = 20.330\tepsilon = 0.448\n",
            "epoch #12\tmean reward = 23.120\tepsilon = 0.443\n",
            "epoch #13\tmean reward = 31.790\tepsilon = 0.439\n",
            "epoch #14\tmean reward = 20.090\tepsilon = 0.434\n",
            "epoch #15\tmean reward = 16.580\tepsilon = 0.430\n",
            "epoch #16\tmean reward = 20.760\tepsilon = 0.426\n",
            "epoch #17\tmean reward = 12.730\tepsilon = 0.421\n",
            "epoch #18\tmean reward = 20.770\tepsilon = 0.417\n",
            "epoch #19\tmean reward = 13.660\tepsilon = 0.413\n",
            "epoch #20\tmean reward = 16.560\tepsilon = 0.409\n",
            "epoch #21\tmean reward = 12.370\tepsilon = 0.405\n",
            "epoch #22\tmean reward = 18.630\tepsilon = 0.401\n",
            "epoch #23\tmean reward = 13.480\tepsilon = 0.397\n",
            "epoch #24\tmean reward = 17.250\tepsilon = 0.393\n",
            "epoch #25\tmean reward = 26.990\tepsilon = 0.389\n",
            "epoch #26\tmean reward = 35.710\tepsilon = 0.385\n",
            "epoch #27\tmean reward = 21.660\tepsilon = 0.381\n",
            "epoch #28\tmean reward = 32.410\tepsilon = 0.377\n",
            "epoch #29\tmean reward = 32.380\tepsilon = 0.374\n",
            "epoch #30\tmean reward = 38.720\tepsilon = 0.370\n",
            "epoch #31\tmean reward = 39.380\tepsilon = 0.366\n",
            "epoch #32\tmean reward = 46.320\tepsilon = 0.362\n",
            "epoch #33\tmean reward = 51.390\tepsilon = 0.359\n",
            "epoch #34\tmean reward = 55.060\tepsilon = 0.355\n",
            "epoch #35\tmean reward = 44.880\tepsilon = 0.352\n",
            "epoch #36\tmean reward = 25.300\tepsilon = 0.348\n",
            "epoch #37\tmean reward = 51.260\tepsilon = 0.345\n",
            "epoch #38\tmean reward = 65.090\tepsilon = 0.341\n",
            "epoch #39\tmean reward = 65.680\tepsilon = 0.338\n",
            "epoch #40\tmean reward = 89.010\tepsilon = 0.334\n",
            "epoch #41\tmean reward = 51.610\tepsilon = 0.331\n",
            "epoch #42\tmean reward = 54.050\tepsilon = 0.328\n",
            "epoch #43\tmean reward = 69.850\tepsilon = 0.325\n",
            "epoch #44\tmean reward = 70.460\tepsilon = 0.321\n",
            "epoch #45\tmean reward = 95.810\tepsilon = 0.318\n",
            "epoch #46\tmean reward = 71.340\tepsilon = 0.315\n",
            "epoch #47\tmean reward = 82.320\tepsilon = 0.312\n",
            "epoch #48\tmean reward = 95.710\tepsilon = 0.309\n",
            "epoch #49\tmean reward = 140.210\tepsilon = 0.306\n",
            "epoch #50\tmean reward = 149.950\tepsilon = 0.303\n",
            "epoch #51\tmean reward = 30.350\tepsilon = 0.299\n",
            "epoch #52\tmean reward = 34.890\tepsilon = 0.296\n",
            "epoch #53\tmean reward = 32.130\tepsilon = 0.294\n",
            "epoch #54\tmean reward = 30.380\tepsilon = 0.291\n",
            "epoch #55\tmean reward = 32.650\tepsilon = 0.288\n",
            "epoch #56\tmean reward = 39.230\tepsilon = 0.285\n",
            "epoch #57\tmean reward = 168.700\tepsilon = 0.282\n",
            "epoch #58\tmean reward = 202.860\tepsilon = 0.279\n",
            "epoch #59\tmean reward = 179.070\tepsilon = 0.276\n",
            "epoch #60\tmean reward = 23.240\tepsilon = 0.274\n",
            "epoch #61\tmean reward = 12.050\tepsilon = 0.271\n",
            "epoch #62\tmean reward = 26.660\tepsilon = 0.268\n",
            "epoch #63\tmean reward = 11.160\tepsilon = 0.265\n",
            "epoch #64\tmean reward = 24.390\tepsilon = 0.263\n",
            "epoch #65\tmean reward = 11.100\tepsilon = 0.260\n",
            "epoch #66\tmean reward = 34.540\tepsilon = 0.258\n",
            "epoch #67\tmean reward = 104.350\tepsilon = 0.255\n",
            "epoch #68\tmean reward = 92.570\tepsilon = 0.252\n",
            "epoch #69\tmean reward = 158.420\tepsilon = 0.250\n",
            "epoch #70\tmean reward = 136.410\tepsilon = 0.247\n"
          ],
          "name": "stdout"
        }
      ]
    },
    {
      "cell_type": "markdown",
      "metadata": {
        "id": "s4njoVCuh77B"
      },
      "source": [
        "### How to interpret results\n",
        "\n",
        "\n",
        "Welcome to the f.. world of deep f...n reinforcement learning. Don't expect agent's reward to smoothly go up. Hope for it to go increase eventually. If it deems you worthy.\n",
        "\n",
        "Seriously though,\n",
        "* __ mean reward__ is the average reward per game. For a correct implementation it may stay low for some 10 epochs, then start growing while oscilating insanely and converges by ~50-100 steps depending on the network architecture. \n",
        "* If it never reaches target score by the end of for loop, try increasing the number of hidden neurons or look at the epsilon.\n",
        "* __ epsilon__ - agent's willingness to explore. If you see that agent's already at < 0.01 epsilon before it's is at least 200, just reset it back to 0.1 - 0.5."
      ]
    },
    {
      "cell_type": "markdown",
      "metadata": {
        "id": "IOXC9krnh77C"
      },
      "source": [
        "### Record videos\n",
        "\n",
        "As usual, we now use `gym.wrappers.Monitor` to record a video of our agent playing the game. Unlike our previous attempts with state binarization, this time we expect our agent to act ~~(or fail)~~ more smoothly since there's no more binarization error at play.\n",
        "\n",
        "As you already did with tabular q-learning, we set epsilon=0 for final evaluation to prevent agent from exploring himself to death."
      ]
    },
    {
      "cell_type": "code",
      "metadata": {
        "id": "THmgW_gth77C"
      },
      "source": [
        "# Record sessions\n",
        "\n",
        "import gym.wrappers\n",
        "\n",
        "with gym.wrappers.Monitor(gym.make(\"CartPole-v0\"), directory=\"videos\", force=True) as env_monitor:\n",
        "    sessions = [generate_session(env_monitor, epsilon=0, train=False) for _ in range(100)]"
      ],
      "execution_count": null,
      "outputs": []
    },
    {
      "cell_type": "code",
      "metadata": {
        "id": "LnX0ZQ4Lh77C"
      },
      "source": [
        "# Show video. This may not work in some setups. If it doesn't\n",
        "# work for you, you can download the videos and view them locally.\n",
        "\n",
        "from pathlib import Path\n",
        "from IPython.display import HTML\n",
        "\n",
        "video_names = sorted([s for s in Path('videos').iterdir() if s.suffix == '.mp4'])\n",
        "\n",
        "HTML(\"\"\"\n",
        "<video width=\"640\" height=\"480\" controls>\n",
        "  <source src=\"{}\" type=\"video/mp4\">\n",
        "</video>\n",
        "\"\"\".format(video_names[-1]))  # You can also try other indices"
      ],
      "execution_count": null,
      "outputs": []
    },
    {
      "cell_type": "code",
      "metadata": {
        "id": "EIedn0Pfh77D"
      },
      "source": [
        ""
      ],
      "execution_count": null,
      "outputs": []
    },
    {
      "cell_type": "markdown",
      "metadata": {
        "id": "YYxi7aS7h77D"
      },
      "source": [
        "---"
      ]
    },
    {
      "cell_type": "markdown",
      "metadata": {
        "id": "GBq3vBjfh77D"
      },
      "source": [
        "### Submit to coursera"
      ]
    },
    {
      "cell_type": "code",
      "metadata": {
        "id": "bUerfvDih77D"
      },
      "source": [
        "from submit import submit_cartpole\n",
        "submit_cartpole(generate_session, 'your.email@example.com', 'YourAssignmentToken')"
      ],
      "execution_count": null,
      "outputs": []
    }
  ]
}