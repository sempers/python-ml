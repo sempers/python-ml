{
 "cells": [
  {
   "cell_type": "code",
   "execution_count": 26,
   "metadata": {},
   "outputs": [
    {
     "data": {
      "text/plain": [
       "(3608, 3665)"
      ]
     },
     "execution_count": 26,
     "metadata": {},
     "output_type": "execute_result"
    }
   ],
   "source": [
    "#считаем частоты  по обучающей выборке\n",
    "from collections import Counter\n",
    "import math\n",
    "\n",
    "#парсим выборки\n",
    "def parseFile(name):\n",
    "    f = open(name, \"r\")\n",
    "    data = []\n",
    "    vCounter = Counter()\n",
    "    bCounter = Counter()\n",
    "    for s in f.readlines():\n",
    "        vb = s.rstrip().split(\";\")\n",
    "        v = vb[0].split(\",\")\n",
    "        b = vb[1].split(\",\")\n",
    "        vCounter.update(v)\n",
    "        if len(b)==1 and b[0] == '':\n",
    "            continue\n",
    "        bCounter.update(b)\n",
    "        data.append((v, b))\n",
    "    return data, dict(vCounter.most_common()), dict(bCounter.most_common())\n",
    "    \n",
    "train, train_vDict, train_bDict = parseFile(\"coursera_sessions_train.txt\")\n",
    "test, _, _ = parseFile(\"coursera_sessions_test.txt\")\n",
    "\n",
    "len(train), len(test)"
   ]
  },
  {
   "cell_type": "code",
   "execution_count": 31,
   "metadata": {},
   "outputs": [],
   "source": [
    "#процедурки\n",
    "def freq_by_dict(i, dct):\n",
    "    if str(i) in dct:\n",
    "        return dct[str(i)]\n",
    "    else:\n",
    "        return 0\n",
    "\n",
    "def range_by_freq(arr, dct):\n",
    "    arr_ = []\n",
    "    for i in range(len(arr)):\n",
    "        if not arr[i] in arr_:\n",
    "            arr_.append(arr[i])\n",
    "    return sorted(arr_, key=lambda i: -freq_by_dict(i, dct))\n",
    "\n",
    "def crossing(v, b):\n",
    "    c = 0\n",
    "    for i in range(min(5, len(v))):\n",
    "        if v[i] in b:\n",
    "            c += 1\n",
    "    return c\n",
    "\n",
    "def recall_1(row, dct):\n",
    "    v, b = range_by_freq(row[0], dct), row[1]\n",
    "    if v[0] in b:\n",
    "        return 1/len(b)\n",
    "    else:\n",
    "        return 0\n",
    "    \n",
    "def precision_1(row, dct):\n",
    "    v, b = range_by_freq(row[0], dct), row[1]\n",
    "    return 1 if v[0] in b else 0\n",
    "    \n",
    "def recall_5(row, dct):\n",
    "    v, b = range_by_freq(row[0], dct), row[1]\n",
    "    return crossing(v, b)/len(b)\n",
    "    \n",
    "def precision_5(row, dct):\n",
    "    v, b = range_by_freq(row[0], dct), row[1]\n",
    "    return crossing(v, b)/5"
   ]
  },
  {
   "cell_type": "code",
   "execution_count": 32,
   "metadata": {},
   "outputs": [
    {
     "data": {
      "text/plain": [
       "(0.44, 0.51, 0.82, 0.21)"
      ]
     },
     "execution_count": 32,
     "metadata": {},
     "output_type": "execute_result"
    }
   ],
   "source": [
    "#Вопрос 1\n",
    "import numpy as np\n",
    "\n",
    "avg_recall_1 = np.mean([recall_1(row, train_vDict) for row in train])\n",
    "avg_precision_1 = np.mean([precision_1(row, train_vDict) for row in train])\n",
    "avg_recall_5 = np.mean([recall_5(row, train_vDict) for row in train])\n",
    "avg_precision_5 = np.mean([precision_5(row, train_vDict) for row in train])\n",
    "    \n",
    "round(avg_recall_1, 2), round(avg_precision_1, 2), round(avg_recall_5, 2), round(avg_precision_5, 2)"
   ]
  },
  {
   "cell_type": "code",
   "execution_count": 36,
   "metadata": {},
   "outputs": [
    {
     "data": {
      "text/plain": [
       "(0.42, 0.48, 0.8, 0.2)"
      ]
     },
     "execution_count": 36,
     "metadata": {},
     "output_type": "execute_result"
    }
   ],
   "source": [
    "#Вопрос 2\n",
    "\n",
    "avg_recall_1 = np.mean([recall_1(row, train_vDict) for row in test])\n",
    "avg_precision_1 = np.mean([precision_1(row, train_vDict) for row in test])\n",
    "avg_recall_5 = np.mean([recall_5(row, train_vDict) for row in test])\n",
    "avg_precision_5 = np.mean([precision_5(row, train_vDict) for row in test])\n",
    "\n",
    "round(avg_recall_1, 2), round(avg_precision_1, 2), round(avg_recall_5, 2), round(avg_precision_5, 2)"
   ]
  },
  {
   "cell_type": "code",
   "execution_count": 37,
   "metadata": {},
   "outputs": [
    {
     "data": {
      "text/plain": [
       "(0.69, 0.8, 0.93, 0.25)"
      ]
     },
     "execution_count": 37,
     "metadata": {},
     "output_type": "execute_result"
    }
   ],
   "source": [
    "#Вопрос 3\n",
    "\n",
    "avg_recall_1 = np.mean([recall_1(row, train_bDict) for row in train])\n",
    "avg_precision_1 = np.mean([precision_1(row, train_bDict) for row in train])\n",
    "avg_recall_5 = np.mean([recall_5(row, train_bDict) for row in train])\n",
    "avg_precision_5 = np.mean([precision_5(row, train_bDict) for row in train])\n",
    "\n",
    "round(avg_recall_1, 2), round(avg_precision_1, 2), round(avg_recall_5, 2), round(avg_precision_5, 2)"
   ]
  },
  {
   "cell_type": "code",
   "execution_count": 38,
   "metadata": {},
   "outputs": [
    {
     "data": {
      "text/plain": [
       "(0.46, 0.53, 0.82, 0.21)"
      ]
     },
     "execution_count": 38,
     "metadata": {},
     "output_type": "execute_result"
    }
   ],
   "source": [
    "#Вопрос 4\n",
    "\n",
    "avg_recall_1 = np.mean([recall_1(row, train_bDict) for row in test])\n",
    "avg_precision_1 = np.mean([precision_1(row, train_bDict) for row in test])\n",
    "avg_recall_5 = np.mean([recall_5(row, train_bDict) for row in test])\n",
    "avg_precision_5 = np.mean([precision_5(row, train_bDict) for row in test])\n",
    "\n",
    "round(avg_recall_1, 2), round(avg_precision_1, 2), round(avg_recall_5, 2), round(avg_precision_5, 2)"
   ]
  }
 ],
 "metadata": {
  "kernelspec": {
   "display_name": "Python 3",
   "language": "python",
   "name": "python3"
  },
  "language_info": {
   "codemirror_mode": {
    "name": "ipython",
    "version": 3
   },
   "file_extension": ".py",
   "mimetype": "text/x-python",
   "name": "python",
   "nbconvert_exporter": "python",
   "pygments_lexer": "ipython3",
   "version": "3.7.4"
  }
 },
 "nbformat": 4,
 "nbformat_minor": 2
}
