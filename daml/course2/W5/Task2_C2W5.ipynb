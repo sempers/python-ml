{
 "cells": [
  {
   "cell_type": "code",
   "execution_count": 1,
   "metadata": {},
   "outputs": [],
   "source": [
    "from matplotlib.colors import ListedColormap\n",
    "from sklearn import model_selection, datasets, linear_model, metrics\n",
    "\n",
    "import numpy as np"
   ]
  },
  {
   "cell_type": "code",
   "execution_count": 20,
   "metadata": {},
   "outputs": [],
   "source": [
    "from sklearn import naive_bayes"
   ]
  },
  {
   "cell_type": "code",
   "execution_count": 2,
   "metadata": {},
   "outputs": [
    {
     "name": "stdout",
     "output_type": "stream",
     "text": [
      "Populating the interactive namespace from numpy and matplotlib\n"
     ]
    }
   ],
   "source": [
    "%pylab inline"
   ]
  },
  {
   "cell_type": "markdown",
   "metadata": {},
   "source": [
    "### Генерация данных"
   ]
  },
  {
   "cell_type": "code",
   "execution_count": 3,
   "metadata": {},
   "outputs": [],
   "source": [
    "digits = datasets.load_digits()\n",
    "breast_cancer = datasets.load_breast_cancer()"
   ]
  },
  {
   "cell_type": "code",
   "execution_count": 13,
   "metadata": {},
   "outputs": [],
   "source": [
    "Dtrain_data, Dtest_data, Dtrain_labels, Dest_labels = model_selection.train_test_split(digits.data, digits.target, \n",
    "                                                                                    test_size = 0.3,\n",
    "                                                                                    random_state = 1)\n",
    "Btain_data, Btest_data, Btrain_labels, Btest_labels = model_selection.train_test_split(breast_cancer.data, breast_cancer.target, \n",
    "                                                                                    test_size = 0.3,\n",
    "                                                                                    random_state = 1)"
   ]
  },
  {
   "cell_type": "code",
   "execution_count": 21,
   "metadata": {},
   "outputs": [
    {
     "name": "stdout",
     "output_type": "stream",
     "text": [
      "D_scoring BernoulliNB:  0.8258236507780582\n",
      "B_scoring BernoulliNB:  0.6274204028589994\n",
      "D_scoring MultinomialNB:  0.8708771489735053\n",
      "B_scoring MultinomialNB:  0.8945790401930752\n",
      "D_scoring GaussianNB:  0.8186003803550138\n",
      "B_scoring GaussianNB:  0.9367492806089297\n"
     ]
    },
    {
     "name": "stderr",
     "output_type": "stream",
     "text": [
      "C:\\Users\\gkafa\\Anaconda3\\lib\\site-packages\\sklearn\\model_selection\\_split.py:1978: FutureWarning: The default value of cv will change from 3 to 5 in version 0.22. Specify it explicitly to silence this warning.\n",
      "  warnings.warn(CV_WARNING, FutureWarning)\n",
      "C:\\Users\\gkafa\\Anaconda3\\lib\\site-packages\\sklearn\\model_selection\\_split.py:1978: FutureWarning: The default value of cv will change from 3 to 5 in version 0.22. Specify it explicitly to silence this warning.\n",
      "  warnings.warn(CV_WARNING, FutureWarning)\n",
      "C:\\Users\\gkafa\\Anaconda3\\lib\\site-packages\\sklearn\\model_selection\\_split.py:1978: FutureWarning: The default value of cv will change from 3 to 5 in version 0.22. Specify it explicitly to silence this warning.\n",
      "  warnings.warn(CV_WARNING, FutureWarning)\n",
      "C:\\Users\\gkafa\\Anaconda3\\lib\\site-packages\\sklearn\\model_selection\\_split.py:1978: FutureWarning: The default value of cv will change from 3 to 5 in version 0.22. Specify it explicitly to silence this warning.\n",
      "  warnings.warn(CV_WARNING, FutureWarning)\n",
      "C:\\Users\\gkafa\\Anaconda3\\lib\\site-packages\\sklearn\\model_selection\\_split.py:1978: FutureWarning: The default value of cv will change from 3 to 5 in version 0.22. Specify it explicitly to silence this warning.\n",
      "  warnings.warn(CV_WARNING, FutureWarning)\n",
      "C:\\Users\\gkafa\\Anaconda3\\lib\\site-packages\\sklearn\\model_selection\\_split.py:1978: FutureWarning: The default value of cv will change from 3 to 5 in version 0.22. Specify it explicitly to silence this warning.\n",
      "  warnings.warn(CV_WARNING, FutureWarning)\n"
     ]
    }
   ],
   "source": [
    "#BernoulliNB, MultinomialNB и GaussianNB\n",
    "print(\"D_scoring BernoulliNB: \", model_selection.cross_val_score(naive_bayes.BernoulliNB(), \n",
    "                                                                 digits.data, digits.target).mean())\n",
    "print(\"B_scoring BernoulliNB: \", model_selection.cross_val_score(naive_bayes.BernoulliNB(), \n",
    "                                                                 breast_cancer.data, breast_cancer.target).mean())\n",
    "\n",
    "\n",
    "print(\"D_scoring MultinomialNB: \", model_selection.cross_val_score(naive_bayes.MultinomialNB(), \n",
    "                                                                 digits.data, digits.target).mean())\n",
    "print(\"B_scoring MultinomialNB: \", model_selection.cross_val_score(naive_bayes.MultinomialNB(), \n",
    "                                                                 breast_cancer.data, breast_cancer.target).mean())\n",
    "\n",
    "print(\"D_scoring GaussianNB: \", model_selection.cross_val_score(naive_bayes.GaussianNB(), \n",
    "                                                                 digits.data, digits.target).mean())\n",
    "print(\"B_scoring GaussianNB: \", model_selection.cross_val_score(naive_bayes.GaussianNB(), \n",
    "                                                                 breast_cancer.data, breast_cancer.target).mean()) \n"
   ]
  }
 ],
 "metadata": {
  "kernelspec": {
   "display_name": "Python 3",
   "language": "python",
   "name": "python3"
  },
  "language_info": {
   "codemirror_mode": {
    "name": "ipython",
    "version": 3
   },
   "file_extension": ".py",
   "mimetype": "text/x-python",
   "name": "python",
   "nbconvert_exporter": "python",
   "pygments_lexer": "ipython3",
   "version": "3.7.4"
  }
 },
 "nbformat": 4,
 "nbformat_minor": 1
}
