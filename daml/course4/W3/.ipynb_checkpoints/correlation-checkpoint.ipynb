{
 "cells": [
  {
   "cell_type": "code",
   "execution_count": 3,
   "metadata": {},
   "outputs": [
    {
     "name": "stdout",
     "output_type": "stream",
     "text": [
      "Populating the interactive namespace from numpy and matplotlib\n"
     ]
    }
   ],
   "source": [
    "import pandas as pd\n",
    "import numpy as np\n",
    "import math\n",
    "\n",
    "%pylab inline"
   ]
  },
  {
   "cell_type": "code",
   "execution_count": 5,
   "metadata": {},
   "outputs": [],
   "source": [
    "base_df = pd.read_csv(\"water.txt\", delimiter=\"\\t\")"
   ]
  },
  {
   "cell_type": "code",
   "execution_count": 8,
   "metadata": {},
   "outputs": [
    {
     "data": {
      "text/plain": [
       "(           mortality  hardness\n",
       " mortality   1.000000 -0.654849\n",
       " hardness   -0.654849  1.000000,            mortality  hardness\n",
       " mortality   1.000000 -0.631665\n",
       " hardness   -0.631665  1.000000)"
      ]
     },
     "execution_count": 8,
     "metadata": {},
     "output_type": "execute_result"
    }
   ],
   "source": [
    "#Вопрос1, 2\n",
    "corr_df = base_df[[\"mortality\", \"hardness\"]]\n",
    "\n",
    "corr_df.corr(method=\"pearson\"), corr_df.corr(method=\"spearman\")"
   ]
  },
  {
   "cell_type": "code",
   "execution_count": 11,
   "metadata": {},
   "outputs": [
    {
     "data": {
      "text/plain": [
       "(           mortality  hardness\n",
       " mortality   1.000000 -0.368598\n",
       " hardness   -0.368598  1.000000,            mortality  hardness\n",
       " mortality   1.000000 -0.602153\n",
       " hardness   -0.602153  1.000000)"
      ]
     },
     "execution_count": 11,
     "metadata": {},
     "output_type": "execute_result"
    }
   ],
   "source": [
    "#Dk\n",
    "north_df = base_df.loc[base_df.location == \"North\", [\"mortality\", \"hardness\"]]\n",
    "south_df = base_df.loc[base_df.location == \"South\", [\"mortality\", \"hardness\"]]\n",
    "\n",
    "north_df.corr(method=\"pearson\"), south_df.corr(method=\"pearson\")"
   ]
  },
  {
   "cell_type": "code",
   "execution_count": 12,
   "metadata": {},
   "outputs": [
    {
     "data": {
      "text/plain": [
       "-0.10900237458678963"
      ]
     },
     "execution_count": 12,
     "metadata": {},
     "output_type": "execute_result"
    }
   ],
   "source": [
    "#Вопрос 4\n",
    "\n",
    "#F   /   M\n",
    "a = 203\n",
    "b = 239\n",
    "c = 718\n",
    "d = 515\n",
    "\n",
    "def MCC(a,b,c,d): return (a*d -  b*c)/math.sqrt((a+b)*(a+c)*(b+d)*(c+d))\n",
    "\n",
    "MCC(a,b,c,d)"
   ]
  },
  {
   "cell_type": "code",
   "execution_count": 13,
   "metadata": {},
   "outputs": [
    {
     "data": {
      "text/plain": [
       "(19.40753078854304,\n",
       " 1.0558987006638725e-05,\n",
       " 1,\n",
       " array([[243.03402985, 198.96597015],\n",
       "        [677.96597015, 555.03402985]]))"
      ]
     },
     "execution_count": 13,
     "metadata": {},
     "output_type": "execute_result"
    }
   ],
   "source": [
    "#Вопрос 5\n",
    "from scipy.stats import chi2_contingency\n",
    "\n",
    "chi2_contingency([[a, b], [c, d]])\n",
    "#5 значащая цифра"
   ]
  },
  {
   "cell_type": "code",
   "execution_count": 18,
   "metadata": {},
   "outputs": [
    {
     "data": {
      "text/plain": [
       "-0.0005319019916406736"
      ]
     },
     "execution_count": 18,
     "metadata": {},
     "output_type": "execute_result"
    }
   ],
   "source": [
    "#Вопрос 6\n",
    "#Опять блядь из параметрических критериев\n",
    "\n",
    "n1 = a+c\n",
    "n2 = b+d\n",
    "\n",
    "p1 = a/n1 #женщины\n",
    "p2 = b/n2 #мужики\n",
    "\n",
    "P = (p1*n1 + p2*n2)/(n1+n2)\n",
    "\n",
    "z = (p2-p1)/math.sqrt(P*(1-P)*(1/n1 + 1/n2))\n",
    "\n",
    "ci1 = (p2-p1)-z*math.sqrt(p1*(1-p1)/n1 + p2*(1-p2)/n2)\n",
    "ci1\n",
    "#Ответ неверный, возможно нужно писать 0.0005??? FAIL"
   ]
  },
  {
   "cell_type": "code",
   "execution_count": 19,
   "metadata": {},
   "outputs": [
    {
     "data": {
      "text/plain": [
       "8.153453089576601e-06"
      ]
     },
     "execution_count": 19,
     "metadata": {},
     "output_type": "execute_result"
    }
   ],
   "source": [
    "#Вопрос 7\n",
    "#ОПЯТЬ СУКА ПИ_ВЭЛЬЮ Я ЕБАЛ\n",
    "#Двусторонняя альтернатива\n",
    "\n",
    "from scipy.stats import norm\n",
    "\n",
    "pvalue = 2*(1-norm.cdf(z))\n",
    "pvalue"
   ]
  },
  {
   "cell_type": "code",
   "execution_count": 22,
   "metadata": {
    "scrolled": true
   },
   "outputs": [
    {
     "data": {
      "text/plain": [
       "(293.68311039689746,\n",
       " 2.4964299580093467e-62,\n",
       " 4,\n",
       " array([[ 93.08597464, 153.74722662,  94.16679873],\n",
       "        [381.6251981 , 630.318542  , 386.0562599 ],\n",
       "        [214.28882726, 353.93423138, 216.77694136]]))"
      ]
     },
     "execution_count": 22,
     "metadata": {},
     "output_type": "execute_result"
    }
   ],
   "source": [
    "#Вопрос 8-9, нужно взять соотв. первое и второе значение тупла\n",
    "\n",
    "table = [[197, 111, 33], [382, 685, 331], [110, 342, 333]]\n",
    "\n",
    "chi2 = chi2_contingency(table)\n",
    "chi2"
   ]
  },
  {
   "cell_type": "code",
   "execution_count": 23,
   "metadata": {},
   "outputs": [
    {
     "data": {
      "text/plain": [
       "0.2412013934500338"
      ]
     },
     "execution_count": 23,
     "metadata": {},
     "output_type": "execute_result"
    }
   ],
   "source": [
    "#Вопрос 10 V Крамера\n",
    "\n",
    "N = 197+111+33+382+685+331+110+342+333 #вот это блядь нихуя не описано в блядских лекциях и видео - сумма всех значений в таблице\n",
    "\n",
    "V_kramer =  math.sqrt(chi2[0]/(2*N))\n",
    "V_kramer"
   ]
  }
 ],
 "metadata": {
  "kernelspec": {
   "display_name": "Python 3",
   "language": "python",
   "name": "python3"
  },
  "language_info": {
   "codemirror_mode": {
    "name": "ipython",
    "version": 3
   },
   "file_extension": ".py",
   "mimetype": "text/x-python",
   "name": "python",
   "nbconvert_exporter": "python",
   "pygments_lexer": "ipython3",
   "version": "3.7.4"
  }
 },
 "nbformat": 4,
 "nbformat_minor": 2
}
