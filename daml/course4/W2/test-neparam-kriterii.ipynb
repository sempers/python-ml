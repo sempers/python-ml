{
 "cells": [
  {
   "cell_type": "code",
   "execution_count": 1,
   "metadata": {},
   "outputs": [],
   "source": [
    "#Тест Непараметрические критерии\n",
    "import math\n",
    "import numpy as np\n",
    "import pandas as pd\n",
    "\n",
    "#Вопрос 1 - гипотеза о равенстве средних двух независимых выборок\n",
    "#Вопрос 2 - H0: Fx1(x) = Fx2(x) против H1 ... X+delta\n",
    "#Вопрос 3 - Критерий Стьюдента???"
   ]
  },
  {
   "cell_type": "code",
   "execution_count": 3,
   "metadata": {},
   "outputs": [
    {
     "data": {
      "text/plain": [
       "WilcoxonResult(statistic=17.0, pvalue=0.2845026979112075)"
      ]
     },
     "execution_count": 3,
     "metadata": {},
     "output_type": "execute_result"
    }
   ],
   "source": [
    "#Вопрос 4 - Лейкоцитарная лимфома\n",
    "#H0 = med=200\n",
    "obs =     np.array([  49,  58,  75, 110, 112, 132, 151, 276, 281, 362])\n",
    "obs_med = np.array([-151,-142,-125, -90, -88, -68, -49,  76,  81, 162])\n",
    "ranks =   np.array([   1,   8,    7,   6,  5,   2,   1,   3,   4,  10])\n",
    "\n",
    "def sign(x): return -1 if x<0 else 1\n",
    "s = 0\n",
    "for i in range(10):\n",
    "    s += ranks[i]*sign(obs_med[i])\n",
    "\n",
    "from statsmodels.stats.descriptivestats import sign_test\n",
    "from statsmodels.stats.weightstats import zconfint\n",
    "from scipy import stats\n",
    "\n",
    "stats.wilcoxon(obs_med)"
   ]
  },
  {
   "cell_type": "code",
   "execution_count": 18,
   "metadata": {},
   "outputs": [
    {
     "data": {
      "text/plain": [
       "MannwhitneyuResult(statistic=27.0, pvalue=0.02900499272087373)"
      ]
     },
     "execution_count": 18,
     "metadata": {},
     "output_type": "execute_result"
    }
   ],
   "source": [
    "#Вопрос 5 Лесозаготовки на Борнео\n",
    "a = np.array([22,22,15,13,19,19,18,20,21,13,13,15])\n",
    "b = np.array([17,18,18,15,12,4,14,15,10])\n",
    "\n",
    "from scipy.stats import mannwhitneyu\n",
    "stats.mannwhitneyu(a, b)\n"
   ]
  },
  {
   "cell_type": "code",
   "execution_count": 93,
   "metadata": {},
   "outputs": [
    {
     "data": {
      "text/plain": [
       "array([1.42299107, 7.93861607])"
      ]
     },
     "execution_count": 93,
     "metadata": {},
     "output_type": "execute_result"
    }
   ],
   "source": [
    "#Вопрос 6 Челленджер\n",
    "np.random.seed(0)\n",
    "\n",
    "df = pd.read_csv(\"challenger.txt\", delimiter=\"\\t\", index_col=\"Date\", parse_dates=True)\n",
    "temp_noincident = np.array(df[df[\"Incident\"] == 0][\"Temperature\"].tolist())\n",
    "temp_incident = np.array(df[df[\"Incident\"] == 1][\"Temperature\"].tolist())\n",
    "\n",
    "def get_bootstrap_values(data, n_samples):\n",
    "    indices = np.random.randint(0, len(data), (n_samples, len(data)))\n",
    "    samples = data[indices]\n",
    "    return samples\n",
    "\n",
    "def stat_intervals(stat, alpha):\n",
    "    boundaries = np.percentile(stat, [100 * alpha / 2, 100 * (1 - alpha / 2)])\n",
    "    return boundaries\n",
    "\n",
    "alpha = 0.05\n",
    "\n",
    "b1 = get_bootstrap_values(temp_noincident, 1000)\n",
    "b2 = get_bootstrap_values(temp_incident, 1000)\n",
    "\n",
    "b1m = list(map(np.mean, b1))\n",
    "b2m = list(map(np.mean, b2))\n",
    "\n",
    "delta_median_scores = list(map(lambda x: x[0] - x[1], zip(b1m, b2m)))\n",
    "stat_intervals(delta_median_scores, alpha)"
   ]
  },
  {
   "cell_type": "code",
   "execution_count": 90,
   "metadata": {},
   "outputs": [
    {
     "data": {
      "text/plain": [
       "0.0057"
      ]
     },
     "execution_count": 90,
     "metadata": {},
     "output_type": "execute_result"
    }
   ],
   "source": [
    "#Челленджер перестановочным критерием\n",
    "np.random.seed(0)\n",
    "\n",
    "def permutation_t_stat_ind(sample1, sample2):\n",
    "    return np.mean(sample1) - np.mean(sample2)\n",
    "\n",
    "def get_random_combinations(n1, n2, max_combinations):\n",
    "    index = list(range(n1 + n2))\n",
    "    indices = set([tuple(index)])\n",
    "    for i in range(max_combinations - 1):\n",
    "        np.random.shuffle(index)\n",
    "        indices.add(tuple(index))\n",
    "    return [(index[:n1], index[n1:]) for index in indices]\n",
    "\n",
    "def permutation_zero_dist_ind(sample1, sample2, max_combinations = None):\n",
    "    joined_sample = np.hstack((sample1, sample2))\n",
    "    n1 = len(sample1)\n",
    "    n = len(joined_sample)\n",
    "    \n",
    "    if max_combinations:\n",
    "        indices = get_random_combinations(n1, len(sample2), max_combinations)\n",
    "    else:\n",
    "        indices = [(list(index), filter(lambda i: i not in index, range(n))) \\\n",
    "                    for index in itertools.combinations(range(n), n1)]\n",
    "    \n",
    "    distr = [joined_sample[list(i[0])].mean() - joined_sample[list(i[1])].mean() \\\n",
    "             for i in indices]\n",
    "    return distr\n",
    "\n",
    "def permutation_test(sample, mean, max_permutations = None, alternative = 'two-sided'):\n",
    "    if alternative not in ('two-sided', 'less', 'greater'):\n",
    "        raise ValueError(\"alternative not recognized\\n\"\n",
    "                         \"should be 'two-sided', 'less' or 'greater'\")\n",
    "    \n",
    "    t_stat = permutation_t_stat_ind(sample, mean)\n",
    "    \n",
    "    zero_distr = permutation_zero_dist_ind(sample, mean, max_permutations)\n",
    "    \n",
    "    if alternative == 'two-sided':\n",
    "        return sum([1. if abs(x) >= abs(t_stat) else 0. for x in zero_distr]) / len(zero_distr)\n",
    "    \n",
    "    if alternative == 'less':\n",
    "        return sum([1. if x <= t_stat else 0. for x in zero_distr]) / len(zero_distr)\n",
    "\n",
    "    if alternative == 'greater':\n",
    "        return sum([1. if x >= t_stat else 0. for x in zero_distr]) / len(zero_distr)\n",
    "    \n",
    "\n",
    "permutation_test(temp_incident, temp_noincident, max_permutations = 10000)\n",
    "\n",
    "#0.0057, 0.007"
   ]
  },
  {
   "cell_type": "code",
   "execution_count": 59,
   "metadata": {},
   "outputs": [
    {
     "data": {
      "text/plain": [
       "(0, 1, 2, 3, 4, 5)"
      ]
     },
     "execution_count": 59,
     "metadata": {},
     "output_type": "execute_result"
    }
   ],
   "source": [
    "index = list(range(6))\n",
    "tuple(index)"
   ]
  }
 ],
 "metadata": {
  "kernelspec": {
   "display_name": "Python 3",
   "language": "python",
   "name": "python3"
  },
  "language_info": {
   "codemirror_mode": {
    "name": "ipython",
    "version": 3
   },
   "file_extension": ".py",
   "mimetype": "text/x-python",
   "name": "python",
   "nbconvert_exporter": "python",
   "pygments_lexer": "ipython3",
   "version": "3.7.4"
  }
 },
 "nbformat": 4,
 "nbformat_minor": 2
}
