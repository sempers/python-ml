{
 "cells": [
  {
   "cell_type": "markdown",
   "metadata": {},
   "source": [
    "# Решение задачи классификации текстов по сантименту при помощи нейронных сетей\n",
    "\n",
    "### Эпиграф\n",
    "\n",
    "Будучи глубоко неудовлетворен теми результатами, которых позволяла достичь линейная и логистическая регрессия, я решил отложить сдачу финального проекта до тех пор, пока не обучусь нейросетям. Т.к. в настоящей специализации они проходились, я считаю такое решение задачи нейросетями совершенно легитимным.\n"
   ]
  },
  {
   "cell_type": "code",
   "execution_count": null,
   "metadata": {},
   "outputs": [],
   "source": [
    "!pip install nltk\n",
    "!pip install tensorflow"
   ]
  },
  {
   "cell_type": "code",
   "execution_count": 1,
   "metadata": {},
   "outputs": [
    {
     "name": "stderr",
     "output_type": "stream",
     "text": [
      "[nltk_data] Downloading package punkt to\n",
      "[nltk_data]     C:\\Users\\rookie\\AppData\\Roaming\\nltk_data...\n",
      "[nltk_data]   Package punkt is already up-to-date!\n"
     ]
    }
   ],
   "source": [
    "#1. Импортируем общие библиотеки.\n",
    "import pandas as pd\n",
    "import numpy as np\n",
    "import nltk\n",
    "nltk.download(\"punkt\")\n",
    "import matplotlib.pyplot as plt\n",
    "%matplotlib inline\n",
    "np.random.seed(42)"
   ]
  },
  {
   "cell_type": "code",
   "execution_count": 2,
   "metadata": {
    "scrolled": true
   },
   "outputs": [
    {
     "name": "stdout",
     "output_type": "stream",
     "text": [
      "2.3.1\n"
     ]
    },
    {
     "data": {
      "text/plain": [
       "<tensorflow.python.client.session.InteractiveSession at 0x25812cb2fd0>"
      ]
     },
     "execution_count": 2,
     "metadata": {},
     "output_type": "execute_result"
    }
   ],
   "source": [
    "#2. Импортируем тензорфлоу и керас\n",
    "#Рассчитано на TF 2.0^\n",
    "\n",
    "import tensorflow as tf\n",
    "print(tf.__version__)\n",
    "import keras\n",
    "import keras.backend as K\n",
    "import keras.layers as L\n",
    "import tensorflow.compat.v1 as v1\n",
    "np.random.seed(42)\n",
    "\n",
    "#Функция очистки сессии\n",
    "def reset_tf_session():\n",
    "    curr_session = v1.get_default_session()\n",
    "    if curr_session is not None:\n",
    "        curr_session.close()\n",
    "    # reset graph\n",
    "    K.clear_session()\n",
    "    # create new session\n",
    "    config = v1.ConfigProto()\n",
    "    config.gpu_options.allow_growth = True\n",
    "    s = v1.InteractiveSession(config=config)\n",
    "    v1.keras.backend.set_session\n",
    "    return s\n",
    "\n",
    "reset_tf_session()"
   ]
  },
  {
   "cell_type": "markdown",
   "metadata": {},
   "source": [
    "Идея состоит в следующем. Целый ряд испытаний с LSTM показал, что учитывать последовательность слов или н-грамм не имеет никакого смысла, поэтому я использую подход Bag of Words. Т.к. используемое количество токенов в обучающей выборке невелико (~4000), в качестве векторизатора используем TfIdfVectorizer\n",
    "\n",
    "1. Т.к. данные довольно хорошо предобработаны (например, все приведено к нижнему регистру, пунктуация уже отделена пробелами), разбиваем исходные тексты на слова простым методом .split() и обучаем CountVectorizer на исходных текстах - cоздаем Bag of Words, подготавливаем функцию to_matrix, которая предобрабатывает данные \"от и до\".\n",
    "3. Подаем векторизованные тексты на вход нейронной сети и обучаем ее.\n",
    "4. Достаточно 10-20 эпох, разбиваем выборку на трейн и валидацию так же, как вся обучающая выборка соотносится с тестовой 2000/500."
   ]
  },
  {
   "cell_type": "code",
   "execution_count": 3,
   "metadata": {},
   "outputs": [
    {
     "data": {
      "text/html": [
       "<div>\n",
       "<style scoped>\n",
       "    .dataframe tbody tr th:only-of-type {\n",
       "        vertical-align: middle;\n",
       "    }\n",
       "\n",
       "    .dataframe tbody tr th {\n",
       "        vertical-align: top;\n",
       "    }\n",
       "\n",
       "    .dataframe thead th {\n",
       "        text-align: right;\n",
       "    }\n",
       "</style>\n",
       "<table border=\"1\" class=\"dataframe\">\n",
       "  <thead>\n",
       "    <tr style=\"text-align: right;\">\n",
       "      <th></th>\n",
       "      <th>text</th>\n",
       "      <th>label</th>\n",
       "    </tr>\n",
       "  </thead>\n",
       "  <tbody>\n",
       "    <tr>\n",
       "      <th>0</th>\n",
       "      <td>2 . take around 10,000 640x480 pictures .</td>\n",
       "      <td>1</td>\n",
       "    </tr>\n",
       "    <tr>\n",
       "      <th>1</th>\n",
       "      <td>i downloaded a trial version of computer assoc...</td>\n",
       "      <td>1</td>\n",
       "    </tr>\n",
       "    <tr>\n",
       "      <th>2</th>\n",
       "      <td>the wrt54g plus the hga7t is a perfect solutio...</td>\n",
       "      <td>1</td>\n",
       "    </tr>\n",
       "    <tr>\n",
       "      <th>3</th>\n",
       "      <td>i dont especially like how music files are uns...</td>\n",
       "      <td>0</td>\n",
       "    </tr>\n",
       "    <tr>\n",
       "      <th>4</th>\n",
       "      <td>i was using the cheapie pail ... and it worked...</td>\n",
       "      <td>1</td>\n",
       "    </tr>\n",
       "  </tbody>\n",
       "</table>\n",
       "</div>"
      ],
      "text/plain": [
       "                                                text  label\n",
       "0          2 . take around 10,000 640x480 pictures .      1\n",
       "1  i downloaded a trial version of computer assoc...      1\n",
       "2  the wrt54g plus the hga7t is a perfect solutio...      1\n",
       "3  i dont especially like how music files are uns...      0\n",
       "4  i was using the cheapie pail ... and it worked...      1"
      ]
     },
     "execution_count": 3,
     "metadata": {},
     "output_type": "execute_result"
    }
   ],
   "source": [
    "from nltk import bigrams, ngrams, everygrams\n",
    "from sklearn.model_selection import train_test_split\n",
    "from sklearn.feature_extraction.text import TfidfVectorizer\n",
    "\n",
    "#3. Готовим первичные выборки, разбиваем тексты на n-граммы от одного слова до четырех с помощью nltk.everygrams, делаем словарь\n",
    "df = pd.read_csv(\"products_sentiment_train.tsv\", sep='\\t', header=None)\n",
    "df.columns = [\"text\", \"label\"]\n",
    "\n",
    "df.head()\n"
   ]
  },
  {
   "cell_type": "code",
   "execution_count": 4,
   "metadata": {},
   "outputs": [
    {
     "data": {
      "text/plain": [
       "(2000, 2000, '2 . take around 10,000 640x480 pictures .', 3973)"
      ]
     },
     "execution_count": 4,
     "metadata": {},
     "output_type": "execute_result"
    }
   ],
   "source": [
    "#X = [x[0] for x in df[[\"text\"]].values.tolist()]   #Выборка, где элементы - строки\n",
    "#Y = [y[0] for y in df[[\"label\"]].values.tolist()]\n",
    "\n",
    "X = df[\"text\"].values\n",
    "Y = df[\"label\"].values\n",
    "\n",
    "vectorizer = TfidfVectorizer()\n",
    "vectorizer.fit(X)\n",
    "\n",
    "#Векторизуем тексты обученным векторизатором\n",
    "def to_matrix(texts):\n",
    "    return np.array([vectorizer.transform([text]).toarray().squeeze() for text in texts])\n",
    "#На входе массив (None,) -> на выходе массив (None, N_DIM)\n",
    "\n",
    "a = to_matrix(X[0:1])\n",
    "#Длина строк one-hot-encoding, выдаваемого CountVectorizer'ом\n",
    "N_DIM = a.shape[1]\n",
    "\n",
    "len(X), len(Y), X[0], N_DIM"
   ]
  },
  {
   "cell_type": "code",
   "execution_count": 6,
   "metadata": {},
   "outputs": [
    {
     "data": {
      "text/plain": [
       "array([0.        , 0.50364999, 0.37302423, ..., 0.        , 0.        ,\n",
       "       0.        ])"
      ]
     },
     "execution_count": 6,
     "metadata": {},
     "output_type": "execute_result"
    }
   ],
   "source": [
    "vectorizer.transform([X[0]]).toarray().squeeze()"
   ]
  },
  {
   "cell_type": "code",
   "execution_count": 61,
   "metadata": {},
   "outputs": [
    {
     "name": "stdout",
     "output_type": "stream",
     "text": [
      "Model: \"functional_3\"\n",
      "_________________________________________________________________\n",
      "Layer (type)                 Output Shape              Param #   \n",
      "=================================================================\n",
      "input_2 (InputLayer)         [(None, 3973)]            0         \n",
      "_________________________________________________________________\n",
      "dense_4 (Dense)              (None, 32)                127168    \n",
      "_________________________________________________________________\n",
      "dropout_3 (Dropout)          (None, 32)                0         \n",
      "_________________________________________________________________\n",
      "dense_5 (Dense)              (None, 1)                 33        \n",
      "=================================================================\n",
      "Total params: 127,201\n",
      "Trainable params: 127,201\n",
      "Non-trainable params: 0\n",
      "_________________________________________________________________\n"
     ]
    }
   ],
   "source": [
    "#5.1. Строим модель нейронной сети\n",
    "\n",
    "#Используем оптимизатор Adam и бинарную кроссэнтропию в качестве функции потерь\n",
    "def build_model():\n",
    "    #Input - входные данные, шейп (None, N_DIM) означает, что мы можем принимать батч произвольной длины,\n",
    "    #со вторым измерением равным полученному из CountVectorizera\n",
    "    X = L.Input(batch_input_shape=(None, N_DIM))\n",
    "    #Три полносвязных слоя для лучшего обучения\n",
    "    d = L.Dense(1024, activation=\"relu\")(X)\n",
    "    d = L.Dropout(0.2)(d)\n",
    "    d = L.Dense(32, activation=\"relu\")(X)\n",
    "    d = L.Dropout(0.2)(d)\n",
    "    Y = L.Dense(1, activation=\"sigmoid\")(d)\n",
    "    return keras.models.Model(inputs=(X), outputs=Y)\n",
    "\n",
    "t_model = build_model()\n",
    "opt = keras.optimizers.Adam(lr=0.001)\n",
    "t_model.compile(optimizer=opt, loss=\"binary_crossentropy\", metrics=['accuracy'])\n",
    "t_model.summary()"
   ]
  },
  {
   "cell_type": "code",
   "execution_count": 62,
   "metadata": {},
   "outputs": [
    {
     "name": "stdout",
     "output_type": "stream",
     "text": [
      "375/375 [==============================] - 1s 3ms/step - loss: 0.6845 - accuracy: 0.6247 - val_loss: 0.6754 - val_accuracy: 0.6400\n",
      "Epoch 2/2\n",
      "375/375 [==============================] - 1s 3ms/step - loss: 0.6668 - accuracy: 0.6313 - val_loss: 0.6523 - val_accuracy: 0.6540\n",
      "Epoch 3/3\n",
      "375/375 [==============================] - 1s 3ms/step - loss: 0.6451 - accuracy: 0.6427 - val_loss: 0.6432 - val_accuracy: 0.6200\n",
      "Epoch 4/4\n",
      "375/375 [==============================] - 1s 3ms/step - loss: 0.6323 - accuracy: 0.6287 - val_loss: 0.6128 - val_accuracy: 0.6620\n",
      "Epoch 5/5\n",
      "375/375 [==============================] - 1s 3ms/step - loss: 0.6165 - accuracy: 0.6293 - val_loss: 0.5959 - val_accuracy: 0.6600\n",
      "Epoch 6/6\n",
      "375/375 [==============================] - 1s 3ms/step - loss: 0.5853 - accuracy: 0.6547 - val_loss: 0.6120 - val_accuracy: 0.5900\n",
      "Epoch 7/7\n",
      "375/375 [==============================] - 1s 3ms/step - loss: 0.5715 - accuracy: 0.6580 - val_loss: 0.5705 - val_accuracy: 0.6420\n",
      "Epoch 8/8\n",
      "375/375 [==============================] - 1s 3ms/step - loss: 0.5517 - accuracy: 0.6960 - val_loss: 0.5446 - val_accuracy: 0.6900\n",
      "Epoch 9/9\n",
      "375/375 [==============================] - 1s 3ms/step - loss: 0.5305 - accuracy: 0.7227 - val_loss: 0.5217 - val_accuracy: 0.7500\n",
      "Epoch 10/10\n",
      "375/375 [==============================] - 1s 3ms/step - loss: 0.5055 - accuracy: 0.7893 - val_loss: 0.5046 - val_accuracy: 0.7520\n",
      "Epoch 11/11\n",
      "375/375 [==============================] - 1s 3ms/step - loss: 0.4803 - accuracy: 0.8093 - val_loss: 0.4911 - val_accuracy: 0.7960\n",
      "Epoch 12/12\n",
      "375/375 [==============================] - 1s 3ms/step - loss: 0.4627 - accuracy: 0.8387 - val_loss: 0.4566 - val_accuracy: 0.8560\n",
      "Epoch 13/13\n",
      "375/375 [==============================] - 1s 3ms/step - loss: 0.4369 - accuracy: 0.8607 - val_loss: 0.4477 - val_accuracy: 0.8440\n",
      "Epoch 14/14\n",
      "375/375 [==============================] - 1s 3ms/step - loss: 0.4281 - accuracy: 0.8713 - val_loss: 0.3934 - val_accuracy: 0.9060\n",
      "Epoch 15/15\n",
      "375/375 [==============================] - 1s 3ms/step - loss: 0.4044 - accuracy: 0.8867 - val_loss: 0.3862 - val_accuracy: 0.8940\n",
      "Epoch 16/16\n",
      "375/375 [==============================] - 1s 3ms/step - loss: 0.3812 - accuracy: 0.8987 - val_loss: 0.3879 - val_accuracy: 0.8700\n",
      "Epoch 17/17\n",
      "375/375 [==============================] - 1s 3ms/step - loss: 0.3602 - accuracy: 0.9113 - val_loss: 0.3769 - val_accuracy: 0.8740\n",
      "Epoch 18/18\n",
      "375/375 [==============================] - 1s 3ms/step - loss: 0.3491 - accuracy: 0.9047 - val_loss: 0.3461 - val_accuracy: 0.9100\n",
      "Epoch 19/19\n",
      "375/375 [==============================] - 1s 3ms/step - loss: 0.3388 - accuracy: 0.9120 - val_loss: 0.3104 - val_accuracy: 0.9260\n",
      "Epoch 20/20\n",
      "375/375 [==============================] - 1s 3ms/step - loss: 0.3223 - accuracy: 0.9260 - val_loss: 0.3047 - val_accuracy: 0.9220\n"
     ]
    }
   ],
   "source": [
    "N_BATCH = 4\n",
    "\n",
    "#Тренируем модель\n",
    "def train_model(xt, yt, \n",
    "                xv, yv,\n",
    "                initial_epoch=0, n_epochs=10):\n",
    "    t_model.fit(to_matrix(xt), np.array(yt), epochs=n_epochs, \n",
    "                shuffle=True,\n",
    "                validation_data=(to_matrix(xv), np.array(yv)),\n",
    "                batch_size=N_BATCH, initial_epoch=initial_epoch)\n",
    "    \n",
    "reset_tf_session()\n",
    "\n",
    "opt = keras.optimizers.Adam(lr=0.0001)\n",
    "t_model.compile(optimizer=opt, loss=\"binary_crossentropy\", metrics=['accuracy'])\n",
    "\n",
    "#Xt, Xv, Yt, Yv = train_test_split(X, Y, train_size=0.75)\n",
    "#train_model(Xt, Yt, Xv, Yv, 0, 5)\n",
    "for i in range():\n",
    "    Xt, Xv, Yt, Yv = train_test_split(X, Y, train_size=0.75)\n",
    "    train_model(Xt, Yt, Xv, Yv, initial_epoch=i, n_epochs=i+1)"
   ]
  },
  {
   "cell_type": "code",
   "execution_count": 54,
   "metadata": {},
   "outputs": [
    {
     "data": {
      "text/plain": [
       "(500, 500)"
      ]
     },
     "execution_count": 54,
     "metadata": {},
     "output_type": "execute_result"
    }
   ],
   "source": [
    "df = pd.read_csv(\"products_sentiment_test.tsv\", sep='\\t')\n",
    "X_test = [x[0] for x in df[[\"text\"]].values.tolist()]\n",
    "\n",
    "Y_pred = [0 if y < 0.5 else 1 for y in t_model.predict(to_matrix(X_test))]\n",
    "len(X_test), len(Y_pred)"
   ]
  },
  {
   "cell_type": "markdown",
   "metadata": {},
   "source": [
    "После обучения в течение 50 эпох точность составила 1.0 на обучаемой выборке. Применим к тестовой выборке."
   ]
  },
  {
   "cell_type": "code",
   "execution_count": 55,
   "metadata": {},
   "outputs": [],
   "source": [
    "df = pd.DataFrame()\n",
    "df[\"y\"] = Y_pred\n",
    "df.head()\n",
    "\n",
    "df.to_csv(\"kaggle_submission.csv\", sep=',', index_label=\"Id\")"
   ]
  },
  {
   "cell_type": "code",
   "execution_count": null,
   "metadata": {},
   "outputs": [],
   "source": [
    "from IPython.display import Image\n",
    "\n",
    "Image(filename = 'screen.png')"
   ]
  }
 ],
 "metadata": {
  "kernelspec": {
   "display_name": "Python 3",
   "language": "python",
   "name": "python3"
  },
  "language_info": {
   "codemirror_mode": {
    "name": "ipython",
    "version": 3
   },
   "file_extension": ".py",
   "mimetype": "text/x-python",
   "name": "python",
   "nbconvert_exporter": "python",
   "pygments_lexer": "ipython3",
   "version": "3.8.3"
  }
 },
 "nbformat": 4,
 "nbformat_minor": 2
}
