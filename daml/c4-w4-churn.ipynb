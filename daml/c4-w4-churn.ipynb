{
 "cells": [
  {
   "cell_type": "code",
   "execution_count": 1,
   "metadata": {},
   "outputs": [
    {
     "data": {
      "text/html": [
       "<div>\n",
       "<style scoped>\n",
       "    .dataframe tbody tr th:only-of-type {\n",
       "        vertical-align: middle;\n",
       "    }\n",
       "\n",
       "    .dataframe tbody tr th {\n",
       "        vertical-align: top;\n",
       "    }\n",
       "\n",
       "    .dataframe thead th {\n",
       "        text-align: right;\n",
       "    }\n",
       "</style>\n",
       "<table border=\"1\" class=\"dataframe\">\n",
       "  <thead>\n",
       "    <tr style=\"text-align: right;\">\n",
       "      <th></th>\n",
       "      <th>state</th>\n",
       "      <th>account_length</th>\n",
       "      <th>area_code</th>\n",
       "      <th>intl_plan</th>\n",
       "      <th>vmail_plan</th>\n",
       "      <th>vmail_message</th>\n",
       "      <th>day_mins</th>\n",
       "      <th>day_calls</th>\n",
       "      <th>day_charge</th>\n",
       "      <th>eve_mins</th>\n",
       "      <th>...</th>\n",
       "      <th>night_mins</th>\n",
       "      <th>night_calls</th>\n",
       "      <th>night_charge</th>\n",
       "      <th>intl_mins</th>\n",
       "      <th>intl_calls</th>\n",
       "      <th>intl_charge</th>\n",
       "      <th>custserv_calls</th>\n",
       "      <th>treatment</th>\n",
       "      <th>mes_estim</th>\n",
       "      <th>churn</th>\n",
       "    </tr>\n",
       "  </thead>\n",
       "  <tbody>\n",
       "    <tr>\n",
       "      <td>0</td>\n",
       "      <td>KS</td>\n",
       "      <td>128</td>\n",
       "      <td>415</td>\n",
       "      <td>no</td>\n",
       "      <td>yes</td>\n",
       "      <td>25</td>\n",
       "      <td>265.1</td>\n",
       "      <td>110</td>\n",
       "      <td>45.07</td>\n",
       "      <td>197.4</td>\n",
       "      <td>...</td>\n",
       "      <td>244.7</td>\n",
       "      <td>91</td>\n",
       "      <td>11.01</td>\n",
       "      <td>10.0</td>\n",
       "      <td>3</td>\n",
       "      <td>2.70</td>\n",
       "      <td>1</td>\n",
       "      <td>1</td>\n",
       "      <td>0.65</td>\n",
       "      <td>False.</td>\n",
       "    </tr>\n",
       "    <tr>\n",
       "      <td>1</td>\n",
       "      <td>OH</td>\n",
       "      <td>107</td>\n",
       "      <td>415</td>\n",
       "      <td>no</td>\n",
       "      <td>yes</td>\n",
       "      <td>26</td>\n",
       "      <td>161.6</td>\n",
       "      <td>123</td>\n",
       "      <td>27.47</td>\n",
       "      <td>195.5</td>\n",
       "      <td>...</td>\n",
       "      <td>254.4</td>\n",
       "      <td>103</td>\n",
       "      <td>11.45</td>\n",
       "      <td>13.7</td>\n",
       "      <td>3</td>\n",
       "      <td>3.70</td>\n",
       "      <td>1</td>\n",
       "      <td>0</td>\n",
       "      <td>0.55</td>\n",
       "      <td>False.</td>\n",
       "    </tr>\n",
       "    <tr>\n",
       "      <td>2</td>\n",
       "      <td>NJ</td>\n",
       "      <td>137</td>\n",
       "      <td>415</td>\n",
       "      <td>no</td>\n",
       "      <td>no</td>\n",
       "      <td>0</td>\n",
       "      <td>243.4</td>\n",
       "      <td>114</td>\n",
       "      <td>41.38</td>\n",
       "      <td>121.2</td>\n",
       "      <td>...</td>\n",
       "      <td>162.6</td>\n",
       "      <td>104</td>\n",
       "      <td>7.32</td>\n",
       "      <td>12.2</td>\n",
       "      <td>5</td>\n",
       "      <td>3.29</td>\n",
       "      <td>0</td>\n",
       "      <td>0</td>\n",
       "      <td>0.72</td>\n",
       "      <td>False.</td>\n",
       "    </tr>\n",
       "    <tr>\n",
       "      <td>3</td>\n",
       "      <td>OH</td>\n",
       "      <td>84</td>\n",
       "      <td>408</td>\n",
       "      <td>yes</td>\n",
       "      <td>no</td>\n",
       "      <td>0</td>\n",
       "      <td>299.4</td>\n",
       "      <td>71</td>\n",
       "      <td>50.90</td>\n",
       "      <td>61.9</td>\n",
       "      <td>...</td>\n",
       "      <td>196.9</td>\n",
       "      <td>89</td>\n",
       "      <td>8.86</td>\n",
       "      <td>6.6</td>\n",
       "      <td>7</td>\n",
       "      <td>1.78</td>\n",
       "      <td>2</td>\n",
       "      <td>1</td>\n",
       "      <td>0.28</td>\n",
       "      <td>False.</td>\n",
       "    </tr>\n",
       "    <tr>\n",
       "      <td>4</td>\n",
       "      <td>OK</td>\n",
       "      <td>75</td>\n",
       "      <td>415</td>\n",
       "      <td>yes</td>\n",
       "      <td>no</td>\n",
       "      <td>0</td>\n",
       "      <td>166.7</td>\n",
       "      <td>113</td>\n",
       "      <td>28.34</td>\n",
       "      <td>148.3</td>\n",
       "      <td>...</td>\n",
       "      <td>186.9</td>\n",
       "      <td>121</td>\n",
       "      <td>8.41</td>\n",
       "      <td>10.1</td>\n",
       "      <td>3</td>\n",
       "      <td>2.73</td>\n",
       "      <td>3</td>\n",
       "      <td>2</td>\n",
       "      <td>0.45</td>\n",
       "      <td>False.</td>\n",
       "    </tr>\n",
       "  </tbody>\n",
       "</table>\n",
       "<p>5 rows × 22 columns</p>\n",
       "</div>"
      ],
      "text/plain": [
       "  state  account_length  area_code intl_plan vmail_plan  vmail_message  \\\n",
       "0    KS             128        415        no        yes             25   \n",
       "1    OH             107        415        no        yes             26   \n",
       "2    NJ             137        415        no         no              0   \n",
       "3    OH              84        408       yes         no              0   \n",
       "4    OK              75        415       yes         no              0   \n",
       "\n",
       "   day_mins  day_calls  day_charge  eve_mins  ...  night_mins  night_calls  \\\n",
       "0     265.1        110       45.07     197.4  ...       244.7           91   \n",
       "1     161.6        123       27.47     195.5  ...       254.4          103   \n",
       "2     243.4        114       41.38     121.2  ...       162.6          104   \n",
       "3     299.4         71       50.90      61.9  ...       196.9           89   \n",
       "4     166.7        113       28.34     148.3  ...       186.9          121   \n",
       "\n",
       "   night_charge  intl_mins  intl_calls  intl_charge  custserv_calls  \\\n",
       "0         11.01       10.0           3         2.70               1   \n",
       "1         11.45       13.7           3         3.70               1   \n",
       "2          7.32       12.2           5         3.29               0   \n",
       "3          8.86        6.6           7         1.78               2   \n",
       "4          8.41       10.1           3         2.73               3   \n",
       "\n",
       "   treatment  mes_estim   churn  \n",
       "0          1       0.65  False.  \n",
       "1          0       0.55  False.  \n",
       "2          0       0.72  False.  \n",
       "3          1       0.28  False.  \n",
       "4          2       0.45  False.  \n",
       "\n",
       "[5 rows x 22 columns]"
      ]
     },
     "execution_count": 1,
     "metadata": {},
     "output_type": "execute_result"
    }
   ],
   "source": [
    "import pandas as pd\n",
    "import numpy as np\n",
    "import math\n",
    "\n",
    "df = pd.read_csv(\"churn_analysis.csv\", index_col=0)\n",
    "df.head()"
   ]
  },
  {
   "cell_type": "code",
   "execution_count": 3,
   "metadata": {},
   "outputs": [
    {
     "data": {
      "text/plain": [
       "1097"
      ]
     },
     "execution_count": 3,
     "metadata": {},
     "output_type": "execute_result"
    }
   ],
   "source": [
    "from scipy.stats import chi2_contingency\n",
    "\n",
    "control_group = df[df[\"treatment\"] == 1]\n",
    "\n",
    "len(control_group)"
   ]
  },
  {
   "cell_type": "code",
   "execution_count": 5,
   "metadata": {},
   "outputs": [
    {
     "data": {
      "text/plain": [
       "1275"
      ]
     },
     "execution_count": 5,
     "metadata": {},
     "output_type": "execute_result"
    }
   ],
   "source": [
    "cg = control_group\n",
    "\n",
    "#Выбираем штаты\n",
    "states = pd.unique(cg[\"state\"])\n",
    "pairs = []\n",
    "\n",
    "for i in range(len(states) - 1):\n",
    "    for j in range(i+1, len(states)):\n",
    "        pairs.append((states[i], states[j]))\n",
    "\n",
    "len(pairs)"
   ]
  },
  {
   "cell_type": "code",
   "execution_count": 6,
   "metadata": {},
   "outputs": [
    {
     "name": "stderr",
     "output_type": "stream",
     "text": [
      "C:\\bin\\anaconda3\\lib\\site-packages\\ipykernel_launcher.py:1: SettingWithCopyWarning: \n",
      "A value is trying to be set on a copy of a slice from a DataFrame.\n",
      "Try using .loc[row_indexer,col_indexer] = value instead\n",
      "\n",
      "See the caveats in the documentation: http://pandas.pydata.org/pandas-docs/stable/user_guide/indexing.html#returning-a-view-versus-a-copy\n",
      "  \"\"\"Entry point for launching an IPython kernel.\n"
     ]
    },
    {
     "data": {
      "text/plain": [
       "0       False\n",
       "3       False\n",
       "8       False\n",
       "12      False\n",
       "17      False\n",
       "        ...  \n",
       "3319    False\n",
       "3322     True\n",
       "3323     True\n",
       "3325    False\n",
       "3330    False\n",
       "Name: churn, Length: 1097, dtype: bool"
      ]
     },
     "execution_count": 6,
     "metadata": {},
     "output_type": "execute_result"
    }
   ],
   "source": [
    "cg[\"churn\"] = cg[\"churn\"].map(lambda x: True if x == \"True.\" else False)\n",
    "cg[\"churn\"]"
   ]
  },
  {
   "cell_type": "code",
   "execution_count": 32,
   "metadata": {},
   "outputs": [
    {
     "data": {
      "text/html": [
       "<div>\n",
       "<style scoped>\n",
       "    .dataframe tbody tr th:only-of-type {\n",
       "        vertical-align: middle;\n",
       "    }\n",
       "\n",
       "    .dataframe tbody tr th {\n",
       "        vertical-align: top;\n",
       "    }\n",
       "\n",
       "    .dataframe thead th {\n",
       "        text-align: right;\n",
       "    }\n",
       "</style>\n",
       "<table border=\"1\" class=\"dataframe\">\n",
       "  <thead>\n",
       "    <tr style=\"text-align: right;\">\n",
       "      <th></th>\n",
       "      <th>pairs</th>\n",
       "      <th>subtable</th>\n",
       "      <th>chi2</th>\n",
       "    </tr>\n",
       "  </thead>\n",
       "  <tbody>\n",
       "    <tr>\n",
       "      <td>0</td>\n",
       "      <td>(KS, OH)</td>\n",
       "      <td>[[18, 22], [7, 2]]</td>\n",
       "      <td>0.075524</td>\n",
       "    </tr>\n",
       "    <tr>\n",
       "      <td>1</td>\n",
       "      <td>(KS, LA)</td>\n",
       "      <td>[[18, 15], [7, 0]]</td>\n",
       "      <td>0.024052</td>\n",
       "    </tr>\n",
       "    <tr>\n",
       "      <td>2</td>\n",
       "      <td>(KS, IA)</td>\n",
       "      <td>[[18, 13], [7, 2]]</td>\n",
       "      <td>0.282190</td>\n",
       "    </tr>\n",
       "    <tr>\n",
       "      <td>3</td>\n",
       "      <td>(KS, VT)</td>\n",
       "      <td>[[18, 18], [7, 5]]</td>\n",
       "      <td>0.616769</td>\n",
       "    </tr>\n",
       "    <tr>\n",
       "      <td>4</td>\n",
       "      <td>(KS, CO)</td>\n",
       "      <td>[[18, 17], [7, 5]]</td>\n",
       "      <td>0.679125</td>\n",
       "    </tr>\n",
       "    <tr>\n",
       "      <td>...</td>\n",
       "      <td>...</td>\n",
       "      <td>...</td>\n",
       "      <td>...</td>\n",
       "    </tr>\n",
       "    <tr>\n",
       "      <td>1270</td>\n",
       "      <td>(IL, HI)</td>\n",
       "      <td>[[11, 12], [1, 1]]</td>\n",
       "      <td>0.952933</td>\n",
       "    </tr>\n",
       "    <tr>\n",
       "      <td>1271</td>\n",
       "      <td>(IL, SC)</td>\n",
       "      <td>[[11, 16], [1, 5]]</td>\n",
       "      <td>0.267505</td>\n",
       "    </tr>\n",
       "    <tr>\n",
       "      <td>1272</td>\n",
       "      <td>(ND, HI)</td>\n",
       "      <td>[[21, 12], [3, 1]]</td>\n",
       "      <td>0.652998</td>\n",
       "    </tr>\n",
       "    <tr>\n",
       "      <td>1273</td>\n",
       "      <td>(ND, SC)</td>\n",
       "      <td>[[21, 16], [3, 5]]</td>\n",
       "      <td>0.322191</td>\n",
       "    </tr>\n",
       "    <tr>\n",
       "      <td>1274</td>\n",
       "      <td>(HI, SC)</td>\n",
       "      <td>[[12, 16], [1, 5]]</td>\n",
       "      <td>0.230918</td>\n",
       "    </tr>\n",
       "  </tbody>\n",
       "</table>\n",
       "<p>1275 rows × 3 columns</p>\n",
       "</div>"
      ],
      "text/plain": [
       "         pairs            subtable      chi2\n",
       "0     (KS, OH)  [[18, 22], [7, 2]]  0.075524\n",
       "1     (KS, LA)  [[18, 15], [7, 0]]  0.024052\n",
       "2     (KS, IA)  [[18, 13], [7, 2]]  0.282190\n",
       "3     (KS, VT)  [[18, 18], [7, 5]]  0.616769\n",
       "4     (KS, CO)  [[18, 17], [7, 5]]  0.679125\n",
       "...        ...                 ...       ...\n",
       "1270  (IL, HI)  [[11, 12], [1, 1]]  0.952933\n",
       "1271  (IL, SC)  [[11, 16], [1, 5]]  0.267505\n",
       "1272  (ND, HI)  [[21, 12], [3, 1]]  0.652998\n",
       "1273  (ND, SC)  [[21, 16], [3, 5]]  0.322191\n",
       "1274  (HI, SC)  [[12, 16], [1, 5]]  0.230918\n",
       "\n",
       "[1275 rows x 3 columns]"
      ]
     },
     "execution_count": 32,
     "metadata": {},
     "output_type": "execute_result"
    }
   ],
   "source": [
    "#Q1\n",
    "q1df = pd.DataFrame({\"pairs\": pairs})\n",
    "\n",
    "subtable = []\n",
    "chi2 = []\n",
    "i = 0\n",
    "for pair in pairs:\n",
    "    a = len(cg[(cg[\"state\"] == pair[0]) & (cg[\"churn\"] == False)])\n",
    "    b = len(cg[(cg[\"state\"] == pair[1]) & (cg[\"churn\"] == False)])\n",
    "    c = len(cg[(cg[\"state\"] == pair[0]) & (cg[\"churn\"] == True)])\n",
    "    d = len(cg[(cg[\"state\"] == pair[1]) & (cg[\"churn\"] == True)])\n",
    "    subtable.append([[a,b],[c,d]])\n",
    "    try:\n",
    "        chi2.append(chi2_contingency([[a,b],[c,d]], correction=False)[1])\n",
    "    except:\n",
    "        chi2.append(999)\n",
    "        \n",
    "alpha = 0.05\n",
    "\n",
    "q1df[\"subtable\"] = subtable\n",
    "q1df[\"chi2\"] = chi2\n",
    "    \n",
    "q1df"
   ]
  },
  {
   "cell_type": "code",
   "execution_count": 33,
   "metadata": {},
   "outputs": [
    {
     "data": {
      "text/plain": [
       "34"
      ]
     },
     "execution_count": 33,
     "metadata": {},
     "output_type": "execute_result"
    }
   ],
   "source": [
    "#Q1\n",
    "\n",
    "len(q1df[q1df[\"chi2\"] < alpha])   #SUCCESS!"
   ]
  },
  {
   "cell_type": "code",
   "execution_count": 36,
   "metadata": {},
   "outputs": [
    {
     "data": {
      "text/plain": [
       "0"
      ]
     },
     "execution_count": 36,
     "metadata": {},
     "output_type": "execute_result"
    }
   ],
   "source": [
    "#Q2 применение не обосновано, интерпретация некорректна SUCCESS\n",
    "\n",
    "#Q3\n",
    "subtable = []\n",
    "chi2 = []\n",
    "i = 0\n",
    "for pair in pairs:\n",
    "    a = len(cg[(cg[\"state\"] == pair[0]) & (cg[\"churn\"] == False)])\n",
    "    b = len(cg[(cg[\"state\"] == pair[1]) & (cg[\"churn\"] == False)])\n",
    "    c = len(cg[(cg[\"state\"] == pair[0]) & (cg[\"churn\"] == True)])\n",
    "    d = len(cg[(cg[\"state\"] == pair[1]) & (cg[\"churn\"] == True)])\n",
    "    subtable.append([[a,b],[c,d]])\n",
    "    try:\n",
    "        chi2.append(chi2_contingency([[a,b],[c,d]], correction=True)[1])\n",
    "    except:\n",
    "        chi2.append(999)\n",
    "        \n",
    "alpha = 0.05\n",
    "\n",
    "q1df[\"subtable\"] = subtable\n",
    "q1df[\"chi2_true\"] = chi2\n",
    "    \n",
    "len(q1df[q1df[\"chi2_true\"] < alpha])\n",
    "#количество раво нулю, в среднем увеличивает, в среднем больше FAIL\n",
    "#количество равно нулю, в среднем больше SUCCESS"
   ]
  },
  {
   "cell_type": "code",
   "execution_count": 35,
   "metadata": {},
   "outputs": [
    {
     "data": {
      "text/plain": [
       "(0.501827379873916, 0.6640566382051037)"
      ]
     },
     "execution_count": 35,
     "metadata": {},
     "output_type": "execute_result"
    }
   ],
   "source": [
    "q1df[\"chi2\"].mean(), q1df[\"chi2_true\"].mean()"
   ]
  },
  {
   "cell_type": "code",
   "execution_count": 40,
   "metadata": {},
   "outputs": [
    {
     "data": {
      "text/plain": [
       "(10, 0.6483383060020688)"
      ]
     },
     "execution_count": 40,
     "metadata": {},
     "output_type": "execute_result"
    }
   ],
   "source": [
    "#Q4\n",
    "from scipy.stats import fisher_exact\n",
    "\n",
    "fisher = []\n",
    "for subtable in q1df.subtable.tolist():\n",
    "    fisher.append(fisher_exact(subtable)[1])\n",
    "\n",
    "q1df[\"fisher\"] = fisher\n",
    "len(q1df[q1df[\"fisher\"] < alpha]), q1df[\"fisher\"].mean()\n",
    "\n",
    "#в среднем больше, чем хи-квадрат без поправки, меньше, чем хи-квадрат с поправкой FAIL\n",
    "#<еще какая-то галочка нужна, хз>"
   ]
  },
  {
   "cell_type": "code",
   "execution_count": 43,
   "metadata": {},
   "outputs": [
    {
     "data": {
      "text/plain": [
       "(           day_calls  mes_estim\n",
       " day_calls   1.000000  -0.051794\n",
       " mes_estim  -0.051794   1.000000,            day_calls  mes_estim\n",
       " day_calls    1.00000    0.04335\n",
       " mes_estim    0.04335    1.00000)"
      ]
     },
     "execution_count": 43,
     "metadata": {},
     "output_type": "execute_result"
    }
   ],
   "source": [
    "#Q5-Q6\n",
    "\n",
    "q5df = df[[\"day_calls\", \"mes_estim\"]]\n",
    "\n",
    "q5df.corr(method=\"pearson\"), q5df.corr(method=\"spearman\")\n",
    "\n",
    "#Q5 - отрицательно, значимо SUCCESS\n",
    "#Q6 - положительно, не значимо SUCCESS\n",
    "#Q7 - необходимо взглянуть на данные глазами SUCCESS"
   ]
  },
  {
   "cell_type": "code",
   "execution_count": 46,
   "metadata": {},
   "outputs": [
    {
     "data": {
      "text/plain": [
       "0.20039321502033322"
      ]
     },
     "execution_count": 46,
     "metadata": {},
     "output_type": "execute_result"
    }
   ],
   "source": [
    "#Q8 Крамер\n",
    "# Таблица сопряженности имеет число столбцов равное числу штатов и две строки (churn == False, churn == True)\n",
    "\n",
    "K_false = []\n",
    "K_true  = []\n",
    "N = 0 #общее число\n",
    "for state in cg.state.unique():\n",
    "    f = len(cg[(cg[\"state\"] == state) & (cg[\"churn\"] == False)])\n",
    "    t = len(cg[(cg[\"state\"] == state) & (cg[\"churn\"] == True)])\n",
    "    K_false.append(f)\n",
    "    K_true.append(t)\n",
    "    N += f+t\n",
    "\n",
    "V_kramer =  math.sqrt(chi2_contingency([K_false, K_true])[0]/N)\n",
    "V_kramer\n",
    "\n",
    "#Не можем положиться SUCCESS\n",
    "\n",
    "#Q9 статистически незначимо различие между 0 и 2 FAIL"
   ]
  }
 ],
 "metadata": {
  "kernelspec": {
   "display_name": "Python 3",
   "language": "python",
   "name": "python3"
  },
  "language_info": {
   "codemirror_mode": {
    "name": "ipython",
    "version": 3
   },
   "file_extension": ".py",
   "mimetype": "text/x-python",
   "name": "python",
   "nbconvert_exporter": "python",
   "pygments_lexer": "ipython3",
   "version": "3.8.3"
  }
 },
 "nbformat": 4,
 "nbformat_minor": 2
}
