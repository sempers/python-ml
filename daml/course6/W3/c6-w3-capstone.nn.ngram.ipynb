{
 "cells": [
  {
   "cell_type": "markdown",
   "metadata": {},
   "source": [
    "# Решение задачи классификации текстов по сантименту при помощи нейронных сетей\n",
    "\n",
    "### Эпиграф\n",
    "\n",
    "Будучи глубоко неудовлетворен теми результатами, которых позволяла достичь линейная и логистическая регрессия, я решил отложить сдачу финального проекта до тех пор, пока не обучусь нейросетям. Т.к. в настоящей специализации они проходились, я считаю такое решение задачи нейросетями совершенно легитимным.\n"
   ]
  },
  {
   "cell_type": "code",
   "execution_count": 18,
   "metadata": {},
   "outputs": [
    {
     "name": "stdout",
     "output_type": "stream",
     "text": [
      "Requirement already satisfied: nltk in c:\\bin\\anaconda3\\lib\\site-packages (3.4.5)\n",
      "Requirement already satisfied: six in c:\\bin\\anaconda3\\lib\\site-packages (from nltk) (1.12.0)\n",
      "Requirement already satisfied: tensorflow in c:\\bin\\anaconda3\\lib\\site-packages (2.3.0)\n",
      "Requirement already satisfied: protobuf>=3.9.2 in c:\\bin\\anaconda3\\lib\\site-packages (from tensorflow) (3.11.3)\n",
      "Requirement already satisfied: h5py<2.11.0,>=2.10.0 in c:\\bin\\anaconda3\\lib\\site-packages (from tensorflow) (2.10.0)\n",
      "Requirement already satisfied: keras-preprocessing<1.2,>=1.1.1 in c:\\bin\\anaconda3\\lib\\site-packages (from tensorflow) (1.1.2)\n",
      "Requirement already satisfied: opt-einsum>=2.3.2 in c:\\bin\\anaconda3\\lib\\site-packages (from tensorflow) (3.2.1)\n",
      "Requirement already satisfied: numpy<1.19.0,>=1.16.0 in c:\\bin\\anaconda3\\lib\\site-packages (from tensorflow) (1.16.5)\n",
      "Requirement already satisfied: wheel>=0.26 in c:\\bin\\anaconda3\\lib\\site-packages (from tensorflow) (0.33.6)\n",
      "Requirement already satisfied: scipy==1.4.1 in c:\\bin\\anaconda3\\lib\\site-packages (from tensorflow) (1.4.1)\n",
      "Requirement already satisfied: grpcio>=1.8.6 in c:\\bin\\anaconda3\\lib\\site-packages (from tensorflow) (1.28.1)\n",
      "Requirement already satisfied: termcolor>=1.1.0 in c:\\bin\\anaconda3\\lib\\site-packages (from tensorflow) (1.1.0)\n",
      "Requirement already satisfied: six>=1.12.0 in c:\\bin\\anaconda3\\lib\\site-packages (from tensorflow) (1.12.0)\n",
      "Requirement already satisfied: tensorflow-estimator<2.4.0,>=2.3.0 in c:\\bin\\anaconda3\\lib\\site-packages (from tensorflow) (2.3.0)\n",
      "Requirement already satisfied: google-pasta>=0.1.8 in c:\\bin\\anaconda3\\lib\\site-packages (from tensorflow) (0.2.0)\n",
      "Requirement already satisfied: absl-py>=0.7.0 in c:\\bin\\anaconda3\\lib\\site-packages (from tensorflow) (0.9.0)\n",
      "Requirement already satisfied: wrapt>=1.11.1 in c:\\bin\\anaconda3\\lib\\site-packages (from tensorflow) (1.11.2)\n",
      "Requirement already satisfied: gast==0.3.3 in c:\\bin\\anaconda3\\lib\\site-packages (from tensorflow) (0.3.3)\n",
      "Requirement already satisfied: tensorboard<3,>=2.3.0 in c:\\bin\\anaconda3\\lib\\site-packages (from tensorflow) (2.3.0)\n",
      "Requirement already satisfied: astunparse==1.6.3 in c:\\bin\\anaconda3\\lib\\site-packages (from tensorflow) (1.6.3)\n",
      "Requirement already satisfied: setuptools in c:\\bin\\anaconda3\\lib\\site-packages (from protobuf>=3.9.2->tensorflow) (41.4.0)\n",
      "Requirement already satisfied: google-auth-oauthlib<0.5,>=0.4.1 in c:\\bin\\anaconda3\\lib\\site-packages (from tensorboard<3,>=2.3.0->tensorflow) (0.4.1)\n",
      "Requirement already satisfied: google-auth<2,>=1.6.3 in c:\\bin\\anaconda3\\lib\\site-packages (from tensorboard<3,>=2.3.0->tensorflow) (1.12.0)\n",
      "Requirement already satisfied: tensorboard-plugin-wit>=1.6.0 in c:\\bin\\anaconda3\\lib\\site-packages (from tensorboard<3,>=2.3.0->tensorflow) (1.7.0)\n",
      "Requirement already satisfied: markdown>=2.6.8 in c:\\bin\\anaconda3\\lib\\site-packages (from tensorboard<3,>=2.3.0->tensorflow) (3.2.1)\n",
      "Requirement already satisfied: requests<3,>=2.21.0 in c:\\bin\\anaconda3\\lib\\site-packages (from tensorboard<3,>=2.3.0->tensorflow) (2.22.0)\n",
      "Requirement already satisfied: werkzeug>=0.11.15 in c:\\bin\\anaconda3\\lib\\site-packages (from tensorboard<3,>=2.3.0->tensorflow) (0.16.0)\n",
      "Requirement already satisfied: requests-oauthlib>=0.7.0 in c:\\bin\\anaconda3\\lib\\site-packages (from google-auth-oauthlib<0.5,>=0.4.1->tensorboard<3,>=2.3.0->tensorflow) (1.3.0)\n",
      "Requirement already satisfied: cachetools<5.0,>=2.0.0 in c:\\bin\\anaconda3\\lib\\site-packages (from google-auth<2,>=1.6.3->tensorboard<3,>=2.3.0->tensorflow) (4.0.0)\n",
      "Requirement already satisfied: pyasn1-modules>=0.2.1 in c:\\bin\\anaconda3\\lib\\site-packages (from google-auth<2,>=1.6.3->tensorboard<3,>=2.3.0->tensorflow) (0.2.8)\n",
      "Requirement already satisfied: rsa<4.1,>=3.1.4 in c:\\bin\\anaconda3\\lib\\site-packages (from google-auth<2,>=1.6.3->tensorboard<3,>=2.3.0->tensorflow) (4.0)\n",
      "Requirement already satisfied: idna<2.9,>=2.5 in c:\\bin\\anaconda3\\lib\\site-packages (from requests<3,>=2.21.0->tensorboard<3,>=2.3.0->tensorflow) (2.8)\n",
      "Requirement already satisfied: certifi>=2017.4.17 in c:\\bin\\anaconda3\\lib\\site-packages (from requests<3,>=2.21.0->tensorboard<3,>=2.3.0->tensorflow) (2019.9.11)\n",
      "Requirement already satisfied: chardet<3.1.0,>=3.0.2 in c:\\bin\\anaconda3\\lib\\site-packages (from requests<3,>=2.21.0->tensorboard<3,>=2.3.0->tensorflow) (3.0.4)\n",
      "Requirement already satisfied: urllib3!=1.25.0,!=1.25.1,<1.26,>=1.21.1 in c:\\bin\\anaconda3\\lib\\site-packages (from requests<3,>=2.21.0->tensorboard<3,>=2.3.0->tensorflow) (1.24.2)\n",
      "Requirement already satisfied: oauthlib>=3.0.0 in c:\\bin\\anaconda3\\lib\\site-packages (from requests-oauthlib>=0.7.0->google-auth-oauthlib<0.5,>=0.4.1->tensorboard<3,>=2.3.0->tensorflow) (3.1.0)\n",
      "Requirement already satisfied: pyasn1<0.5.0,>=0.4.6 in c:\\bin\\anaconda3\\lib\\site-packages (from pyasn1-modules>=0.2.1->google-auth<2,>=1.6.3->tensorboard<3,>=2.3.0->tensorflow) (0.4.8)\n",
      "Requirement already satisfied: gensim in c:\\bin\\anaconda3\\lib\\site-packages (3.8.1)\n",
      "Requirement already satisfied: six>=1.5.0 in c:\\bin\\anaconda3\\lib\\site-packages (from gensim) (1.12.0)\n",
      "Requirement already satisfied: numpy>=1.11.3 in c:\\bin\\anaconda3\\lib\\site-packages (from gensim) (1.16.5)\n",
      "Requirement already satisfied: smart-open>=1.8.1 in c:\\bin\\anaconda3\\lib\\site-packages (from gensim) (1.10.0)\n",
      "Requirement already satisfied: scipy>=0.18.1 in c:\\bin\\anaconda3\\lib\\site-packages (from gensim) (1.4.1)\n",
      "Requirement already satisfied: boto3 in c:\\bin\\anaconda3\\lib\\site-packages (from smart-open>=1.8.1->gensim) (1.12.31)\n",
      "Requirement already satisfied: requests in c:\\bin\\anaconda3\\lib\\site-packages (from smart-open>=1.8.1->gensim) (2.22.0)\n",
      "Requirement already satisfied: google-cloud-storage in c:\\bin\\anaconda3\\lib\\site-packages (from smart-open>=1.8.1->gensim) (1.26.0)\n",
      "Requirement already satisfied: botocore<1.16.0,>=1.15.31 in c:\\bin\\anaconda3\\lib\\site-packages (from boto3->smart-open>=1.8.1->gensim) (1.15.31)\n",
      "Requirement already satisfied: jmespath<1.0.0,>=0.7.1 in c:\\bin\\anaconda3\\lib\\site-packages (from boto3->smart-open>=1.8.1->gensim) (0.9.5)\n",
      "Requirement already satisfied: s3transfer<0.4.0,>=0.3.0 in c:\\bin\\anaconda3\\lib\\site-packages (from boto3->smart-open>=1.8.1->gensim) (0.3.3)\n",
      "Requirement already satisfied: chardet<3.1.0,>=3.0.2 in c:\\bin\\anaconda3\\lib\\site-packages (from requests->smart-open>=1.8.1->gensim) (3.0.4)\n",
      "Requirement already satisfied: certifi>=2017.4.17 in c:\\bin\\anaconda3\\lib\\site-packages (from requests->smart-open>=1.8.1->gensim) (2019.9.11)\n",
      "Requirement already satisfied: idna<2.9,>=2.5 in c:\\bin\\anaconda3\\lib\\site-packages (from requests->smart-open>=1.8.1->gensim) (2.8)\n",
      "Requirement already satisfied: urllib3!=1.25.0,!=1.25.1,<1.26,>=1.21.1 in c:\\bin\\anaconda3\\lib\\site-packages (from requests->smart-open>=1.8.1->gensim) (1.24.2)\n",
      "Requirement already satisfied: google-auth<2.0dev,>=1.11.0 in c:\\bin\\anaconda3\\lib\\site-packages (from google-cloud-storage->smart-open>=1.8.1->gensim) (1.12.0)\n",
      "Requirement already satisfied: google-cloud-core<2.0dev,>=1.2.0 in c:\\bin\\anaconda3\\lib\\site-packages (from google-cloud-storage->smart-open>=1.8.1->gensim) (1.3.0)\n",
      "Requirement already satisfied: google-resumable-media<0.6dev,>=0.5.0 in c:\\bin\\anaconda3\\lib\\site-packages (from google-cloud-storage->smart-open>=1.8.1->gensim) (0.5.0)\n",
      "Requirement already satisfied: docutils<0.16,>=0.10 in c:\\bin\\anaconda3\\lib\\site-packages (from botocore<1.16.0,>=1.15.31->boto3->smart-open>=1.8.1->gensim) (0.15.2)\n",
      "Requirement already satisfied: python-dateutil<3.0.0,>=2.1 in c:\\bin\\anaconda3\\lib\\site-packages (from botocore<1.16.0,>=1.15.31->boto3->smart-open>=1.8.1->gensim) (2.8.0)\n",
      "Requirement already satisfied: cachetools<5.0,>=2.0.0 in c:\\bin\\anaconda3\\lib\\site-packages (from google-auth<2.0dev,>=1.11.0->google-cloud-storage->smart-open>=1.8.1->gensim) (4.0.0)\n",
      "Requirement already satisfied: setuptools>=40.3.0 in c:\\bin\\anaconda3\\lib\\site-packages (from google-auth<2.0dev,>=1.11.0->google-cloud-storage->smart-open>=1.8.1->gensim) (41.4.0)\n",
      "Requirement already satisfied: pyasn1-modules>=0.2.1 in c:\\bin\\anaconda3\\lib\\site-packages (from google-auth<2.0dev,>=1.11.0->google-cloud-storage->smart-open>=1.8.1->gensim) (0.2.8)\n",
      "Requirement already satisfied: rsa<4.1,>=3.1.4 in c:\\bin\\anaconda3\\lib\\site-packages (from google-auth<2.0dev,>=1.11.0->google-cloud-storage->smart-open>=1.8.1->gensim) (4.0)\n",
      "Requirement already satisfied: google-api-core<2.0.0dev,>=1.16.0 in c:\\bin\\anaconda3\\lib\\site-packages (from google-cloud-core<2.0dev,>=1.2.0->google-cloud-storage->smart-open>=1.8.1->gensim) (1.16.0)\n",
      "Requirement already satisfied: pyasn1<0.5.0,>=0.4.6 in c:\\bin\\anaconda3\\lib\\site-packages (from pyasn1-modules>=0.2.1->google-auth<2.0dev,>=1.11.0->google-cloud-storage->smart-open>=1.8.1->gensim) (0.4.8)\n",
      "Requirement already satisfied: googleapis-common-protos<2.0dev,>=1.6.0 in c:\\bin\\anaconda3\\lib\\site-packages (from google-api-core<2.0.0dev,>=1.16.0->google-cloud-core<2.0dev,>=1.2.0->google-cloud-storage->smart-open>=1.8.1->gensim) (1.51.0)\n",
      "Requirement already satisfied: pytz in c:\\bin\\anaconda3\\lib\\site-packages (from google-api-core<2.0.0dev,>=1.16.0->google-cloud-core<2.0dev,>=1.2.0->google-cloud-storage->smart-open>=1.8.1->gensim) (2019.3)\n",
      "Requirement already satisfied: protobuf>=3.4.0 in c:\\bin\\anaconda3\\lib\\site-packages (from google-api-core<2.0.0dev,>=1.16.0->google-cloud-core<2.0dev,>=1.2.0->google-cloud-storage->smart-open>=1.8.1->gensim) (3.11.3)\n"
     ]
    }
   ],
   "source": [
    "!pip install nltk\n",
    "!pip install tensorflow\n",
    "!pip install gensim"
   ]
  },
  {
   "cell_type": "code",
   "execution_count": 19,
   "metadata": {},
   "outputs": [
    {
     "name": "stderr",
     "output_type": "stream",
     "text": [
      "[nltk_data] Downloading package punkt to\n",
      "[nltk_data]     C:\\Users\\rookie\\AppData\\Roaming\\nltk_data...\n",
      "[nltk_data]   Package punkt is already up-to-date!\n"
     ]
    }
   ],
   "source": [
    "#1. Импортируем общие библиотеки.\n",
    "import pandas as pd\n",
    "import numpy as np\n",
    "import nltk\n",
    "nltk.download(\"punkt\")\n",
    "import matplotlib.pyplot as plt\n",
    "%matplotlib inline\n",
    "np.random.seed(42)"
   ]
  },
  {
   "cell_type": "code",
   "execution_count": 23,
   "metadata": {
    "scrolled": true
   },
   "outputs": [
    {
     "name": "stdout",
     "output_type": "stream",
     "text": [
      "2.3.0\n"
     ]
    },
    {
     "data": {
      "text/plain": [
       "<tensorflow.python.client.session.InteractiveSession at 0x1b7c121c508>"
      ]
     },
     "execution_count": 23,
     "metadata": {},
     "output_type": "execute_result"
    }
   ],
   "source": [
    "#2. Импортируем тензорфлоу и керас\n",
    "#Рассчитано на TF 2.0^\n",
    "\n",
    "import tensorflow as tf\n",
    "print(tf.__version__)\n",
    "import keras\n",
    "import keras.backend as K\n",
    "import keras.layers as L\n",
    "import tensorflow.compat.v1 as v1\n",
    "np.random.seed(42)\n",
    "\n",
    "#Функция очистки сессии\n",
    "def reset_tf_session():\n",
    "    curr_session = v1.get_default_session()\n",
    "    if curr_session is not None:\n",
    "        curr_session.close()\n",
    "    # reset graph\n",
    "    K.clear_session()\n",
    "    # create new session\n",
    "    config = v1.ConfigProto()\n",
    "    config.gpu_options.allow_growth = True\n",
    "    s = v1.InteractiveSession(config=config)\n",
    "    v1.keras.backend.set_session\n",
    "    return s\n",
    "\n",
    "reset_tf_session()"
   ]
  },
  {
   "cell_type": "markdown",
   "metadata": {},
   "source": [
    "Идея состоит в следующем.\n",
    "1. Т.к. данные довольно хорошо предобработаны (например, все приведено к нижнему регистру, пунктуация уже отделена пробелами), разбиваем исходные тексты на слова простым методом .split()\n",
    "2. Делим тексты на биграммы, создаем словарь биграмм, который отображает биграмму в целое число (индекс словаря), причем при применении к тестовым данных в будущем не будем учитывать порядок слов в биграмме.\n",
    "3. На основе предобученных векторизаций GloVe строим матрицу векторизации биграмм, причем векторизация биграммы будет усреднением векторизаций слов.\n",
    "4. Подаем векторизованные биграммы из исходных текстов на вход нейронной сети и обучаем ее."
   ]
  },
  {
   "cell_type": "code",
   "execution_count": 24,
   "metadata": {},
   "outputs": [],
   "source": [
    "from nltk import bigrams, ngrams, everygrams\n",
    "from sklearn.model_selection import train_test_split\n",
    "from gensim.models import phrases, word2vec\n"
   ]
  },
  {
   "cell_type": "code",
   "execution_count": 25,
   "metadata": {},
   "outputs": [
    {
     "data": {
      "text/plain": [
       "(2000,\n",
       " 2000,\n",
       " 25080,\n",
       " ('2 . take around 10,000 640x480 pictures .',\n",
       "  [[('2',),\n",
       "    ('.',),\n",
       "    ('take',),\n",
       "    ('around',),\n",
       "    ('10,000',),\n",
       "    ('640x480',),\n",
       "    ('pictures',),\n",
       "    ('.',),\n",
       "    ('2', '.'),\n",
       "    ('.', 'take'),\n",
       "    ('take', 'around'),\n",
       "    ('around', '10,000'),\n",
       "    ('10,000', '640x480'),\n",
       "    ('640x480', 'pictures'),\n",
       "    ('pictures', '.')]]))"
      ]
     },
     "execution_count": 25,
     "metadata": {},
     "output_type": "execute_result"
    }
   ],
   "source": [
    "#3. Готовим первичные выборки, разбиваем тексты на n-граммы от одного слова до четырех с помощью nltk.everygrams, делаем словарь\n",
    "df = pd.read_csv(\"products_sentiment_train.tsv\", sep='\\t', header=None)\n",
    "df.columns = [\"text\", \"label\"]\n",
    "\n",
    "X = [x[0] for x in df[[\"text\"]].values.tolist()]   #Выборка, где элемент - строка \n",
    "Y = [y[0] for y in df[[\"label\"]].values.tolist()]\n",
    "\n",
    "#Преобразует тексты в список токенов, где биграммы будут вида X_Y\n",
    "def tokenize_texts(texts):\n",
    "    return [list(everygrams(text.split(), 1, 2)) for text in texts]\n",
    "\n",
    "#Готовим словарь\n",
    "#Плоский список всех слов всех текстов\n",
    "flat_list = [item for sublist in tokenize_texts(X) for item in sublist]\n",
    "#Список уникальных слов\n",
    "all_words = list(set(flat_list))\n",
    "\n",
    "del flat_list\n",
    "UNK = \"#UNK\" #Символ \"неизвестное слово\", будет кодироваться нулем или нулевым вектором\n",
    "\n",
    "all_words = [UNK] + all_words\n",
    "vocab = {word: idx for idx, word in enumerate(all_words)}\n",
    "\n",
    "len(X), len(Y), len(vocab), (X[0], tokenize_texts(X[0:1]))"
   ]
  },
  {
   "cell_type": "code",
   "execution_count": 26,
   "metadata": {},
   "outputs": [
    {
     "data": {
      "text/plain": [
       "array([[14324, 12915, 18820, 23732,  9311, 16272, 18553, 12915, 20580,\n",
       "         8331, 18623, 12540, 23731,  5991,  3242,     0,     0,     0,\n",
       "            0,     0,     0,     0,     0,     0,     0,     0,     0,\n",
       "            0,     0,     0,     0,     0,     0,     0,     0,     0,\n",
       "            0,     0,     0,     0,     0,     0,     0,     0,     0,\n",
       "            0,     0,     0,     0,     0,     0,     0,     0,     0,\n",
       "            0],\n",
       "       [11578, 14635, 23645,  3620,  9390,  2065, 23446,  3675,  7571,\n",
       "        13095, 20179, 11974, 20179, 14787,  1121,  6094,  7903, 23645,\n",
       "        23446,  7003,  6148,  4696, 17706, 18068, 12915, 10527, 19049,\n",
       "        17745, 12178,  5145,  9952, 10050,  5222,  3783, 22879, 15122,\n",
       "        11845,  9510,  8519, 24452,  4323,  8332, 20081,  2228, 18076,\n",
       "        18555, 23094, 15288,  5520,     0,     0,     0,     0,     0,\n",
       "            0],\n",
       "       [ 8399,  8703, 11305,  8399, 15032, 12782, 23645,  5423,  6524,\n",
       "        13339, 10448,  7738, 14558,  1093,  1121, 23645, 13699,  1465,\n",
       "        23841, 13253, 23645, 21311, 24893, 18230, 18848, 20377, 16864,\n",
       "        12915,  4723,   579,  7932,  7337,  9195, 22664, 11882,  7013,\n",
       "        16812,  5835, 16780, 20492, 24400, 18653,  6433,  4658,  5614,\n",
       "         5865, 12341,  7036, 11748,  5740,  1541, 17146, 15118,  4508,\n",
       "        16879]])"
      ]
     },
     "execution_count": 26,
     "metadata": {},
     "output_type": "execute_result"
    }
   ],
   "source": [
    "#4.1 Функции для работы модели\n",
    "from keras.preprocessing.sequence import pad_sequences\n",
    "#Размер батча\n",
    "N_BATCH = 4\n",
    "\n",
    "#Функция возвращает индекс из словаря для биграммы, неважен порядок слов в биграмме\n",
    "def ngram(t):\n",
    "    if t in vocab:\n",
    "        return vocab[t]\n",
    "    else:\n",
    "        return vocab[UNK]\n",
    "\n",
    "def any_of_ngram(t):\n",
    "    if len(t) == 1:\n",
    "        if t in vocab:\n",
    "            return vocab[t]\n",
    "        else:\n",
    "            return vocab[UNK]\n",
    "    if len(t) == 2:\n",
    "        if (t[0], t[1]) in vocab:\n",
    "            return vocab[t]\n",
    "        elif (t[1], t[0]) in vocab:\n",
    "            return vocab[(t[1], t[0])]\n",
    "        else:\n",
    "            return vocab[UNK]    \n",
    "\n",
    "#Преобразуем биграммы в индексную последовательность\n",
    "def to_sequence(tokens):\n",
    "    return np.array([ngram(t) for t in tokens])\n",
    "\n",
    "#Преобразуем список текстов в Numpy матрицу последовательностей формы (<колво текстов>, <длина самого длинного из них>). \n",
    "#Последовательности в матрице дополняем нулями справа до нужной длины. Строк полностью из нулей быть не должно.\n",
    "#Пример\n",
    "#Словарь: {'A': 1, 'B': 2, 'C': 3}\n",
    "#Тексты:  \n",
    "#[['A B B C'], ['B C A']]\n",
    "#На выходе матрица \n",
    "#[[1, 2, 2, 3],\n",
    "# [2, 3, 1, 0]]\n",
    "def to_matrix(texts, maxlen=0): #- для варианта с СОБСТВЕННЫМ СЛОВАРЕМ\n",
    "    seqs = [to_sequence(tokens) for tokens in tokenize_texts(texts)]\n",
    "    if maxlen == 0:\n",
    "        maxlen = min(9999, max(list(map(len, seqs))))\n",
    "    return pad_sequences(seqs, maxlen=maxlen, dtype='int32', padding='post', truncating='post', value=0)\n",
    "\n",
    "#Выбираем из исходных выборок батч заданной длины, X прогоняем через to_matrix, Y просто преобразуем к формату numpy\n",
    "#Эта функция не применяется, т.к. достаточно памяти для загрузки всех данных сразу\n",
    "def get_batch(xs, y, count=N_BATCH):\n",
    "    offset = 0\n",
    "    while True:\n",
    "        x_batch = x[offset:offset+count]\n",
    "        X_batch = to_matrix()\n",
    "        LR_batch = np.array(pipeline.predict(x_batch))\n",
    "        Y_batch = np.array(y[offset:offset+count])\n",
    "        yield [X_batch, LR_batch], Y_batch\n",
    "        offset += count\n",
    "        if offset >= len(x)//count*count:\n",
    "            offset = 0\n",
    "            \n",
    "to_matrix(X[0:3])"
   ]
  },
  {
   "cell_type": "code",
   "execution_count": null,
   "metadata": {},
   "outputs": [],
   "source": [
    "#4.2\n",
    "#Используем keras.layers.Embedding"
   ]
  },
  {
   "cell_type": "code",
   "execution_count": 54,
   "metadata": {},
   "outputs": [
    {
     "name": "stderr",
     "output_type": "stream",
     "text": [
      "C:\\bin\\anaconda3\\lib\\site-packages\\ipykernel_launcher.py:9: DeprecationWarning: Call to deprecated `__contains__` (Method will be removed in 4.0.0, use self.wv.__contains__() instead).\n",
      "  if __name__ == '__main__':\n",
      "C:\\bin\\anaconda3\\lib\\site-packages\\ipykernel_launcher.py:10: DeprecationWarning: Call to deprecated `__getitem__` (Method will be removed in 4.0.0, use self.wv.__getitem__() instead).\n",
      "  # Remove the CWD from sys.path while we load stuff.\n",
      "C:\\bin\\anaconda3\\lib\\site-packages\\ipykernel_launcher.py:30: DeprecationWarning: Call to deprecated `__getitem__` (Method will be removed in 4.0.0, use self.wv.__getitem__() instead).\n"
     ]
    },
    {
     "ename": "KeyError",
     "evalue": "\"word 'I' not in vocabulary\"",
     "output_type": "error",
     "traceback": [
      "\u001b[1;31m---------------------------------------------------------------------------\u001b[0m",
      "\u001b[1;31mKeyError\u001b[0m                                  Traceback (most recent call last)",
      "\u001b[1;32m<ipython-input-54-1a96ee35be2a>\u001b[0m in \u001b[0;36m<module>\u001b[1;34m\u001b[0m\n\u001b[0;32m     28\u001b[0m                             mask_zero=True)\n\u001b[0;32m     29\u001b[0m \u001b[1;33m\u001b[0m\u001b[0m\n\u001b[1;32m---> 30\u001b[1;33m \u001b[0mmodel\u001b[0m\u001b[1;33m[\u001b[0m\u001b[1;33m[\u001b[0m\u001b[1;34m'I'\u001b[0m\u001b[1;33m]\u001b[0m\u001b[1;33m]\u001b[0m\u001b[1;33m\u001b[0m\u001b[1;33m\u001b[0m\u001b[0m\n\u001b[0m",
      "\u001b[1;32mC:\\bin\\anaconda3\\lib\\site-packages\\gensim\\utils.py\u001b[0m in \u001b[0;36mnew_func1\u001b[1;34m(*args, **kwargs)\u001b[0m\n\u001b[0;32m   1445\u001b[0m                     \u001b[0mstacklevel\u001b[0m\u001b[1;33m=\u001b[0m\u001b[1;36m2\u001b[0m\u001b[1;33m\u001b[0m\u001b[1;33m\u001b[0m\u001b[0m\n\u001b[0;32m   1446\u001b[0m                 )\n\u001b[1;32m-> 1447\u001b[1;33m                 \u001b[1;32mreturn\u001b[0m \u001b[0mfunc\u001b[0m\u001b[1;33m(\u001b[0m\u001b[1;33m*\u001b[0m\u001b[0margs\u001b[0m\u001b[1;33m,\u001b[0m \u001b[1;33m**\u001b[0m\u001b[0mkwargs\u001b[0m\u001b[1;33m)\u001b[0m\u001b[1;33m\u001b[0m\u001b[1;33m\u001b[0m\u001b[0m\n\u001b[0m\u001b[0;32m   1448\u001b[0m \u001b[1;33m\u001b[0m\u001b[0m\n\u001b[0;32m   1449\u001b[0m             \u001b[1;32mreturn\u001b[0m \u001b[0mnew_func1\u001b[0m\u001b[1;33m\u001b[0m\u001b[1;33m\u001b[0m\u001b[0m\n",
      "\u001b[1;32mC:\\bin\\anaconda3\\lib\\site-packages\\gensim\\models\\word2vec.py\u001b[0m in \u001b[0;36m__getitem__\u001b[1;34m(self, words)\u001b[0m\n\u001b[0;32m   1119\u001b[0m \u001b[1;33m\u001b[0m\u001b[0m\n\u001b[0;32m   1120\u001b[0m         \"\"\"\n\u001b[1;32m-> 1121\u001b[1;33m         \u001b[1;32mreturn\u001b[0m \u001b[0mself\u001b[0m\u001b[1;33m.\u001b[0m\u001b[0mwv\u001b[0m\u001b[1;33m.\u001b[0m\u001b[0m__getitem__\u001b[0m\u001b[1;33m(\u001b[0m\u001b[0mwords\u001b[0m\u001b[1;33m)\u001b[0m\u001b[1;33m\u001b[0m\u001b[1;33m\u001b[0m\u001b[0m\n\u001b[0m\u001b[0;32m   1122\u001b[0m \u001b[1;33m\u001b[0m\u001b[0m\n\u001b[0;32m   1123\u001b[0m     \u001b[1;33m@\u001b[0m\u001b[0mdeprecated\u001b[0m\u001b[1;33m(\u001b[0m\u001b[1;34m\"Method will be removed in 4.0.0, use self.wv.__contains__() instead\"\u001b[0m\u001b[1;33m)\u001b[0m\u001b[1;33m\u001b[0m\u001b[1;33m\u001b[0m\u001b[0m\n",
      "\u001b[1;32mC:\\bin\\anaconda3\\lib\\site-packages\\gensim\\models\\keyedvectors.py\u001b[0m in \u001b[0;36m__getitem__\u001b[1;34m(self, entities)\u001b[0m\n\u001b[0;32m    353\u001b[0m             \u001b[1;32mreturn\u001b[0m \u001b[0mself\u001b[0m\u001b[1;33m.\u001b[0m\u001b[0mget_vector\u001b[0m\u001b[1;33m(\u001b[0m\u001b[0mentities\u001b[0m\u001b[1;33m)\u001b[0m\u001b[1;33m\u001b[0m\u001b[1;33m\u001b[0m\u001b[0m\n\u001b[0;32m    354\u001b[0m \u001b[1;33m\u001b[0m\u001b[0m\n\u001b[1;32m--> 355\u001b[1;33m         \u001b[1;32mreturn\u001b[0m \u001b[0mvstack\u001b[0m\u001b[1;33m(\u001b[0m\u001b[1;33m[\u001b[0m\u001b[0mself\u001b[0m\u001b[1;33m.\u001b[0m\u001b[0mget_vector\u001b[0m\u001b[1;33m(\u001b[0m\u001b[0mentity\u001b[0m\u001b[1;33m)\u001b[0m \u001b[1;32mfor\u001b[0m \u001b[0mentity\u001b[0m \u001b[1;32min\u001b[0m \u001b[0mentities\u001b[0m\u001b[1;33m]\u001b[0m\u001b[1;33m)\u001b[0m\u001b[1;33m\u001b[0m\u001b[1;33m\u001b[0m\u001b[0m\n\u001b[0m\u001b[0;32m    356\u001b[0m \u001b[1;33m\u001b[0m\u001b[0m\n\u001b[0;32m    357\u001b[0m     \u001b[1;32mdef\u001b[0m \u001b[0m__contains__\u001b[0m\u001b[1;33m(\u001b[0m\u001b[0mself\u001b[0m\u001b[1;33m,\u001b[0m \u001b[0mentity\u001b[0m\u001b[1;33m)\u001b[0m\u001b[1;33m:\u001b[0m\u001b[1;33m\u001b[0m\u001b[1;33m\u001b[0m\u001b[0m\n",
      "\u001b[1;32mC:\\bin\\anaconda3\\lib\\site-packages\\gensim\\models\\keyedvectors.py\u001b[0m in \u001b[0;36m<listcomp>\u001b[1;34m(.0)\u001b[0m\n\u001b[0;32m    353\u001b[0m             \u001b[1;32mreturn\u001b[0m \u001b[0mself\u001b[0m\u001b[1;33m.\u001b[0m\u001b[0mget_vector\u001b[0m\u001b[1;33m(\u001b[0m\u001b[0mentities\u001b[0m\u001b[1;33m)\u001b[0m\u001b[1;33m\u001b[0m\u001b[1;33m\u001b[0m\u001b[0m\n\u001b[0;32m    354\u001b[0m \u001b[1;33m\u001b[0m\u001b[0m\n\u001b[1;32m--> 355\u001b[1;33m         \u001b[1;32mreturn\u001b[0m \u001b[0mvstack\u001b[0m\u001b[1;33m(\u001b[0m\u001b[1;33m[\u001b[0m\u001b[0mself\u001b[0m\u001b[1;33m.\u001b[0m\u001b[0mget_vector\u001b[0m\u001b[1;33m(\u001b[0m\u001b[0mentity\u001b[0m\u001b[1;33m)\u001b[0m \u001b[1;32mfor\u001b[0m \u001b[0mentity\u001b[0m \u001b[1;32min\u001b[0m \u001b[0mentities\u001b[0m\u001b[1;33m]\u001b[0m\u001b[1;33m)\u001b[0m\u001b[1;33m\u001b[0m\u001b[1;33m\u001b[0m\u001b[0m\n\u001b[0m\u001b[0;32m    356\u001b[0m \u001b[1;33m\u001b[0m\u001b[0m\n\u001b[0;32m    357\u001b[0m     \u001b[1;32mdef\u001b[0m \u001b[0m__contains__\u001b[0m\u001b[1;33m(\u001b[0m\u001b[0mself\u001b[0m\u001b[1;33m,\u001b[0m \u001b[0mentity\u001b[0m\u001b[1;33m)\u001b[0m\u001b[1;33m:\u001b[0m\u001b[1;33m\u001b[0m\u001b[1;33m\u001b[0m\u001b[0m\n",
      "\u001b[1;32mC:\\bin\\anaconda3\\lib\\site-packages\\gensim\\models\\keyedvectors.py\u001b[0m in \u001b[0;36mget_vector\u001b[1;34m(self, word)\u001b[0m\n\u001b[0;32m    469\u001b[0m \u001b[1;33m\u001b[0m\u001b[0m\n\u001b[0;32m    470\u001b[0m     \u001b[1;32mdef\u001b[0m \u001b[0mget_vector\u001b[0m\u001b[1;33m(\u001b[0m\u001b[0mself\u001b[0m\u001b[1;33m,\u001b[0m \u001b[0mword\u001b[0m\u001b[1;33m)\u001b[0m\u001b[1;33m:\u001b[0m\u001b[1;33m\u001b[0m\u001b[1;33m\u001b[0m\u001b[0m\n\u001b[1;32m--> 471\u001b[1;33m         \u001b[1;32mreturn\u001b[0m \u001b[0mself\u001b[0m\u001b[1;33m.\u001b[0m\u001b[0mword_vec\u001b[0m\u001b[1;33m(\u001b[0m\u001b[0mword\u001b[0m\u001b[1;33m)\u001b[0m\u001b[1;33m\u001b[0m\u001b[1;33m\u001b[0m\u001b[0m\n\u001b[0m\u001b[0;32m    472\u001b[0m \u001b[1;33m\u001b[0m\u001b[0m\n\u001b[0;32m    473\u001b[0m     \u001b[1;32mdef\u001b[0m \u001b[0mwords_closer_than\u001b[0m\u001b[1;33m(\u001b[0m\u001b[0mself\u001b[0m\u001b[1;33m,\u001b[0m \u001b[0mw1\u001b[0m\u001b[1;33m,\u001b[0m \u001b[0mw2\u001b[0m\u001b[1;33m)\u001b[0m\u001b[1;33m:\u001b[0m\u001b[1;33m\u001b[0m\u001b[1;33m\u001b[0m\u001b[0m\n",
      "\u001b[1;32mC:\\bin\\anaconda3\\lib\\site-packages\\gensim\\models\\keyedvectors.py\u001b[0m in \u001b[0;36mword_vec\u001b[1;34m(self, word, use_norm)\u001b[0m\n\u001b[0;32m    466\u001b[0m             \u001b[1;32mreturn\u001b[0m \u001b[0mresult\u001b[0m\u001b[1;33m\u001b[0m\u001b[1;33m\u001b[0m\u001b[0m\n\u001b[0;32m    467\u001b[0m         \u001b[1;32melse\u001b[0m\u001b[1;33m:\u001b[0m\u001b[1;33m\u001b[0m\u001b[1;33m\u001b[0m\u001b[0m\n\u001b[1;32m--> 468\u001b[1;33m             \u001b[1;32mraise\u001b[0m \u001b[0mKeyError\u001b[0m\u001b[1;33m(\u001b[0m\u001b[1;34m\"word '%s' not in vocabulary\"\u001b[0m \u001b[1;33m%\u001b[0m \u001b[0mword\u001b[0m\u001b[1;33m)\u001b[0m\u001b[1;33m\u001b[0m\u001b[1;33m\u001b[0m\u001b[0m\n\u001b[0m\u001b[0;32m    469\u001b[0m \u001b[1;33m\u001b[0m\u001b[0m\n\u001b[0;32m    470\u001b[0m     \u001b[1;32mdef\u001b[0m \u001b[0mget_vector\u001b[0m\u001b[1;33m(\u001b[0m\u001b[0mself\u001b[0m\u001b[1;33m,\u001b[0m \u001b[0mword\u001b[0m\u001b[1;33m)\u001b[0m\u001b[1;33m:\u001b[0m\u001b[1;33m\u001b[0m\u001b[1;33m\u001b[0m\u001b[0m\n",
      "\u001b[1;31mKeyError\u001b[0m: \"word 'I' not in vocabulary\""
     ]
    }
   ],
   "source": [
    "#4.3. Строим эмбеддинг на основе word2vec для биграмм путем сложения предварительно рассчитанных коэффициентов для каждого слова из биграммы\n",
    "EMBEDDING_DIM = 32\n",
    "\n",
    "from gensim.models import Word2Vec\n",
    "\n",
    "model = Word2Vec([x.split() for x in X], size=EMBEDDING_DIM, window=5, min_count=1, workers=4)\n",
    "\n",
    "def get_embedding(word):\n",
    "    if word in model:\n",
    "        return model[word]\n",
    "    else:\n",
    "        #Если слово неизвестно GloVe -> нулевой вектор\n",
    "        return np.zeros((1,EMBEDDING_DIM))\n",
    "\n",
    "#Готовим матрицу коэффициентов\n",
    "embedding_matrix = np.zeros((len(vocab), EMBEDDING_DIM))\n",
    "for ngram, i in vocab.items():\n",
    "    embedding_vector = np.zeros((1,EMBEDDING_DIM))\n",
    "    for word in ngram:\n",
    "        embedding_vector += get_embedding(word)\n",
    "    embedding_matrix[i] = embedding_vector / len(ngram) \n",
    "\n",
    "#Готовый слой Керас\n",
    "embedding_layer = L.Embedding(len(vocab),\n",
    "                            EMBEDDING_DIM,\n",
    "                            weights=[embedding_matrix], \n",
    "                            trainable=False, \n",
    "                            mask_zero=True)\n",
    "\n",
    "model[['I']]"
   ]
  },
  {
   "cell_type": "markdown",
   "metadata": {},
   "source": [
    "Перейдем к построению модели. Модель будет включать обученный на GloVe слой эмбеддинга, который будет транспонировать биграммы в пространство признаков Glove, далее в модель включим LSTM с 1024 нейронами, далее переходной полносвязный слой на 256 нейронов и выходной на 1 бинарный признак с функцией активации softmax."
   ]
  },
  {
   "cell_type": "code",
   "execution_count": 46,
   "metadata": {},
   "outputs": [
    {
     "name": "stdout",
     "output_type": "stream",
     "text": [
      "Model: \"functional_1\"\n",
      "_________________________________________________________________\n",
      "Layer (type)                 Output Shape              Param #   \n",
      "=================================================================\n",
      "input_1 (InputLayer)         [(None, None)]            0         \n",
      "_________________________________________________________________\n",
      "embedding (Embedding)        (None, None, 32)          802560    \n",
      "_________________________________________________________________\n",
      "l1 (LSTM)                    (None, 1024)              4329472   \n",
      "_________________________________________________________________\n",
      "dense (Dense)                (None, 256)               262400    \n",
      "_________________________________________________________________\n",
      "dropout (Dropout)            (None, 256)               0         \n",
      "_________________________________________________________________\n",
      "dense_1 (Dense)              (None, 1)                 257       \n",
      "=================================================================\n",
      "Total params: 5,394,689\n",
      "Trainable params: 5,394,689\n",
      "Non-trainable params: 0\n",
      "_________________________________________________________________\n"
     ]
    }
   ],
   "source": [
    "#5.1. Модель 1 - дает точность 0.7666\n",
    "N_EMBED = 32\n",
    "N_LSTM = 1024\n",
    "N_BATCH = 4\n",
    "\n",
    "#Используем оптимизатор Adam и бинарную кроссэнтропию в качестве функции потерь\n",
    "def build_model():\n",
    "    #Input - входные данные, шейп (None, None) означает, что мы можем принимать батч произвольной длины \n",
    "    X = L.Input(batch_input_shape=(None,None))\n",
    "    #LR = L.Input(batch_input_shape=(None,))\n",
    "    #Embedding - обеспечивает выравнивание входных данных и компактное представление одного элемента последовательности в 16 числах\n",
    "    e = L.Embedding(len(vocab), N_EMBED, mask_zero=True)(X)\n",
    "    #e = embedding_layer(X)\n",
    "    #LSTM - Long Short Term Memory - обеспечивает анализ последовательности\n",
    "    l2 = L.LSTM(units=N_LSTM, return_sequences=False, name=\"l1\", dropout=0.25)(e)\n",
    "    #Выходной слой обеспечивает сворачивание в бинарное значение, активация на выходном слое сигмоиду для значения [0..1]\n",
    "    d = L.Dense(256, activation=\"relu\")(l2)\n",
    "    d = L.Dropout(0.3)(d)\n",
    "    Y = L.Dense(1, activation=\"sigmoid\")(d)\n",
    "    return keras.models.Model(inputs=(X), outputs=Y)\n",
    "\n",
    "t_model = build_model()\n",
    "opt = keras.optimizers.Adam(lr=0.001)\n",
    "t_model.compile(optimizer=opt, loss=\"binary_crossentropy\", metrics=['accuracy'])\n",
    "t_model.summary()"
   ]
  },
  {
   "cell_type": "code",
   "execution_count": 45,
   "metadata": {},
   "outputs": [],
   "source": [
    "#Функции для тренировки моделей\n",
    "#до третьей эпохи шаг обучения 0.0001 затем начинает уменшаться\n",
    "def _schedule(epoch, lr):\n",
    "    if epoch < 5:\n",
    "        return lr\n",
    "    else:\n",
    "        return lr * tf.math.exp(-0.1)\n",
    "\n",
    "#Вариант с генератором - мне не нужен, т.к. на моей видеокарте все умещается в видеопамять\n",
    "def train_model_gen(xt, yt, initial_epoch=0, n_epochs=10):\n",
    "    t_model.fit(get_batch(xt, yt), epochs=n_epochs, steps_per_epoch=len(xt)//N_BATCH,\n",
    "                shuffle=True, initial_epoch=initial_epoch,  callbacks=[\n",
    "                    tf.keras.callbacks.ModelCheckpoint(filepath='./W3/model.{epoch:03d}.hdf5'),\n",
    "                    tf.keras.callbacks.LearningRateScheduler(_schedule)\n",
    "                ])\n",
    "\n",
    "#Вариант с целиковой обработкой - уменшения шага обучения\n",
    "def train_model(xt, yt, \n",
    "                #xv, yv,\n",
    "                initial_epoch=0, n_epochs=10):\n",
    "    t_model.fit(to_matrix(xt), np.array(yt), epochs=n_epochs, \n",
    "                shuffle=True,\n",
    "                #validation_data=(xv, yv),\n",
    "                batch_size=N_BATCH, initial_epoch=initial_epoch, callbacks=[\n",
    "                    tf.keras.callbacks.LearningRateScheduler(_schedule),\n",
    "                    #tf.keras.callbacks.EarlyStopping(monitor='accuracy', patience=3)\n",
    "                ])"
   ]
  },
  {
   "cell_type": "code",
   "execution_count": 49,
   "metadata": {},
   "outputs": [
    {
     "name": "stdout",
     "output_type": "stream",
     "text": [
      "Epoch 1/5\n",
      "500/500 [==============================] - 17s 34ms/step - loss: 0.6563 - accuracy: 0.6370\n",
      "Epoch 2/5\n",
      "500/500 [==============================] - 17s 34ms/step - loss: 0.5897 - accuracy: 0.6855\n",
      "Epoch 3/5\n",
      "500/500 [==============================] - 17s 34ms/step - loss: 0.3077 - accuracy: 0.8800\n",
      "Epoch 4/5\n",
      "500/500 [==============================] - 17s 34ms/step - loss: 0.0960 - accuracy: 0.9700\n",
      "Epoch 5/5\n",
      "500/500 [==============================] - 17s 34ms/step - loss: 0.0317 - accuracy: 0.9900\n"
     ]
    }
   ],
   "source": [
    "reset_tf_session()\n",
    "t_model.reset_states()\n",
    "\n",
    "train = train_model\n",
    "\n",
    "opt = keras.optimizers.Adam(lr=0.0001)\n",
    "t_model.compile(optimizer=opt, loss=\"binary_crossentropy\", metrics=['accuracy'])\n",
    "\n",
    "\n",
    "train_model(X, Y, 0, 5)\n",
    "#for i in range(10):\n",
    "    #Xt, Xv, Yt, Yv = train_test_split(X, Y, train_size=0.75)\n",
    "   #train(Xt, Yt, Xv, Yv, initial_epoch=i, n_epochs=i+1)\n",
    " "
   ]
  },
  {
   "cell_type": "code",
   "execution_count": 50,
   "metadata": {},
   "outputs": [
    {
     "data": {
      "text/plain": [
       "(500, 500)"
      ]
     },
     "execution_count": 50,
     "metadata": {},
     "output_type": "execute_result"
    }
   ],
   "source": [
    "df = pd.read_csv(\"products_sentiment_test.tsv\", sep='\\t')\n",
    "X_test = [x[0] for x in df[[\"text\"]].values.tolist()]\n",
    "\n",
    "Y_pred = [ 0 if y < 0.5 else 1 for y in t_model.predict(to_matrix(X_test))]\n",
    "len(X_test), len(Y_pred)"
   ]
  },
  {
   "cell_type": "markdown",
   "metadata": {},
   "source": [
    "После обучения в течение 50 эпох точность составила 1.0 на обучаемой выборке. Применим к тестовой выборке."
   ]
  },
  {
   "cell_type": "code",
   "execution_count": 51,
   "metadata": {},
   "outputs": [],
   "source": [
    "df = pd.DataFrame()\n",
    "df[\"y\"] = Y_pred\n",
    "df.head()\n",
    "\n",
    "df.to_csv(\"kaggle_submission.csv\", sep=',', index_label=\"Id\")"
   ]
  },
  {
   "cell_type": "code",
   "execution_count": null,
   "metadata": {},
   "outputs": [],
   "source": [
    "from IPython.display import Image\n",
    "\n",
    "Image(filename = 'screen.png')"
   ]
  }
 ],
 "metadata": {
  "kernelspec": {
   "display_name": "Python 3",
   "language": "python",
   "name": "python3"
  },
  "language_info": {
   "codemirror_mode": {
    "name": "ipython",
    "version": 3
   },
   "file_extension": ".py",
   "mimetype": "text/x-python",
   "name": "python",
   "nbconvert_exporter": "python",
   "pygments_lexer": "ipython3",
   "version": "3.8.3"
  }
 },
 "nbformat": 4,
 "nbformat_minor": 2
}
