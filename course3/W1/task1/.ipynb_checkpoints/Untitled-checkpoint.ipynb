{
 "cells": [
  {
   "cell_type": "code",
   "execution_count": 1,
   "metadata": {},
   "outputs": [],
   "source": [
    "import pandas as pd\n",
    "import numpy as np"
   ]
  },
  {
   "cell_type": "code",
   "execution_count": 11,
   "metadata": {},
   "outputs": [
    {
     "name": "stdout",
     "output_type": "stream",
     "text": [
      "396635 lines written to csv\n"
     ]
    }
   ],
   "source": [
    "import string\n",
    "\n",
    "c = 0\n",
    "with open('checkins.dat', 'r') as f:\n",
    "    lines = f.readlines()\n",
    "    csv_lines = []\n",
    "    for line in lines:\n",
    "        line = line.strip()\n",
    "        if line == '': continue\n",
    "        tokens = list(map(lambda x: x.strip(), line.split('|')))\n",
    "        if len(tokens)>= 5 and tokens[3] != '' and tokens[4] != '':\n",
    "            csv_lines.append(','.join(tokens))\n",
    "            c += 1\n",
    "            \n",
    "with open('checkins.csv', 'w') as f:\n",
    "    f.write('\\n'.join(csv_lines))\n",
    "    \n",
    "print('%d lines written to csv' % c)"
   ]
  },
  {
   "cell_type": "code",
   "execution_count": 47,
   "metadata": {},
   "outputs": [],
   "source": [
    "data = pd.read_csv('checkins.csv', nrows=100000)\n",
    "\n",
    "coords = data[['latitude', 'longitude']].to_numpy()\n",
    "\n",
    "import sklearn.cluster\n",
    "cluster = sklearn.cluster.MeanShift(bandwidth=0.1).fit(coords)"
   ]
  },
  {
   "cell_type": "code",
   "execution_count": 49,
   "metadata": {},
   "outputs": [
    {
     "name": "stdout",
     "output_type": "stream",
     "text": [
      "[[40.71771639727507, -73.9918354198967], [33.44943805020126, -112.00213969017547], [33.44638027037988, -111.90188756212359], [41.87824377967115, -87.62984336226329], [37.68868157406161, -122.40933037359147], [38.8861652155993, -77.04878333074303], [33.357344562325096, -111.82265410760392], [33.76663623218336, -84.39328918481657], [42.363218639848895, -71.07368760857386], [47.60624471741767, -122.33204382627093], [36.117229142990276, -115.17107342280688], [34.06039755458241, -118.24870902659876], [44.97794782033687, -93.2673008852605], [30.26718361698159, -97.74311928133027], [40.76687624004166, -73.83335349045205], [39.735830152625304, -104.98658042770822], [39.95168037300773, -75.16273592391683], [34.03548695312116, -118.43899771946148], [32.98089338217789, -117.07811797821928], [32.80302053531547, -96.76989743494408]]\n"
     ]
    }
   ],
   "source": [
    "labels_count = np.zeros(len(cluster.cluster_centers_))\n",
    "for label in cluster.labels_:\n",
    "    labels_count[label] = labels_count[label] + 1\n",
    "    \n",
    "more_15_centers = []\n",
    "for i in range(len(cluster.cluster_centers_)):\n",
    "    if labels_count[i] > 15:\n",
    "        more_15_centers.append(cluster.cluster_centers_[i])\n",
    "\n",
    "more_15_centers = [x.tolist() for x in more_15_centers]\n",
    "        \n",
    "import math\n",
    "\n",
    "print(more_15_centers[0:20])"
   ]
  },
  {
   "cell_type": "code",
   "execution_count": 50,
   "metadata": {},
   "outputs": [
    {
     "name": "stdout",
     "output_type": "stream",
     "text": [
      "[[-33.86063042857143, 151.20477592857145, 0.007834576370357496], [52.37296399032261, 4.892317222580647, 0.009353316185992226], [25.8456722642857, -80.31889059642857, 0.022674066158385495], [51.502991260887086, -0.12553728870967767, 0.05005829482278787], [33.8098779552631, -118.14892380690813, 0.07084773242719973], [25.7858124199675, -80.2179380368254, 0.13410903336184654], [25.70534972105258, -80.28342873815798, 0.16740596425035326], [26.010098249285683, -80.19999058571432, 0.18887596060185083], [33.8883253427586, -118.04892817172427, 0.19577945647763628], [33.87298601157018, -118.36209114655645, 0.21181053682436798], [33.97257482142858, -118.16837066666663, 0.2222332907317907], [26.138843786842077, -80.33434683684207, 0.2713007595066735], [33.98393587403844, -118.00740497307689, 0.2949788868004569], [26.120862658633104, -80.1589066802157, 0.3022701186924605], [33.81730643390889, -117.891249170958, 0.30473050307840693], [34.06039755458241, -118.24870902659876, 0.3148837903362732], [33.67430265976576, -117.85878926777275, 0.3388104702511318], [26.20058464102565, -80.25071612564099, 0.3408456533220572], [34.03548695312116, -118.43899771946148, 0.37868750125029754], [34.13146014917951, -118.11801180610205, 0.3867062248427277]]\n"
     ]
    }
   ],
   "source": [
    "offices = [[33.751277, -118.188740],\n",
    "           [25.867736, -80.324116],\n",
    "           [51.503016, -0.075479],\n",
    "           [52.378894, 4.885084],\n",
    "           [39.366487, 117.036146],\n",
    "           [-33.868457, 151.20513]]\n",
    "\n",
    "for point in more_15_centers:\n",
    "    distances = []\n",
    "    for office in offices:\n",
    "        distances.append(math.sqrt((office[0]-point[0])**2 + (office[1]-point[1])**2))\n",
    "    point.append(min(distances))\n",
    "more_15_centers\n",
    "\n",
    "def sort_distance(point):\n",
    "    return point[2]\n",
    "        \n",
    "more_15_centers.sort(key=sort_distance)\n",
    "\n",
    "print(more_15_centers[:20])"
   ]
  },
  {
   "cell_type": "code",
   "execution_count": 51,
   "metadata": {},
   "outputs": [
    {
     "data": {
      "text/plain": [
       "[-33.86063042857143, 151.20477592857145, 0.007834576370357496]"
      ]
     },
     "execution_count": 51,
     "metadata": {},
     "output_type": "execute_result"
    }
   ],
   "source": [
    "#Ответ\n",
    "\n",
    "more_15_centers[0]"
   ]
  },
  {
   "cell_type": "code",
   "execution_count": 48,
   "metadata": {},
   "outputs": [
    {
     "name": "stdout",
     "output_type": "stream",
     "text": [
      "OK\n"
     ]
    }
   ],
   "source": [
    "with open('cluster_centers.txt', 'w') as f:\n",
    "    for center in cluster.cluster_centers_[:20]:\n",
    "        f.write(\"%f, %f\\n\" % (center[1], center[0]))\n",
    "print(\"OK\")"
   ]
  }
 ],
 "metadata": {
  "kernelspec": {
   "display_name": "Python 3",
   "language": "python",
   "name": "python3"
  },
  "language_info": {
   "codemirror_mode": {
    "name": "ipython",
    "version": 3
   },
   "file_extension": ".py",
   "mimetype": "text/x-python",
   "name": "python",
   "nbconvert_exporter": "python",
   "pygments_lexer": "ipython3",
   "version": "3.7.4"
  }
 },
 "nbformat": 4,
 "nbformat_minor": 2
}
