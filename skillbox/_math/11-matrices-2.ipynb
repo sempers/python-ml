{
 "cells": [
  {
   "cell_type": "code",
   "execution_count": 2,
   "metadata": {},
   "outputs": [],
   "source": [
    "import numpy as np\n",
    "from sympy import *\n"
   ]
  },
  {
   "cell_type": "code",
   "execution_count": 8,
   "metadata": {},
   "outputs": [
    {
     "data": {
      "text/latex": [
       "$\\displaystyle \\left[\\begin{matrix}-5\\\\4\\end{matrix}\\right]$"
      ],
      "text/plain": [
       "Matrix([\n",
       "[-5],\n",
       "[ 4]])"
      ]
     },
     "execution_count": 8,
     "metadata": {},
     "output_type": "execute_result"
    }
   ],
   "source": [
    "M = Matrix\n",
    "A = M([[2,3],[0,1]])\n",
    "A**(-1) * (M([2,4]))"
   ]
  },
  {
   "cell_type": "code",
   "execution_count": 10,
   "metadata": {},
   "outputs": [
    {
     "data": {
      "text/latex": [
       "$\\displaystyle \\left[\\begin{matrix}-12\\\\3\\end{matrix}\\right]$"
      ],
      "text/plain": [
       "Matrix([\n",
       "[-12],\n",
       "[  3]])"
      ]
     },
     "execution_count": 10,
     "metadata": {},
     "output_type": "execute_result"
    }
   ],
   "source": [
    "M([[1,5], [0,3]])**(-1) * M([3,9])"
   ]
  },
  {
   "cell_type": "code",
   "execution_count": 11,
   "metadata": {},
   "outputs": [
    {
     "data": {
      "text/latex": [
       "$\\displaystyle \\left[\\begin{matrix}1\\\\1\\\\3\\end{matrix}\\right]$"
      ],
      "text/plain": [
       "Matrix([\n",
       "[1],\n",
       "[1],\n",
       "[3]])"
      ]
     },
     "execution_count": 11,
     "metadata": {},
     "output_type": "execute_result"
    }
   ],
   "source": [
    "M([[2,3,-1],[0,1,1],[1,-1,2]])**(-1) * M([2,4,6])"
   ]
  },
  {
   "cell_type": "code",
   "execution_count": 12,
   "metadata": {},
   "outputs": [
    {
     "data": {
      "text/latex": [
       "$\\displaystyle \\left[\\begin{matrix}-15\\\\5\\\\1\\end{matrix}\\right]$"
      ],
      "text/plain": [
       "Matrix([\n",
       "[-15],\n",
       "[  5],\n",
       "[  1]])"
      ]
     },
     "execution_count": 12,
     "metadata": {},
     "output_type": "execute_result"
    }
   ],
   "source": [
    "M([[1,5,-2],[0,3,1],[-4,-6,2]])**(-1) * M([8,16,32])"
   ]
  },
  {
   "cell_type": "code",
   "execution_count": 25,
   "metadata": {},
   "outputs": [
    {
     "data": {
      "text/latex": [
       "$\\displaystyle \\left[\\begin{matrix}0.124066594996652 & 1.50347212133526 & 0.339076619112623 & -1.5563529651043\\\\-0.0707499200976152 & -1.50724932446161 & -0.310457041578259 & 1.70133945433928\\end{matrix}\\right]$"
      ],
      "text/plain": [
       "Matrix([\n",
       "[  0.124066594996652,  1.50347212133526,  0.339076619112623, -1.5563529651043],\n",
       "[-0.0707499200976152, -1.50724932446161, -0.310457041578259, 1.70133945433928]])"
      ]
     },
     "execution_count": 25,
     "metadata": {},
     "output_type": "execute_result"
    }
   ],
   "source": [
    "a1, a2 = symbols('a1, a2')\n",
    "\n",
    "MSE = 1/4 * ((4.1 * a1 + 3.9 * a2 - 4.0)**2 + \\\n",
    "             (4.7 * a1 + 4.2 * a2 - 4.3)**2 + \\\n",
    "             (3.1 * a1 + 2.9 * a2 - 3.0)**2 + \\\n",
    "             (4.9 * a1 + 5.0 * a2 - 4.9)**2)\n",
    "\n",
    "A = M([[4.1,3.9],[4.7,4.2],[3.1,2.9], [4.9,5.0]])\n",
    "B = M([4.0,4.3,3.0,4.9])\n",
    "#делаем псевдообратную\n",
    "A_inv = (A.T * A)**(-1) * A.T\n",
    "A_inv"
   ]
  },
  {
   "cell_type": "code",
   "execution_count": 26,
   "metadata": {},
   "outputs": [
    {
     "data": {
      "text/latex": [
       "$\\displaystyle \\left[\\begin{matrix}0.352296830054997 & 0.641020425952306\\end{matrix}\\right]$"
      ],
      "text/plain": [
       "Matrix([[0.352296830054997, 0.641020425952306]])"
      ]
     },
     "execution_count": 26,
     "metadata": {},
     "output_type": "execute_result"
    }
   ],
   "source": [
    "X = A_inv * B\n",
    "X.T"
   ]
  },
  {
   "cell_type": "code",
   "execution_count": 27,
   "metadata": {},
   "outputs": [
    {
     "data": {
      "text/latex": [
       "$\\displaystyle 0.00219499084754629$"
      ],
      "text/plain": [
       "0.00219499084754629"
      ]
     },
     "execution_count": 27,
     "metadata": {},
     "output_type": "execute_result"
    }
   ],
   "source": [
    "MSE.subs({a1: X[0], a2: X[1]})\n",
    "\n",
    "#точность на несколько порядков выше, чем c помощью GD, но там и порог ошибки был задан высокий"
   ]
  }
 ],
 "metadata": {
  "kernelspec": {
   "display_name": "Python 3",
   "language": "python",
   "name": "python3"
  },
  "language_info": {
   "codemirror_mode": {
    "name": "ipython",
    "version": 3
   },
   "file_extension": ".py",
   "mimetype": "text/x-python",
   "name": "python",
   "nbconvert_exporter": "python",
   "pygments_lexer": "ipython3",
   "version": "3.7.4"
  }
 },
 "nbformat": 4,
 "nbformat_minor": 2
}
