{
 "cells": [
  {
   "cell_type": "code",
   "execution_count": 4,
   "metadata": {},
   "outputs": [],
   "source": [
    "import numpy as np\n",
    "from sympy import *\n"
   ]
  },
  {
   "cell_type": "code",
   "execution_count": 13,
   "metadata": {},
   "outputs": [
    {
     "data": {
      "text/latex": [
       "$\\displaystyle \\left\\{\\left( -1, \\  -5\\right)\\right\\}$"
      ],
      "text/plain": [
       "{(-1, -5)}"
      ]
     },
     "execution_count": 13,
     "metadata": {},
     "output_type": "execute_result"
    }
   ],
   "source": [
    "x, y, z = symbols(\"x, y, z\")\n",
    "\n",
    "m = Matrix([[-1, 7, -34],[8, 8, -48]])\n",
    "\n",
    "linsolve(m, [x,y])"
   ]
  },
  {
   "cell_type": "code",
   "execution_count": 14,
   "metadata": {},
   "outputs": [
    {
     "data": {
      "text/latex": [
       "$\\displaystyle \\left\\{\\left( -1, \\  0\\right)\\right\\}$"
      ],
      "text/plain": [
       "{(-1, 0)}"
      ]
     },
     "execution_count": 14,
     "metadata": {},
     "output_type": "execute_result"
    }
   ],
   "source": [
    "m = Matrix([[4, -7, -4],[3,-4, -3]])\n",
    "linsolve(m, [x,y])"
   ]
  },
  {
   "cell_type": "code",
   "execution_count": 18,
   "metadata": {},
   "outputs": [
    {
     "data": {
      "text/latex": [
       "$\\displaystyle \\left\\{\\left( 9, \\  2\\right)\\right\\}$"
      ],
      "text/plain": [
       "{(9, 2)}"
      ]
     },
     "execution_count": 18,
     "metadata": {},
     "output_type": "execute_result"
    }
   ],
   "source": [
    "m = Matrix([[8, -4, 64], [-3, 3, -21]])\n",
    "linsolve(m, [x,y])"
   ]
  },
  {
   "cell_type": "code",
   "execution_count": 16,
   "metadata": {},
   "outputs": [
    {
     "data": {
      "text/latex": [
       "$\\displaystyle \\left\\{\\left( -2, \\  -6, \\  -1\\right)\\right\\}$"
      ],
      "text/plain": [
       "{(-2, -6, -1)}"
      ]
     },
     "execution_count": 16,
     "metadata": {},
     "output_type": "execute_result"
    }
   ],
   "source": [
    "m = Matrix([[5,7,-5,-47], [0,-2, 2, 10], [-4, -8, -7, 63]])\n",
    "linsolve(m, [x,y,z])"
   ]
  },
  {
   "cell_type": "code",
   "execution_count": 20,
   "metadata": {},
   "outputs": [
    {
     "data": {
      "text/plain": [
       "array([-34, -48])"
      ]
     },
     "execution_count": 20,
     "metadata": {},
     "output_type": "execute_result"
    }
   ],
   "source": [
    "#Пункт 2, все ответы верные все, разумеется, сошлось\n",
    "\n",
    "np.array([[-1,7],[8,8]]).dot((np.array([-1, -5])).T)"
   ]
  },
  {
   "cell_type": "code",
   "execution_count": 22,
   "metadata": {},
   "outputs": [
    {
     "name": "stdout",
     "output_type": "stream",
     "text": [
      "29 итераций, точка (-6.69392867862557,3.72357546464203,7.47852447358045), потеря - 53.3296885566853\n"
     ]
    }
   ],
   "source": [
    "#Переопределенные СЛАУ\n",
    "mse = 1/6*(\n",
    "      (5*x + 7*y-5*z + 47)**2 +  \\\n",
    "      (-2*y+2*z - 10)**2 + \\\n",
    "      (-4*x-8*y-7*z+63)**2 +\\\n",
    "      (x+y+2*z + 1)**2 +\\\n",
    "      (2*x-y+2*z + 4)**2 +\\\n",
    "      (4*x + y+4*z +2)**2\n",
    ")\n",
    "\n",
    "dmse_dx = diff(mse, x)\n",
    "dmse_dy = diff(mse, y)\n",
    "dmse_dz = diff(mse, z)\n",
    "\n",
    "lr = 0.01\n",
    "loss = 1000\n",
    "point = np.array([0,0,0])\n",
    "\n",
    "i = 0\n",
    "while loss >= 55:\n",
    "    xi, yi, zi = point\n",
    "    grad = np.array([dmse_dx.subs({x: xi, y: yi, z: zi}), \n",
    "                     dmse_dy.subs({x: xi, y: yi, z: zi}),\n",
    "                     dmse_dz.subs({x: xi, y: yi, z: zi})])\n",
    "    point = point - lr * grad\n",
    "    xi, yi, zi = point\n",
    "    loss = mse.subs({x: xi, y: yi, z: zi})\n",
    "    i+= 1\n",
    "print(\"{} итераций, точка ({},{},{}), потеря - {}\".format(i, xi, yi, zi, loss))\n"
   ]
  }
 ],
 "metadata": {
  "kernelspec": {
   "display_name": "Python 3",
   "language": "python",
   "name": "python3"
  },
  "language_info": {
   "codemirror_mode": {
    "name": "ipython",
    "version": 3
   },
   "file_extension": ".py",
   "mimetype": "text/x-python",
   "name": "python",
   "nbconvert_exporter": "python",
   "pygments_lexer": "ipython3",
   "version": "3.7.4"
  }
 },
 "nbformat": 4,
 "nbformat_minor": 2
}
