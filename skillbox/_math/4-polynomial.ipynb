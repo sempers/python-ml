{
 "cells": [
  {
   "cell_type": "code",
   "execution_count": 1,
   "metadata": {},
   "outputs": [],
   "source": [
    "from sympy import *"
   ]
  },
  {
   "cell_type": "code",
   "execution_count": 23,
   "metadata": {},
   "outputs": [
    {
     "data": {
      "text/latex": [
       "$\\displaystyle \\left\\{\\left( - \\frac{1}{6}, \\  0, \\  \\frac{7}{6}, \\  0\\right)\\right\\}$"
      ],
      "text/plain": [
       "{(-1/6, 0, 7/6, 0)}"
      ]
     },
     "execution_count": 23,
     "metadata": {},
     "output_type": "execute_result"
    }
   ],
   "source": [
    "#1 полином, количество точек - 5, следовательно степень полинома равна 4\n",
    "#точки (−2,2),(−1,1),(0,0),(1,1),(2,2)\n",
    "#уже из самих точек видно, что функция является четной\n",
    "\n",
    "a4, a3, a2, a1, a0 = symbols(\"a4 a3 a2 a1 a0\")\n",
    "#исходя из точки 3 смело выбрасываем a0\n",
    "#записываем уравнения\n",
    "eqs = [\n",
    "    16*a4 - 8*a3 + 4*a2 -2*a1 - 2,\n",
    "    a4 - a3 + a2 - a1 - 1,\n",
    "    a4 + a3 + a2 + a1 - 1,\n",
    "    16*a4 + 8*a3 + 4*a2 + 2*a1 - 2\n",
    "]\n",
    "\n",
    "nonlinsolve(eqs, [a4, a3, a2, a1])\n",
    "\n"
   ]
  },
  {
   "cell_type": "code",
   "execution_count": 20,
   "metadata": {},
   "outputs": [
    {
     "data": {
      "image/png": "[encoded data removed]",
      "text/plain": [
       "<Figure size 432x288 with 1 Axes>"
      ]
     },
     "metadata": {
      "needs_background": "light"
     },
     "output_type": "display_data"
    },
    {
     "data": {
      "text/plain": [
       "<sympy.plotting.plot.Plot at 0x1b36b89bb88>"
      ]
     },
     "execution_count": 20,
     "metadata": {},
     "output_type": "execute_result"
    }
   ],
   "source": [
    "%matplotlib inline\n",
    "x = Symbol(\"x\")\n",
    "plot((-1/6)*x**4 +(7/6)*x**2, (x, -5, 5))\n"
   ]
  },
  {
   "cell_type": "markdown",
   "metadata": {},
   "source": [
    "Итого функция определена на всей числовой оси, четная, имеет максимумы в точках $±\\sqrt {14/3} ~ ±2.16$, локальный минимум в точке 0, там же точки перегиба функции, нули функции в точках $±\\sqrt 7 ~ ±2.64$\n",
    "\n",
    "$(-∞, -\\sqrt 7)$ - возрастает, отрицательна\n",
    "\n",
    "$[-\\sqrt 7, -\\sqrt {14/3})$ - возрастает, неотрицательна\n",
    "\n",
    "$(-\\sqrt {14/3}, 0]$ - убывает, неотрицательна\n",
    "\n",
    "$[0, \\sqrt {14/3})$ - возрастает, неотрицательна\n",
    "\n",
    "$[\\sqrt {14/3}, \\sqrt 7]$ - убывает, неотрицательна\n",
    "\n",
    "$(\\sqrt 7, +∞)$ - убывает, отрицательна"
   ]
  },
  {
   "cell_type": "code",
   "execution_count": 24,
   "metadata": {},
   "outputs": [
    {
     "data": {
      "text/latex": [
       "$\\displaystyle \\left\\{\\left( \\frac{1}{120}, \\  0, \\  \\frac{19}{24}, \\  0, \\  - \\frac{94}{5}, \\  0\\right)\\right\\}$"
      ],
      "text/plain": [
       "{(1/120, 0, 19/24, 0, -94/5, 0)}"
      ]
     },
     "execution_count": 24,
     "metadata": {},
     "output_type": "execute_result"
    }
   ],
   "source": [
    "#Второй полином\n",
    "#(−3,33),(−2,31),(−1,18),(1,−18),(2,−31),(3,−33)\n",
    "#из точек видно, что функция нечетная\n",
    "#степень полинома - 5\n",
    "a5, a4, a3, a2, a1, a0 = symbols(\"a5 a4 a3 a2 a1 a0\")\n",
    "eqs = [\n",
    "    -243*a5 + 81*a4 - 27*a3 + 9*a2 -3*a1 + a0 - 33,\n",
    "    -32*a5 + 16*a4 - 8*a3 + 4*a2 -2*a1 + a0 - 31,\n",
    "    -a5 + a4 - a3 + a2 - a1 + a0 - 18,\n",
    "    a5 + a4 + a3 + a2 + a1+ a0 + 18,\n",
    "    32*a5 + 16*a4 + 8*a3 + 4*a2 +2*a1 + a0 + 31,\n",
    "    243*a5 + 81*a4 + 27*a3 + 9*a2 +3*a1 + a0 + 33    \n",
    "]\n",
    "\n",
    "nonlinsolve(eqs, [a5, a4, a3, a2, a1, a0])"
   ]
  },
  {
   "cell_type": "code",
   "execution_count": 26,
   "metadata": {},
   "outputs": [
    {
     "data": {
      "image/png": "[encoded data removed]",
      "text/plain": [
       "<Figure size 432x288 with 1 Axes>"
      ]
     },
     "metadata": {
      "needs_background": "light"
     },
     "output_type": "display_data"
    },
    {
     "data": {
      "text/plain": [
       "<sympy.plotting.plot.Plot at 0x1b36cad6e08>"
      ]
     },
     "execution_count": 26,
     "metadata": {},
     "output_type": "execute_result"
    }
   ],
   "source": [
    "x = Symbol(\"x\")\n",
    "plot((1/120)*x**5 +(19/24)*x**3 - (94/5)*x, (x, -5, 5))"
   ]
  },
  {
   "cell_type": "markdown",
   "metadata": {},
   "source": [
    "Итого функция определена на всей числовой оси, нечетная, имеет локальный максимум в точке -2.6542, локальный минимум в точке 2.6542, точка перегиба в нуле, нули функции в точках ±4.4355, 0\n",
    "\n",
    "$(-∞, -4.4355)$ - возрастает, отрицательна\n",
    "\n",
    "$[-4.4355, -2.6542)$ - возрастает, неотрицательна\n",
    "\n",
    "$(-2.6542, 0]$ - убывает, неотрицательна\n",
    "\n",
    "$(0, 2.6542)$ - убывает, отрицательна\n",
    "\n",
    "$(2.6542, 4.4355)$ - возрастает, отрицательна\n",
    "\n",
    "$[4.4355, +∞)$ - возрастает, неотрицательна"
   ]
  }
 ],
 "metadata": {
  "kernelspec": {
   "display_name": "Python 3",
   "language": "python",
   "name": "python3"
  },
  "language_info": {
   "codemirror_mode": {
    "name": "ipython",
    "version": 3
   },
   "file_extension": ".py",
   "mimetype": "text/x-python",
   "name": "python",
   "nbconvert_exporter": "python",
   "pygments_lexer": "ipython3",
   "version": "3.7.4"
  }
 },
 "nbformat": 4,
 "nbformat_minor": 2
}
