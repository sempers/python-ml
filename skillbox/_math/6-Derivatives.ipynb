{
 "cells": [
  {
   "cell_type": "markdown",
   "metadata": {},
   "source": [
    "$(6^x + 3x^3 + 5)' = 6^xln6 + 9x^2$\n",
    "\n",
    "$(5xe^x)' = 5e^x(x + 1)$\n",
    "\n",
    "$(π^x + 2sinx)' = π^xlnπ + 2cosx$\n",
    "\n",
    "$(x^2/sinx)' = (2xsinx - x^2cosx)/{sin^2x}$\n",
    "\n",
    "$(e^{2x})' = 2e^{2x}$\n",
    "\n",
    "$(5x^3/e^{3x})' = (15x^2e^{3x} - 15x^3e^{3x})/e^{6x} = -15x^2(x-1)/e^{3x}$\n",
    "\n",
    "$(2(5/2 - x)^2)' = 2(x-5)$\n",
    "\n",
    "$(e^{x^2})' = 2xe^{x^2}$\n",
    "\n",
    "$(5^{7x^3+5})' = 21ln5·x^25^{7x^3+5}$\n",
    "\n",
    "$(sin(3x^5 + e^{2x}))' = (15x^4 + 2e^{2x})·cos(3x^5 + e^{2x})$"
   ]
  }
 ],
 "metadata": {
  "kernelspec": {
   "display_name": "Python 3",
   "language": "python",
   "name": "python3"
  },
  "language_info": {
   "codemirror_mode": {
    "name": "ipython",
    "version": 3
   },
   "file_extension": ".py",
   "mimetype": "text/x-python",
   "name": "python",
   "nbconvert_exporter": "python",
   "pygments_lexer": "ipython3",
   "version": "3.7.4"
  }
 },
 "nbformat": 4,
 "nbformat_minor": 2
}
