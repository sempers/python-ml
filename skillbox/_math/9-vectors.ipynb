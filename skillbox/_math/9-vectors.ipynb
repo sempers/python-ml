{
 "cells": [
  {
   "cell_type": "code",
   "execution_count": 3,
   "metadata": {},
   "outputs": [
    {
     "data": {
      "text/plain": [
       "(array([ 96, 180,   0, 324, 288, 360,  72, 126,  60, 126]),\n",
       " array([   0,  360,  420, 1260,    0,  240, 1440,  720,   30,  480]),\n",
       " array([16, 30,  0, 54, 48, 60, 12, 21, 10, 21]),\n",
       " array([ 0, 12, 14, 42,  0,  8, 48, 24,  1, 16]))"
      ]
     },
     "execution_count": 3,
     "metadata": {},
     "output_type": "execute_result"
    }
   ],
   "source": [
    "import numpy as np\n",
    "\n",
    "#1\n",
    "3 * np.array([2,5,0,6,8,10,6,7,5,7])*2*np.array([8,6,7,9,6,6,2,3,2,3]),\\\n",
    "6 * np.array([9,6,7,7,0,1,6,8,1,2])*5*np.array([0,2,2,6,7,8,8,3,1,8]),\\\n",
    "np.array([2,5,0,6,8,10,6,7,5,7])*np.array([8,6,7,9,6,6,2,3,2,3]),\\\n",
    "np.array([9,6,7,7,0,1,6,8,1,2])*np.array([0,2,2,6,7,8,8,3,1,8])\n"
   ]
  },
  {
   "cell_type": "code",
   "execution_count": 4,
   "metadata": {},
   "outputs": [
    {
     "data": {
      "text/plain": [
       "array([[ 2.,  5.,  9., 11.],\n",
       "       [ 1.,  6.,  8., 14.],\n",
       "       [ 7.,  7.,  2., 15.],\n",
       "       [ 4.,  3., 12., 15.]])"
      ]
     },
     "execution_count": 4,
     "metadata": {},
     "output_type": "execute_result"
    }
   ],
   "source": [
    "def transpose(A):\n",
    "    A_tr = np.zeros((A.shape[1], A.shape[0]))\n",
    "    for i in range(A.shape[0]):\n",
    "        for j in range(A.shape[1]):\n",
    "            A_tr[j][i] = A[i][j]\n",
    "    return A_tr\n",
    "\n",
    "transpose(np.array([[2,1,7,4],[5,6,7,3],[9,8,2,12],[11,14,15,15]]))"
   ]
  },
  {
   "cell_type": "code",
   "execution_count": 5,
   "metadata": {},
   "outputs": [
    {
     "data": {
      "text/plain": [
       "array([[ 3.,  2.],\n",
       "       [ 7.,  5.],\n",
       "       [ 8.,  9.],\n",
       "       [ 3.,  4.],\n",
       "       [ 6., 13.]])"
      ]
     },
     "execution_count": 5,
     "metadata": {},
     "output_type": "execute_result"
    }
   ],
   "source": [
    "transpose(np.array([[3,7,8,3,6],[2,5,9,4,13]]))"
   ]
  },
  {
   "cell_type": "code",
   "execution_count": 14,
   "metadata": {},
   "outputs": [
    {
     "name": "stdout",
     "output_type": "stream",
     "text": [
      "Потребовалось 1 шагов , точка (0.349600, 0.334300) mse = 1.589348\n"
     ]
    }
   ],
   "source": [
    "from sympy import *\n",
    "\n",
    "a1, a2 = symbols('a1, a2')\n",
    "\n",
    "MSE = 1 / 4 * ((4.1 * a1 + 3.9 * a2 - 4.0)**2 + \\\n",
    "               (4.7 * a1 + 4.2 * a2 - 4.3)**2 + \\\n",
    "               (3.1 * a1 + 2.9 * a2 - 3.0)**2 + \\\n",
    "               (4.9 * a1 + 5.0 * a2 - 4.9)**2)\n",
    "\n",
    "MSEa1 = diff(MSE, a1)\n",
    "MSEa2 = diff(MSE, a2)\n",
    "\n",
    "step = 0.01\n",
    "loss = 100\n",
    "point = np.array([0, 0])\n",
    "i = 0\n",
    "while loss > 6.36:    \n",
    "    grad = np.array([MSEa1.subs({a1: point[0], a2: point[1]}), \n",
    "                     MSEa2.subs({a1: point[0], a2: point[1]})])\n",
    "    point = point - step*grad\n",
    "    loss = MSE.subs({a1: point[0], a2: point[1]})\n",
    "    i += 1\n",
    "print(\"Потребовалось %d шагов\" % i, \", точка (%f, %f)\" % (point[0], point[1]), \"mse = %f\" % loss)      \n",
    "\n",
    "#Что-то явно не так"
   ]
  }
 ],
 "metadata": {
  "kernelspec": {
   "display_name": "Python 3",
   "language": "python",
   "name": "python3"
  },
  "language_info": {
   "codemirror_mode": {
    "name": "ipython",
    "version": 3
   },
   "file_extension": ".py",
   "mimetype": "text/x-python",
   "name": "python",
   "nbconvert_exporter": "python",
   "pygments_lexer": "ipython3",
   "version": "3.7.4"
  }
 },
 "nbformat": 4,
 "nbformat_minor": 2
}
