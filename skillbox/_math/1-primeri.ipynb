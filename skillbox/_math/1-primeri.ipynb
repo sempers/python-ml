{
 "cells": [
  {
   "cell_type": "code",
   "execution_count": 15,
   "metadata": {},
   "outputs": [],
   "source": [
    "from sympy import symbols, sqrt, log, simplify, expand_log\n",
    "import math"
   ]
  },
  {
   "cell_type": "markdown",
   "metadata": {},
   "source": [
    "(math.sqrt(13) + math.sqrt(7))**2/(10 + math.sqrt(91)) = 2"
   ]
  },
  {
   "cell_type": "markdown",
   "metadata": {},
   "source": [
    "lg(10/b**3) = lg(10) - 3*lg(b), \n",
    "что при условии lgb=5, дает ответ -14"
   ]
  },
  {
   "cell_type": "markdown",
   "metadata": {},
   "source": [
    "2a*a**(4/3)*3a**(2/3) = 6a**3"
   ]
  },
  {
   "cell_type": "code",
   "execution_count": 19,
   "metadata": {},
   "outputs": [
    {
     "data": {
      "text/plain": [
       "15.104412573075518"
      ]
     },
     "execution_count": 19,
     "metadata": {},
     "output_type": "execute_result"
    }
   ],
   "source": [
    "def sum_log(n):\n",
    "    return sum([math.log(i) for i in range(1,n+1)])\n",
    "               \n",
    "sum_log(10)"
   ]
  },
  {
   "cell_type": "code",
   "execution_count": 27,
   "metadata": {},
   "outputs": [
    {
     "data": {
      "text/plain": [
       "15.104412573075516"
      ]
     },
     "execution_count": 27,
     "metadata": {},
     "output_type": "execute_result"
    }
   ],
   "source": [
    "from functools import reduce \n",
    "def log_prod(n):\n",
    "    return math.log(reduce(lambda x, y: x*y, range(1, n+1)))\n",
    "\n",
    "log_prod(10)\n",
    "\n",
    "#функции эквивалентны потому, что логарифм произведения равен сумме логарифмов множителей по свойствам логарифмов"
   ]
  },
  {
   "cell_type": "markdown",
   "metadata": {},
   "source": [
    "(15a**(1/140) - 7a**(1/140)) / 2a**(1/140) = 4"
   ]
  },
  {
   "cell_type": "markdown",
   "metadata": {},
   "source": [
    "((2-x)*(2+x))**(1/3) / ((2+x)*(2-x))**(1/3) = 1"
   ]
  },
  {
   "cell_type": "markdown",
   "metadata": {},
   "source": [
    "(2x**12 - x**12)/3x**12 = 1/3"
   ]
  },
  {
   "cell_type": "markdown",
   "metadata": {},
   "source": [
    "(11a**6b**3 - 27a**6b**3)/4a**6b**6 = -4/b**3\n",
    "\n",
    "при b=2 ответ -1/2"
   ]
  }
 ],
 "metadata": {
  "kernelspec": {
   "display_name": "Python 3",
   "language": "python",
   "name": "python3"
  },
  "language_info": {
   "codemirror_mode": {
    "name": "ipython",
    "version": 3
   },
   "file_extension": ".py",
   "mimetype": "text/x-python",
   "name": "python",
   "nbconvert_exporter": "python",
   "pygments_lexer": "ipython3",
   "version": "3.7.4"
  }
 },
 "nbformat": 4,
 "nbformat_minor": 2
}
