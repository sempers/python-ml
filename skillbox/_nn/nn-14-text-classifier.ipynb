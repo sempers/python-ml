{
  "nbformat": 4,
  "nbformat_minor": 0,
  "metadata": {
    "accelerator": "GPU",
    "colab": {
      "name": "Copy of 14-nn-text_classifier.ipynb",
      "provenance": [],
      "collapsed_sections": []
    },
    "kernelspec": {
      "display_name": "Python 3",
      "language": "python",
      "name": "python3"
    },
    "language_info": {
      "codemirror_mode": {
        "name": "ipython",
        "version": 3
      },
      "file_extension": ".py",
      "mimetype": "text/x-python",
      "name": "python",
      "nbconvert_exporter": "python",
      "pygments_lexer": "ipython3",
      "version": "3.8.3"
    }
  },
  "cells": [
    {
      "cell_type": "code",
      "metadata": {
        "colab": {
          "base_uri": "https://localhost:8080/"
        },
        "id": "DGS6Og21tfil",
        "outputId": "228017e2-9255-434a-ee59-785630bdabe4"
      },
      "source": [
        "from google.colab import drive\n",
        "drive.mount('/content/drive')"
      ],
      "execution_count": 1,
      "outputs": [
        {
          "output_type": "stream",
          "text": [
            "Mounted at /content/drive\n"
          ],
          "name": "stdout"
        }
      ]
    },
    {
      "cell_type": "code",
      "metadata": {
        "id": "teahym5YPCcy",
        "colab": {
          "base_uri": "https://localhost:8080/"
        },
        "outputId": "bd6cb266-1c0a-4045-c90e-26d1d22da08f"
      },
      "source": [
        "import numpy as np\n",
        "import matplotlib.pyplot as plt\n",
        "%matplotlib inline\n",
        "import pandas as pd\n",
        "\n",
        "import os\n",
        "import tensorflow as tf\n",
        "print(tf.__version__)\n",
        "\n",
        "import sys\n",
        "import keras\n",
        "import keras.backend as K\n",
        "import json\n",
        "np.random.seed(42)\n"
      ],
      "execution_count": 2,
      "outputs": [
        {
          "output_type": "stream",
          "text": [
            "2.3.0\n"
          ],
          "name": "stdout"
        }
      ]
    },
    {
      "cell_type": "code",
      "metadata": {
        "id": "j6CU1XVJPCc_",
        "colab": {
          "base_uri": "https://localhost:8080/",
          "height": 275
        },
        "outputId": "53204ef6-0245-4f5b-e817-30da56745228"
      },
      "source": [
        "df = pd.read_csv(\"./drive/My Drive/data/movie_genre_dataset/train_data.txt\", sep=\" ::: \", header=None)\n",
        "df.columns = [\"index\", \"name\", \"genre\", \"desc\"]\n",
        "\n",
        "genres_dict = {genre: idx for idx, genre in enumerate(df[\"genre\"].unique())}\n",
        "\n",
        "df[\"genre\"] = df[\"genre\"].apply(lambda x: genres_dict[x])\n",
        "print(genres_dict)\n",
        "df.head()"
      ],
      "execution_count": 3,
      "outputs": [
        {
          "output_type": "stream",
          "text": [
            "/usr/local/lib/python3.6/dist-packages/ipykernel_launcher.py:1: ParserWarning: Falling back to the 'python' engine because the 'c' engine does not support regex separators (separators > 1 char and different from '\\s+' are interpreted as regex); you can avoid this warning by specifying engine='python'.\n",
            "  \"\"\"Entry point for launching an IPython kernel.\n"
          ],
          "name": "stderr"
        },
        {
          "output_type": "stream",
          "text": [
            "{'drama': 0, 'thriller': 1, 'adult': 2, 'documentary': 3, 'comedy': 4, 'crime': 5, 'reality-tv': 6, 'horror': 7, 'sport': 8, 'animation': 9, 'action': 10, 'fantasy': 11, 'short': 12, 'sci-fi': 13, 'music': 14, 'adventure': 15, 'talk-show': 16, 'western': 17, 'family': 18, 'mystery': 19, 'history': 20, 'news': 21, 'biography': 22, 'romance': 23, 'game-show': 24, 'musical': 25, 'war': 26}\n"
          ],
          "name": "stdout"
        },
        {
          "output_type": "execute_result",
          "data": {
            "text/html": [
              "<div>\n",
              "<style scoped>\n",
              "    .dataframe tbody tr th:only-of-type {\n",
              "        vertical-align: middle;\n",
              "    }\n",
              "\n",
              "    .dataframe tbody tr th {\n",
              "        vertical-align: top;\n",
              "    }\n",
              "\n",
              "    .dataframe thead th {\n",
              "        text-align: right;\n",
              "    }\n",
              "</style>\n",
              "<table border=\"1\" class=\"dataframe\">\n",
              "  <thead>\n",
              "    <tr style=\"text-align: right;\">\n",
              "      <th></th>\n",
              "      <th>index</th>\n",
              "      <th>name</th>\n",
              "      <th>genre</th>\n",
              "      <th>desc</th>\n",
              "    </tr>\n",
              "  </thead>\n",
              "  <tbody>\n",
              "    <tr>\n",
              "      <th>0</th>\n",
              "      <td>1</td>\n",
              "      <td>Oscar et la dame rose (2009)</td>\n",
              "      <td>0</td>\n",
              "      <td>Listening in to a conversation between his doc...</td>\n",
              "    </tr>\n",
              "    <tr>\n",
              "      <th>1</th>\n",
              "      <td>2</td>\n",
              "      <td>Cupid (1997)</td>\n",
              "      <td>1</td>\n",
              "      <td>A brother and sister with a past incestuous re...</td>\n",
              "    </tr>\n",
              "    <tr>\n",
              "      <th>2</th>\n",
              "      <td>3</td>\n",
              "      <td>Young, Wild and Wonderful (1980)</td>\n",
              "      <td>2</td>\n",
              "      <td>As the bus empties the students for their fiel...</td>\n",
              "    </tr>\n",
              "    <tr>\n",
              "      <th>3</th>\n",
              "      <td>4</td>\n",
              "      <td>The Secret Sin (1915)</td>\n",
              "      <td>0</td>\n",
              "      <td>To help their unemployed father make ends meet...</td>\n",
              "    </tr>\n",
              "    <tr>\n",
              "      <th>4</th>\n",
              "      <td>5</td>\n",
              "      <td>The Unrecovered (2007)</td>\n",
              "      <td>0</td>\n",
              "      <td>The film's title refers not only to the un-rec...</td>\n",
              "    </tr>\n",
              "  </tbody>\n",
              "</table>\n",
              "</div>"
            ],
            "text/plain": [
              "   index  ...                                               desc\n",
              "0      1  ...  Listening in to a conversation between his doc...\n",
              "1      2  ...  A brother and sister with a past incestuous re...\n",
              "2      3  ...  As the bus empties the students for their fiel...\n",
              "3      4  ...  To help their unemployed father make ends meet...\n",
              "4      5  ...  The film's title refers not only to the un-rec...\n",
              "\n",
              "[5 rows x 4 columns]"
            ]
          },
          "metadata": {
            "tags": []
          },
          "execution_count": 3
        }
      ]
    },
    {
      "cell_type": "code",
      "metadata": {
        "id": "paogNT86PCdD",
        "colab": {
          "base_uri": "https://localhost:8080/"
        },
        "outputId": "edb23ab2-2327-43e4-f38f-a9d29d785a06"
      },
      "source": [
        "X = df[\"desc\"].values\n",
        "Yt = df[\"genre\"].values\n",
        "\n",
        "del df\n",
        "\n",
        "len(X)"
      ],
      "execution_count": 4,
      "outputs": [
        {
          "output_type": "execute_result",
          "data": {
            "text/plain": [
              "54214"
            ]
          },
          "metadata": {
            "tags": []
          },
          "execution_count": 4
        }
      ]
    },
    {
      "cell_type": "code",
      "metadata": {
        "id": "NGoovYTrPCdG",
        "colab": {
          "base_uri": "https://localhost:8080/"
        },
        "outputId": "84ab2f5e-2f23-4af1-acbd-94a1ec4f214b"
      },
      "source": [
        "#Загрузка данных, создание словаря\n",
        "import nltk\n",
        "nltk.download(\"punkt\")\n",
        "nltk.download(\"stopwords\")\n",
        "nltk.download(\"wordnet\")\n",
        "from nltk.tokenize import RegexpTokenizer\n",
        "from collections import Counter\n",
        "from nltk.corpus import stopwords\n",
        "\n",
        "tokenizer = RegexpTokenizer(r'\\w+')\n",
        "\n",
        "PAD = \"<PAD>\"\n",
        "START = \"<START>\"\n",
        "END = \"<END>\"\n",
        "UNK = \"<UNK>\"\n",
        "\n",
        "stopwords = stopwords.words('english')\n",
        "print(stopwords)\n",
        "\n",
        "from nltk.stem import WordNetLemmatizer \n",
        "lemmatizer = WordNetLemmatizer()\n",
        "\n",
        "def tokenize(line):\n",
        "    return [lemmatizer.lemmatize(w) for w in nltk.word_tokenize(line.lower()) if w not in stopwords and w.isalnum()]\n",
        "\n",
        "def generate_vocabs(texts):\n",
        "    counter = Counter()\n",
        "    #1. составляем словарь\n",
        "    for text in texts:\n",
        "        counter.update(tokenize(text))\n",
        "    v = [PAD, START, END, UNK] + [x for x, freq in counter.most_common(25000-4)] #отсекаем слишком редкие слова\n",
        "    vocab = {token: index for index, token in enumerate(v)}\n",
        "    vocab_inverse = {idx: w for w, idx in vocab.items()}\n",
        "    return vocab, vocab_inverse\n",
        "\n",
        "vocab, vocab_inverse = generate_vocabs(X)\n",
        "\n",
        "len(vocab), vocab_inverse[0], vocab_inverse[1]"
      ],
      "execution_count": 56,
      "outputs": [
        {
          "output_type": "stream",
          "text": [
            "[nltk_data] Downloading package punkt to /root/nltk_data...\n",
            "[nltk_data]   Package punkt is already up-to-date!\n",
            "[nltk_data] Downloading package stopwords to /root/nltk_data...\n",
            "[nltk_data]   Package stopwords is already up-to-date!\n",
            "[nltk_data] Downloading package wordnet to /root/nltk_data...\n",
            "[nltk_data]   Unzipping corpora/wordnet.zip.\n",
            "['i', 'me', 'my', 'myself', 'we', 'our', 'ours', 'ourselves', 'you', \"you're\", \"you've\", \"you'll\", \"you'd\", 'your', 'yours', 'yourself', 'yourselves', 'he', 'him', 'his', 'himself', 'she', \"she's\", 'her', 'hers', 'herself', 'it', \"it's\", 'its', 'itself', 'they', 'them', 'their', 'theirs', 'themselves', 'what', 'which', 'who', 'whom', 'this', 'that', \"that'll\", 'these', 'those', 'am', 'is', 'are', 'was', 'were', 'be', 'been', 'being', 'have', 'has', 'had', 'having', 'do', 'does', 'did', 'doing', 'a', 'an', 'the', 'and', 'but', 'if', 'or', 'because', 'as', 'until', 'while', 'of', 'at', 'by', 'for', 'with', 'about', 'against', 'between', 'into', 'through', 'during', 'before', 'after', 'above', 'below', 'to', 'from', 'up', 'down', 'in', 'out', 'on', 'off', 'over', 'under', 'again', 'further', 'then', 'once', 'here', 'there', 'when', 'where', 'why', 'how', 'all', 'any', 'both', 'each', 'few', 'more', 'most', 'other', 'some', 'such', 'no', 'nor', 'not', 'only', 'own', 'same', 'so', 'than', 'too', 'very', 's', 't', 'can', 'will', 'just', 'don', \"don't\", 'should', \"should've\", 'now', 'd', 'll', 'm', 'o', 're', 've', 'y', 'ain', 'aren', \"aren't\", 'couldn', \"couldn't\", 'didn', \"didn't\", 'doesn', \"doesn't\", 'hadn', \"hadn't\", 'hasn', \"hasn't\", 'haven', \"haven't\", 'isn', \"isn't\", 'ma', 'mightn', \"mightn't\", 'mustn', \"mustn't\", 'needn', \"needn't\", 'shan', \"shan't\", 'shouldn', \"shouldn't\", 'wasn', \"wasn't\", 'weren', \"weren't\", 'won', \"won't\", 'wouldn', \"wouldn't\"]\n"
          ],
          "name": "stdout"
        },
        {
          "output_type": "execute_result",
          "data": {
            "text/plain": [
              "(25000, '<PAD>', '<START>')"
            ]
          },
          "metadata": {
            "tags": []
          },
          "execution_count": 56
        }
      ]
    },
    {
      "cell_type": "code",
      "metadata": {
        "colab": {
          "base_uri": "https://localhost:8080/"
        },
        "id": "py9GYiiODttZ",
        "outputId": "1aa3e2c8-b719-4d09-ab01-c273cae4ab71"
      },
      "source": [
        "#Преобразуем X сразу в токенизацию, с учетом словаря, выбрасываем слова, не входящие в словарь #заменяем сразу выброшенные слова на <UNK>\n",
        "\n",
        "def prepare_X_vocab(xt, vocab=vocab):\n",
        "    result = []\n",
        "    for x in xt:\n",
        "        tokenized = tokenize(x)\n",
        "        result.append([START] + [x for x in tokenized if x in vocab] + [END])\n",
        "    return result\n",
        "\n",
        "Xt = prepare_X_vocab(X)\n",
        "Xt[:3]"
      ],
      "execution_count": 58,
      "outputs": [
        {
          "output_type": "execute_result",
          "data": {
            "text/plain": [
              "[['<START>',\n",
              "  'listening',\n",
              "  'conversation',\n",
              "  'doctor',\n",
              "  'parent',\n",
              "  'oscar',\n",
              "  'learns',\n",
              "  'nobody',\n",
              "  'courage',\n",
              "  'tell',\n",
              "  'week',\n",
              "  'live',\n",
              "  'furious',\n",
              "  'refuse',\n",
              "  'speak',\n",
              "  'anyone',\n",
              "  'except',\n",
              "  'rose',\n",
              "  'lady',\n",
              "  'pink',\n",
              "  'meet',\n",
              "  'hospital',\n",
              "  'stair',\n",
              "  'christmas',\n",
              "  'approach',\n",
              "  'rose',\n",
              "  'us',\n",
              "  'fantastical',\n",
              "  'experience',\n",
              "  'professional',\n",
              "  'wrestler',\n",
              "  'imagination',\n",
              "  'wit',\n",
              "  'charm',\n",
              "  'allow',\n",
              "  'oscar',\n",
              "  'live',\n",
              "  'life',\n",
              "  'love',\n",
              "  'full',\n",
              "  'company',\n",
              "  'friend',\n",
              "  'pop',\n",
              "  'corn',\n",
              "  'einstein',\n",
              "  'bacon',\n",
              "  'childhood',\n",
              "  'sweetheart',\n",
              "  'peggy',\n",
              "  'blue',\n",
              "  '<END>'],\n",
              " ['<START>',\n",
              "  'brother',\n",
              "  'sister',\n",
              "  'past',\n",
              "  'incestuous',\n",
              "  'relationship',\n",
              "  'current',\n",
              "  'murderous',\n",
              "  'relationship',\n",
              "  'murder',\n",
              "  'woman',\n",
              "  'reject',\n",
              "  'murder',\n",
              "  'woman',\n",
              "  'get',\n",
              "  'close',\n",
              "  '<END>'],\n",
              " ['<START>',\n",
              "  'bus',\n",
              "  'empty',\n",
              "  'student',\n",
              "  'field',\n",
              "  'trip',\n",
              "  'museum',\n",
              "  'natural',\n",
              "  'history',\n",
              "  'little',\n",
              "  'tour',\n",
              "  'guide',\n",
              "  'suspect',\n",
              "  'student',\n",
              "  'another',\n",
              "  'tour',\n",
              "  'first',\n",
              "  'lecture',\n",
              "  'film',\n",
              "  'coeds',\n",
              "  'drift',\n",
              "  'dream',\n",
              "  'erotic',\n",
              "  'fantasy',\n",
              "  'one',\n",
              "  'imagine',\n",
              "  'film',\n",
              "  'release',\n",
              "  'emotion',\n",
              "  'fantasy',\n",
              "  'erotic',\n",
              "  'uncommon',\n",
              "  'way',\n",
              "  'one',\n",
              "  'slip',\n",
              "  'curator',\n",
              "  'office',\n",
              "  'little',\n",
              "  'another',\n",
              "  'find',\n",
              "  'anthropologist',\n",
              "  'see',\n",
              "  'bone',\n",
              "  'identified',\n",
              "  'even',\n",
              "  'head',\n",
              "  'teacher',\n",
              "  'immune',\n",
              "  'soon',\n",
              "  'tour',\n",
              "  'bus',\n",
              "  'departs',\n",
              "  'everyone',\n",
              "  'admits',\n",
              "  'quite',\n",
              "  'education',\n",
              "  '<END>']]"
            ]
          },
          "metadata": {
            "tags": []
          },
          "execution_count": 58
        }
      ]
    },
    {
      "cell_type": "code",
      "metadata": {
        "colab": {
          "base_uri": "https://localhost:8080/"
        },
        "id": "ZRydJJCjDY-D",
        "outputId": "ea684cfb-0c0f-4726-cd40-dbecfb30d1c7"
      },
      "source": [
        "EMBEDDING_DIM = 64\n",
        "import keras\n",
        "import keras.layers as L\n",
        "from gensim.models import Word2Vec\n",
        "\n",
        "w2vec = Word2Vec(Xt, size=EMBEDDING_DIM, window=5, min_count=1, workers=4)\n",
        "\n",
        "def get_embedding(word):\n",
        "    if word in w2vec:\n",
        "        return w2vec[word]\n",
        "    else:\n",
        "        return np.zeros((1,EMBEDDING_DIM))\n",
        "\n",
        "#Готовим матрицу коэффициентов\n",
        "embedding_matrix = np.zeros((len(vocab), EMBEDDING_DIM))\n",
        "for word, i in vocab.items():\n",
        "    embedding_vector = np.zeros((1,EMBEDDING_DIM))\n",
        "    embedding_vector = get_embedding(word)\n",
        "    embedding_matrix[i] = embedding_vector \n",
        "\n",
        "#Готовый слой Керас\n",
        "embedding_layer = L.Embedding(len(vocab),\n",
        "                            EMBEDDING_DIM,\n",
        "                            weights=[embedding_matrix], \n",
        "                            trainable=False, \n",
        "                            mask_zero=True)\n",
        "embedding_matrix.shape"
      ],
      "execution_count": 59,
      "outputs": [
        {
          "output_type": "stream",
          "text": [
            "/usr/local/lib/python3.6/dist-packages/ipykernel_launcher.py:9: DeprecationWarning: Call to deprecated `__contains__` (Method will be removed in 4.0.0, use self.wv.__contains__() instead).\n",
            "  if __name__ == '__main__':\n",
            "/usr/local/lib/python3.6/dist-packages/ipykernel_launcher.py:10: DeprecationWarning: Call to deprecated `__getitem__` (Method will be removed in 4.0.0, use self.wv.__getitem__() instead).\n",
            "  # Remove the CWD from sys.path while we load stuff.\n"
          ],
          "name": "stderr"
        },
        {
          "output_type": "execute_result",
          "data": {
            "text/plain": [
              "(25000, 64)"
            ]
          },
          "metadata": {
            "tags": []
          },
          "execution_count": 59
        }
      ]
    },
    {
      "cell_type": "code",
      "metadata": {
        "colab": {
          "base_uri": "https://localhost:8080/"
        },
        "id": "WHlkOb6MR43x",
        "outputId": "684cf7f6-2397-4fa7-bd10-7d95433988ae"
      },
      "source": [
        "pip install keras-self-attention"
      ],
      "execution_count": 8,
      "outputs": [
        {
          "output_type": "stream",
          "text": [
            "Collecting keras-self-attention\n",
            "  Downloading https://files.pythonhosted.org/packages/39/0d/b8ab8469ae55cea199574f4d2c30da4656d310a833a67bb422ad8a056bf0/keras-self-attention-0.47.0.tar.gz\n",
            "Requirement already satisfied: numpy in /usr/local/lib/python3.6/dist-packages (from keras-self-attention) (1.18.5)\n",
            "Requirement already satisfied: Keras in /usr/local/lib/python3.6/dist-packages (from keras-self-attention) (2.4.3)\n",
            "Requirement already satisfied: h5py in /usr/local/lib/python3.6/dist-packages (from Keras->keras-self-attention) (2.10.0)\n",
            "Requirement already satisfied: scipy>=0.14 in /usr/local/lib/python3.6/dist-packages (from Keras->keras-self-attention) (1.4.1)\n",
            "Requirement already satisfied: pyyaml in /usr/local/lib/python3.6/dist-packages (from Keras->keras-self-attention) (3.13)\n",
            "Requirement already satisfied: six in /usr/local/lib/python3.6/dist-packages (from h5py->Keras->keras-self-attention) (1.15.0)\n",
            "Building wheels for collected packages: keras-self-attention\n",
            "  Building wheel for keras-self-attention (setup.py) ... \u001b[?25l\u001b[?25hdone\n",
            "  Created wheel for keras-self-attention: filename=keras_self_attention-0.47.0-cp36-none-any.whl size=17289 sha256=dd92e8afac0b11b534508c5e8739ddc450084c845eae3e7ff468b93217aaeee0\n",
            "  Stored in directory: /root/.cache/pip/wheels/70/87/01/76c703d5401b65e323927c1fdc665f3fb143282ff67d71e859\n",
            "Successfully built keras-self-attention\n",
            "Installing collected packages: keras-self-attention\n",
            "Successfully installed keras-self-attention-0.47.0\n"
          ],
          "name": "stdout"
        }
      ]
    },
    {
      "cell_type": "code",
      "metadata": {
        "id": "6jXnF7_tPCdK",
        "colab": {
          "base_uri": "https://localhost:8080/"
        },
        "outputId": "0eaa6b59-e58d-4357-f2bb-3d78138d3021"
      },
      "source": [
        "MAX_LEN = 1000\n",
        "N_LSTM = 512\n",
        "N_EMBED = 64\n",
        "N_GENRES = 27\n",
        "N_VOCAB = len(vocab)\n",
        "\n",
        "\n",
        "def build_model():\n",
        "    X = L.Input(batch_input_shape=(None, None))\n",
        "    #e = L.Embedding(N_VOCAB, N_EMBED, mask_zero=True)(X)\n",
        "    #e = L.SpatialDropout1D(0.2)(e)\n",
        "    e = embedding_layer(X)\n",
        "    l1, hf, cf, hb, cb = L.Bidirectional(L.LSTM(units=N_LSTM, return_sequences=False, return_state=True, dropout=0.1))(e)\n",
        "    lstm_state = L.Concatenate()([l1, hf, hb]) # конкатенрировал выход и хидден-стейт - так обучается быстрее\n",
        "    #lstm_state = l1\n",
        "    d1 = L.Dense(1024, activation='relu')(lstm_state)\n",
        "    d1 = L.Dropout(0.2)(d1) # изначально 0.15\n",
        "    d2 = L.Dense(256, activation='relu')(d1)\n",
        "    d2 = L.Dropout(0.2)(d2) # изначально 0.15\n",
        "    Y = L.Dense(N_GENRES, activation='softmax')(d2)\n",
        "    return keras.models.Model(inputs=X, outputs=Y)\n",
        "    \n",
        "model = build_model()\n",
        "opt = keras.optimizers.Adam(lr=0.0001)\n",
        "model.compile(optimizer=opt, loss='sparse_categorical_crossentropy', metrics=['accuracy'])\n",
        "\n",
        "model.summary()"
      ],
      "execution_count": null,
      "outputs": [
        {
          "output_type": "stream",
          "text": [
            "Model: \"functional_1\"\n",
            "__________________________________________________________________________________________________\n",
            "Layer (type)                    Output Shape         Param #     Connected to                     \n",
            "==================================================================================================\n",
            "input_1 (InputLayer)            [(None, None)]       0                                            \n",
            "__________________________________________________________________________________________________\n",
            "embedding (Embedding)           (None, None, 64)     1600000     input_1[0][0]                    \n",
            "__________________________________________________________________________________________________\n",
            "bidirectional (Bidirectional)   [(None, 1024), (None 2363392     embedding[0][0]                  \n",
            "__________________________________________________________________________________________________\n",
            "concatenate (Concatenate)       (None, 2048)         0           bidirectional[0][0]              \n",
            "                                                                 bidirectional[0][1]              \n",
            "                                                                 bidirectional[0][3]              \n",
            "__________________________________________________________________________________________________\n",
            "dense (Dense)                   (None, 1024)         2098176     concatenate[0][0]                \n",
            "__________________________________________________________________________________________________\n",
            "dropout (Dropout)               (None, 1024)         0           dense[0][0]                      \n",
            "__________________________________________________________________________________________________\n",
            "dense_1 (Dense)                 (None, 256)          262400      dropout[0][0]                    \n",
            "__________________________________________________________________________________________________\n",
            "dropout_1 (Dropout)             (None, 256)          0           dense_1[0][0]                    \n",
            "__________________________________________________________________________________________________\n",
            "dense_2 (Dense)                 (None, 27)           6939        dropout_1[0][0]                  \n",
            "==================================================================================================\n",
            "Total params: 6,330,907\n",
            "Trainable params: 4,730,907\n",
            "Non-trainable params: 1,600,000\n",
            "__________________________________________________________________________________________________\n"
          ],
          "name": "stdout"
        }
      ]
    },
    {
      "cell_type": "code",
      "metadata": {
        "colab": {
          "base_uri": "https://localhost:8080/"
        },
        "id": "wSi1YHi1SI5f",
        "outputId": "6123a888-7ecc-4caa-a35b-161c579fece1"
      },
      "source": [
        "#model with Self-Attention\n",
        "\n",
        "N_LSTM = 256\n",
        "N_EMBED = 64\n",
        "N_GENRES = 27\n",
        "N_VOCAB = len(vocab)\n",
        "\n",
        "from keras_self_attention import SeqSelfAttention\n",
        "\n",
        "def build_amodel():\n",
        "    X = L.Input(batch_input_shape=(None, None))\n",
        "    e = embedding_layer(X)\n",
        "    l1, hf, cf, hb, cb = L.Bidirectional(L.LSTM(units=N_LSTM, return_sequences=True, return_state=True))(e)\n",
        "    \n",
        "    att = SeqSelfAttention(attention_type=SeqSelfAttention.ATTENTION_TYPE_MUL, attention_activation=None)(l1)\n",
        "    avg_att = L.GlobalAveragePooling1D()(att)\n",
        "\n",
        "    #total_state = L.Concatenate()([l1[...,-1, :], hb, hf, avg_att])\n",
        "    total_state = L.Concatenate()([l1[..., -1, :], avg_att])\n",
        "    d1 = L.Dense(1024, activation='relu')(total_state)\n",
        "    d1 = L.Dropout(0.1)(d1) # изначально 0.15\n",
        "    d2 = L.Dense(256, activation='relu')(d1)\n",
        "    d2 = L.Dropout(0.1)(d2) # изначально 0.15\n",
        "    Y = L.Dense(N_GENRES, activation='softmax')(d2)\n",
        "    return keras.models.Model(inputs=X, outputs=Y)\n",
        "\n",
        "model = build_amodel()\n",
        "opt = keras.optimizers.Adam(lr=0.0001)\n",
        "model.compile(optimizer=opt, loss='sparse_categorical_crossentropy', metrics=['accuracy'])\n",
        "\n",
        "model.summary()"
      ],
      "execution_count": 60,
      "outputs": [
        {
          "output_type": "stream",
          "text": [
            "Model: \"functional_35\"\n",
            "__________________________________________________________________________________________________\n",
            "Layer (type)                    Output Shape         Param #     Connected to                     \n",
            "==================================================================================================\n",
            "input_25 (InputLayer)           [(None, None)]       0                                            \n",
            "__________________________________________________________________________________________________\n",
            "embedding_2 (Embedding)         (None, None, 64)     1600000     input_25[0][0]                   \n",
            "__________________________________________________________________________________________________\n",
            "bidirectional_23 (Bidirectional [(None, None, 512),  657408      embedding_2[0][0]                \n",
            "__________________________________________________________________________________________________\n",
            "seq_self_attention_23 (SeqSelfA (None, None, 512)    262145      bidirectional_23[0][0]           \n",
            "__________________________________________________________________________________________________\n",
            "tf_op_layer_strided_slice_16 (T [(None, 512)]        0           bidirectional_23[0][0]           \n",
            "__________________________________________________________________________________________________\n",
            "global_average_pooling1d_16 (Gl (None, 512)          0           seq_self_attention_23[0][0]      \n",
            "__________________________________________________________________________________________________\n",
            "concatenate_17 (Concatenate)    (None, 1024)         0           tf_op_layer_strided_slice_16[0][0\n",
            "                                                                 global_average_pooling1d_16[0][0]\n",
            "__________________________________________________________________________________________________\n",
            "dense_52 (Dense)                (None, 1024)         1049600     concatenate_17[0][0]             \n",
            "__________________________________________________________________________________________________\n",
            "dropout_34 (Dropout)            (None, 1024)         0           dense_52[0][0]                   \n",
            "__________________________________________________________________________________________________\n",
            "dense_53 (Dense)                (None, 256)          262400      dropout_34[0][0]                 \n",
            "__________________________________________________________________________________________________\n",
            "dropout_35 (Dropout)            (None, 256)          0           dense_53[0][0]                   \n",
            "__________________________________________________________________________________________________\n",
            "dense_54 (Dense)                (None, 27)           6939        dropout_35[0][0]                 \n",
            "==================================================================================================\n",
            "Total params: 3,838,492\n",
            "Trainable params: 2,238,492\n",
            "Non-trainable params: 1,600,000\n",
            "__________________________________________________________________________________________________\n"
          ],
          "name": "stdout"
        }
      ]
    },
    {
      "cell_type": "code",
      "metadata": {
        "id": "UqzK9ZnCSi1I"
      },
      "source": [
        ""
      ],
      "execution_count": null,
      "outputs": []
    },
    {
      "cell_type": "code",
      "metadata": {
        "id": "4wv5naN2PCdR",
        "colab": {
          "base_uri": "https://localhost:8080/"
        },
        "outputId": "ecd71852-01d4-480e-f461-78e64f9f5174"
      },
      "source": [
        "Xt[:3], Yt[:3], len(Xt)"
      ],
      "execution_count": null,
      "outputs": [
        {
          "output_type": "execute_result",
          "data": {
            "text/plain": [
              "([['<START>',\n",
              "   'listening',\n",
              "   'conversation',\n",
              "   'doctor',\n",
              "   'parents',\n",
              "   '10',\n",
              "   'year',\n",
              "   'old',\n",
              "   'oscar',\n",
              "   'learns',\n",
              "   'nobody',\n",
              "   'courage',\n",
              "   'tell',\n",
              "   'weeks',\n",
              "   'live',\n",
              "   'furious',\n",
              "   'refuses',\n",
              "   'speak',\n",
              "   'anyone',\n",
              "   'except',\n",
              "   'straight',\n",
              "   'talking',\n",
              "   'rose',\n",
              "   'lady',\n",
              "   'pink',\n",
              "   'meets',\n",
              "   'hospital',\n",
              "   'stairs',\n",
              "   'christmas',\n",
              "   'approaches',\n",
              "   'rose',\n",
              "   'uses',\n",
              "   'fantastical',\n",
              "   'experiences',\n",
              "   'professional',\n",
              "   'wrestler',\n",
              "   'imagination',\n",
              "   'wit',\n",
              "   'charm',\n",
              "   'allow',\n",
              "   'oscar',\n",
              "   'live',\n",
              "   'life',\n",
              "   'love',\n",
              "   'full',\n",
              "   'company',\n",
              "   'friends',\n",
              "   'pop',\n",
              "   'corn',\n",
              "   'einstein',\n",
              "   'bacon',\n",
              "   'childhood',\n",
              "   'sweetheart',\n",
              "   'peggy',\n",
              "   'blue',\n",
              "   '<END>'],\n",
              "  ['<START>',\n",
              "   'brother',\n",
              "   'sister',\n",
              "   'past',\n",
              "   'incestuous',\n",
              "   'relationship',\n",
              "   'current',\n",
              "   'murderous',\n",
              "   'relationship',\n",
              "   'murders',\n",
              "   'women',\n",
              "   'reject',\n",
              "   'murders',\n",
              "   'women',\n",
              "   'get',\n",
              "   'close',\n",
              "   '<END>'],\n",
              "  ['<START>',\n",
              "   'bus',\n",
              "   '<UNK>',\n",
              "   'students',\n",
              "   'field',\n",
              "   'trip',\n",
              "   'museum',\n",
              "   'natural',\n",
              "   'history',\n",
              "   'little',\n",
              "   'tour',\n",
              "   'guide',\n",
              "   'suspect',\n",
              "   'students',\n",
              "   'another',\n",
              "   'tour',\n",
              "   'first',\n",
              "   'lecture',\n",
              "   'films',\n",
              "   'coeds',\n",
              "   'drift',\n",
              "   'dreams',\n",
              "   'erotic',\n",
              "   'fantasies',\n",
              "   'one',\n",
              "   'imagine',\n",
              "   'films',\n",
              "   'release',\n",
              "   'emotion',\n",
              "   'fantasies',\n",
              "   'erotic',\n",
              "   'uncommon',\n",
              "   'ways',\n",
              "   'one',\n",
              "   'slips',\n",
              "   'curator',\n",
              "   'office',\n",
              "   'little',\n",
              "   'acquisition',\n",
              "   'another',\n",
              "   'finds',\n",
              "   'anthropologist',\n",
              "   'see',\n",
              "   'bones',\n",
              "   'identified',\n",
              "   'even',\n",
              "   'head',\n",
              "   'teacher',\n",
              "   'immune',\n",
              "   'soon',\n",
              "   'tour',\n",
              "   'bus',\n",
              "   'departs',\n",
              "   'everyone',\n",
              "   'admits',\n",
              "   'quite',\n",
              "   'education',\n",
              "   '<END>']],\n",
              " array([0, 1, 2]),\n",
              " 54214)"
            ]
          },
          "metadata": {
            "tags": []
          },
          "execution_count": 11
        }
      ]
    },
    {
      "cell_type": "code",
      "metadata": {
        "id": "U0d8EegRPCdV",
        "colab": {
          "base_uri": "https://localhost:8080/"
        },
        "outputId": "c15acba8-e617-47b4-e800-4c5422fbd881"
      },
      "source": [
        "BATCH_SIZE = 32\n",
        "MAX_LEN = 1000\n",
        "\n",
        "def to_text(seq):\n",
        "    return \" \".join([vocab_inverse[idx] for idx in seq])\n",
        "\n",
        "def to_sequence(text, vocab=vocab):\n",
        "    #tokens = tokenize(text)\n",
        "    tokens = text\n",
        "    return [vocab[w] if w in vocab else vocab[UNK] for w in tokens]\n",
        "\n",
        "def to_matrix(texts, maxlen=0):\n",
        "    seqs = [to_sequence(text) for text in texts]\n",
        "    if maxlen == 0:\n",
        "        maxlen = min(MAX_LEN, max(list(map(len, seqs))))\n",
        "    return keras.preprocessing.sequence.pad_sequences(seqs, maxlen=maxlen, dtype='int32', padding='post', truncating='post', value=0)\n",
        "\n",
        "import random\n",
        "\n",
        "def shuffleXY(x, y):\n",
        "    Z = list(zip(x, y))\n",
        "    random.shuffle(Z)\n",
        "    return zip(*Z)\n",
        "\n",
        "def train_gen(x, y):\n",
        "    offset = 0\n",
        "    count = BATCH_SIZE\n",
        "    while True:\n",
        "        #if offset == 0:\n",
        "        #    x, y = shuffleXY(x, y)\n",
        "        xt = to_matrix(x[offset:offset+count])\n",
        "        yt = y[offset:offset+count]\n",
        "        yield xt, yt\n",
        "        offset += count\n",
        "        if offset >= len(x)//BATCH_SIZE*BATCH_SIZE:\n",
        "            offset = 0\n",
        "            \n",
        "def val_gen(x, y):\n",
        "    offset = 0\n",
        "    count = BATCH_SIZE\n",
        "    while True:\n",
        "        xv = to_matrix(x[offset:offset+count])\n",
        "        yv = y[offset:offset+count]\n",
        "        yield xv, yv\n",
        "        offset += count\n",
        "        if offset >= len(x)//BATCH_SIZE*BATCH_SIZE:\n",
        "            offset = 0\n",
        "\n",
        "def _schedule(epoch, lr):\n",
        "    if epoch < 3:\n",
        "        return 0.001\n",
        "    else:\n",
        "        return lr * tf.math.exp(-0.1)\n",
        "\n",
        "from sklearn.model_selection import train_test_split\n",
        "\n",
        "Xtt, Xtv, Ytt, Ytv = train_test_split(Xt, Yt, test_size=0.25, random_state=42)\n",
        "\n",
        "def train_model(initial_epoch, n_epochs, train_gen, val_gen):\n",
        "    model.fit(train_gen, epochs=n_epochs, validation_data = val_gen, validation_steps=len(Xtv)//BATCH_SIZE,\n",
        "                steps_per_epoch=len(Xtt)//BATCH_SIZE,  initial_epoch=initial_epoch, \n",
        "                callbacks=[\n",
        "        tf.keras.callbacks.ModelCheckpoint(filepath='./model.{epoch:03d}.hdf5')\n",
        "])\n",
        "    \n",
        "len(Xtt), len(Xtv)"
      ],
      "execution_count": 61,
      "outputs": [
        {
          "output_type": "execute_result",
          "data": {
            "text/plain": [
              "(40660, 13554)"
            ]
          },
          "metadata": {
            "tags": []
          },
          "execution_count": 61
        }
      ]
    },
    {
      "cell_type": "code",
      "metadata": {
        "id": "3G_uqNNoPCdf"
      },
      "source": [
        "opt = keras.optimizers.Adam(lr=0.001)\n",
        "model.compile(optimizer=opt, loss='sparse_categorical_crossentropy', metrics=['accuracy'])"
      ],
      "execution_count": 24,
      "outputs": []
    },
    {
      "cell_type": "code",
      "metadata": {
        "id": "GNBwwdrsPCdj",
        "colab": {
          "base_uri": "https://localhost:8080/",
          "height": 646
        },
        "outputId": "620974a3-8512-42c8-e7ae-f46de0869029"
      },
      "source": [
        "train_model(0, 10, train_gen(Xtt, Ytt), val_gen(Xtv, Ytv))"
      ],
      "execution_count": 62,
      "outputs": [
        {
          "output_type": "stream",
          "text": [
            "Epoch 1/10\n",
            "1270/1270 [==============================] - 43s 34ms/step - loss: 1.7064 - accuracy: 0.5026 - val_loss: 1.5196 - val_accuracy: 0.5397\n",
            "Epoch 2/10\n",
            "1270/1270 [==============================] - 42s 33ms/step - loss: 1.4723 - accuracy: 0.5519 - val_loss: 1.4565 - val_accuracy: 0.5540\n",
            "Epoch 3/10\n",
            "1270/1270 [==============================] - 42s 33ms/step - loss: 1.3974 - accuracy: 0.5704 - val_loss: 1.4302 - val_accuracy: 0.5611\n",
            "Epoch 4/10\n",
            "1270/1270 [==============================] - 41s 32ms/step - loss: 1.3367 - accuracy: 0.5865 - val_loss: 1.4174 - val_accuracy: 0.5652\n",
            "Epoch 5/10\n",
            "1270/1270 [==============================] - 41s 33ms/step - loss: 1.2854 - accuracy: 0.6006 - val_loss: 1.4186 - val_accuracy: 0.5640\n",
            "Epoch 6/10\n",
            "1270/1270 [==============================] - 41s 32ms/step - loss: 1.2304 - accuracy: 0.6162 - val_loss: 1.4233 - val_accuracy: 0.5621\n",
            "Epoch 7/10\n",
            "1270/1270 [==============================] - 41s 33ms/step - loss: 1.1718 - accuracy: 0.6335 - val_loss: 1.4433 - val_accuracy: 0.5615\n",
            "Epoch 8/10\n",
            "1270/1270 [==============================] - 41s 32ms/step - loss: 1.1103 - accuracy: 0.6520 - val_loss: 1.4739 - val_accuracy: 0.5592\n",
            "Epoch 9/10\n",
            "1270/1270 [==============================] - 42s 33ms/step - loss: 1.0460 - accuracy: 0.6719 - val_loss: 1.5269 - val_accuracy: 0.5475\n",
            "Epoch 10/10\n",
            " 194/1270 [===>..........................] - ETA: 30s - loss: 1.0120 - accuracy: 0.6849"
          ],
          "name": "stdout"
        },
        {
          "output_type": "error",
          "ename": "KeyboardInterrupt",
          "evalue": "ignored",
          "traceback": [
            "\u001b[0;31m---------------------------------------------------------------------------\u001b[0m",
            "\u001b[0;31mKeyboardInterrupt\u001b[0m                         Traceback (most recent call last)",
            "\u001b[0;32m<ipython-input-62-98df68c634d0>\u001b[0m in \u001b[0;36m<module>\u001b[0;34m()\u001b[0m\n\u001b[0;32m----> 1\u001b[0;31m \u001b[0mtrain_model\u001b[0m\u001b[0;34m(\u001b[0m\u001b[0;36m0\u001b[0m\u001b[0;34m,\u001b[0m \u001b[0;36m10\u001b[0m\u001b[0;34m,\u001b[0m \u001b[0mtrain_gen\u001b[0m\u001b[0;34m(\u001b[0m\u001b[0mXtt\u001b[0m\u001b[0;34m,\u001b[0m \u001b[0mYtt\u001b[0m\u001b[0;34m)\u001b[0m\u001b[0;34m,\u001b[0m \u001b[0mval_gen\u001b[0m\u001b[0;34m(\u001b[0m\u001b[0mXtv\u001b[0m\u001b[0;34m,\u001b[0m \u001b[0mYtv\u001b[0m\u001b[0;34m)\u001b[0m\u001b[0;34m)\u001b[0m\u001b[0;34m\u001b[0m\u001b[0;34m\u001b[0m\u001b[0m\n\u001b[0m",
            "\u001b[0;32m<ipython-input-61-1910cb1ad16f>\u001b[0m in \u001b[0;36mtrain_model\u001b[0;34m(initial_epoch, n_epochs, train_gen, val_gen)\u001b[0m\n\u001b[1;32m     61\u001b[0m                 \u001b[0msteps_per_epoch\u001b[0m\u001b[0;34m=\u001b[0m\u001b[0mlen\u001b[0m\u001b[0;34m(\u001b[0m\u001b[0mXtt\u001b[0m\u001b[0;34m)\u001b[0m\u001b[0;34m//\u001b[0m\u001b[0mBATCH_SIZE\u001b[0m\u001b[0;34m,\u001b[0m  \u001b[0minitial_epoch\u001b[0m\u001b[0;34m=\u001b[0m\u001b[0minitial_epoch\u001b[0m\u001b[0;34m,\u001b[0m\u001b[0;34m\u001b[0m\u001b[0;34m\u001b[0m\u001b[0m\n\u001b[1;32m     62\u001b[0m                 callbacks=[\n\u001b[0;32m---> 63\u001b[0;31m         \u001b[0mtf\u001b[0m\u001b[0;34m.\u001b[0m\u001b[0mkeras\u001b[0m\u001b[0;34m.\u001b[0m\u001b[0mcallbacks\u001b[0m\u001b[0;34m.\u001b[0m\u001b[0mModelCheckpoint\u001b[0m\u001b[0;34m(\u001b[0m\u001b[0mfilepath\u001b[0m\u001b[0;34m=\u001b[0m\u001b[0;34m'./model.{epoch:03d}.hdf5'\u001b[0m\u001b[0;34m)\u001b[0m\u001b[0;34m\u001b[0m\u001b[0;34m\u001b[0m\u001b[0m\n\u001b[0m\u001b[1;32m     64\u001b[0m ])\n\u001b[1;32m     65\u001b[0m \u001b[0;34m\u001b[0m\u001b[0m\n",
            "\u001b[0;32m/usr/local/lib/python3.6/dist-packages/tensorflow/python/keras/engine/training.py\u001b[0m in \u001b[0;36m_method_wrapper\u001b[0;34m(self, *args, **kwargs)\u001b[0m\n\u001b[1;32m    106\u001b[0m   \u001b[0;32mdef\u001b[0m \u001b[0m_method_wrapper\u001b[0m\u001b[0;34m(\u001b[0m\u001b[0mself\u001b[0m\u001b[0;34m,\u001b[0m \u001b[0;34m*\u001b[0m\u001b[0margs\u001b[0m\u001b[0;34m,\u001b[0m \u001b[0;34m**\u001b[0m\u001b[0mkwargs\u001b[0m\u001b[0;34m)\u001b[0m\u001b[0;34m:\u001b[0m\u001b[0;34m\u001b[0m\u001b[0;34m\u001b[0m\u001b[0m\n\u001b[1;32m    107\u001b[0m     \u001b[0;32mif\u001b[0m \u001b[0;32mnot\u001b[0m \u001b[0mself\u001b[0m\u001b[0;34m.\u001b[0m\u001b[0m_in_multi_worker_mode\u001b[0m\u001b[0;34m(\u001b[0m\u001b[0;34m)\u001b[0m\u001b[0;34m:\u001b[0m  \u001b[0;31m# pylint: disable=protected-access\u001b[0m\u001b[0;34m\u001b[0m\u001b[0;34m\u001b[0m\u001b[0m\n\u001b[0;32m--> 108\u001b[0;31m       \u001b[0;32mreturn\u001b[0m \u001b[0mmethod\u001b[0m\u001b[0;34m(\u001b[0m\u001b[0mself\u001b[0m\u001b[0;34m,\u001b[0m \u001b[0;34m*\u001b[0m\u001b[0margs\u001b[0m\u001b[0;34m,\u001b[0m \u001b[0;34m**\u001b[0m\u001b[0mkwargs\u001b[0m\u001b[0;34m)\u001b[0m\u001b[0;34m\u001b[0m\u001b[0;34m\u001b[0m\u001b[0m\n\u001b[0m\u001b[1;32m    109\u001b[0m \u001b[0;34m\u001b[0m\u001b[0m\n\u001b[1;32m    110\u001b[0m     \u001b[0;31m# Running inside `run_distribute_coordinator` already.\u001b[0m\u001b[0;34m\u001b[0m\u001b[0;34m\u001b[0m\u001b[0;34m\u001b[0m\u001b[0m\n",
            "\u001b[0;32m/usr/local/lib/python3.6/dist-packages/tensorflow/python/keras/engine/training.py\u001b[0m in \u001b[0;36mfit\u001b[0;34m(self, x, y, batch_size, epochs, verbose, callbacks, validation_split, validation_data, shuffle, class_weight, sample_weight, initial_epoch, steps_per_epoch, validation_steps, validation_batch_size, validation_freq, max_queue_size, workers, use_multiprocessing)\u001b[0m\n\u001b[1;32m   1096\u001b[0m                 batch_size=batch_size):\n\u001b[1;32m   1097\u001b[0m               \u001b[0mcallbacks\u001b[0m\u001b[0;34m.\u001b[0m\u001b[0mon_train_batch_begin\u001b[0m\u001b[0;34m(\u001b[0m\u001b[0mstep\u001b[0m\u001b[0;34m)\u001b[0m\u001b[0;34m\u001b[0m\u001b[0;34m\u001b[0m\u001b[0m\n\u001b[0;32m-> 1098\u001b[0;31m               \u001b[0mtmp_logs\u001b[0m \u001b[0;34m=\u001b[0m \u001b[0mtrain_function\u001b[0m\u001b[0;34m(\u001b[0m\u001b[0miterator\u001b[0m\u001b[0;34m)\u001b[0m\u001b[0;34m\u001b[0m\u001b[0;34m\u001b[0m\u001b[0m\n\u001b[0m\u001b[1;32m   1099\u001b[0m               \u001b[0;32mif\u001b[0m \u001b[0mdata_handler\u001b[0m\u001b[0;34m.\u001b[0m\u001b[0mshould_sync\u001b[0m\u001b[0;34m:\u001b[0m\u001b[0;34m\u001b[0m\u001b[0;34m\u001b[0m\u001b[0m\n\u001b[1;32m   1100\u001b[0m                 \u001b[0mcontext\u001b[0m\u001b[0;34m.\u001b[0m\u001b[0masync_wait\u001b[0m\u001b[0;34m(\u001b[0m\u001b[0;34m)\u001b[0m\u001b[0;34m\u001b[0m\u001b[0;34m\u001b[0m\u001b[0m\n",
            "\u001b[0;32m/usr/local/lib/python3.6/dist-packages/tensorflow/python/eager/def_function.py\u001b[0m in \u001b[0;36m__call__\u001b[0;34m(self, *args, **kwds)\u001b[0m\n\u001b[1;32m    778\u001b[0m       \u001b[0;32melse\u001b[0m\u001b[0;34m:\u001b[0m\u001b[0;34m\u001b[0m\u001b[0;34m\u001b[0m\u001b[0m\n\u001b[1;32m    779\u001b[0m         \u001b[0mcompiler\u001b[0m \u001b[0;34m=\u001b[0m \u001b[0;34m\"nonXla\"\u001b[0m\u001b[0;34m\u001b[0m\u001b[0;34m\u001b[0m\u001b[0m\n\u001b[0;32m--> 780\u001b[0;31m         \u001b[0mresult\u001b[0m \u001b[0;34m=\u001b[0m \u001b[0mself\u001b[0m\u001b[0;34m.\u001b[0m\u001b[0m_call\u001b[0m\u001b[0;34m(\u001b[0m\u001b[0;34m*\u001b[0m\u001b[0margs\u001b[0m\u001b[0;34m,\u001b[0m \u001b[0;34m**\u001b[0m\u001b[0mkwds\u001b[0m\u001b[0;34m)\u001b[0m\u001b[0;34m\u001b[0m\u001b[0;34m\u001b[0m\u001b[0m\n\u001b[0m\u001b[1;32m    781\u001b[0m \u001b[0;34m\u001b[0m\u001b[0m\n\u001b[1;32m    782\u001b[0m       \u001b[0mnew_tracing_count\u001b[0m \u001b[0;34m=\u001b[0m \u001b[0mself\u001b[0m\u001b[0;34m.\u001b[0m\u001b[0m_get_tracing_count\u001b[0m\u001b[0;34m(\u001b[0m\u001b[0;34m)\u001b[0m\u001b[0;34m\u001b[0m\u001b[0;34m\u001b[0m\u001b[0m\n",
            "\u001b[0;32m/usr/local/lib/python3.6/dist-packages/tensorflow/python/eager/def_function.py\u001b[0m in \u001b[0;36m_call\u001b[0;34m(self, *args, **kwds)\u001b[0m\n\u001b[1;32m    805\u001b[0m       \u001b[0;31m# In this case we have created variables on the first call, so we run the\u001b[0m\u001b[0;34m\u001b[0m\u001b[0;34m\u001b[0m\u001b[0;34m\u001b[0m\u001b[0m\n\u001b[1;32m    806\u001b[0m       \u001b[0;31m# defunned version which is guaranteed to never create variables.\u001b[0m\u001b[0;34m\u001b[0m\u001b[0;34m\u001b[0m\u001b[0;34m\u001b[0m\u001b[0m\n\u001b[0;32m--> 807\u001b[0;31m       \u001b[0;32mreturn\u001b[0m \u001b[0mself\u001b[0m\u001b[0;34m.\u001b[0m\u001b[0m_stateless_fn\u001b[0m\u001b[0;34m(\u001b[0m\u001b[0;34m*\u001b[0m\u001b[0margs\u001b[0m\u001b[0;34m,\u001b[0m \u001b[0;34m**\u001b[0m\u001b[0mkwds\u001b[0m\u001b[0;34m)\u001b[0m  \u001b[0;31m# pylint: disable=not-callable\u001b[0m\u001b[0;34m\u001b[0m\u001b[0;34m\u001b[0m\u001b[0m\n\u001b[0m\u001b[1;32m    808\u001b[0m     \u001b[0;32melif\u001b[0m \u001b[0mself\u001b[0m\u001b[0;34m.\u001b[0m\u001b[0m_stateful_fn\u001b[0m \u001b[0;32mis\u001b[0m \u001b[0;32mnot\u001b[0m \u001b[0;32mNone\u001b[0m\u001b[0;34m:\u001b[0m\u001b[0;34m\u001b[0m\u001b[0;34m\u001b[0m\u001b[0m\n\u001b[1;32m    809\u001b[0m       \u001b[0;31m# Release the lock early so that multiple threads can perform the call\u001b[0m\u001b[0;34m\u001b[0m\u001b[0;34m\u001b[0m\u001b[0;34m\u001b[0m\u001b[0m\n",
            "\u001b[0;32m/usr/local/lib/python3.6/dist-packages/tensorflow/python/eager/function.py\u001b[0m in \u001b[0;36m__call__\u001b[0;34m(self, *args, **kwargs)\u001b[0m\n\u001b[1;32m   2827\u001b[0m     \u001b[0;32mwith\u001b[0m \u001b[0mself\u001b[0m\u001b[0;34m.\u001b[0m\u001b[0m_lock\u001b[0m\u001b[0;34m:\u001b[0m\u001b[0;34m\u001b[0m\u001b[0;34m\u001b[0m\u001b[0m\n\u001b[1;32m   2828\u001b[0m       \u001b[0mgraph_function\u001b[0m\u001b[0;34m,\u001b[0m \u001b[0margs\u001b[0m\u001b[0;34m,\u001b[0m \u001b[0mkwargs\u001b[0m \u001b[0;34m=\u001b[0m \u001b[0mself\u001b[0m\u001b[0;34m.\u001b[0m\u001b[0m_maybe_define_function\u001b[0m\u001b[0;34m(\u001b[0m\u001b[0margs\u001b[0m\u001b[0;34m,\u001b[0m \u001b[0mkwargs\u001b[0m\u001b[0;34m)\u001b[0m\u001b[0;34m\u001b[0m\u001b[0;34m\u001b[0m\u001b[0m\n\u001b[0;32m-> 2829\u001b[0;31m     \u001b[0;32mreturn\u001b[0m \u001b[0mgraph_function\u001b[0m\u001b[0;34m.\u001b[0m\u001b[0m_filtered_call\u001b[0m\u001b[0;34m(\u001b[0m\u001b[0margs\u001b[0m\u001b[0;34m,\u001b[0m \u001b[0mkwargs\u001b[0m\u001b[0;34m)\u001b[0m  \u001b[0;31m# pylint: disable=protected-access\u001b[0m\u001b[0;34m\u001b[0m\u001b[0;34m\u001b[0m\u001b[0m\n\u001b[0m\u001b[1;32m   2830\u001b[0m \u001b[0;34m\u001b[0m\u001b[0m\n\u001b[1;32m   2831\u001b[0m   \u001b[0;34m@\u001b[0m\u001b[0mproperty\u001b[0m\u001b[0;34m\u001b[0m\u001b[0;34m\u001b[0m\u001b[0m\n",
            "\u001b[0;32m/usr/local/lib/python3.6/dist-packages/tensorflow/python/eager/function.py\u001b[0m in \u001b[0;36m_filtered_call\u001b[0;34m(self, args, kwargs, cancellation_manager)\u001b[0m\n\u001b[1;32m   1846\u001b[0m                            resource_variable_ops.BaseResourceVariable))],\n\u001b[1;32m   1847\u001b[0m         \u001b[0mcaptured_inputs\u001b[0m\u001b[0;34m=\u001b[0m\u001b[0mself\u001b[0m\u001b[0;34m.\u001b[0m\u001b[0mcaptured_inputs\u001b[0m\u001b[0;34m,\u001b[0m\u001b[0;34m\u001b[0m\u001b[0;34m\u001b[0m\u001b[0m\n\u001b[0;32m-> 1848\u001b[0;31m         cancellation_manager=cancellation_manager)\n\u001b[0m\u001b[1;32m   1849\u001b[0m \u001b[0;34m\u001b[0m\u001b[0m\n\u001b[1;32m   1850\u001b[0m   \u001b[0;32mdef\u001b[0m \u001b[0m_call_flat\u001b[0m\u001b[0;34m(\u001b[0m\u001b[0mself\u001b[0m\u001b[0;34m,\u001b[0m \u001b[0margs\u001b[0m\u001b[0;34m,\u001b[0m \u001b[0mcaptured_inputs\u001b[0m\u001b[0;34m,\u001b[0m \u001b[0mcancellation_manager\u001b[0m\u001b[0;34m=\u001b[0m\u001b[0;32mNone\u001b[0m\u001b[0;34m)\u001b[0m\u001b[0;34m:\u001b[0m\u001b[0;34m\u001b[0m\u001b[0;34m\u001b[0m\u001b[0m\n",
            "\u001b[0;32m/usr/local/lib/python3.6/dist-packages/tensorflow/python/eager/function.py\u001b[0m in \u001b[0;36m_call_flat\u001b[0;34m(self, args, captured_inputs, cancellation_manager)\u001b[0m\n\u001b[1;32m   1922\u001b[0m       \u001b[0;31m# No tape is watching; skip to running the function.\u001b[0m\u001b[0;34m\u001b[0m\u001b[0;34m\u001b[0m\u001b[0;34m\u001b[0m\u001b[0m\n\u001b[1;32m   1923\u001b[0m       return self._build_call_outputs(self._inference_function.call(\n\u001b[0;32m-> 1924\u001b[0;31m           ctx, args, cancellation_manager=cancellation_manager))\n\u001b[0m\u001b[1;32m   1925\u001b[0m     forward_backward = self._select_forward_and_backward_functions(\n\u001b[1;32m   1926\u001b[0m         \u001b[0margs\u001b[0m\u001b[0;34m,\u001b[0m\u001b[0;34m\u001b[0m\u001b[0;34m\u001b[0m\u001b[0m\n",
            "\u001b[0;32m/usr/local/lib/python3.6/dist-packages/tensorflow/python/eager/function.py\u001b[0m in \u001b[0;36mcall\u001b[0;34m(self, ctx, args, cancellation_manager)\u001b[0m\n\u001b[1;32m    548\u001b[0m               \u001b[0minputs\u001b[0m\u001b[0;34m=\u001b[0m\u001b[0margs\u001b[0m\u001b[0;34m,\u001b[0m\u001b[0;34m\u001b[0m\u001b[0;34m\u001b[0m\u001b[0m\n\u001b[1;32m    549\u001b[0m               \u001b[0mattrs\u001b[0m\u001b[0;34m=\u001b[0m\u001b[0mattrs\u001b[0m\u001b[0;34m,\u001b[0m\u001b[0;34m\u001b[0m\u001b[0;34m\u001b[0m\u001b[0m\n\u001b[0;32m--> 550\u001b[0;31m               ctx=ctx)\n\u001b[0m\u001b[1;32m    551\u001b[0m         \u001b[0;32melse\u001b[0m\u001b[0;34m:\u001b[0m\u001b[0;34m\u001b[0m\u001b[0;34m\u001b[0m\u001b[0m\n\u001b[1;32m    552\u001b[0m           outputs = execute.execute_with_cancellation(\n",
            "\u001b[0;32m/usr/local/lib/python3.6/dist-packages/tensorflow/python/eager/execute.py\u001b[0m in \u001b[0;36mquick_execute\u001b[0;34m(op_name, num_outputs, inputs, attrs, ctx, name)\u001b[0m\n\u001b[1;32m     58\u001b[0m     \u001b[0mctx\u001b[0m\u001b[0;34m.\u001b[0m\u001b[0mensure_initialized\u001b[0m\u001b[0;34m(\u001b[0m\u001b[0;34m)\u001b[0m\u001b[0;34m\u001b[0m\u001b[0;34m\u001b[0m\u001b[0m\n\u001b[1;32m     59\u001b[0m     tensors = pywrap_tfe.TFE_Py_Execute(ctx._handle, device_name, op_name,\n\u001b[0;32m---> 60\u001b[0;31m                                         inputs, attrs, num_outputs)\n\u001b[0m\u001b[1;32m     61\u001b[0m   \u001b[0;32mexcept\u001b[0m \u001b[0mcore\u001b[0m\u001b[0;34m.\u001b[0m\u001b[0m_NotOkStatusException\u001b[0m \u001b[0;32mas\u001b[0m \u001b[0me\u001b[0m\u001b[0;34m:\u001b[0m\u001b[0;34m\u001b[0m\u001b[0;34m\u001b[0m\u001b[0m\n\u001b[1;32m     62\u001b[0m     \u001b[0;32mif\u001b[0m \u001b[0mname\u001b[0m \u001b[0;32mis\u001b[0m \u001b[0;32mnot\u001b[0m \u001b[0;32mNone\u001b[0m\u001b[0;34m:\u001b[0m\u001b[0;34m\u001b[0m\u001b[0;34m\u001b[0m\u001b[0m\n",
            "\u001b[0;31mKeyboardInterrupt\u001b[0m: "
          ]
        }
      ]
    },
    {
      "cell_type": "code",
      "metadata": {
        "id": "vxzpL60YfRsh",
        "colab": {
          "base_uri": "https://localhost:8080/"
        },
        "outputId": "5ff17350-f1f6-4e45-9bf8-d68185255a81"
      },
      "source": [
        "df = pd.read_csv(\"./drive/My Drive/data/movie_genre_dataset/test_data_solution.txt\", sep=\" ::: \", header=None)\n",
        "df.columns = [\"index\", \"name\", \"genre\", \"desc\"]\n",
        "df[\"genre\"] = df[\"genre\"].apply(lambda x: genres_dict[x])\n",
        "\n",
        "Xv = prepare_X_vocab(df[\"desc\"].values)\n",
        "Yv = df[\"genre\"].values\n",
        "del df\n",
        "print(len(Xv))\n",
        "print(Xv[:3])"
      ],
      "execution_count": 63,
      "outputs": [
        {
          "output_type": "stream",
          "text": [
            "/usr/local/lib/python3.6/dist-packages/ipykernel_launcher.py:1: ParserWarning: Falling back to the 'python' engine because the 'c' engine does not support regex separators (separators > 1 char and different from '\\s+' are interpreted as regex); you can avoid this warning by specifying engine='python'.\n",
            "  \"\"\"Entry point for launching an IPython kernel.\n"
          ],
          "name": "stderr"
        },
        {
          "output_type": "stream",
          "text": [
            "54200\n",
            "[['<START>', 'love', 'life', 'car', 'apartment', 'job', 'especially', 'girlfriend', 'vespa', 'one', 'day', 'showering', 'vespa', 'run', 'shampoo', 'run', 'across', 'street', 'convenience', 'store', 'buy', 'quick', 'trip', 'minute', 'return', 'vespa', 'gone', 'every', 'trace', 'existence', 'wiped', 'life', 'becomes', 'tortured', 'existence', 'one', 'strange', 'event', 'another', 'occurs', 'confirm', 'mind', 'conspiracy', 'working', 'finding', 'vespa', '<END>'], ['<START>', 'spain', 'march', '1964', 'naughty', 'child', 'three', 'belonging', 'wealthy', 'family', 'since', 'cristina', 'birth', 'feel', 'lost', 'privileged', 'position', 'prince', 'house', 'eight', 'month', 'old', 'sister', 'brother', 'juan', 'eight', 'year', 'old', 'quite', 'spend', 'time', 'committing', 'prank', 'prank', 'causing', 'resulting', 'anger', 'mother', 'nanny', 'old', 'housemaid', 'rest', 'family', 'member', 'two', 'much', 'older', 'brother', 'resigned', 'mother', 'father', 'authoritarian', 'idea', 'many', 'year', 'passed', 'civil', 'war', 'despot', 'pablo', 'simply', 'child', 'dad', 'war', '<END>'], ['<START>', 'one', 'year', 'life', 'albin', 'family', 'shepherd', 'north', 'transylvania', 'direct', 'cinema', 'style', 'documentary', 'follows', 'day', 'day', 'routine', 'struggle', 'adapt', 'new', 'world', 'tradition', 'gradually', 'replaced', 'modern', 'value', 'since', 'joining', 'eu', 'romania', 'facing', 'like', 'several', 'eastern', 'european', 'country', 'pressure', 'modern', 'value', 'introducing', 'farmer', 'life', 'cruel', 'notion', 'competition', 'temptation', 'migrating', 'higher', 'salary', 'abroad', 'locally', 'produced', 'food', 'industrial', 'product', '<END>']]\n"
          ],
          "name": "stdout"
        }
      ]
    },
    {
      "cell_type": "code",
      "metadata": {
        "id": "PLUS0iOLB5sJ",
        "colab": {
          "base_uri": "https://localhost:8080/"
        },
        "outputId": "3fd79bc3-7e03-4b25-be93-d559a1038544"
      },
      "source": [
        "model.evaluate(val_gen(Xv, Yv), steps=len(Xv)//BATCH_SIZE)"
      ],
      "execution_count": 64,
      "outputs": [
        {
          "output_type": "stream",
          "text": [
            "423/423 [==============================] - 5s 12ms/step - loss: 1.5240 - accuracy: 0.5509\n"
          ],
          "name": "stdout"
        },
        {
          "output_type": "execute_result",
          "data": {
            "text/plain": [
              "[1.523976445198059, 0.5509012937545776]"
            ]
          },
          "metadata": {
            "tags": []
          },
          "execution_count": 64
        }
      ]
    },
    {
      "cell_type": "markdown",
      "metadata": {
        "id": "1uo0C_j_XhO8"
      },
      "source": [
        "Что я понял из работы:\n",
        "\n",
        "0) Без токенов `<START>` и `<END>` работает значительно хуже.\n",
        "\n",
        "1) Spatial1DDropout на эмбеддинг - не помогает\n",
        "\n",
        "2) замена Embedding слоя Word2Vec матрицей - если и помогает, то несильно, помогает в скорости обучения\n",
        "\n",
        "3) конкатенация H-стейта и выхода LSTM - сильно помогает при обучении\n",
        "\n",
        "4) сильное ограничение словаря - не помогает\n",
        "\n",
        "5) различные варианты выбора тренировочных и валидационных данных - результаты спорные\n",
        "\n",
        "6) различные варианты конструкции выходных слоев - результаты спорные\n",
        "\n",
        "7) dropout LSTM - скорее мешает, но 0.1 надо оставлять\n",
        "\n",
        "8) ранняя остановка, когда val_accuracy начинает падать - тоже мало что дает\n",
        "\n",
        "МАксимум, что я получаю на тестовой выборке - это 0.53-0.54\n"
      ]
    }
  ]
}