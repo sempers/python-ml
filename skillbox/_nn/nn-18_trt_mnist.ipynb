{
  "nbformat": 4,
  "nbformat_minor": 0,
  "metadata": {
    "colab": {
      "name": "nn-18-trt-mnist.ipynb",
      "provenance": [],
      "collapsed_sections": [],
      "toc_visible": true
    },
    "kernelspec": {
      "display_name": "Python 3",
      "language": "python",
      "name": "python3"
    },
    "language_info": {
      "codemirror_mode": {
        "name": "ipython",
        "version": 3
      },
      "file_extension": ".py",
      "mimetype": "text/x-python",
      "name": "python",
      "nbconvert_exporter": "python",
      "pygments_lexer": "ipython3",
      "version": "3.8.3"
    }
  },
  "cells": [
    {
      "cell_type": "markdown",
      "metadata": {
        "id": "Qx7gD5SOa0oT"
      },
      "source": [
        "# Домашнее задание\n",
        "\n",
        "В этом домашнем задании вам предстоит обучить модель классификации рукописных цифр на Tensorflow.\n",
        "\n",
        "Важным дополненительным требованием будет сохранение чекпоинтов на ваш гугл диск (не переживайте ниже будут подсказки как это сделать). Это пригодится вам в дальнейшем при обучении более сложных моделей, на случай потери данных при неожиданном отключении Colab."
      ]
    },
    {
      "cell_type": "code",
      "metadata": {
        "id": "-QXlVfpRiyLj"
      },
      "source": [
        "%tensorflow_version 2.x"
      ],
      "execution_count": 1,
      "outputs": []
    },
    {
      "cell_type": "code",
      "metadata": {
        "colab": {
          "base_uri": "https://localhost:8080/"
        },
        "id": "tRPzy1zPDyYD",
        "outputId": "8e1b03e2-6d6c-4642-fca8-1ca3bae3ab39"
      },
      "source": [
        "import tensorflow as tf\n",
        "print(tf.__version__)\n",
        "from google.colab import drive\n",
        "from pathlib import Path\n",
        "import matplotlib.pyplot as plt\n",
        "import numpy as np\n",
        "\n",
        "#tf.enable_eager_execution()"
      ],
      "execution_count": 2,
      "outputs": [
        {
          "output_type": "stream",
          "text": [
            "2.3.0\n"
          ],
          "name": "stdout"
        }
      ]
    },
    {
      "cell_type": "markdown",
      "metadata": {
        "id": "8oA_nuENcFnQ"
      },
      "source": [
        "####Вспомогательный код"
      ]
    },
    {
      "cell_type": "code",
      "metadata": {
        "id": "dFjoXlmJYyJJ"
      },
      "source": [
        "#@title \n",
        "def show_mnist(images, labels, predicted_labels=None):\n",
        "    plt.figure(figsize=(10,10))\n",
        "    for i in range(16):\n",
        "        plt.subplot(4,4, i+1)\n",
        "        plt.xticks([])\n",
        "        plt.yticks([])\n",
        "        plt.grid(False)\n",
        "        plt.imshow(images[i], cmap=plt.cm.gray)\n",
        "        if predicted_labels is not None:\n",
        "            title_obj = plt.title(f\"Real: {labels[i]}. Pred: {predicted_labels[i]}\")\n",
        "            if labels[i] != predicted_labels[i]:\n",
        "                plt.setp(title_obj, color='r')\n",
        "        else:\n",
        "            plt.title(f\"Real label: {labels[i]}\")\n",
        "\n",
        "def show_progress(history: dict):\n",
        "    plt.figure(figsize=(10, 5))\n",
        "    ax1 = plt.subplot(1,2,1)    \n",
        "    plt.plot(history[\"accuracy\"],label='train accuracy')\n",
        "    plt.plot(history[\"val_accuracy\"], label='test accuracy')\n",
        "    ax2 = plt.subplot(1,2,2)\n",
        "    plt.plot(history[\"loss\"],label='train_loss')\n",
        "    plt.plot(history[\"val_loss\"],label='test_loss')\n",
        "    \n",
        "    ax1.legend(loc='best')\n",
        "    ax2.legend(loc='best')\n",
        "    plt.grid()\n",
        "    plt.tight_layout()\n",
        "    plt.show()"
      ],
      "execution_count": 3,
      "outputs": []
    },
    {
      "cell_type": "markdown",
      "metadata": {
        "id": "nL_nICZ4cMOx"
      },
      "source": [
        "## Загрузка данных"
      ]
    },
    {
      "cell_type": "code",
      "metadata": {
        "colab": {
          "base_uri": "https://localhost:8080/",
          "height": 628
        },
        "id": "AcMON-_rWqdK",
        "outputId": "03be2662-64f4-4a82-dc88-a3daa9d43759"
      },
      "source": [
        "(Xt, Yt), (Xv, Yv) = tf.keras.datasets.mnist.load_data()\n",
        "Xt, Xv = Xt / 255.0, Xv / 255.0\n",
        "\n",
        "show_mnist(Xt, Yt)\n",
        "Xt = Xt.reshape((-1, 28*28)) # вытянули каждую картинку в вектор\n",
        "Xv = Xv.reshape((-1, 28*28))\n"
      ],
      "execution_count": 4,
      "outputs": [
        {
          "output_type": "stream",
          "text": [
            "Downloading data from https://storage.googleapis.com/tensorflow/tf-keras-datasets/mnist.npz\n",
            "11493376/11490434 [==============================] - 0s 0us/step\n"
          ],
          "name": "stdout"
        },
        {
          "output_type": "display_data",
          "data": {
            "image/png": "[encoded data removed]",
            "text/plain": [
              "<Figure size 720x720 with 16 Axes>"
            ]
          },
          "metadata": {
            "tags": []
          }
        }
      ]
    },
    {
      "cell_type": "code",
      "metadata": {
        "colab": {
          "base_uri": "https://localhost:8080/"
        },
        "id": "D9_g86msEud4",
        "outputId": "50536bfd-e603-440e-a525-0208ce316cd4"
      },
      "source": [
        "# прикрепим ваш гугл диск к виртуальной машине\n",
        "drive.mount('/content/drive/')"
      ],
      "execution_count": 5,
      "outputs": [
        {
          "output_type": "stream",
          "text": [
            "Mounted at /content/drive/\n"
          ],
          "name": "stdout"
        }
      ]
    },
    {
      "cell_type": "code",
      "metadata": {
        "id": "0yVUAhqPVVet"
      },
      "source": [
        "# Путь до вашего гугл диска скорее всего выглядит так: /content/drive/My Drive/\n",
        "# если эта клетка вызывает ошибку, \n",
        "# измените путь согласно ! ls \"/content/drive/\"\n",
        "\n",
        "path = Path(\"/content/drive/My Drive/models/model_mnist\")\n",
        "path.mkdir(exist_ok=True, parents=True) # папка создается на вашем гугл диске. вместе с \"родителями\"\n",
        "assert path.exists()\n",
        "cpt_filename = \"best_checkpoint.hdf5\"  \n",
        "cpt_path =str(path / cpt_filename)\n",
        "# После выполнения этой клетки, в вашем гугл диске должна создаться папка: Skillbox/model_1\n",
        "# убедитесь в этом"
      ],
      "execution_count": 6,
      "outputs": []
    },
    {
      "cell_type": "markdown",
      "metadata": {
        "id": "L1RVxtPzgr_g"
      },
      "source": [
        "А весь код ниже вы реализуете самостоятельно! Вы уже к этому готовы :)\n",
        "Требования к модели:\n",
        "1. Точность на тестовой части выборки >96%\n",
        "2. Чекпоинт модели с лучшими параметрами должен быть сохранен у вас на гугл диске\n",
        "3. Объект history, который получается из model.fit(...) должен содержать значения лосса и accuracy для трейна и теста"
      ]
    },
    {
      "cell_type": "code",
      "metadata": {
        "colab": {
          "base_uri": "https://localhost:8080/"
        },
        "id": "oAHxE8wpEKD5",
        "outputId": "05ebc77e-2f1a-4486-e01e-d7ce0fff60b2"
      },
      "source": [
        "# < YOUR CODE STARTS HERE >\n",
        "import keras\n",
        "import keras.layers as L\n",
        "\n",
        "model = keras.models.Sequential()\n",
        "model.add(L.Input(shape=(784,)))\n",
        "model.add(L.Dense(784, activation='relu'))\n",
        "model.add(L.Dense(64, activation='relu'))\n",
        "model.add(L.Dense(10, activation='softmax'))\n",
        "\n",
        "opt = keras.optimizers.Adam(lr=0.001)\n",
        "model.compile(optimizer=opt, loss='sparse_categorical_crossentropy', metrics=['accuracy'])\n",
        "\n",
        "history = model.fit(Xt, Yt, epochs=5, validation_data=(Xv, Yv), callbacks=[keras.callbacks.ModelCheckpoint(filepath=cpt_path, monitor=\"val_accuracy\", save_best_only=True)])\n",
        "\n",
        "# < YOUR CODE ENDS HERE >"
      ],
      "execution_count": 7,
      "outputs": [
        {
          "output_type": "stream",
          "text": [
            "Epoch 1/5\n",
            "1875/1875 [==============================] - 10s 5ms/step - loss: 0.1904 - accuracy: 0.9423 - val_loss: 0.0935 - val_accuracy: 0.9711\n",
            "Epoch 2/5\n",
            "1875/1875 [==============================] - 10s 5ms/step - loss: 0.0792 - accuracy: 0.9750 - val_loss: 0.0873 - val_accuracy: 0.9737\n",
            "Epoch 3/5\n",
            "1875/1875 [==============================] - 10s 5ms/step - loss: 0.0531 - accuracy: 0.9829 - val_loss: 0.0817 - val_accuracy: 0.9749\n",
            "Epoch 4/5\n",
            "1875/1875 [==============================] - 10s 5ms/step - loss: 0.0413 - accuracy: 0.9867 - val_loss: 0.0753 - val_accuracy: 0.9788\n",
            "Epoch 5/5\n",
            "1875/1875 [==============================] - 10s 5ms/step - loss: 0.0309 - accuracy: 0.9902 - val_loss: 0.0753 - val_accuracy: 0.9792\n"
          ],
          "name": "stdout"
        }
      ]
    },
    {
      "cell_type": "code",
      "metadata": {
        "colab": {
          "base_uri": "https://localhost:8080/"
        },
        "id": "p8zazip1o_T3",
        "outputId": "b7680661-076a-4d80-fdf4-f6cd4de4fd21"
      },
      "source": [
        "history.history"
      ],
      "execution_count": null,
      "outputs": [
        {
          "output_type": "execute_result",
          "data": {
            "text/plain": [
              "{'accuracy': [0.9423999786376953,\n",
              "  0.9746333360671997,\n",
              "  0.9828000068664551,\n",
              "  0.9865833520889282,\n",
              "  0.9900500178337097],\n",
              " 'loss': [0.19057892262935638,\n",
              "  0.08057419955730438,\n",
              "  0.05479918047785759,\n",
              "  0.040728263556957245,\n",
              "  0.030593637377023697],\n",
              " 'val_accuracy': [0.9678999781608582,\n",
              "  0.9739999771118164,\n",
              "  0.9771999716758728,\n",
              "  0.9787999987602234,\n",
              "  0.979200005531311],\n",
              " 'val_loss': [0.10033776611089706,\n",
              "  0.08162056654691696,\n",
              "  0.07426044344902039,\n",
              "  0.07428433001041412,\n",
              "  0.07723387330770493]}"
            ]
          },
          "metadata": {
            "tags": []
          },
          "execution_count": 34
        }
      ]
    },
    {
      "cell_type": "code",
      "metadata": {
        "colab": {
          "base_uri": "https://localhost:8080/"
        },
        "id": "iPntu18cW1CR",
        "outputId": "9cae8815-8d16-4880-c79e-810dfbbd4e83"
      },
      "source": [
        "assert len(list(path.glob(\"*\"))) != 0, f\"Checkpoint dir {path}\"\n",
        "assert \"accuracy\" in history.history, \"History object must contain Accuracy. Please, retrain with this metric\"\n",
        "assert \"val_accuracy\" in history.history, \"Please, provide validation_data in model.fit.\"\n",
        "assert np.max(history.history[\"val_accuracy\"]) > 0.95, \"Validation accuracy must be more than 0.95\"\n",
        "print(\"Training tests passed\")"
      ],
      "execution_count": 8,
      "outputs": [
        {
          "output_type": "stream",
          "text": [
            "Training tests passed\n"
          ],
          "name": "stdout"
        }
      ]
    },
    {
      "cell_type": "code",
      "metadata": {
        "colab": {
          "base_uri": "https://localhost:8080/",
          "height": 594
        },
        "id": "aYXxV5tjY4Xx",
        "outputId": "2eeeb4d5-e527-4d91-d57a-b912a1763e78"
      },
      "source": [
        "predicted_labels = restored_model.predict_classes(Xv)\n",
        "idxs = np.random.choice(np.arange(len(Xv)), 16, replace=False)\n",
        "show_mnist(Xv[idxs].reshape((-1, 28, 28)), Yv[idxs], predicted_labels[idxs])"
      ],
      "execution_count": null,
      "outputs": [
        {
          "output_type": "display_data",
          "data": {
            "image/png": "[encoded data removed]",
            "text/plain": [
              "<Figure size 720x720 with 16 Axes>"
            ]
          },
          "metadata": {
            "tags": []
          }
        }
      ]
    },
    {
      "cell_type": "code",
      "metadata": {
        "id": "Y0wLwtK3rhEb"
      },
      "source": [
        ""
      ],
      "execution_count": null,
      "outputs": []
    },
    {
      "cell_type": "markdown",
      "metadata": {
        "id": "8V1Hc6JfrlL3"
      },
      "source": [
        "### Теперь часть с TensorRT"
      ]
    },
    {
      "cell_type": "code",
      "metadata": {
        "colab": {
          "base_uri": "https://localhost:8080/"
        },
        "id": "w8jz3EherplX",
        "outputId": "f818db9b-183d-4ba8-c858-4c9b407cda2c"
      },
      "source": [
        "tf.saved_model.save(model, \"./drive/My Drive/models/model_mnist/saved_model\")"
      ],
      "execution_count": 9,
      "outputs": [
        {
          "output_type": "stream",
          "text": [
            "WARNING:tensorflow:From /usr/local/lib/python3.6/dist-packages/tensorflow/python/training/tracking/tracking.py:111: Model.state_updates (from tensorflow.python.keras.engine.training) is deprecated and will be removed in a future version.\n",
            "Instructions for updating:\n",
            "This property should not be used in TensorFlow 2.0, as updates are applied automatically.\n",
            "WARNING:tensorflow:From /usr/local/lib/python3.6/dist-packages/tensorflow/python/training/tracking/tracking.py:111: Layer.updates (from tensorflow.python.keras.engine.base_layer) is deprecated and will be removed in a future version.\n",
            "Instructions for updating:\n",
            "This property should not be used in TensorFlow 2.0, as updates are applied automatically.\n",
            "INFO:tensorflow:Assets written to: ./drive/My Drive/models/model_mnist/saved_model/assets\n"
          ],
          "name": "stdout"
        }
      ]
    },
    {
      "cell_type": "code",
      "metadata": {
        "colab": {
          "base_uri": "https://localhost:8080/"
        },
        "id": "x0jFp8Y5sZ4D",
        "outputId": "d69d5562-7a72-4124-d85b-0551c16aedf4"
      },
      "source": [
        "from tensorflow.python.compiler.tensorrt import trt_convert as trt\n",
        "converter = trt.TrtGraphConverterV2(input_saved_model_dir='./drive/My Drive/models/model_mnist/saved_model')\n",
        "converter.convert()\n",
        "converter.save('./drive/My Drive/models/model_mnist/saved_model_trt')"
      ],
      "execution_count": 11,
      "outputs": [
        {
          "output_type": "stream",
          "text": [
            "INFO:tensorflow:Linked TensorRT version: (0, 0, 0)\n",
            "INFO:tensorflow:Loaded TensorRT version: (0, 0, 0)\n",
            "INFO:tensorflow:Assets written to: ./drive/My Drive/models/model_mnist/saved_model_trt/assets\n"
          ],
          "name": "stdout"
        }
      ]
    },
    {
      "cell_type": "code",
      "metadata": {
        "id": "zHItP4FGszaq"
      },
      "source": [
        "model1 = keras.models.load_model(\"./drive/My Drive/models/model_mnist/saved_model\")\n",
        "model2 = keras.models.load_model(\"./drive/My Drive/models/model_mnist/saved_model_trt\")"
      ],
      "execution_count": 22,
      "outputs": []
    },
    {
      "cell_type": "code",
      "metadata": {
        "id": "V9WDQFQCtWPy"
      },
      "source": [
        "Xvv = tf.cast(Xv[:100], tf.float32)   #Кастуем к ожидаемому tf типу, иначе он СЛИШКОМ КАПРИЗНЫЙ И НЕ ХОЧЕТ РАБОТАТЬ СО ВТОРОЙ МОДЕЛЬЮ"
      ],
      "execution_count": 27,
      "outputs": []
    },
    {
      "cell_type": "code",
      "metadata": {
        "colab": {
          "base_uri": "https://localhost:8080/"
        },
        "id": "pvYbqszKs7tC",
        "outputId": "b97723f1-189d-4833-947d-58dfeeae28bd"
      },
      "source": [
        "%%timeit -n 10 -r 10\n",
        "\n",
        "preds = model1(Xvv)"
      ],
      "execution_count": 28,
      "outputs": [
        {
          "output_type": "stream",
          "text": [
            "10 loops, best of 10: 3.62 ms per loop\n"
          ],
          "name": "stdout"
        }
      ]
    },
    {
      "cell_type": "code",
      "metadata": {
        "colab": {
          "base_uri": "https://localhost:8080/"
        },
        "id": "omSoAzM-ud05",
        "outputId": "2119c4fb-50da-42c3-fb31-785acae1a4b3"
      },
      "source": [
        "%%timeit -n 10 -r 10\n",
        "\n",
        "preds = model2(Xvv)"
      ],
      "execution_count": 29,
      "outputs": [
        {
          "output_type": "stream",
          "text": [
            "10 loops, best of 10: 2.87 ms per loop\n"
          ],
          "name": "stdout"
        }
      ]
    }
  ]
}