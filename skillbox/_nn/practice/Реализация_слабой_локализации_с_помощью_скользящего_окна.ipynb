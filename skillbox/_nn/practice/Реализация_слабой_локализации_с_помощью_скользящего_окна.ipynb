{
  "nbformat": 4,
  "nbformat_minor": 0,
  "metadata": {
    "kernelspec": {
      "name": "python3",
      "display_name": "Python 3"
    },
    "language_info": {
      "codemirror_mode": {
        "name": "ipython",
        "version": 3
      },
      "file_extension": ".py",
      "mimetype": "text/x-python",
      "name": "python",
      "nbconvert_exporter": "python",
      "pygments_lexer": "ipython3",
      "version": "3.7.1"
    },
    "colab": {
      "name": "Реализация слабой локализации с помощью скользящего окна.ipynb",
      "provenance": [],
      "collapsed_sections": []
    },
    "accelerator": "GPU"
  },
  "cells": [
    {
      "cell_type": "markdown",
      "metadata": {
        "id": "Tov7Mqb2EWWn"
      },
      "source": [
        "# Реализация слабой локализации с помощью скользящего окна \n",
        "В этом уроке мы разберёмся с практической реализацией алгоритма скользящего окна. Будем решать довольно простую \"игрушечную\" задачу по локализации рукописных цифр. Для решения нам понадобится обученный классификатор, в качестве которого мы будем использовать свёрточную нейронную сеть. \n",
        "\n",
        "Обучать классификатор будем на датасете MNIST, в котором как раз представлены рукописные цифры (10 классов).\n",
        "\n",
        "Для тестироания локализации нам понадобится синтезировать входную картинку следующим образом: будем брать холст бОльшего размера (с чёрным фоном) и случайно размещать на нём несколько цифр из тестовой подвыборки MNIST. И нашей задачей будет найти (локализовать) цифры, соответствующие разным классам. Ответом на такую задачу будут являться тепловые карты, которые нам надо будет построить с помощью классификатора, \"пробегающего\" по входному изображению в режиме скользящего окна.\n",
        "\n",
        "В тех местах входного изображения, где нет никаких цифр, наш классификатор должен выдавать ответ \"фон\". То есть нам надо будет добавить 11-й класс. Так как фон у нас просто черный (нули в пикселях), именно такие картинки мы и возьмем в качестве обучающих образцов для этого класса. Размер таких картинок должен быть таким же, как и у остальных образцов из MNIST (28x28).\n",
        "\n",
        "Однако, для более качественной работы подхода скользящего окна нам также потребуется добавить дополнительные обучающие образцы для нашего классификатора. С текущими образцами (цифры и фон) классификатор будет работать уверенно, если цифра полностью попала в окно (и находится в середине окна) или если в окно попал только фон (всё чёрное). Но что делать классификатору, если в окно попала лишь часть (кусок) цифры? Без нашей помощи он может работать непредсказуемо. Для этого нам надо добавить в выборку образцы цифр с небольшими смещениями (цифра не строго по центру) и трактовать эти образцы, как принадлежащие к тому или иному классу \"цифра\". Кроме того, добавим образцы, где входит лишь кусочек цифры и будем трактовать их как класс \"фон\" (отсутствие цифры). Всё это позволит увидеть более качественные \"пятна\" слабой локализации на тепловых картах."
      ]
    },
    {
      "cell_type": "markdown",
      "metadata": {
        "id": "Z91SxToPEWWo"
      },
      "source": [
        "### Загрузка необходимых библиотек\n",
        "Здесь мы загружаем различные библиотеки, включая TensoFlow.\n",
        "\n",
        "В TensorFlow инициируем режим жадного (eager) выполнения и проверяем версию (должна быть 1.14)"
      ]
    },
    {
      "cell_type": "code",
      "metadata": {
        "id": "QvNdE7lzEWWp"
      },
      "source": [
        "import random\n",
        "import imageio\n",
        "import numpy as np\n",
        "\n",
        "%matplotlib inline\n",
        "import matplotlib.pyplot as plt\n",
        "\n",
        "import tensorflow as tf\n",
        "tf.enable_eager_execution()\n",
        "print('TensorFlow version:', tf.__version__)"
      ],
      "execution_count": null,
      "outputs": []
    },
    {
      "cell_type": "markdown",
      "metadata": {
        "id": "ahr6QTdIEWWt"
      },
      "source": [
        "# Подготовка датасета"
      ]
    },
    {
      "cell_type": "markdown",
      "metadata": {
        "id": "M6c5MTnOEWWu"
      },
      "source": [
        "### Загрузка оригинального датасета MNIST\n",
        "Загружаем датасет MNIST (train и test) и приводим данные к удобному формату:\n",
        "* Размер: (N, 28, 28, 1), где N - количество образцов в подвыборке\n",
        "* Значения интенсивности: float32 в диапазоне [0, 1]"
      ]
    },
    {
      "cell_type": "code",
      "metadata": {
        "id": "kYzcKYnhEWWu"
      },
      "source": [
        "(train_x, train_y), (test_x, test_y) = tf.keras.datasets.mnist.load_data()\n",
        "\n",
        "train_x = train_x.reshape(-1, 28, 28, 1).astype(np.float32) / 255.\n",
        "test_x = test_x.reshape(-1, 28, 28, 1).astype(np.float32) / 255."
      ],
      "execution_count": null,
      "outputs": []
    },
    {
      "cell_type": "markdown",
      "metadata": {
        "id": "WGnDN7bJEWWx"
      },
      "source": [
        "### Визуализация нескольких образцов из MNIST\n",
        "Визуализируем несколько образцов из оригинального датасета MNIST"
      ]
    },
    {
      "cell_type": "code",
      "metadata": {
        "id": "2TiuNJOMEWWx"
      },
      "source": [
        "def plot_some_samples(some_samples):\n",
        "    fig = plt.figure(figsize=(10, 6))\n",
        "    for j in range(some_samples.shape[0]):\n",
        "        ax = fig.add_subplot(4, 8, j+1)\n",
        "        ax.imshow(some_samples[j,:,:,0], cmap='gray')\n",
        "        plt.xticks([]), plt.yticks([])\n",
        "    plt.show()\n",
        "    \n",
        "plot_some_samples(train_x[:32, ...])"
      ],
      "execution_count": null,
      "outputs": []
    },
    {
      "cell_type": "markdown",
      "metadata": {
        "id": "74RJZafCEWW0"
      },
      "source": [
        "### Аугментация: добавление образцов класса \"фон\"\n",
        "Для задач локализации нам необходимо добавить дополнительный класс \"фон\", который обозначает \"отсутствие цифры\". Индекс этого 11-го класса будет \"10\" (так как классы нумеруются с нуля).\n",
        "\n",
        "Однако, недостаточно просто взять черную картинку и использовать её как образец \"фона\". Если в скользящее окно попадает небольшой кусочек цифры, это тоже должно означать \"отсутствие цифры\".\n",
        "\n",
        "Сгенерируем соответствующие образцы из образцов MNIST со случайным смещением по координатам X и Y в диапазоне [25%, 75%].\n",
        "\n",
        "Так как при таком подходе у нас будут автоматически получаться абсолютно чёрные картинки (где цифра после сдвига ушла за пределы картинки), нам не нужно отдельно генерировать чисто чёрные картинки для класса \"фон\".\n",
        "\n",
        "Затем визуализируем несколько образцов."
      ]
    },
    {
      "cell_type": "code",
      "metadata": {
        "id": "OQMyBFYDEWW0"
      },
      "source": [
        "bg_samples = 100000 # Количество обучающих образцов из класса \"фон\"\n",
        "\n",
        "bg_train_x = np.zeros((bg_samples, 28, 28, 1), dtype=np.float32)\n",
        "bg_train_y = np.ones((bg_samples,), dtype=np.int32)*10 \n",
        "\n",
        "src_idxs = random.choices(range(train_x.shape[0]), k=bg_samples)\n",
        "\n",
        "sh = train_x.shape[1]\n",
        "sw = train_x.shape[2]\n",
        "for i in range(bg_samples):\n",
        "    dh = random.randint(sh//4, 3*sh//4) * random.choice([-1, 1])\n",
        "    dw = random.randint(sw//4, 3*sw//4) * random.choice([-1, 1])\n",
        "\n",
        "    sample = train_x[src_idxs[i], ...]\n",
        "\n",
        "    bg_train_x[i, max(-dh,0):min(sh-dh,sh), max(-dw,0):min(sw-dw, sw), :] = \\\n",
        "        sample[max( dh,0):min(sh+dh,sh), max( dw,0):min(sw+dw, sw), :]\n",
        "\n",
        "plot_some_samples(bg_train_x[:32, ...])"
      ],
      "execution_count": null,
      "outputs": []
    },
    {
      "cell_type": "markdown",
      "metadata": {
        "id": "ctOEeqmNEWW4"
      },
      "source": [
        "### Аугментация: добавление образцов исходных классов цифр\n",
        "Для более наглядной локализации необходимо также добавить образцы с незначительными смещениями. \n",
        "Если цифра не строго по центру, но всё равно попала в окно, значит это окно надо классифицировать как цифру.\n",
        "\n",
        "Сгенерируем соответствующие образцы из образцов MNIST со случайным смещением по координатам X и Y в диапазоне [0, 25%].\n",
        "\n",
        "Затем визуализируем несколько образцов."
      ]
    },
    {
      "cell_type": "code",
      "metadata": {
        "id": "vdRXqZXWEWW5"
      },
      "source": [
        "sh_samples = 50000 # Количество дополнительно сгенерированных образов для цифр (со смещениями)\n",
        "\n",
        "sh_train_x = np.zeros((sh_samples, 28, 28, 1), dtype=np.float32)\n",
        "sh_train_y = np.zeros((sh_samples,), dtype=np.int32)\n",
        "\n",
        "src_idxs = random.sample(range(train_x.shape[0]), sh_samples)\n",
        "\n",
        "sh = train_x.shape[1]\n",
        "sw = train_x.shape[2]\n",
        "for i in range(sh_samples):\n",
        "    dh = random.randint(0, sh//4) * random.choice([-1, 1])\n",
        "    dw = random.randint(0, sw//4) * random.choice([-1, 1])\n",
        "\n",
        "    sample = train_x[src_idxs[i], ...]\n",
        "\n",
        "    sh_train_x[i, max(-dh,0):min(sh-dh,sh), max(-dw,0):min(sw-dw, sw), :] = \\\n",
        "        sample[max( dh,0):min(sh+dh,sh), max( dw,0):min(sw+dw, sw), :]\n",
        "    sh_train_y[i] = train_y[src_idxs[i]]\n",
        "\n",
        "plot_some_samples(sh_train_x[:32, ...])"
      ],
      "execution_count": null,
      "outputs": []
    },
    {
      "cell_type": "markdown",
      "metadata": {
        "id": "wcyRQGPVEWW7"
      },
      "source": [
        "### Объединение исходного датасета MNSIT и двух новых сгенерированных\n",
        "Получаем финальные train и test датасеты, содержащие исходные и новые сгенерированные данные (конкатенируем всё по нулевому измерению)"
      ]
    },
    {
      "cell_type": "code",
      "metadata": {
        "id": "ZGq4EzmaEWW8"
      },
      "source": [
        "train_x = np.concatenate((train_x, bg_train_x, sh_train_x), axis=0)\n",
        "train_y = np.concatenate((train_y, bg_train_y, sh_train_y), axis=0)"
      ],
      "execution_count": null,
      "outputs": []
    },
    {
      "cell_type": "markdown",
      "metadata": {
        "id": "GjYb2M5QEWW9"
      },
      "source": [
        "# Обучение классификатора\n",
        "\n",
        "Для начала нам необходимо обучить обычный классификатор для распознавания цифр, но на нашем новом аугментированном датасете с классом \"фон\". Далее мы будем применять этот классификатор для задачи слабой локализации."
      ]
    },
    {
      "cell_type": "markdown",
      "metadata": {
        "id": "MUqW7z5eEWW-"
      },
      "source": [
        "### Параметры обучения"
      ]
    },
    {
      "cell_type": "code",
      "metadata": {
        "id": "FyuybcmxEWW_"
      },
      "source": [
        "NUM_CLASSES = 11\n",
        "NUM_EPOCHS = 3\n",
        "BATCH_SIZE = 64"
      ],
      "execution_count": null,
      "outputs": []
    },
    {
      "cell_type": "markdown",
      "metadata": {
        "id": "aOyDrz-wEWXB"
      },
      "source": [
        "### Классификационная модель\n",
        "Это наш классификатор на основе CNN. На выходе 11 классов."
      ]
    },
    {
      "cell_type": "code",
      "metadata": {
        "id": "XH5GgjnVEWXC"
      },
      "source": [
        "model = tf.keras.Sequential([\n",
        "    tf.keras.layers.Conv2D(32, (5, 5), activation='relu', padding='same'),\n",
        "    tf.keras.layers.MaxPooling2D((2, 2), (2, 2), padding='same'),\n",
        "    tf.keras.layers.Conv2D(64, (5, 5), activation='relu', padding='same'),\n",
        "    tf.keras.layers.MaxPooling2D((2, 2), (2, 2), padding='same'),\n",
        "    tf.keras.layers.Flatten(),\n",
        "    tf.keras.layers.Dense(256, activation='relu'),\n",
        "    tf.keras.layers.Dense(NUM_CLASSES, activation='softmax'),\n",
        "])"
      ],
      "execution_count": null,
      "outputs": []
    },
    {
      "cell_type": "markdown",
      "metadata": {
        "id": "GTDWoPS3EWXE"
      },
      "source": [
        "### Подготовка модели к обучению"
      ]
    },
    {
      "cell_type": "code",
      "metadata": {
        "id": "LUivVWoqEWXF"
      },
      "source": [
        "loss = tf.keras.losses.SparseCategoricalCrossentropy()\n",
        "model.compile(optimizer='adam', loss=loss, metrics=['accuracy'])"
      ],
      "execution_count": null,
      "outputs": []
    },
    {
      "cell_type": "markdown",
      "metadata": {
        "id": "YglwULtYEWXH"
      },
      "source": [
        "### Обучение модели"
      ]
    },
    {
      "cell_type": "code",
      "metadata": {
        "id": "rinqdEXQEWXH"
      },
      "source": [
        "model.fit(train_x, train_y, epochs=NUM_EPOCHS, batch_size=BATCH_SIZE)"
      ],
      "execution_count": null,
      "outputs": []
    },
    {
      "cell_type": "markdown",
      "metadata": {
        "id": "cNUdv60XEWXJ"
      },
      "source": [
        "### Оценка качества классификационной модели"
      ]
    },
    {
      "cell_type": "code",
      "metadata": {
        "id": "ZBJxXsfNEWXK"
      },
      "source": [
        "model.evaluate(test_x, test_y)"
      ],
      "execution_count": null,
      "outputs": []
    },
    {
      "cell_type": "markdown",
      "metadata": {
        "id": "msEFhPlFEWXM"
      },
      "source": [
        "# Слабая локализация с помощью скользящего окна\n",
        "Теперь у нас есть обученный классификатор, который мы можем применить для решения задачи слабой локализации.\n",
        "\n",
        "Для начала сгенерируем тестовое изображение для задачи локализации, а затем применим для него подход скользящего окна (построим тепловые карты).\n",
        "\n",
        "Чтобы построить тепловые карты, нам необходимо применить классификатор для различных участков входного изображения (в режиме скользящего окна) и записать ответ (распределение вероятностей) в соответствующий пиксель тензора тепловых карт"
      ]
    },
    {
      "cell_type": "markdown",
      "metadata": {
        "id": "Y96falHxEWXN"
      },
      "source": [
        "### Получение входного изображения для локализации\n",
        "\n",
        "Можно сгенерировать случайное изображение с несколькими случайными цифрами из тестового множества\n",
        "\n",
        "А можно загрузить готовое изображение digits.png"
      ]
    },
    {
      "cell_type": "code",
      "metadata": {
        "id": "v_EwfVR9EWXN"
      },
      "source": [
        "if True: # Сгенерировать случайное изображение\n",
        "    \n",
        "    img = np.zeros((100, 130, 1), dtype=np.float32)\n",
        "    def add_digit(img, digit):\n",
        "        ofs = (random.randint(0, img.shape[0]-digit.shape[0]),\n",
        "               random.randint(0, img.shape[1]-digit.shape[1]))\n",
        "        img[ofs[0]:ofs[0]+digit.shape[0], ofs[1]:ofs[1]+digit.shape[1], :] += digit\n",
        "        img = np.clip(img, 0.0, 1.0)\n",
        "        return img\n",
        "    for _ in range(3):\n",
        "        digit = test_x[random.randint(0, test_x.shape[0])]\n",
        "        img = add_digit(img, digit)\n",
        "    \n",
        "else: # Загрузить готовое изображение 'digits.png'\n",
        "    \n",
        "    INPUT_IMAGE_FPTAH = 'digits.png'\n",
        "    img = imageio.imread(INPUT_IMAGE_FPTAH, pilmode=\"RGB\")\n",
        "    img = img.astype(np.float32)/255.\n",
        "    img = np.mean(img, axis=2, keepdims=True)\n",
        "    \n",
        "# Превращение входной картинки в RGB \n",
        "# (для визуализации и последующего смешивания с цветной тепловой картой)\n",
        "img_clr = np.tile(img, (1, 1, 3))\n",
        "_=plt.imshow(img_clr)"
      ],
      "execution_count": null,
      "outputs": []
    },
    {
      "cell_type": "markdown",
      "metadata": {
        "id": "XJUdJmsXEWXP"
      },
      "source": [
        "### Подготовка буфера для тепловых карт\n",
        "Буфер тепловых карт будет являться трёхмерным тензором. Первые два измерения - пространственные, третье измерение - ответственно за классы, который у нас 11. Другими словами у нас есть 11 двумерных тепловых карт, ответственных за каждый отдельный класс. Значения в тепловой карте будут в диапазоне [0, 1], что означает вероятность принадлежности данного пикселя к тому или иному классу. Эти вероятности мы будем брать из выхода классификатора.\n",
        "\n",
        "Пространственные размерности тепловых карт будут меньше, чем входное изображение. Они будут соответствовать тому, сколько раз можно \"уложить\" скользящее окно во входном изображении (от края до края).\n",
        "\n",
        "**[ЗАДАНИЕ 1]** Разберитесь, почему размеры тепловых карт именно такие, как в коде ниже."
      ]
    },
    {
      "cell_type": "code",
      "metadata": {
        "id": "pIgTK8rgEWXQ"
      },
      "source": [
        "inp_shape = (train_x.shape[1], train_x.shape[2]) # размер входа для классификатора\n",
        "\n",
        "heatmaps = np.zeros((\n",
        "    img.shape[0] - inp_shape[0] + 1,\n",
        "    img.shape[1] - inp_shape[1] + 1,\n",
        "    NUM_CLASSES))"
      ],
      "execution_count": null,
      "outputs": []
    },
    {
      "cell_type": "markdown",
      "metadata": {
        "id": "lIow4YAB9qqA"
      },
      "source": [
        "### Пример применения классификатора\n",
        "В этом примере кода мы берем кусочек входной картинки (размером 28x28) из левого верхнего угла, подаём его в классификатор, получаем вектор распределения вероятностей и записываем этот вектор в соответствующую позицию в тепловых картах\n",
        "\n",
        "Кроме того, здесь используется магическая функция `%%time`, которая замеряет время работы данной ячейки"
      ]
    },
    {
      "cell_type": "code",
      "metadata": {
        "id": "lN5h4R5p8r1Y"
      },
      "source": [
        "%%time\n",
        "\n",
        "window = img[0:inp_shape[0], 0:inp_shape[1], :]\n",
        "pred = model.predict(window[None, ...])[0, ...]\n",
        "heatmaps[0, 0, :] = pred"
      ],
      "execution_count": null,
      "outputs": []
    },
    {
      "cell_type": "markdown",
      "metadata": {
        "id": "GniAj3-HEWXS"
      },
      "source": [
        "### Запуск классификатора в режиме скользящего окна\n",
        "**[ЗАДАНИЕ 2]** Реализуйте подход скользящего окна. Измерьте время работы такого подхода\n",
        "\n",
        "Для этого понадобится реализовать цикл по всем позициям окна, подать соответствующий кусок в классификатор и записать ответ в соответствующую позицию в тензор тепловых карт.\n",
        "\n"
      ]
    },
    {
      "cell_type": "code",
      "metadata": {
        "id": "jG2AQyEuEWXS"
      },
      "source": [
        "# Ваш код здесь"
      ],
      "execution_count": null,
      "outputs": []
    },
    {
      "cell_type": "markdown",
      "metadata": {
        "id": "0OSp82UIEWXV"
      },
      "source": [
        "### Расширение тепловых карт\n",
        "Далее для наглядности будем накладывать тепловые карты на исходное изображение, чтобы увидеть, где что нашлось. Но так как тепловые карты имеют меньший размер по сравнению со входом, их надо увеличить. Будем расширять карты до размера входной картинки за счёт паддинга"
      ]
    },
    {
      "cell_type": "code",
      "metadata": {
        "id": "Yh8ySci1EWXV"
      },
      "source": [
        "diff = (img.shape[0]-heatmaps.shape[0],\n",
        "        img.shape[1]-heatmaps.shape[1],)\n",
        "\n",
        "heatmaps = np.pad(heatmaps, (\n",
        "    (diff[0]//2,diff[0]-diff[0]//2),\n",
        "    (diff[1]//2,diff[1]-diff[1]//2),\n",
        "    (0, 0)\n",
        "), 'constant')"
      ],
      "execution_count": null,
      "outputs": []
    },
    {
      "cell_type": "markdown",
      "metadata": {
        "id": "GOgYl4pkEWXZ"
      },
      "source": [
        "### Визуализация тепловых карт для разных классов\n",
        "Визуализируем тепловые карты, соответствующие разным классам, наложенные на исходное изображение"
      ]
    },
    {
      "cell_type": "code",
      "metadata": {
        "scrolled": false,
        "id": "tBmo8lYzEWXa"
      },
      "source": [
        "for clss in range(11):\n",
        "    heatmap = heatmaps[..., clss]\n",
        "    heatmap_clr = plt.get_cmap('jet')(heatmap)[..., :3]\n",
        "    print('Heatmap for class:', clss)\n",
        "    plt.imshow(img_clr*0.5 + heatmap_clr*0.5)    \n",
        "    plt.show()"
      ],
      "execution_count": null,
      "outputs": []
    }
  ]
}