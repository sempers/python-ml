{
  "nbformat": 4,
  "nbformat_minor": 0,
  "metadata": {
    "colab": {
      "name": "nn-18.ipynb",
      "provenance": [],
      "collapsed_sections": []
    },
    "kernelspec": {
      "name": "python3",
      "display_name": "Python 3"
    }
  },
  "cells": [
    {
      "cell_type": "code",
      "metadata": {
        "id": "DR39NEjEDZ3B",
        "colab": {
          "base_uri": "https://localhost:8080/"
        },
        "outputId": "9155e224-d4d5-444b-dd91-1ee2d693caeb"
      },
      "source": [
        "from google.colab import drive\n",
        "drive.mount('/content/drive', force_remount=True)"
      ],
      "execution_count": null,
      "outputs": [
        {
          "output_type": "stream",
          "text": [
            "Mounted at /content/drive\n"
          ],
          "name": "stdout"
        }
      ]
    },
    {
      "cell_type": "markdown",
      "metadata": {
        "id": "316MRpaFDt_1"
      },
      "source": [
        "Пробуем ускорить классификатор расы для лиц из работы 5."
      ]
    },
    {
      "cell_type": "markdown",
      "metadata": {
        "id": "G_wFfV76DiQc"
      },
      "source": [
        ""
      ]
    },
    {
      "cell_type": "code",
      "metadata": {
        "colab": {
          "base_uri": "https://localhost:8080/"
        },
        "id": "gQPqCZwIDzyp",
        "outputId": "595406aa-e214-4dce-b67e-f0ba9790e918"
      },
      "source": [
        "import numpy as np\n",
        "import matplotlib.pyplot as plt\n",
        "%matplotlib inline\n",
        "import pandas as pd\n",
        "\n",
        "import os\n",
        "import tensorflow as tf\n",
        "print(tf.__version__)\n",
        "\n",
        "import sys\n",
        "import keras\n",
        "import keras.backend as K\n",
        "import json\n",
        "np.random.seed(42)\n",
        "import pickle"
      ],
      "execution_count": 44,
      "outputs": [
        {
          "output_type": "stream",
          "text": [
            "2.3.0\n"
          ],
          "name": "stdout"
        }
      ]
    },
    {
      "cell_type": "code",
      "metadata": {
        "colab": {
          "base_uri": "https://localhost:8080/"
        },
        "id": "2rzdDkq8D5AC",
        "outputId": "534a7340-296a-4e2f-8539-753a4361a1ad"
      },
      "source": [
        "! wget https://img.joinfo.ua/i/2019/01/5c4ea940d2b08.jpg -O brad_pitt.jpg"
      ],
      "execution_count": 45,
      "outputs": [
        {
          "output_type": "stream",
          "text": [
            "--2020-12-03 00:22:48--  https://img.joinfo.ua/i/2019/01/5c4ea940d2b08.jpg\n",
            "Resolving img.joinfo.ua (img.joinfo.ua)... 172.67.74.175, 104.26.7.169, 104.26.6.169, ...\n",
            "Connecting to img.joinfo.ua (img.joinfo.ua)|172.67.74.175|:443... connected.\n",
            "HTTP request sent, awaiting response... 200 OK\n",
            "Length: 43154 (42K) [image/jpeg]\n",
            "Saving to: ‘brad_pitt.jpg’\n",
            "\n",
            "brad_pitt.jpg       100%[===================>]  42.14K  --.-KB/s    in 0.01s   \n",
            "\n",
            "2020-12-03 00:22:50 (3.18 MB/s) - ‘brad_pitt.jpg’ saved [43154/43154]\n",
            "\n"
          ],
          "name": "stdout"
        }
      ]
    },
    {
      "cell_type": "code",
      "metadata": {
        "id": "hmscDN64H-xa",
        "colab": {
          "base_uri": "https://localhost:8080/"
        },
        "outputId": "5509ca12-94f0-48e9-d00d-ba1772b9cd03"
      },
      "source": [
        "!pip install keras_applications"
      ],
      "execution_count": 46,
      "outputs": [
        {
          "output_type": "stream",
          "text": [
            "Collecting keras_applications\n",
            "\u001b[?25l  Downloading https://files.pythonhosted.org/packages/71/e3/19762fdfc62877ae9102edf6342d71b28fbfd9dea3d2f96a882ce099b03f/Keras_Applications-1.0.8-py3-none-any.whl (50kB)\n",
            "\r\u001b[K     |██████▌                         | 10kB 11.7MB/s eta 0:00:01\r\u001b[K     |█████████████                   | 20kB 16.8MB/s eta 0:00:01\r\u001b[K     |███████████████████▍            | 30kB 10.1MB/s eta 0:00:01\r\u001b[K     |█████████████████████████▉      | 40kB 8.3MB/s eta 0:00:01\r\u001b[K     |████████████████████████████████| 51kB 2.6MB/s \n",
            "\u001b[?25hRequirement already satisfied: numpy>=1.9.1 in /usr/local/lib/python3.6/dist-packages (from keras_applications) (1.18.5)\n",
            "Requirement already satisfied: h5py in /usr/local/lib/python3.6/dist-packages (from keras_applications) (2.10.0)\n",
            "Requirement already satisfied: six in /usr/local/lib/python3.6/dist-packages (from h5py->keras_applications) (1.15.0)\n",
            "Installing collected packages: keras-applications\n",
            "Successfully installed keras-applications-1.0.8\n"
          ],
          "name": "stdout"
        }
      ]
    },
    {
      "cell_type": "code",
      "metadata": {
        "colab": {
          "base_uri": "https://localhost:8080/"
        },
        "id": "Qjzne93__aFr",
        "outputId": "72580a8f-365f-4ee8-cc2a-a00d9e7d75e7"
      },
      "source": [
        "! pip install git+https://github.com/rcmalli/keras-vggface.git"
      ],
      "execution_count": 48,
      "outputs": [
        {
          "output_type": "stream",
          "text": [
            "Collecting git+https://github.com/rcmalli/keras-vggface.git\n",
            "  Cloning https://github.com/rcmalli/keras-vggface.git to /tmp/pip-req-build-22we9a3r\n",
            "  Running command git clone -q https://github.com/rcmalli/keras-vggface.git /tmp/pip-req-build-22we9a3r\n",
            "Requirement already satisfied: numpy>=1.9.1 in /usr/local/lib/python3.6/dist-packages (from keras-vggface==0.6) (1.18.5)\n",
            "Requirement already satisfied: scipy>=0.14 in /usr/local/lib/python3.6/dist-packages (from keras-vggface==0.6) (1.4.1)\n",
            "Requirement already satisfied: h5py in /usr/local/lib/python3.6/dist-packages (from keras-vggface==0.6) (2.10.0)\n",
            "Requirement already satisfied: pillow in /usr/local/lib/python3.6/dist-packages (from keras-vggface==0.6) (7.0.0)\n",
            "Requirement already satisfied: keras in /usr/local/lib/python3.6/dist-packages (from keras-vggface==0.6) (2.4.3)\n",
            "Requirement already satisfied: six>=1.9.0 in /usr/local/lib/python3.6/dist-packages (from keras-vggface==0.6) (1.15.0)\n",
            "Requirement already satisfied: pyyaml in /usr/local/lib/python3.6/dist-packages (from keras-vggface==0.6) (3.13)\n",
            "Building wheels for collected packages: keras-vggface\n",
            "  Building wheel for keras-vggface (setup.py) ... \u001b[?25l\u001b[?25hdone\n",
            "  Created wheel for keras-vggface: filename=keras_vggface-0.6-cp36-none-any.whl size=8311 sha256=cf2bc1d655f6561c7065855f42762088536b52bdf854a5298d525c7b98575b29\n",
            "  Stored in directory: /tmp/pip-ephem-wheel-cache-64hlv9kd/wheels/36/07/46/06c25ce8e9cd396dabe151ea1d8a2bc28dafcb11321c1f3a6d\n",
            "Successfully built keras-vggface\n",
            "Installing collected packages: keras-vggface\n",
            "Successfully installed keras-vggface-0.6\n"
          ],
          "name": "stdout"
        }
      ]
    },
    {
      "cell_type": "code",
      "metadata": {
        "colab": {
          "base_uri": "https://localhost:8080/"
        },
        "id": "v_AUxNrC_EBW",
        "outputId": "ffc0e53a-2cc7-4706-d2ff-290562eb4d59"
      },
      "source": [
        "from keras_vggface.vggface import VGGFace\n",
        "from tensorflow.keras.preprocessing import image\n",
        "from keras_vggface import utils\n",
        "\n",
        "def preprocess_image(img_path):\n",
        "    img = image.load_img(img_path, target_size=(224, 224)) # модель работает с картинками размера 224 на 224\n",
        "    x = np.expand_dims(image.img_to_array(img), axis=0)\n",
        "    return utils.preprocess_input(x, version=2)\n",
        "\n",
        "preprocess_image(\"./brad_pitt.jpg\")"
      ],
      "execution_count": 64,
      "outputs": [
        {
          "output_type": "execute_result",
          "data": {
            "text/plain": [
              "array([[[[ -65.4953  ,  -86.8827  , -117.0912  ],\n",
              "         [ -65.4953  ,  -86.8827  , -117.0912  ],\n",
              "         [ -67.4953  ,  -88.8827  , -119.0912  ],\n",
              "         ...,\n",
              "         [ -71.4953  ,  -88.8827  , -117.0912  ],\n",
              "         [ -71.4953  ,  -88.8827  , -117.0912  ],\n",
              "         [ -73.4953  ,  -90.8827  , -119.0912  ]],\n",
              "\n",
              "        [[ -64.4953  ,  -85.8827  , -116.0912  ],\n",
              "         [ -64.4953  ,  -85.8827  , -116.0912  ],\n",
              "         [ -66.4953  ,  -87.8827  , -118.0912  ],\n",
              "         ...,\n",
              "         [ -71.4953  ,  -88.8827  , -117.0912  ],\n",
              "         [ -71.4953  ,  -88.8827  , -117.0912  ],\n",
              "         [ -71.4953  ,  -88.8827  , -117.0912  ]],\n",
              "\n",
              "        [[ -61.4953  ,  -82.8827  , -113.0912  ],\n",
              "         [ -61.4953  ,  -82.8827  , -113.0912  ],\n",
              "         [ -63.4953  ,  -84.8827  , -115.0912  ],\n",
              "         ...,\n",
              "         [ -71.4953  ,  -88.8827  , -117.0912  ],\n",
              "         [ -71.4953  ,  -88.8827  , -117.0912  ],\n",
              "         [ -72.4953  ,  -89.8827  , -118.0912  ]],\n",
              "\n",
              "        ...,\n",
              "\n",
              "        [[ 139.5047  ,  123.1173  ,   90.9088  ],\n",
              "         [ 143.5047  ,  122.1173  ,   90.9088  ],\n",
              "         [ 145.5047  ,  121.1173  ,   91.9088  ],\n",
              "         ...,\n",
              "         [ -64.4953  ,  -87.8827  , -119.0912  ],\n",
              "         [ -64.4953  ,  -87.8827  , -119.0912  ],\n",
              "         [ -64.4953  ,  -87.8827  , -119.0912  ]],\n",
              "\n",
              "        [[ 127.5047  ,  107.1173  ,   72.9088  ],\n",
              "         [ 141.5047  ,  117.1173  ,   85.9088  ],\n",
              "         [ 143.5047  ,  118.1173  ,   88.9088  ],\n",
              "         ...,\n",
              "         [ -64.4953  ,  -87.8827  , -119.0912  ],\n",
              "         [ -64.4953  ,  -87.8827  , -119.0912  ],\n",
              "         [ -64.4953  ,  -87.8827  , -119.0912  ]],\n",
              "\n",
              "        [[  82.5047  ,   56.117302,   22.908798],\n",
              "         [  87.5047  ,   59.117302,   25.908798],\n",
              "         [  93.5047  ,   62.117302,   29.908798],\n",
              "         ...,\n",
              "         [ -64.4953  ,  -87.8827  , -119.0912  ],\n",
              "         [ -64.4953  ,  -87.8827  , -119.0912  ],\n",
              "         [ -64.4953  ,  -87.8827  , -119.0912  ]]]], dtype=float32)"
            ]
          },
          "metadata": {
            "tags": []
          },
          "execution_count": 64
        }
      ]
    },
    {
      "cell_type": "code",
      "metadata": {
        "colab": {
          "base_uri": "https://localhost:8080/"
        },
        "id": "3sXgNqG7FUzm",
        "outputId": "4831a438-424c-4598-f878-0f5be25cfcd2"
      },
      "source": [
        "converter = trt.TrtGraphConverterV2(input_saved_model_dir='./drive/My Drive/models/model_gender/saved_model', )\n",
        "converter.convert()\n",
        "converter.save('./drive/My Drive/models/model_gender/saved_model_trt')"
      ],
      "execution_count": 51,
      "outputs": [
        {
          "output_type": "stream",
          "text": [
            "INFO:tensorflow:Linked TensorRT version: (0, 0, 0)\n",
            "INFO:tensorflow:Loaded TensorRT version: (0, 0, 0)\n",
            "INFO:tensorflow:Assets written to: ./drive/My Drive/models/model_gender/saved_model_trt/assets\n"
          ],
          "name": "stdout"
        }
      ]
    },
    {
      "cell_type": "code",
      "metadata": {
        "id": "a66lUY8mAKNr"
      },
      "source": [
        "model1 = tf.saved_model.load(\"./drive/My Drive/models/model_gender/saved_model\")\n",
        "model2 = tf.saved_model.load(\"./drive/My Drive/models/model_gender/saved_model_trt\")"
      ],
      "execution_count": 52,
      "outputs": []
    },
    {
      "cell_type": "code",
      "metadata": {
        "id": "cRinkd6WAiLH"
      },
      "source": [
        "test_image = preprocess_image(\"./brad_pitt.jpg\")"
      ],
      "execution_count": 55,
      "outputs": []
    },
    {
      "cell_type": "code",
      "metadata": {
        "colab": {
          "base_uri": "https://localhost:8080/"
        },
        "id": "J2TV9xKMAcVR",
        "outputId": "a2a086ab-0f16-4766-d221-186a805f7e3d"
      },
      "source": [
        "%%timeit -n 20 -r 20\n",
        "\n",
        "preds = model1(test_image)"
      ],
      "execution_count": 60,
      "outputs": [
        {
          "output_type": "stream",
          "text": [
            "20 loops, best of 20: 161 ms per loop\n"
          ],
          "name": "stdout"
        }
      ]
    },
    {
      "cell_type": "code",
      "metadata": {
        "colab": {
          "base_uri": "https://localhost:8080/"
        },
        "id": "E71lYsvDDYHM",
        "outputId": "b627984a-3970-43a7-9445-7d812141fa2f"
      },
      "source": [
        "empty = np.zeros((1, 224, 224, 3), dtype=\"float32\")\n",
        "empty"
      ],
      "execution_count": 66,
      "outputs": [
        {
          "output_type": "execute_result",
          "data": {
            "text/plain": [
              "array([[[[0., 0., 0.],\n",
              "         [0., 0., 0.],\n",
              "         [0., 0., 0.],\n",
              "         ...,\n",
              "         [0., 0., 0.],\n",
              "         [0., 0., 0.],\n",
              "         [0., 0., 0.]],\n",
              "\n",
              "        [[0., 0., 0.],\n",
              "         [0., 0., 0.],\n",
              "         [0., 0., 0.],\n",
              "         ...,\n",
              "         [0., 0., 0.],\n",
              "         [0., 0., 0.],\n",
              "         [0., 0., 0.]],\n",
              "\n",
              "        [[0., 0., 0.],\n",
              "         [0., 0., 0.],\n",
              "         [0., 0., 0.],\n",
              "         ...,\n",
              "         [0., 0., 0.],\n",
              "         [0., 0., 0.],\n",
              "         [0., 0., 0.]],\n",
              "\n",
              "        ...,\n",
              "\n",
              "        [[0., 0., 0.],\n",
              "         [0., 0., 0.],\n",
              "         [0., 0., 0.],\n",
              "         ...,\n",
              "         [0., 0., 0.],\n",
              "         [0., 0., 0.],\n",
              "         [0., 0., 0.]],\n",
              "\n",
              "        [[0., 0., 0.],\n",
              "         [0., 0., 0.],\n",
              "         [0., 0., 0.],\n",
              "         ...,\n",
              "         [0., 0., 0.],\n",
              "         [0., 0., 0.],\n",
              "         [0., 0., 0.]],\n",
              "\n",
              "        [[0., 0., 0.],\n",
              "         [0., 0., 0.],\n",
              "         [0., 0., 0.],\n",
              "         ...,\n",
              "         [0., 0., 0.],\n",
              "         [0., 0., 0.],\n",
              "         [0., 0., 0.]]]], dtype=float32)"
            ]
          },
          "metadata": {
            "tags": []
          },
          "execution_count": 66
        }
      ]
    },
    {
      "cell_type": "code",
      "metadata": {
        "colab": {
          "base_uri": "https://localhost:8080/"
        },
        "id": "1BFBDm5EA_yx",
        "outputId": "add2ae8d-1510-46a2-cca9-89848d0e1ec0"
      },
      "source": [
        "%%timeit -n 20 -r 20\n",
        "\n",
        "preds = model2(test_image)"
      ],
      "execution_count": 61,
      "outputs": [
        {
          "output_type": "stream",
          "text": [
            "20 loops, best of 20: 165 ms per loop\n"
          ],
          "name": "stdout"
        }
      ]
    },
    {
      "cell_type": "code",
      "metadata": {
        "colab": {
          "base_uri": "https://localhost:8080/"
        },
        "id": "BL7F6bqLCsfP",
        "outputId": "8b288861-40fa-4db9-f5f8-21cf060ffc6d"
      },
      "source": [
        "%%timeit -n 10 -r 10\n",
        "\n",
        "preds = model1(empty)"
      ],
      "execution_count": 67,
      "outputs": [
        {
          "output_type": "stream",
          "text": [
            "10 loops, best of 10: 165 ms per loop\n"
          ],
          "name": "stdout"
        }
      ]
    },
    {
      "cell_type": "code",
      "metadata": {
        "colab": {
          "base_uri": "https://localhost:8080/"
        },
        "id": "N7OE55vmC0Rz",
        "outputId": "46da5284-7680-4d42-9d1c-9be647235fd9"
      },
      "source": [
        "%%timeit -n 10 -r 10\n",
        "\n",
        "preds = model2(empty)"
      ],
      "execution_count": 69,
      "outputs": [
        {
          "output_type": "stream",
          "text": [
            "10 loops, best of 10: 168 ms per loop\n"
          ],
          "name": "stdout"
        }
      ]
    },
    {
      "cell_type": "code",
      "metadata": {
        "id": "DRV7XOMhEJzT"
      },
      "source": [
        "#Вывод - TensorRT работает даже в сторону ухудшения на больших картиночных моделях........."
      ],
      "execution_count": null,
      "outputs": []
    }
  ]
}