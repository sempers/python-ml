{
  "nbformat": 4,
  "nbformat_minor": 0,
  "metadata": {
    "colab": {
      "name": "recsys-2",
      "provenance": [],
      "collapsed_sections": [],
      "toc_visible": true
    },
    "kernelspec": {
      "name": "python3",
      "display_name": "Python 3"
    },
    "accelerator": "GPU"
  },
  "cells": [
    {
      "cell_type": "markdown",
      "metadata": {
        "id": "UgvFosALas47"
      },
      "source": [
        "## Домашнее задание\n",
        "\n",
        "Вам нужно написать следующий пайплайн:\n",
        "1. Получить эмбединги пользователей с помощью SVD.\n",
        "2. Подать их в нейронную сеть, которую вы делали на практическом занятии.\n",
        "Она принимает на вход пользователей и эмбединг айтомов, далее объединяет их в два полносвязанных слоя. На последнем слое выдаёт прогноз с функцией активации сигмоид.\n",
        "3. Обучить сеть.\n"
      ]
    },
    {
      "cell_type": "code",
      "metadata": {
        "id": "I02lFJX45jjO"
      },
      "source": [
        "!pip install surprise"
      ],
      "execution_count": null,
      "outputs": []
    },
    {
      "cell_type": "code",
      "metadata": {
        "id": "NTqwTR2Dapxb"
      },
      "source": [
        "### YOUR CODE HERE ###\n",
        "import pandas as pd\n",
        "import numpy as np\n",
        "from surprise import Dataset\n",
        "from surprise import Reader\n",
        "from surprise import KNNBaseline\n",
        "from surprise.model_selection import train_test_split\n",
        "data = Dataset.load_builtin('ml-100k')\n",
        "from surprise import SVD\n",
        "\n"
      ],
      "execution_count": null,
      "outputs": []
    },
    {
      "cell_type": "code",
      "metadata": {
        "id": "jU7GPDpT936e"
      },
      "source": [
        "import os\n",
        "import tensorflow as tf\n",
        "print(tf.__version__)\n",
        "\n",
        "import sys\n",
        "import keras\n",
        "import keras.backend as K\n",
        "import keras.layers as L\n",
        "from keras.regularizers import l1, l2\n",
        "import json\n",
        "np.random.seed(42)"
      ],
      "execution_count": null,
      "outputs": []
    },
    {
      "cell_type": "code",
      "metadata": {
        "id": "N6dp7AQE-J31"
      },
      "source": [
        "trainset, testset = train_test_split(data, test_size=0.3)\n",
        "\n",
        "N_FACTORS = 8\n",
        "\n",
        "algo = SVD(n_factors=N_FACTORS, biased=False, random_state=42)\n",
        "\n",
        "predictions = algo.fit(trainset).test(testset)\n",
        "\n",
        "df_all = pd.DataFrame(columns=['userID', 'itemID', 'rating', 'real_rating'])\n",
        "for i in predictions:\n",
        "    try:\n",
        "        #добавляем только те строки, где возможно преобразовать uid, iid\n",
        "        uid = trainset.to_inner_uid(i.uid)\n",
        "        iid = trainset.to_inner_iid(i.iid)\n",
        "        df_all = df_all.append({'userID': uid, 'itemID': iid, 'rating': i.est, 'real_rating': i.r_ui}, ignore_index=True)\n",
        "    except:\n",
        "        pass\n",
        "\n",
        "df_all2 = pd.DataFrame(columns=['userID', 'itemID', 'rating', 'real_rating'])\n",
        "for i in predictions:\n",
        "    df_all2 = df_all2.append({'userID': i.uid, 'itemID': i.iid, 'rating': i.est, 'real_rating': i.r_ui}, ignore_index=True)\n",
        "\n",
        "len(df_all), len(df_all2)\n"
      ],
      "execution_count": null,
      "outputs": []
    },
    {
      "cell_type": "code",
      "metadata": {
        "id": "VNzUfksym7jf"
      },
      "source": [
        "df_all['userID'] = df_all['userID'].astype('int32')\n",
        "df_all['itemID'] = df_all['itemID'].astype('int32')\n",
        "\n",
        "df_all.head()"
      ],
      "execution_count": null,
      "outputs": []
    },
    {
      "cell_type": "code",
      "metadata": {
        "id": "vhFTBWLgnN8W"
      },
      "source": [
        "df_all.describe()"
      ],
      "execution_count": null,
      "outputs": []
    },
    {
      "cell_type": "code",
      "metadata": {
        "id": "C6X_JZK0K7i1"
      },
      "source": [
        "df_pivot = df_all.pivot(index='userID', columns='itemID', values='rating')\n",
        "df_pivot"
      ],
      "execution_count": null,
      "outputs": []
    },
    {
      "cell_type": "code",
      "metadata": {
        "id": "kznjWQkbI4ay"
      },
      "source": [
        "len(list(trainset.all_items())), algo.qi.shape, len(list(trainset.all_users())), algo.pu.shape, len(df_all['userID'].unique()), len(df_all['itemID'].unique())"
      ],
      "execution_count": null,
      "outputs": []
    },
    {
      "cell_type": "code",
      "metadata": {
        "id": "CXA7eMerAJ-6"
      },
      "source": [
        "algo.pu.shape, algo.qi.shape"
      ],
      "execution_count": null,
      "outputs": []
    },
    {
      "cell_type": "code",
      "metadata": {
        "id": "AamOq12fG2r0"
      },
      "source": [
        "USERS_DIM = algo.pu.shape[0]\n",
        "ITEMS_DIM = algo.qi.shape[0]\n",
        "USERS_DIM, ITEMS_DIM"
      ],
      "execution_count": null,
      "outputs": []
    },
    {
      "cell_type": "code",
      "metadata": {
        "id": "sMLRYPcdGHud"
      },
      "source": [
        "import keras.layers as L\n",
        "\n",
        "def build_model():\n",
        "    U = L.Input(shape=(1,))\n",
        "    I = L.Input(shape=(1,))\n",
        "    user_latent = L.Flatten()(L.Embedding(USERS_DIM, N_FACTORS, weights=[algo.pu], trainable=False, mask_zero=True)(U))\n",
        "    item_latent = L.Flatten()(L.Embedding(ITEMS_DIM, N_FACTORS, weights=[algo.qi], trainable=False, mask_zero=True)(I))\n",
        "    vector = L.Multiply()([user_latent, item_latent])\n",
        "    d = L.Dense(128, activation='relu')(vector)\n",
        "    Y = L.Dense(1, activation='sigmoid')(d)\n",
        "    return keras.models.Model(inputs=[U,I], outputs=Y)\n",
        "\n",
        "model = build_model()\n",
        "model.compile(optimizer=keras.optimizers.Adam(lr=0.001), loss='mse', metrics='mse')\n",
        "model.summary()"
      ],
      "execution_count": null,
      "outputs": []
    },
    {
      "cell_type": "code",
      "metadata": {
        "id": "WIFS-XlSLlv7"
      },
      "source": [
        "#Training\n",
        "from sklearn.model_selection import train_test_split\n",
        "\n",
        "df_train, df_test = train_test_split(df_all, test_size=0.1)\n",
        "\n",
        "Ut = df_train['userID'].values\n",
        "It = df_train['itemID'].values\n",
        "\n",
        "Yt = (df_train[\"real_rating\"].values - 1.0)/4.0\n",
        "\n",
        "Uv = df_test['userID'].values\n",
        "Iv = df_test['itemID'].values\n",
        "\n",
        "Yv = (df_test['real_rating'].values - 1.0)/4.0\n",
        "\n",
        "len(Ut), len(Uv)"
      ],
      "execution_count": null,
      "outputs": []
    },
    {
      "cell_type": "code",
      "metadata": {
        "id": "6kxyVnDFo4u8"
      },
      "source": [
        "Ut[:3], It[:3], Yt[:3]"
      ],
      "execution_count": null,
      "outputs": []
    },
    {
      "cell_type": "code",
      "metadata": {
        "id": "T-oQE3KbMvns"
      },
      "source": [
        "model = build_model()\n",
        "model.compile(optimizer=keras.optimizers.Adam(lr=0.01), loss='binary_crossentropy', metrics='mse')\n",
        "model.fit([Ut, It], Yt, batch_size=1, epochs=10, validation_data=([Uv, Iv], Yv))"
      ],
      "execution_count": null,
      "outputs": []
    },
    {
      "cell_type": "code",
      "metadata": {
        "id": "W5V_skK4qx_P"
      },
      "source": [
        "#Тестируем модель\n",
        "\n",
        "testUserID = 0\n",
        "testItemID = 0\n",
        "\n",
        "pred = model.predict([np.array([testUserID]), np.array([testItemID])])\n",
        "rating = pred*4 + 1\n",
        "rating"
      ],
      "execution_count": null,
      "outputs": []
    }
  ]
}