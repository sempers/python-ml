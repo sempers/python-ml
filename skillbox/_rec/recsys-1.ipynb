{
  "nbformat": 4,
  "nbformat_minor": 0,
  "metadata": {
    "kernelspec": {
      "display_name": "Python 3",
      "language": "python",
      "name": "python3"
    },
    "language_info": {
      "codemirror_mode": {
        "name": "ipython",
        "version": 3
      },
      "file_extension": ".py",
      "mimetype": "text/x-python",
      "name": "python",
      "nbconvert_exporter": "python",
      "pygments_lexer": "ipython3",
      "version": "3.7.4"
    },
    "colab": {
      "name": "Copy of Skillbox_recsys_14-HW.ipynb",
      "provenance": [],
      "collapsed_sections": [],
      "toc_visible": true
    }
  },
  "cells": [
    {
      "cell_type": "markdown",
      "metadata": {
        "id": "blI59vDd_yno"
      },
      "source": [
        "# Рекомендательная система на библиотеке surprise (Домашнее задание)\n"
      ]
    },
    {
      "cell_type": "code",
      "metadata": {
        "id": "Pu43MMQD_yns"
      },
      "source": [
        "import pandas as pd\n",
        "import numpy as np"
      ],
      "execution_count": 1,
      "outputs": []
    },
    {
      "cell_type": "code",
      "metadata": {
        "id": "cpjD_H9772ov",
        "colab": {
          "base_uri": "https://localhost:8080/"
        },
        "outputId": "c1f611fb-cc6f-4e5a-e467-f5dc3e60b201"
      },
      "source": [
        "!pip install surprise"
      ],
      "execution_count": 2,
      "outputs": [
        {
          "output_type": "stream",
          "text": [
            "Collecting surprise\n",
            "  Downloading https://files.pythonhosted.org/packages/61/de/e5cba8682201fcf9c3719a6fdda95693468ed061945493dea2dd37c5618b/surprise-0.1-py2.py3-none-any.whl\n",
            "Collecting scikit-surprise\n",
            "\u001b[?25l  Downloading https://files.pythonhosted.org/packages/97/37/5d334adaf5ddd65da99fc65f6507e0e4599d092ba048f4302fe8775619e8/scikit-surprise-1.1.1.tar.gz (11.8MB)\n",
            "\u001b[K     |████████████████████████████████| 11.8MB 8.4MB/s \n",
            "\u001b[?25hRequirement already satisfied: joblib>=0.11 in /usr/local/lib/python3.6/dist-packages (from scikit-surprise->surprise) (0.17.0)\n",
            "Requirement already satisfied: numpy>=1.11.2 in /usr/local/lib/python3.6/dist-packages (from scikit-surprise->surprise) (1.18.5)\n",
            "Requirement already satisfied: scipy>=1.0.0 in /usr/local/lib/python3.6/dist-packages (from scikit-surprise->surprise) (1.4.1)\n",
            "Requirement already satisfied: six>=1.10.0 in /usr/local/lib/python3.6/dist-packages (from scikit-surprise->surprise) (1.15.0)\n",
            "Building wheels for collected packages: scikit-surprise\n",
            "  Building wheel for scikit-surprise (setup.py) ... \u001b[?25l\u001b[?25hdone\n",
            "  Created wheel for scikit-surprise: filename=scikit_surprise-1.1.1-cp36-cp36m-linux_x86_64.whl size=1670927 sha256=4ed0108506c552035e0b3288b988c8f6a2a1804811120d4b2efb0d84d8f5fc47\n",
            "  Stored in directory: /root/.cache/pip/wheels/78/9c/3d/41b419c9d2aff5b6e2b4c0fc8d25c538202834058f9ed110d0\n",
            "Successfully built scikit-surprise\n",
            "Installing collected packages: scikit-surprise, surprise\n",
            "Successfully installed scikit-surprise-1.1.1 surprise-0.1\n"
          ],
          "name": "stdout"
        }
      ]
    },
    {
      "cell_type": "code",
      "metadata": {
        "id": "Ov0SQK91_yn6"
      },
      "source": [
        "from surprise import Dataset\n",
        "from surprise import Reader\n",
        "from surprise import KNNBaseline\n",
        "from surprise.model_selection import train_test_split"
      ],
      "execution_count": 9,
      "outputs": []
    },
    {
      "cell_type": "code",
      "metadata": {
        "id": "vaTHk6Wl_yoV"
      },
      "source": [
        "def Precision_at_n(df_ratings, n=3, threshold=5):\n",
        "    rel_n = set(df_ratings[df_ratings.real_rating >= threshold]['itemID'])\n",
        "    t = df_ratings.sort_values(by='rating', ascending=False)[0:n]\n",
        "    ret_n = set(t['itemID'])\n",
        "    return len(rel_n & ret_n)/n"
      ],
      "execution_count": 4,
      "outputs": []
    },
    {
      "cell_type": "code",
      "metadata": {
        "id": "9NsHlWKF_yoa"
      },
      "source": [
        "def Avg_Precision_at_n(df_ratings, n=10, threshold=5):\n",
        "    avg_p=0\n",
        "    rel_n = set(df_ratings[df_ratings.real_rating >= threshold]['itemID'])\n",
        "    \n",
        "    for i in range(1,n+1):\n",
        "        t=df_ratings.sort_values(by='rating', ascending=False)[0:i]\n",
        "        ret_n=set(t['itemID'])\n",
        "        t2=df_ratings.sort_values(by='rating', ascending=False)[i-1:i]\n",
        "        ret_n2=set(t2['itemID'])\n",
        "        \n",
        "        if len((ret_n2 & rel_n))>0:\n",
        "            avg_p=avg_p+len(rel_n & ret_n)/n\n",
        "    return avg_p/n"
      ],
      "execution_count": 5,
      "outputs": []
    },
    {
      "cell_type": "code",
      "metadata": {
        "id": "pFI50Ctf_yoh"
      },
      "source": [
        "def Recall_at_n(df_ratings, n=3,threshold=5):\n",
        "    rel_n = set(df_ratings[df_ratings.real_rating>=threshold]['itemID'])\n",
        "    t=df_ratings.sort_values(by='rating', ascending=False)[0:n]\n",
        "    ret_n=set(t['itemID'])\n",
        "    return len(rel_n & ret_n)/len(set(rel_n))"
      ],
      "execution_count": 6,
      "outputs": []
    },
    {
      "cell_type": "code",
      "metadata": {
        "id": "kongmpxc_yoo"
      },
      "source": [
        "def MAP_at_n(df_ratings_all, n=10, threshold=5):\n",
        "    users=df_ratings_all['userID'].unique()\n",
        "    map_at_n=0\n",
        "    for i in users:\n",
        "        df_ratings=df_ratings_all[df_ratings_all.userID==i]\n",
        "        map_at_n=map_at_n+Avg_Precision_at_n(df_ratings,n=n,threshold=threshold)\n",
        "    return map_at_n/len(users)   "
      ],
      "execution_count": 7,
      "outputs": []
    },
    {
      "cell_type": "markdown",
      "metadata": {
        "id": "ErBUm4Rj_yos"
      },
      "source": [
        "## Легкое задание\n",
        "Для датасэта\n",
        "\n",
        "```\n",
        "data = Dataset.load_builtin('ml-100k')\n",
        "trainset, testset = train_test_split(data, test_size=.30)\n",
        "\n",
        "```\n",
        "\n",
        "Для каждого k= 10, 20 и 30 выбрать какой вариант KNN лучше item-based или user-based по метрике MAP_at_n (n=5)\n"
      ]
    },
    {
      "cell_type": "code",
      "metadata": {
        "id": "iRGCIsMs_yoy"
      },
      "source": [
        "data = Dataset.load_builtin('ml-100k')\n",
        "trainset, testset = train_test_split(data, test_size=0.3)"
      ],
      "execution_count": 10,
      "outputs": []
    },
    {
      "cell_type": "code",
      "metadata": {
        "id": "DS2z3FlI8d5t",
        "colab": {
          "base_uri": "https://localhost:8080/"
        },
        "outputId": "d85f5d93-9153-4e76-cac7-3b35898684cb"
      },
      "source": [
        "scores = {10: {}, 20: {}, 30: {}}\n",
        "\n",
        "def pred_to_df(pred):\n",
        "    df_ratings = pd.DataFrame(columns=['userID', 'itemID', 'rating', 'real_rating'])\n",
        "    for i in predictions:\n",
        "        df_ratings = df_ratings.append({'userID':i.uid, 'itemID': i.iid, 'rating': i.est, 'real_rating': i.r_ui}, ignore_index=True)\n",
        "    return df_ratings\n",
        "\n",
        "\n",
        "for k in [10, 20, 30]:\n",
        "    for based in ['user-based', 'item-based']:\n",
        "        algo = KNNBaseline(k=k, sim_options={'user-based': based=='user-based'})\n",
        "        predictions = algo.fit(trainset).test(testset)\n",
        "        df = pred_to_df(predictions)\n",
        "        scores[k][based] = MAP_at_n(df, n=5)\n",
        "\n",
        "scores\n",
        "#В обеих модификациях побеждает модель k=30\n",
        "#По указанной метрике нельзя определить, что лучше: item-based или user-based"
      ],
      "execution_count": 11,
      "outputs": [
        {
          "output_type": "stream",
          "text": [
            "Estimating biases using als...\n",
            "Computing the msd similarity matrix...\n",
            "Done computing similarity matrix.\n",
            "Estimating biases using als...\n",
            "Computing the msd similarity matrix...\n",
            "Done computing similarity matrix.\n",
            "Estimating biases using als...\n",
            "Computing the msd similarity matrix...\n",
            "Done computing similarity matrix.\n",
            "Estimating biases using als...\n",
            "Computing the msd similarity matrix...\n",
            "Done computing similarity matrix.\n",
            "Estimating biases using als...\n",
            "Computing the msd similarity matrix...\n",
            "Done computing similarity matrix.\n",
            "Estimating biases using als...\n",
            "Computing the msd similarity matrix...\n",
            "Done computing similarity matrix.\n"
          ],
          "name": "stdout"
        },
        {
          "output_type": "execute_result",
          "data": {
            "text/plain": [
              "{10: {'item-based': 0.144305408271475, 'user-based': 0.144305408271475},\n",
              " 20: {'item-based': 0.15194061505832532, 'user-based': 0.15194061505832532},\n",
              " 30: {'item-based': 0.15749734888653305, 'user-based': 0.15749734888653305}}"
            ]
          },
          "metadata": {
            "tags": []
          },
          "execution_count": 11
        }
      ]
    },
    {
      "cell_type": "markdown",
      "metadata": {
        "id": "aKTck4LW_yo7"
      },
      "source": [
        "## Сложное задание\n",
        "\n",
        "Для датасэта\n",
        "\n",
        "```\n",
        "data = Dataset.load_builtin('ml-100k')\n",
        "trainset, testset = train_test_split(data, test_size=.30)\n",
        "\n",
        "```\n",
        "\n",
        "а) Для KNN(k=30) для каждого пользователя найти лучший алгоритм по Avg_Precision_at_n(7)\n",
        "Cравнивая между item-based, user-based подход, а также разные меры для (косинусную, Пирсона) в KNN.\n",
        "Докуметация к мерам:\n",
        "https://surprise.readthedocs.io/en/stable/prediction_algorithms.html#similarity-measures-configuration\n",
        "\n",
        "б) Для каждого пользователя расчитайте рейтинги фильмов используя лучший алгоритм из пункта а)\n",
        "\n",
        "в) Сравнить результат из б) с обычном kNN k=30 по метрике MAP (n=7).\n"
      ]
    },
    {
      "cell_type": "markdown",
      "metadata": {
        "id": "9_lxNgzH_yo8"
      },
      "source": [
        "#### а)"
      ]
    },
    {
      "cell_type": "code",
      "metadata": {
        "id": "V48S2OMndfov"
      },
      "source": [
        "def pred_to_df(pred):\n",
        "    df = pd.DataFrame(columns=['userID', 'itemID', 'rating', 'real_rating'])\n",
        "    for i in pred:\n",
        "        df = df.append({'userID': i.uid, 'itemID': i.iid, 'rating': i.est, 'real_rating': i.r_ui}, ignore_index=True)\n",
        "    return df\n",
        "\n",
        "def algo_to_df(algo):\n",
        "    predictions = algo.fit(trainset).test(testset)\n",
        "    df = pd.DataFrame(columns=['userID', 'itemID', 'rating', 'real_rating'])\n",
        "    for i in predictions:\n",
        "        df = df.append({'userID': i.uid, 'itemID': i.iid, 'rating': i.est, 'real_rating': i.r_ui}, ignore_index=True)\n",
        "    return df\n",
        "\n",
        "def MAP_at_n(df_ratings_all, n=10, threshold=5):\n",
        "    users=df_ratings_all['userID'].unique()\n",
        "    map_at_n=0\n",
        "    for i in users:\n",
        "        df_ratings=df_ratings_all[df_ratings_all.userID==i]\n",
        "        map_at_n=map_at_n + Avg_Precision_at_n(df_ratings,n=n,threshold=threshold)\n",
        "    return map_at_n/len(users)\n",
        "\n"
      ],
      "execution_count": 20,
      "outputs": []
    },
    {
      "cell_type": "code",
      "metadata": {
        "colab": {
          "base_uri": "https://localhost:8080/"
        },
        "id": "XidewlPMWZHA",
        "outputId": "332e01ad-2259-4efc-e57c-8807e4983945"
      },
      "source": [
        "algos = [\n",
        "        {\n",
        "            \"name\": \"algo0\",   #baseline\n",
        "            \"algo\": KNNBaseline(k=30),\n",
        "            \"df\": algo_to_df(KNNBaseline(k=30))\n",
        "        },\n",
        "        {\n",
        "            \"name\": \"algo1\",\n",
        "            \"algo\": KNNBaseline(k=30, sim_options={'user-based':True, 'name': 'cosine'}),\n",
        "            \"df\": algo_to_df(KNNBaseline(k=30, sim_options={'user-based':True, 'name': 'cosine'}))\n",
        "        },\n",
        "        {\n",
        "            \"name\": \"algo2\",\n",
        "            \"algo\": KNNBaseline(k=30, sim_options={'user-based':True, 'name': 'pearson_baseline', 'shrinkage':0}),\n",
        "            \"df\": algo_to_df(KNNBaseline(k=30, sim_options={'user-based':True, 'name': 'pearson_baseline', 'shrinkage':0}))\n",
        "        },\n",
        "        {\n",
        "            \"name\": \"algo3\",\n",
        "            \"algo\": KNNBaseline(k=30, sim_options={'user-based':False, 'name': 'cosine'}),\n",
        "            \"df\": algo_to_df(KNNBaseline(k=30, sim_options={'user-based':False, 'name': 'cosine'}))\n",
        "        },\n",
        "        {\n",
        "            \"name\": \"algo4\",\n",
        "            \"algo\": KNNBaseline(k=30, sim_options={'user-based':False, 'name': 'pearson_baseline', 'shrinkage':0}),\n",
        "            \"df\": algo_to_df(KNNBaseline(k=30, sim_options={'user-based':False, 'name': 'pearson_baseline', 'shrinkage':0}))           \n",
        "        }\n",
        "]"
      ],
      "execution_count": 21,
      "outputs": [
        {
          "output_type": "stream",
          "text": [
            "Estimating biases using als...\n",
            "Computing the msd similarity matrix...\n",
            "Done computing similarity matrix.\n",
            "Estimating biases using als...\n",
            "Computing the cosine similarity matrix...\n",
            "Done computing similarity matrix.\n",
            "Estimating biases using als...\n",
            "Computing the pearson_baseline similarity matrix...\n",
            "Done computing similarity matrix.\n",
            "Estimating biases using als...\n",
            "Computing the cosine similarity matrix...\n",
            "Done computing similarity matrix.\n",
            "Estimating biases using als...\n",
            "Computing the pearson_baseline similarity matrix...\n",
            "Done computing similarity matrix.\n"
          ],
          "name": "stdout"
        }
      ]
    },
    {
      "cell_type": "code",
      "metadata": {
        "colab": {
          "base_uri": "https://localhost:8080/",
          "height": 419
        },
        "id": "LdD4v3y_Q7UK",
        "outputId": "74e6d09a-8e88-4048-cb21-a2afd7598791"
      },
      "source": [
        "users = algos[0]['df']['userID'].unique()\n",
        "\n",
        "def algo_user_AvgP_at_n(algo_item, userID, n=7):\n",
        "    df = algo_item['df']\n",
        "    df = df[df.userID == userID]\n",
        "    return Avg_Precision_at_n(df, n=7)\n",
        "\n",
        "#users df\n",
        "udf = pd.DataFrame(users, columns=[\"userID\"]).sort_values(\"userID\")\n",
        "\n",
        "udf[\"algo0_avgP7\"] = np.nan\n",
        "udf[\"algo1_avgP7\"] = np.nan\n",
        "udf[\"algo2_avgP7\"] = np.nan\n",
        "udf[\"algo3_avgP7\"] = np.nan\n",
        "udf[\"algo4_avgP7\"] = np.nan\n",
        "\n",
        "udf"
      ],
      "execution_count": 38,
      "outputs": [
        {
          "output_type": "execute_result",
          "data": {
            "text/html": [
              "<div>\n",
              "<style scoped>\n",
              "    .dataframe tbody tr th:only-of-type {\n",
              "        vertical-align: middle;\n",
              "    }\n",
              "\n",
              "    .dataframe tbody tr th {\n",
              "        vertical-align: top;\n",
              "    }\n",
              "\n",
              "    .dataframe thead th {\n",
              "        text-align: right;\n",
              "    }\n",
              "</style>\n",
              "<table border=\"1\" class=\"dataframe\">\n",
              "  <thead>\n",
              "    <tr style=\"text-align: right;\">\n",
              "      <th></th>\n",
              "      <th>userID</th>\n",
              "      <th>algo0_avgP7</th>\n",
              "      <th>algo1_avgP7</th>\n",
              "      <th>algo2_avgP7</th>\n",
              "      <th>algo3_avgP7</th>\n",
              "      <th>algo4_avgP7</th>\n",
              "    </tr>\n",
              "  </thead>\n",
              "  <tbody>\n",
              "    <tr>\n",
              "      <th>51</th>\n",
              "      <td>1</td>\n",
              "      <td>NaN</td>\n",
              "      <td>NaN</td>\n",
              "      <td>NaN</td>\n",
              "      <td>NaN</td>\n",
              "      <td>NaN</td>\n",
              "    </tr>\n",
              "    <tr>\n",
              "      <th>147</th>\n",
              "      <td>10</td>\n",
              "      <td>NaN</td>\n",
              "      <td>NaN</td>\n",
              "      <td>NaN</td>\n",
              "      <td>NaN</td>\n",
              "      <td>NaN</td>\n",
              "    </tr>\n",
              "    <tr>\n",
              "      <th>778</th>\n",
              "      <td>100</td>\n",
              "      <td>NaN</td>\n",
              "      <td>NaN</td>\n",
              "      <td>NaN</td>\n",
              "      <td>NaN</td>\n",
              "      <td>NaN</td>\n",
              "    </tr>\n",
              "    <tr>\n",
              "      <th>623</th>\n",
              "      <td>101</td>\n",
              "      <td>NaN</td>\n",
              "      <td>NaN</td>\n",
              "      <td>NaN</td>\n",
              "      <td>NaN</td>\n",
              "      <td>NaN</td>\n",
              "    </tr>\n",
              "    <tr>\n",
              "      <th>132</th>\n",
              "      <td>102</td>\n",
              "      <td>NaN</td>\n",
              "      <td>NaN</td>\n",
              "      <td>NaN</td>\n",
              "      <td>NaN</td>\n",
              "      <td>NaN</td>\n",
              "    </tr>\n",
              "    <tr>\n",
              "      <th>...</th>\n",
              "      <td>...</td>\n",
              "      <td>...</td>\n",
              "      <td>...</td>\n",
              "      <td>...</td>\n",
              "      <td>...</td>\n",
              "      <td>...</td>\n",
              "    </tr>\n",
              "    <tr>\n",
              "      <th>384</th>\n",
              "      <td>95</td>\n",
              "      <td>NaN</td>\n",
              "      <td>NaN</td>\n",
              "      <td>NaN</td>\n",
              "      <td>NaN</td>\n",
              "      <td>NaN</td>\n",
              "    </tr>\n",
              "    <tr>\n",
              "      <th>877</th>\n",
              "      <td>96</td>\n",
              "      <td>NaN</td>\n",
              "      <td>NaN</td>\n",
              "      <td>NaN</td>\n",
              "      <td>NaN</td>\n",
              "      <td>NaN</td>\n",
              "    </tr>\n",
              "    <tr>\n",
              "      <th>760</th>\n",
              "      <td>97</td>\n",
              "      <td>NaN</td>\n",
              "      <td>NaN</td>\n",
              "      <td>NaN</td>\n",
              "      <td>NaN</td>\n",
              "      <td>NaN</td>\n",
              "    </tr>\n",
              "    <tr>\n",
              "      <th>227</th>\n",
              "      <td>98</td>\n",
              "      <td>NaN</td>\n",
              "      <td>NaN</td>\n",
              "      <td>NaN</td>\n",
              "      <td>NaN</td>\n",
              "      <td>NaN</td>\n",
              "    </tr>\n",
              "    <tr>\n",
              "      <th>210</th>\n",
              "      <td>99</td>\n",
              "      <td>NaN</td>\n",
              "      <td>NaN</td>\n",
              "      <td>NaN</td>\n",
              "      <td>NaN</td>\n",
              "      <td>NaN</td>\n",
              "    </tr>\n",
              "  </tbody>\n",
              "</table>\n",
              "<p>943 rows × 6 columns</p>\n",
              "</div>"
            ],
            "text/plain": [
              "    userID  algo0_avgP7  algo1_avgP7  algo2_avgP7  algo3_avgP7  algo4_avgP7\n",
              "51       1          NaN          NaN          NaN          NaN          NaN\n",
              "147     10          NaN          NaN          NaN          NaN          NaN\n",
              "778    100          NaN          NaN          NaN          NaN          NaN\n",
              "623    101          NaN          NaN          NaN          NaN          NaN\n",
              "132    102          NaN          NaN          NaN          NaN          NaN\n",
              "..     ...          ...          ...          ...          ...          ...\n",
              "384     95          NaN          NaN          NaN          NaN          NaN\n",
              "877     96          NaN          NaN          NaN          NaN          NaN\n",
              "760     97          NaN          NaN          NaN          NaN          NaN\n",
              "227     98          NaN          NaN          NaN          NaN          NaN\n",
              "210     99          NaN          NaN          NaN          NaN          NaN\n",
              "\n",
              "[943 rows x 6 columns]"
            ]
          },
          "metadata": {
            "tags": []
          },
          "execution_count": 38
        }
      ]
    },
    {
      "cell_type": "code",
      "metadata": {
        "id": "uD7Iz4hzTmV-"
      },
      "source": [
        "for i, row in udf.iterrows():\n",
        "    userID = row.userID\n",
        "    for j, algo_item in enumerate(algos):\n",
        "        udf.loc[i, \"algo\" + str(j) + \"_avgP7\"] = algo_user_AvgP_at_n(algo_item, userID, n=7)"
      ],
      "execution_count": 40,
      "outputs": []
    },
    {
      "cell_type": "code",
      "metadata": {
        "colab": {
          "base_uri": "https://localhost:8080/",
          "height": 252
        },
        "id": "iW35VjgSZ5dI",
        "outputId": "6635b0e9-35be-4c17-945c-31569ff6a16f"
      },
      "source": [
        "udf[\"best_algo\"] = np.argmax(udf[[\"algo1_avgP7\", \"algo2_avgP7\",\t\"algo3_avgP7\", \"algo4_avgP7\"]].to_numpy(), axis=1) + 1\n",
        "\n",
        "udf.set_index(\"userID\", inplace=True)\n",
        "print(len(udf))\n",
        "udf.head()"
      ],
      "execution_count": 43,
      "outputs": [
        {
          "output_type": "stream",
          "text": [
            "943\n"
          ],
          "name": "stdout"
        },
        {
          "output_type": "execute_result",
          "data": {
            "text/html": [
              "<div>\n",
              "<style scoped>\n",
              "    .dataframe tbody tr th:only-of-type {\n",
              "        vertical-align: middle;\n",
              "    }\n",
              "\n",
              "    .dataframe tbody tr th {\n",
              "        vertical-align: top;\n",
              "    }\n",
              "\n",
              "    .dataframe thead th {\n",
              "        text-align: right;\n",
              "    }\n",
              "</style>\n",
              "<table border=\"1\" class=\"dataframe\">\n",
              "  <thead>\n",
              "    <tr style=\"text-align: right;\">\n",
              "      <th></th>\n",
              "      <th>algo0_avgP7</th>\n",
              "      <th>algo1_avgP7</th>\n",
              "      <th>algo2_avgP7</th>\n",
              "      <th>algo3_avgP7</th>\n",
              "      <th>algo4_avgP7</th>\n",
              "      <th>best_algo</th>\n",
              "    </tr>\n",
              "    <tr>\n",
              "      <th>userID</th>\n",
              "      <th></th>\n",
              "      <th></th>\n",
              "      <th></th>\n",
              "      <th></th>\n",
              "      <th></th>\n",
              "      <th></th>\n",
              "    </tr>\n",
              "  </thead>\n",
              "  <tbody>\n",
              "    <tr>\n",
              "      <th>1</th>\n",
              "      <td>0.204082</td>\n",
              "      <td>0.306122</td>\n",
              "      <td>0.204082</td>\n",
              "      <td>0.306122</td>\n",
              "      <td>0.204082</td>\n",
              "      <td>1</td>\n",
              "    </tr>\n",
              "    <tr>\n",
              "      <th>10</th>\n",
              "      <td>0.204082</td>\n",
              "      <td>0.122449</td>\n",
              "      <td>0.204082</td>\n",
              "      <td>0.122449</td>\n",
              "      <td>0.204082</td>\n",
              "      <td>2</td>\n",
              "    </tr>\n",
              "    <tr>\n",
              "      <th>100</th>\n",
              "      <td>0.000000</td>\n",
              "      <td>0.000000</td>\n",
              "      <td>0.000000</td>\n",
              "      <td>0.000000</td>\n",
              "      <td>0.000000</td>\n",
              "      <td>1</td>\n",
              "    </tr>\n",
              "    <tr>\n",
              "      <th>101</th>\n",
              "      <td>0.000000</td>\n",
              "      <td>0.000000</td>\n",
              "      <td>0.000000</td>\n",
              "      <td>0.000000</td>\n",
              "      <td>0.000000</td>\n",
              "      <td>1</td>\n",
              "    </tr>\n",
              "    <tr>\n",
              "      <th>102</th>\n",
              "      <td>0.000000</td>\n",
              "      <td>0.000000</td>\n",
              "      <td>0.000000</td>\n",
              "      <td>0.000000</td>\n",
              "      <td>0.000000</td>\n",
              "      <td>1</td>\n",
              "    </tr>\n",
              "  </tbody>\n",
              "</table>\n",
              "</div>"
            ],
            "text/plain": [
              "        algo0_avgP7  algo1_avgP7  ...  algo4_avgP7  best_algo\n",
              "userID                            ...                        \n",
              "1          0.204082     0.306122  ...     0.204082          1\n",
              "10         0.204082     0.122449  ...     0.204082          2\n",
              "100        0.000000     0.000000  ...     0.000000          1\n",
              "101        0.000000     0.000000  ...     0.000000          1\n",
              "102        0.000000     0.000000  ...     0.000000          1\n",
              "\n",
              "[5 rows x 6 columns]"
            ]
          },
          "metadata": {
            "tags": []
          },
          "execution_count": 43
        }
      ]
    },
    {
      "cell_type": "markdown",
      "metadata": {
        "id": "xnLPPWwa_ypb"
      },
      "source": [
        "#### б)"
      ]
    },
    {
      "cell_type": "code",
      "metadata": {
        "colab": {
          "base_uri": "https://localhost:8080/",
          "height": 204
        },
        "id": "82C8jgcXcRtz",
        "outputId": "c9fb4536-632a-4d66-8f33-1b89e992694f"
      },
      "source": [
        "#Теперь считаем рейтинги\n",
        "\n",
        "df_all = pd.DataFrame(columns=['userID', 'itemID', 'rating', 'real_rating'])\n",
        "\n",
        "for userID in users:\n",
        "    best_algo = udf.loc[userID].best_algo\n",
        "    df = algos[int(best_algo)]['df']\n",
        "    df_all = pd.concat([df_all, df[df.userID == userID]])\n",
        "\n",
        "#df_all.set_index('userID', inplace=True)\n",
        "df_all.head()"
      ],
      "execution_count": 57,
      "outputs": [
        {
          "output_type": "execute_result",
          "data": {
            "text/html": [
              "<div>\n",
              "<style scoped>\n",
              "    .dataframe tbody tr th:only-of-type {\n",
              "        vertical-align: middle;\n",
              "    }\n",
              "\n",
              "    .dataframe tbody tr th {\n",
              "        vertical-align: top;\n",
              "    }\n",
              "\n",
              "    .dataframe thead th {\n",
              "        text-align: right;\n",
              "    }\n",
              "</style>\n",
              "<table border=\"1\" class=\"dataframe\">\n",
              "  <thead>\n",
              "    <tr style=\"text-align: right;\">\n",
              "      <th></th>\n",
              "      <th>userID</th>\n",
              "      <th>itemID</th>\n",
              "      <th>rating</th>\n",
              "      <th>real_rating</th>\n",
              "    </tr>\n",
              "  </thead>\n",
              "  <tbody>\n",
              "    <tr>\n",
              "      <th>0</th>\n",
              "      <td>262</td>\n",
              "      <td>974</td>\n",
              "      <td>2.442151</td>\n",
              "      <td>3.0</td>\n",
              "    </tr>\n",
              "    <tr>\n",
              "      <th>80</th>\n",
              "      <td>262</td>\n",
              "      <td>200</td>\n",
              "      <td>3.626374</td>\n",
              "      <td>3.0</td>\n",
              "    </tr>\n",
              "    <tr>\n",
              "      <th>329</th>\n",
              "      <td>262</td>\n",
              "      <td>195</td>\n",
              "      <td>3.689617</td>\n",
              "      <td>2.0</td>\n",
              "    </tr>\n",
              "    <tr>\n",
              "      <th>667</th>\n",
              "      <td>262</td>\n",
              "      <td>185</td>\n",
              "      <td>3.857548</td>\n",
              "      <td>3.0</td>\n",
              "    </tr>\n",
              "    <tr>\n",
              "      <th>761</th>\n",
              "      <td>262</td>\n",
              "      <td>68</td>\n",
              "      <td>3.174816</td>\n",
              "      <td>2.0</td>\n",
              "    </tr>\n",
              "  </tbody>\n",
              "</table>\n",
              "</div>"
            ],
            "text/plain": [
              "    userID itemID    rating  real_rating\n",
              "0      262    974  2.442151          3.0\n",
              "80     262    200  3.626374          3.0\n",
              "329    262    195  3.689617          2.0\n",
              "667    262    185  3.857548          3.0\n",
              "761    262     68  3.174816          2.0"
            ]
          },
          "metadata": {
            "tags": []
          },
          "execution_count": 57
        }
      ]
    },
    {
      "cell_type": "markdown",
      "metadata": {
        "id": "N8if-Exg_ypi"
      },
      "source": [
        "#### в)"
      ]
    },
    {
      "cell_type": "code",
      "metadata": {
        "id": "Iei5P2xCdgtd",
        "colab": {
          "base_uri": "https://localhost:8080/"
        },
        "outputId": "8347ab04-904d-4b4b-f9bf-231c95b943e7"
      },
      "source": [
        "### YOUR CODE HERE ###\n",
        "print(\"MAP@7 для KNNBaseline vanilla: \", MAP_at_n(algos[0]['df'], n=7))\n",
        "print(\"MAP@7 для составного финального датафрейма: \", MAP_at_n(df_all, n=7))"
      ],
      "execution_count": 55,
      "outputs": [
        {
          "output_type": "stream",
          "text": [
            "MAP@7 для KNNBaseline vanilla:  0.12541389832709296\n",
            "MAP@7 для составного финального датафрейма:  0.1352825329495527\n"
          ],
          "name": "stdout"
        }
      ]
    }
  ]
}