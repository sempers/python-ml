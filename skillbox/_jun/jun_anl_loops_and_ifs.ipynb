{
 "cells": [
  {
   "cell_type": "markdown",
   "metadata": {
    "colab_type": "text",
    "id": "X9wfb-pqPzYu"
   },
   "source": [
    "# Циклы и условия\n",
    "\n",
    "## Домашняя работа\n",
    "Эта домашняя работа должна быть решена **БЕЗ** использования готовых функций (если именно они «решают» задачу) и сторонних библиотек. Используйте циклы и условия."
   ]
  },
  {
   "cell_type": "markdown",
   "metadata": {
    "colab_type": "text",
    "id": "LWsFp-lTB1SY"
   },
   "source": [
    "**Цель блока заданий:** в данном блоке задач вы потренируетесь использовать циклы и условные операторы для решения практических задач.\n",
    "\n",
    "**Критерии оценки:** задания считаются выполненными, если программа выводит корректный ответ."
   ]
  },
  {
   "cell_type": "markdown",
   "metadata": {
    "colab_type": "text",
    "id": "DMpu8uUoPzY0"
   },
   "source": [
    "## 1\n",
    "\n",
    "Напишите программу, которая будет запрашивать на вход числа (через запятую на одной строке) и выводить наибольшее значение из списка.\n",
    "<br><br>\n",
    "*Ограничение: нельзя пользоваться готовой функцией для нахождения максимума (например, `max()`), готовыми функциями и методами сортировки (например, `sort()`,`sorted()`), функцией set().*\n",
    "<br>\n",
    "<br>\n",
    "*Формат ввода:* <br>\n",
    "1, 2, 3, 6, 7<br><br>\n",
    "\n",
    "*Формат вывода:* <br>\n",
    "7"
   ]
  },
  {
   "cell_type": "markdown",
   "metadata": {
    "colab_type": "text",
    "id": "jc-6GNtHB1SZ"
   },
   "source": [
    "**Рекомендации к выполнению задания:** попробуйте создать переменную, в которой будете хранить максимум. Итерируя по списку входных значений, сравните максимум с каждым элементом. В случае, если элемент оказался больше максимума, присвойте данной переменной новое значение."
   ]
  },
  {
   "cell_type": "code",
   "execution_count": 3,
   "metadata": {
    "colab": {},
    "colab_type": "code",
    "id": "dHs34-p-PzY3"
   },
   "outputs": [
    {
     "name": "stdout",
     "output_type": "stream",
     "text": [
      "1,2,3,4,5,6,7,8\n",
      "[1, 2, 3, 4, 5, 6, 7, 8]\n",
      "8\n"
     ]
    }
   ],
   "source": [
    "### YOUR CODE HERE ###\n",
    "import math\n",
    "\n",
    "arr = eval('[' + input() + ']')\n",
    "max_el = -math.inf\n",
    "#print(arr)\n",
    "for x in arr:\n",
    "    if x > max_el: max_el = x\n",
    "print(max_el)"
   ]
  },
  {
   "cell_type": "markdown",
   "metadata": {
    "colab_type": "text",
    "id": "sCF9Hd9rPzZD"
   },
   "source": [
    "### 2\n",
    "\n",
    "Напишите программу, которая будет запрашивать на вход числа (каждое с новой строки) до тех пор, пока не будет введён ноль (0). На выход должно выводиться второе по величине значение.\n",
    "<br><br>\n",
    "*Ограничение: нельзя пользоваться готовой функцией для нахождения максимума (например, `max()`), готовыми функциями и методами сортировки (например, `sort()`,`sorted()`).*\n",
    "<br><br>\n",
    "*Формат ввода:* <br>\n",
    "4<br>\n",
    "6<br>\n",
    "7<br>\n",
    "7<br>\n",
    "0\n",
    "<br><br>\n",
    "\n",
    "*Формат вывода:* <br>\n",
    "6"
   ]
  },
  {
   "cell_type": "markdown",
   "metadata": {
    "colab_type": "text",
    "id": "3wgCKyz8B1Se"
   },
   "source": [
    "**Рекомендации к выполнению задания:** попробуйте реализовать идею решения из предыдущего задания, используя две переменные для хранения максимумов."
   ]
  },
  {
   "cell_type": "code",
   "execution_count": 8,
   "metadata": {
    "colab": {},
    "colab_type": "code",
    "id": "yrJk-mEjPzZF"
   },
   "outputs": [
    {
     "name": "stdout",
     "output_type": "stream",
     "text": [
      "6\n",
      "4\n",
      "0\n",
      "4\n"
     ]
    }
   ],
   "source": [
    "### YOUR CODE HERE ###\n",
    "arr = []\n",
    "max1 = -math.inf\n",
    "max2 = -math.inf\n",
    "while True:\n",
    "    c = int(input())\n",
    "    if c == 0: break\n",
    "    arr.append(c)\n",
    "    if c > max1: \n",
    "        max2 = max1\n",
    "        max1 = c\n",
    "    elif c > max2:\n",
    "        max2 = c\n",
    "print(max2)"
   ]
  },
  {
   "cell_type": "markdown",
   "metadata": {
    "colab_type": "text",
    "id": "fdJZMUtGPzZN"
   },
   "source": [
    "### 3\n",
    "\n",
    "Напишите программу, которая принимает на вход год, а на выход выдаёт количество дней в этом году.\n",
    "<br><br>\n",
    "*Формат ввода:* <br>\n",
    "2020<br><br>\n",
    "\n",
    "*Формат вывода:* <br>\n",
    "366"
   ]
  },
  {
   "cell_type": "markdown",
   "metadata": {
    "colab_type": "text",
    "id": "3RIf28qDB1Sh"
   },
   "source": [
    "**Рекомендации к выполнению задания:** вспомните свойство делимости для високосных годов."
   ]
  },
  {
   "cell_type": "code",
   "execution_count": 15,
   "metadata": {
    "colab": {},
    "colab_type": "code",
    "id": "Dk6PDx-jPzZP"
   },
   "outputs": [
    {
     "name": "stdout",
     "output_type": "stream",
     "text": [
      "1900\n",
      "365\n"
     ]
    }
   ],
   "source": [
    "###YOUR CODE HERE ###\n",
    "leap = False\n",
    "year = int(input())\n",
    "leap = (year % 400 == 0) or (year % 4 == 0 and year % 100 > 0)\n",
    "print(366 if leap else 365)"
   ]
  },
  {
   "cell_type": "markdown",
   "metadata": {
    "colab_type": "text",
    "id": "wFGBh0dYPzZV"
   },
   "source": [
    "### 4\n",
    "\n",
    "Напишите программу, которая на вход получает координаты двух клеток шахматной доски и выводит соощение о том, являются ли эти клетки одного цвета.\n",
    "<br><br>\n",
    "*Формат ввода:* <br>\n",
    "c2<br>\n",
    "e4<br><br>\n",
    "\n",
    "*Формат вывода:* <br>\n",
    "Клетки одинакового цвета"
   ]
  },
  {
   "cell_type": "markdown",
   "metadata": {
    "colab_type": "text",
    "id": "_VJtexxXB1Sk"
   },
   "source": [
    "**Рекомендации к выполнению задания:** попробуйте заметить закономерность о чётности и нечётности суммы координат клеток, если считать, что координаты клеток задаются только цифрами от 1 до 8. "
   ]
  },
  {
   "cell_type": "code",
   "execution_count": 49,
   "metadata": {
    "colab": {},
    "colab_type": "code",
    "id": "k-8POcqGPzZW"
   },
   "outputs": [
    {
     "name": "stdout",
     "output_type": "stream",
     "text": [
      "c2\n",
      "e4\n",
      "Клетки одинакового цвета\n"
     ]
    }
   ],
   "source": [
    "### YOUR CODE HERE ###\n",
    "def color_cell(c):\n",
    "    '''\n",
    "        True - черный цвет\n",
    "        False - белый цвет\n",
    "    '''\n",
    "    ltrs= ['a','b','c','d','e','f','g','h']\n",
    "    x, y = c\n",
    "    return (ltrs.index(x) + int(y)-1)%2 == 0\n",
    "\n",
    "#print(parse_cell('h8')) True\n",
    "\n",
    "c1 = color_cell(input())\n",
    "c2 = color_cell(input())\n",
    "print(\"Клетки одинакового цвета\" if c1 == c2 else \"Клетки разного цвета\")"
   ]
  },
  {
   "cell_type": "markdown",
   "metadata": {
    "colab_type": "text",
    "id": "O594rz0tPzZb"
   },
   "source": [
    "### 5\n",
    "\n",
    "Напишите программу, которая на вход получает число, а на выходе сообщает, простое это число или составное.\n",
    "<br><br>\n",
    "*Формат ввода:* <br>\n",
    "169<br><br>\n",
    "\n",
    "*Формат вывода:* <br>\n",
    "Составное число"
   ]
  },
  {
   "cell_type": "markdown",
   "metadata": {
    "colab_type": "text",
    "id": "NQjUV04_B1So"
   },
   "source": [
    "**Рекомендации к выполнению задания:** помните, что простых чисел бесконечно много, а любое произведение простых чисел даёт составное число. "
   ]
  },
  {
   "cell_type": "code",
   "execution_count": 27,
   "metadata": {
    "colab": {},
    "colab_type": "code",
    "id": "-Oy1AesyPzZd"
   },
   "outputs": [
    {
     "name": "stdout",
     "output_type": "stream",
     "text": [
      "169\n",
      "Составное число\n"
     ]
    }
   ],
   "source": [
    "### YOUR CODE HERE ###\n",
    "#naive\n",
    "n = abs(int(input()))\n",
    "if n == 0: \n",
    "    print(\"0 не простое и не составное число\")\n",
    "elif n == 1:\n",
    "    print(\"Простое число\")\n",
    "else:\n",
    "    compound = False\n",
    "    for i in range(2,n):\n",
    "        if n % i == 0:\n",
    "            compound = True\n",
    "            print(\"Составное число\")\n",
    "            break\n",
    "    if not compound:\n",
    "        print(\"Простое число\")"
   ]
  },
  {
   "cell_type": "markdown",
   "metadata": {
    "colab_type": "text",
    "id": "QzBAQaW8PzZg"
   },
   "source": [
    "### 6\n",
    "\n",
    "Напишите программу, которая на вход получает целое число больше 2 и выводит по нему его наименьший натуральный делитель, отличный от 1.\n",
    "<br><br>\n",
    "*Формат ввода:* <br>\n",
    "169<br><br>\n",
    "\n",
    "*Формат вывода:* <br>\n",
    "13"
   ]
  },
  {
   "cell_type": "code",
   "execution_count": 30,
   "metadata": {
    "colab": {},
    "colab_type": "code",
    "id": "Z2QzgAYKPzZi"
   },
   "outputs": [
    {
     "name": "stdout",
     "output_type": "stream",
     "text": [
      "169\n",
      "13\n"
     ]
    }
   ],
   "source": [
    "### YOUR CODE HERE ###\n",
    "n = abs(int(input()))\n",
    "for i in range(2,n+1):\n",
    "    if n % i == 0:\n",
    "        print(i)\n",
    "        break"
   ]
  },
  {
   "cell_type": "markdown",
   "metadata": {
    "colab_type": "text",
    "id": "Mdg_IAfFPzZk"
   },
   "source": [
    "### 7\n",
    "\n",
    "Напишите программу, которая поможет составить план тренировок для подготовки к марафону. Она получает на вход число километров на планируемом марафоне, сколько пользователь планирует пробежать в первый день тренировок и на сколько процентов планирует увеличивать каждый день это расстояние. На выходе программа должна выдавать, сколько дней пользователю потребуется для того, чтобы подготовиться пробежать целевое количество километров.\n",
    "<br><br>\n",
    "*Ограничение: нельзя пользоваться функцией `ceil()` из модуля `math` и её аналогами.*\n",
    "<br><br>\n",
    "*Формат ввода:* <br>\n",
    "12<br>\n",
    "3<br>\n",
    "10<br><br>\n",
    "\n",
    "*Формат вывода:* <br>\n",
    "16"
   ]
  },
  {
   "cell_type": "code",
   "execution_count": 33,
   "metadata": {
    "colab": {},
    "colab_type": "code",
    "id": "mXeF6AMWPzZl"
   },
   "outputs": [
    {
     "name": "stdout",
     "output_type": "stream",
     "text": [
      "10\n",
      "12\n",
      "50\n",
      "1\n"
     ]
    }
   ],
   "source": [
    "### YOUR CODE HERE ###\n",
    "marathon = int(input())\n",
    "day_one = int(input())\n",
    "pct = int(input())\n",
    "\n",
    "days = 1\n",
    "distance = day_one\n",
    "while distance < marathon:\n",
    "    distance *= 1. + pct/100.\n",
    "    days += 1\n",
    "print(days)"
   ]
  },
  {
   "cell_type": "markdown",
   "metadata": {
    "colab_type": "text",
    "id": "sxKoWpYKPzZo"
   },
   "source": [
    "### 8\n",
    "\n",
    "Напишите программу, которая на вход получает число n и считает по нему сумму 1²+2²+3²+...+n².\n",
    "<br><br>\n",
    "*Ограничение: нельзя пользоваться функцией `sum()` и её аналогами.*\n",
    "\n",
    "*Формат ввода:* <br>\n",
    "3<br><br>\n",
    "\n",
    "*Формат вывода:* <br>\n",
    "14"
   ]
  },
  {
   "cell_type": "code",
   "execution_count": 5,
   "metadata": {
    "colab": {},
    "colab_type": "code",
    "id": "RiPlWLm6PzZp"
   },
   "outputs": [
    {
     "name": "stdout",
     "output_type": "stream",
     "text": [
      "2\n",
      "5\n"
     ]
    }
   ],
   "source": [
    "### YOUR CODE HERE ###\n",
    "n = int(input())\n",
    "s = 0\n",
    "for i in range(1, n+1):\n",
    "    s += i**2\n",
    "print(s)"
   ]
  },
  {
   "cell_type": "markdown",
   "metadata": {
    "colab_type": "text",
    "id": "aXzG4-wdPzZr"
   },
   "source": [
    "## 9\n",
    "\n",
    "Напишите программу, которая на вход получает число n и считает по нему сумму сумму 1! + 2! + 3! + ... + n!\n",
    "<br><br>\n",
    "*Ограничение: нельзя пользоваться готовой функцией `factorial()` из модуля `math`, функцией `sum()` и их аналогами.*\n",
    "\n",
    "*Формат ввода:* <br>\n",
    "3<br><br>\n",
    "\n",
    "*Формат вывода:* <br>\n",
    "9"
   ]
  },
  {
   "cell_type": "code",
   "execution_count": 7,
   "metadata": {
    "colab": {},
    "colab_type": "code",
    "id": "KBEXUEDQPzZs"
   },
   "outputs": [
    {
     "name": "stdout",
     "output_type": "stream",
     "text": [
      "2\n",
      "3\n"
     ]
    }
   ],
   "source": [
    "### YOUR CODE HERE ###\n",
    "n = int(input())\n",
    "f = 1\n",
    "s = 1\n",
    "for i in range(2, n+1):\n",
    "    f *= i\n",
    "    s += f\n",
    "print(s)\n",
    "\n",
    "# Делал быстро, невнимательно прочитал задание"
   ]
  },
  {
   "cell_type": "markdown",
   "metadata": {
    "colab_type": "text",
    "id": "4nsOuiWVPzZu"
   },
   "source": [
    "### 10\n",
    "\n",
    "Напишите программу, которая получает на вход последовательность чисел (каждое число с новой строки до того момента, пока пользователь не введёт 0) и считает количество чётных элементов в последовательности.\n",
    "<br><br>\n",
    "*Формат ввода:* <br>\n",
    "5<br>\n",
    "4<br>\n",
    "2<br>\n",
    "7<br>\n",
    "8<br>\n",
    "9<br>\n",
    "0<br><br>\n",
    "\n",
    "*Формат вывода:* <br>\n",
    "3"
   ]
  },
  {
   "cell_type": "code",
   "execution_count": 55,
   "metadata": {
    "colab": {},
    "colab_type": "code",
    "id": "xktF2cocPzZv"
   },
   "outputs": [
    {
     "name": "stdout",
     "output_type": "stream",
     "text": [
      "5\n",
      "4\n",
      "2\n",
      "7\n",
      "8\n",
      "9\n",
      "0\n",
      "3\n"
     ]
    }
   ],
   "source": [
    "### YOUR CODE HERE ###\n",
    "n = 0\n",
    "while True:\n",
    "    c = int(input())\n",
    "    if c == 0: break\n",
    "    if c % 2 == 0:\n",
    "        n += 1\n",
    "print(n)"
   ]
  },
  {
   "cell_type": "markdown",
   "metadata": {
    "colab_type": "text",
    "id": "hyC9QGXPPzZx"
   },
   "source": [
    "### 11\n",
    "\n",
    "Напишите программу, которая формирует список игроков женской команды по мини-футболу. Программа должна записывать возраст и пол претендента. Возраст должен запрашиваться после пола и только в том случае, если пол претендента женский. Если пол претендента мужской, программа должна сообщать о том, что он не подходит. Возраст претенденток должен быть от 18 до 35 лет. Если кандидат удовлетворяет требованиям, должно появляться соответствующее сообщение. Всего в команде могут быть только шесть человек. Когда необходимое число набирается, запись закрывается и выводится сообщение «Запись в команду закрыта».\n"
   ]
  },
  {
   "cell_type": "code",
   "execution_count": 1,
   "metadata": {
    "colab": {},
    "colab_type": "code",
    "id": "qSDK-zQ4PzZx"
   },
   "outputs": [
    {
     "name": "stdout",
     "output_type": "stream",
     "text": [
      "Введите пол M/F? F\n",
      "Введите возраст 15\n",
      "Претендент не подходит\n",
      "Введите пол M/F? F\n",
      "Введите возраст 18\n",
      "Претендент принят!\n",
      "Введите пол M/F? F\n",
      "Введите возраст 18\n",
      "Претендент принят!\n",
      "Введите пол M/F? F\n",
      "Введите возраст 18\n",
      "Претендент принят!\n",
      "Введите пол M/F? F\n",
      "Введите возраст 18\n",
      "Претендент принят!\n",
      "Введите пол M/F? F\n",
      "Введите возраст 18\n",
      "Претендент принят!\n",
      "Введите пол M/F? M\n",
      "Претендент не подходит\n",
      "Введите пол M/F? F\n",
      "Введите возраст 18\n",
      "Претендент принят!\n",
      "Запись в команду закрыта\n"
     ]
    }
   ],
   "source": [
    "### YOUR CODE HERE ###\n",
    "finished = False\n",
    "team = 0\n",
    "while not finished:\n",
    "    s = input(\"Введите пол M/F? \")\n",
    "    if s != \"F\":\n",
    "        print(\"Претендент не подходит\")\n",
    "    else:\n",
    "        age = int(input(\"Введите возраст \"))\n",
    "        if age >=18 and age < 35 and team < 6:\n",
    "            print(\"Претендент принят!\")\n",
    "            team += 1\n",
    "        else:\n",
    "            print(\"Претендент не подходит\")\n",
    "        if team == 6:\n",
    "            print(\"Запись в команду закрыта\")\n",
    "            finished = True"
   ]
  },
  {
   "cell_type": "markdown",
   "metadata": {
    "colab_type": "text",
    "id": "B4JAB8AqPzZ0"
   },
   "source": [
    "### 12\n",
    "\n",
    "\n",
    "Напишите программу, которая на вход получает максимальную ширину ромба и рисует его. Гарантируется, что входное число всегда нечётное.\n",
    "<br><br>\n",
    "\n",
    "*Формат ввода:* <br>\n",
    "5<br><br>\n",
    "\n",
    "*Формат вывода:* <br>\n",
    "```  \n",
    "  *\n",
    " ***\n",
    "*****\n",
    " ***\n",
    "  *```"
   ]
  },
  {
   "cell_type": "markdown",
   "metadata": {
    "colab_type": "text",
    "id": "74kwD7s7B1S6"
   },
   "source": [
    "**Рекомендации к выполнению задания:** Внимательно изучите рисунок из примера, попробуйте заметить закономерность, по которой он строится."
   ]
  },
  {
   "cell_type": "code",
   "execution_count": 4,
   "metadata": {
    "colab": {},
    "colab_type": "code",
    "id": "WVp7O75oPzZ0"
   },
   "outputs": [
    {
     "name": "stdout",
     "output_type": "stream",
     "text": [
      "5\n",
      "   *   \n",
      "  ***  \n",
      " ***** \n",
      "  ***  \n",
      "   *   \n"
     ]
    }
   ],
   "source": [
    "### YOUR CODE HERE ###\n",
    "z = int(input())\n",
    "for i in range(1, z+1, 2):\n",
    "    print(\" \"*((z-i)//2),\"*\"*i,\" \"*((z-i)//2))\n",
    "for i in range(z-2, 0, -2):\n",
    "    print(\" \"*((z-i)//2),\"*\"*i,\" \"*((z-i)//2))"
   ]
  },
  {
   "cell_type": "markdown",
   "metadata": {
    "colab_type": "text",
    "id": "xrIXWj0yPzZ2"
   },
   "source": [
    "### 13\n",
    "\n",
    "Напишите программу, которая запрашивает у пользователя сторону квадрата и символ, а затем рисует этот символ по диагоналям квадрата. Гарантируется, что входное число всегда нечётное.\n",
    "<br><br>\n",
    "\n",
    "*Формат ввода:* <br>\n",
    "5<br>\n",
    "\\#<br><br>\n",
    "\n",
    "*Формат вывода:* <br>\n",
    "```\n",
    " \n",
    "#   #\n",
    " # #\n",
    "  #  \n",
    " # #\n",
    "#   #\n",
    "```"
   ]
  },
  {
   "cell_type": "markdown",
   "metadata": {
    "colab_type": "text",
    "id": "ITzL6HrwB1S9"
   },
   "source": [
    "**Рекомендации к выполнению задания:** внимательно изучите рисунок из примера, попробуйте заметить закономерность, по которой он строится."
   ]
  },
  {
   "cell_type": "code",
   "execution_count": 7,
   "metadata": {
    "colab": {},
    "colab_type": "code",
    "id": "oUKNB9TaPzZ3"
   },
   "outputs": [
    {
     "name": "stdout",
     "output_type": "stream",
     "text": [
      "Введите сторону квадрата 9\n",
      "Введите символ #\n",
      "#       #\n",
      " #     # \n",
      "  #   #  \n",
      "   # #   \n",
      "    #    \n",
      "   # #   \n",
      "  #   #  \n",
      " #     # \n",
      "#       #\n"
     ]
    }
   ],
   "source": [
    "### YOUR CODE HERE ###\n",
    "import string\n",
    "\n",
    "a = int(input(\"Введите сторону квадрата \"))\n",
    "c = input(\"Введите символ \")\n",
    "for i in range(a):\n",
    "    s = [\" \"]*a\n",
    "    s[i] = c\n",
    "    s[0-i-1] = c\n",
    "    print(''.join(s))\n"
   ]
  },
  {
   "cell_type": "markdown",
   "metadata": {
    "colab_type": "text",
    "id": "3GaiPsFYPzZ_"
   },
   "source": [
    "### 14\n",
    "\n",
    "В корзине лежат шары. Если разложить их в кучи по два, останется один. Если разложить в кучи по три, останется один. Если разложить в кучи по четыре, останется один. Если разложить в кучи по пять, останется один. Если разложить в кучи по шесть, останется один. Если разложить в кучи по семь, не будет остатка. Нужно найти минимальное количество шаров, удовлетворяющее условию.  <br>"
   ]
  },
  {
   "cell_type": "code",
   "execution_count": 9,
   "metadata": {
    "colab": {},
    "colab_type": "code",
    "id": "V2msEhQkPzZ_"
   },
   "outputs": [
    {
     "name": "stdout",
     "output_type": "stream",
     "text": [
      "301\n"
     ]
    }
   ],
   "source": [
    "### YOUR CODE HERE ###\n",
    "for i in range(1,9999):\n",
    "    if i % 2 == 1 and i % 3 == 1 and i % 4 == 1 and i%5 == 1 and i % 6 == 1 and i % 7 == 0:\n",
    "        print(i)\n",
    "        break"
   ]
  },
  {
   "cell_type": "markdown",
   "metadata": {
    "colab_type": "text",
    "id": "5pOjlON-PzaC"
   },
   "source": [
    "### 15\n",
    "\n",
    "Рабочие клеили обои на стены. Первую стену поклеили за M минут, а каждую следующую клеили на пять минут дольше, чем предыдущую.\n",
    "Напишите программу, которая запрашивает, сколько стен было в квартире под поклейку, а также время работы с первой стеной в минутах. Программа должна выводить, сколько **часов** рабочие потратили на поклейку обоев во всей квартире. Час отсчитывается с первой минуты. Ответом должно быть целое число. \n",
    "<br><br>\n",
    "*Ограничение: нельзя пользоваться готовыми функциями `bool()`, `floor()` и их аналогами.*\n",
    "<br><br>\n",
    "*Формат ввода:* <br>\n",
    "6<br>\n",
    "10<br><br>\n",
    "\n",
    "*Формат вывода:* <br>\n",
    "3"
   ]
  },
  {
   "cell_type": "code",
   "execution_count": 12,
   "metadata": {
    "colab": {},
    "colab_type": "code",
    "id": "Pmu96rWGPzaD"
   },
   "outputs": [
    {
     "name": "stdout",
     "output_type": "stream",
     "text": [
      "6\n",
      "10\n",
      "3\n"
     ]
    }
   ],
   "source": [
    "### YOUR CODE HERE ###\n",
    "walls = int(input())\n",
    "minutes = int(input())\n",
    "\n",
    "time = 0\n",
    "for i in range(walls):\n",
    "    time += minutes + i*5\n",
    "    \n",
    "print (time // 60 + 1 if time % 60 > 0  else time // 60)"
   ]
  },
  {
   "cell_type": "markdown",
   "metadata": {
    "colab_type": "text",
    "id": "63C6Za3CPzaF"
   },
   "source": [
    "### 16\n",
    "\n",
    "Напишите программу, которая убирает из списка повторяющиеся элементы. Программа должна запрашивать на вход слова, каждое с новой строки, пока пользователь не введёт пустую строку. Затем должна выводить список без повторяющихся элементов. \n",
    "<br><br>\n",
    "*Ограничение: нельзя пользоваться готовой функцией `set()` и её аналогами.*\n",
    "\n",
    "<br><br>\n",
    "*Формат ввода:* <br>\n",
    "Алиса<br>\n",
    "Алиса<br>\n",
    "Алиса<br>\n",
    "Петя<br>\n",
    "<br><br>\n",
    "\n",
    "*Формат вывода:* <br>\n",
    "[Алиса, Петя]"
   ]
  },
  {
   "cell_type": "markdown",
   "metadata": {
    "colab_type": "text",
    "id": "xwewurzYB1TF"
   },
   "source": [
    "**Рекомендации к выполнению задания:** попробуйте использовать проверку на включённость."
   ]
  },
  {
   "cell_type": "code",
   "execution_count": 14,
   "metadata": {
    "colab": {},
    "colab_type": "code",
    "id": "MQ-eDkbAPzaG"
   },
   "outputs": [
    {
     "name": "stdout",
     "output_type": "stream",
     "text": [
      "Алиса\n",
      "Алиса\n",
      "Алиса\n",
      "Петя\n",
      "\n",
      "['Алиса', 'Петя']\n"
     ]
    }
   ],
   "source": [
    "### YOUR CODE HERE ###\n",
    "lst = []\n",
    "while True:\n",
    "    s = input()\n",
    "    if s == '': break\n",
    "    if not s in lst:\n",
    "        lst.append(s)\n",
    "print(lst)"
   ]
  },
  {
   "cell_type": "markdown",
   "metadata": {
    "colab_type": "text",
    "id": "jueSDORaPzaI"
   },
   "source": [
    "### 17\n",
    "\n",
    "Напишите программу, которая выводит число пар одинаковых элементов в списке. При этом, если два элемента образовали пару, они не могут вступить в пару с другими элементами. Программа должна запрашивать на вход слова, каждое с новой строки, пока пользователь не введёт пустую строку. \n",
    "<br><br>\n",
    "*Формат ввода:* <br>\n",
    "Алиса<br>\n",
    "Алиса<br>\n",
    "Алиса<br>\n",
    "<br><br>\n",
    "\n",
    "*Формат вывода:* <br>\n",
    "1"
   ]
  },
  {
   "cell_type": "markdown",
   "metadata": {
    "colab_type": "text",
    "id": "gpQuU1lnB1TH"
   },
   "source": [
    "**Рекомендации к выполнению задания:** попробуйте использовать проверку на включённость."
   ]
  },
  {
   "cell_type": "code",
   "execution_count": 9,
   "metadata": {
    "colab": {},
    "colab_type": "code",
    "id": "49tbEr3NPzaJ"
   },
   "outputs": [
    {
     "name": "stdout",
     "output_type": "stream",
     "text": [
      "a\n",
      "a\n",
      "a\n",
      "\n",
      "1\n"
     ]
    }
   ],
   "source": [
    "### YOUR CODE HERE ###\n",
    "# Мой предыдущий вариант с удалением\n",
    "#lst = []\n",
    "#while True:\n",
    "#    s = input()\n",
    "#    if s == '': break\n",
    "#    lst.append(s)\n",
    "#pairs = 0\n",
    "#while len(lst) > 0:\n",
    "#    el = lst.pop()\n",
    "#    if el in lst:\n",
    "#        lst.remove(el)\n",
    "#        pairs += 1\n",
    "#print(pairs)\n",
    "\n",
    "#Вариант со словарем\n",
    "dct = {}\n",
    "while True:\n",
    "    s = input()\n",
    "    if s == '': break\n",
    "    if not s in dct:\n",
    "        dct[s] = 1\n",
    "    else:\n",
    "        dct[s] += 1\n",
    "pairs = 0\n",
    "for v in dct.values():\n",
    "    pairs += v // 2\n",
    "print(pairs)"
   ]
  },
  {
   "cell_type": "markdown",
   "metadata": {
    "colab_type": "text",
    "id": "yVLcBrD-PzaN"
   },
   "source": [
    "### 18\n",
    "\n",
    "Будем считать, что кубик может иметь неограниченное количество граней (натуральное число). Напишите программу, которая запрашивает, сколько граней имеется у двух разных кубиков. Затем выводит все возможные комбинации результатов бросков двух таких кубиков. \n",
    "<br><br>\n",
    "*Формат ввода:* <br>\n",
    "3<br>\n",
    "4<br><br>\n",
    "\n",
    "*Формат вывода:* <br>\n",
    "1 1<br>\n",
    "1 2<br>\n",
    "1 3<br>\n",
    "1 4<br>\n",
    "2 1<br>\n",
    "2 2<br>\n",
    "2 3<br>\n",
    "2 4<br>\n",
    "3 1<br>\n",
    "3 2<br>\n",
    "3 3<br>\n",
    "3 4<br>"
   ]
  },
  {
   "cell_type": "markdown",
   "metadata": {
    "colab_type": "text",
    "id": "5aAs5EsFB1TK"
   },
   "source": [
    "**Рекомендации к выполнению задания:** попробуйте использовать вложенные циклы."
   ]
  },
  {
   "cell_type": "code",
   "execution_count": 19,
   "metadata": {
    "colab": {},
    "colab_type": "code",
    "id": "7I2va0KwPzaR"
   },
   "outputs": [
    {
     "name": "stdout",
     "output_type": "stream",
     "text": [
      "3\n",
      "4\n",
      "1 1\n",
      "1 2\n",
      "1 3\n",
      "1 4\n",
      "2 1\n",
      "2 2\n",
      "2 3\n",
      "2 4\n",
      "3 1\n",
      "3 2\n",
      "3 3\n",
      "3 4\n"
     ]
    }
   ],
   "source": [
    "### YOUR CODE HERE ###\n",
    "n1 = int(input())\n",
    "n2 = int(input())\n",
    "\n",
    "for i in range(1, n1+1):\n",
    "    for j in range(1, n2+1):\n",
    "        print(\"%s %s\" % (i,j))\n"
   ]
  }
 ],
 "metadata": {
  "colab": {
   "collapsed_sections": [],
   "name": "jun_anl_loops_and_ifs.ipynb",
   "provenance": []
  },
  "kernelspec": {
   "display_name": "Python 3",
   "language": "python",
   "name": "python3"
  },
  "language_info": {
   "codemirror_mode": {
    "name": "ipython",
    "version": 3
   },
   "file_extension": ".py",
   "mimetype": "text/x-python",
   "name": "python",
   "nbconvert_exporter": "python",
   "pygments_lexer": "ipython3",
   "version": "3.7.4"
  }
 },
 "nbformat": 4,
 "nbformat_minor": 1
}
