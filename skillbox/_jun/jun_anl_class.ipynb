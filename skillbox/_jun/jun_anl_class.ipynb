{
 "cells": [
  {
   "cell_type": "markdown",
   "metadata": {
    "colab_type": "text",
    "id": "RbR5OTe50Za4"
   },
   "source": [
    "# Классы\n",
    "## Домашнее задание"
   ]
  },
  {
   "cell_type": "markdown",
   "metadata": {
    "colab_type": "text",
    "id": "Xh_DBCdu0Za5"
   },
   "source": [
    "### Вопросы по лекциям\n",
    "\n",
    "#### 1.\n",
    "\n",
    "Напишите название функции, которая является конструктором класса."
   ]
  },
  {
   "cell_type": "markdown",
   "metadata": {
    "colab_type": "text",
    "id": "8-Tj4AMg0Za6"
   },
   "source": [
    "**Ответ:** `__init__`"
   ]
  },
  {
   "cell_type": "markdown",
   "metadata": {
    "colab_type": "text",
    "id": "lf14yx330Za7"
   },
   "source": [
    "#### 2.\n",
    "\n",
    "На что указывает переменная `self`?"
   ]
  },
  {
   "cell_type": "markdown",
   "metadata": {
    "colab_type": "text",
    "id": "wI-0FWlF0Za8"
   },
   "source": [
    "**Ответ:** на экземпляр класса"
   ]
  },
  {
   "cell_type": "markdown",
   "metadata": {
    "colab_type": "text",
    "id": "j_8_O_nl0Za8"
   },
   "source": [
    "#### 3.\n",
    "С помощью какой функции можно проверить, что некая строка является именем одного из атрибутов объекта?"
   ]
  },
  {
   "cell_type": "markdown",
   "metadata": {
    "colab_type": "text",
    "id": "5h8ASTrV0Za9"
   },
   "source": [
    "**Ответ:** можно через словарь `obj.__dict__` либо при помощи функции hasattr(obj, attr)"
   ]
  },
  {
   "cell_type": "markdown",
   "metadata": {
    "colab_type": "text",
    "id": "G104VWgj0Za-"
   },
   "source": [
    "#### 4.\n",
    "Когда вызывается метод `__del__`? (относительно события удаления объекта)"
   ]
  },
  {
   "cell_type": "markdown",
   "metadata": {
    "colab_type": "text",
    "id": "Ukzoyxkn0Za-"
   },
   "source": [
    "**Ответ:** при отсутствии ссылок на объект после вызова оператора del будет вызван метод `__del__`, а затем объект очищается сборщиком мусора."
   ]
  },
  {
   "cell_type": "markdown",
   "metadata": {
    "colab_type": "text",
    "id": "MkF-HyBM0ZbA"
   },
   "source": [
    "#### 5.\n",
    "Верно ли, что атрибут класса перекрывает атрибут объекта?"
   ]
  },
  {
   "cell_type": "markdown",
   "metadata": {
    "colab_type": "text",
    "id": "o7B52kVt0ZbC"
   },
   "source": [
    "**Ответ:** нет, наоборот"
   ]
  },
  {
   "cell_type": "markdown",
   "metadata": {
    "colab_type": "text",
    "id": "kSwZWV2B0ZbC"
   },
   "source": [
    "#### 6.\n",
    "Можно ли атрибуты базового класса вызывать в дочернем классе? Если да, то напишите, нет ли исклчений?"
   ]
  },
  {
   "cell_type": "markdown",
   "metadata": {
    "colab_type": "text",
    "id": "6i74Koih0ZbE"
   },
   "source": [
    "**Ответ:** да, за исключением атрибутов, начинающихся на __"
   ]
  },
  {
   "cell_type": "markdown",
   "metadata": {
    "colab_type": "text",
    "id": "tl1St2O20ZbE"
   },
   "source": [
    "#### 7.\n",
    "Объясните своими словами для чего нужен метод `super`."
   ]
  },
  {
   "cell_type": "markdown",
   "metadata": {
    "colab_type": "text",
    "id": "rg3u1PoY0ZbF"
   },
   "source": [
    "**Ответ:** для переиспользования кода конструктора класса-родителя"
   ]
  },
  {
   "cell_type": "markdown",
   "metadata": {
    "colab_type": "text",
    "id": "5AiJn8ut0ZbG"
   },
   "source": [
    "### Практика\n",
    "\n",
    "1. Напишите класс `Fraction` для работы с дробями. Пусть дробь в нашем классе предстает в виде `числитель/знаменатель`. Дробное число должно создаваться по запросу `Fraction(a, b)`, где `a` – это числитель, а `b` – знаменатель дроби. \n",
    "2. Добавьте возможность сложения (сложения через оператор сложения) для дроби. Предполагается, что операция сложения может проводиться как только между дробями, так и между дробью и целым числом. Результат операции должен быть представлен в виде дроби.\n",
    "3. Добавьте возможность взятия разности (вычитания через оператор вычитания) для дробей. Предполагается, что операция вычитания может проводиться как только для двух дробей, так и для дроби и целого числа. Результат операции должен быть представлен в виде дроби.\n",
    "4. Добавьте возможность умножения (умножения через оператор умножения) для дробей. Предполагается, что операция умножения может проводиться как только для двух дробей, так и для дроби и целого числа. Результат операции должен быть представлен в виде дроби.\n",
    "5. Добавьте возможность приведения дроби к целому числу через стандартную функцию `int()`.\n",
    "6. Добавьте возможность приведения дроби к числу с плавающей точкой через стандартную функцию `float()`.\n",
    "7. Создайте дочерний класс `OperationsOnFraction` и добавьте туда собственные методы `getint` и `getfloat`, которые будут возвращать целую часть дроби и представление дроби в виде числа с плавающей точкой соответственно. \n",
    " "
   ]
  },
  {
   "cell_type": "code",
   "execution_count": 23,
   "metadata": {
    "colab": {},
    "colab_type": "code",
    "id": "ru3BJ52J0ZbG"
   },
   "outputs": [
    {
     "name": "stdout",
     "output_type": "stream",
     "text": [
      "113 / 120\n",
      "97 / 120\n",
      "7 / 120\n",
      "0.6666666666666666\n"
     ]
    }
   ],
   "source": [
    "### YOUR CODE HERE ###\n",
    "class Fraction(object):\n",
    "    def __init__(self, a, b):\n",
    "        self.value = float(a/b)\n",
    "        self.a = a\n",
    "        self.b = b\n",
    "        #сокращаем дробь\n",
    "        while a != 0 and b != 0:\n",
    "            if a > b:\n",
    "                a = a % b\n",
    "            else:\n",
    "                b = b % a\n",
    "        gcd = a + b\n",
    "        if (gcd > 1):\n",
    "            self.a = self.a // gcd\n",
    "            self.b = self.b // gcd    \n",
    "    \n",
    "    def __add__(self, c):\n",
    "        if isinstance(c, Fraction):\n",
    "            return Fraction(self.a*c.b + c.a*self.b, self.b*c.b)\n",
    "        elif isinstance(c, int):\n",
    "            return Fraction(self.a + c*self.b, self.b)\n",
    "        #raise \"Unsupported\"\n",
    "        \n",
    "    def __sub__(self, c):\n",
    "        if isinstance(c, Fraction):\n",
    "            return Fraction(self.a*c.b - c.a*self.b, self.b*c.b)\n",
    "        elif isinstance(c, int):\n",
    "            return Fraction(self.a - c*self.b, self.b)\n",
    "        #raise \"Unsupported\"\n",
    "        \n",
    "    def __mul__(self, c):\n",
    "        if isinstance(c, Fraction):\n",
    "            return Fraction(self.a*c.a, self.b*c.b)\n",
    "        elif isinstance(c, int):\n",
    "            return Fraction(self.a*c,self.b)\n",
    "        \n",
    "    def __int__(self):\n",
    "        return self.a // self.b\n",
    "    \n",
    "    def __float__(self):\n",
    "        return self.value\n",
    "    \n",
    "    def __str__(self):\n",
    "        return \"%d / %d\" % (self.a, self.b)\n",
    "        \n",
    "    def __repr__(self):\n",
    "        return \"%d / %d\" % (self.a, self.b)\n",
    "\n",
    "class OperationsOnFraction(Fraction):\n",
    "    def __init__(self, a, b):\n",
    "        super().__init__(a,b)\n",
    "        \n",
    "    def getint(self):\n",
    "        return self.a // self.b\n",
    "    def getfloat(self):\n",
    "        return self.value\n",
    "    \n",
    "x = Fraction(7,8)\n",
    "y = Fraction(1,15)\n",
    "\n",
    "print(x+y)\n",
    "print(x-y)\n",
    "print(x*y)\n",
    "\n",
    "z = OperationsOnFraction(2,3)\n",
    "print(z.getfloat())"
   ]
  }
 ],
 "metadata": {
  "colab": {
   "collapsed_sections": [],
   "name": "jun_anl_class.ipynb",
   "provenance": []
  },
  "kernelspec": {
   "display_name": "Python 3",
   "language": "python",
   "name": "python3"
  },
  "language_info": {
   "codemirror_mode": {
    "name": "ipython",
    "version": 3
   },
   "file_extension": ".py",
   "mimetype": "text/x-python",
   "name": "python",
   "nbconvert_exporter": "python",
   "pygments_lexer": "ipython3",
   "version": "3.7.4"
  }
 },
 "nbformat": 4,
 "nbformat_minor": 1
}
