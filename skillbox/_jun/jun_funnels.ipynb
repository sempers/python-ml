{
 "cells": [
  {
   "cell_type": "code",
   "execution_count": 34,
   "metadata": {},
   "outputs": [
    {
     "name": "stdout",
     "output_type": "stream",
     "text": [
      "=========== month 1 ===============\n",
      "[[11186.0, 11414.0], [6641.0, 6913.0], [1147.0, 1243.0], [80.0, 109.0]]\n",
      "=========== month 2 ===============\n",
      "[[11401.0, 11199.0], [6867.0, 6820.0], [1177.0, 1235.0], [87.0, 86.0]]\n",
      "=========== month 3 ===============\n",
      "[[11350.0, 11250.0], [4425.0, 4454.0], [294.0, 337.0], [18.0, 26.0]]\n",
      "=========== month 4 ===============\n",
      "[[11388.0, 11212.0], [4591.0, 4489.0], [312.0, 285.0], [26.0, 20.0]]\n"
     ]
    }
   ],
   "source": [
    "import csv\n",
    "from datetime import datetime as dt\n",
    "import numpy as np\n",
    "\n",
    "#добавил названия колонок\n",
    "with open('click_stream3.csv', mode='r') as csv_file:\n",
    "    csv_reader = csv.DictReader(csv_file)\n",
    "    #Строим тензор\n",
    "    funnel = np.zeros((4,4,2,2))\n",
    "    for row in csv_reader:\n",
    "        #Оцифровываем нафиг все\n",
    "        page = int(row[\"page\"][0]) -1  #0..3\n",
    "        month = dt.strptime(row[\"date\"], \"%Y-%m-%d\").month - 1 #0..3\n",
    "        device = 1 if row[\"device\"] == \"Desktop\" else 0\n",
    "        gender = 1 if row[\"gender\"] == \"Female\" else 0\n",
    "        funnel[page, month, device, gender] += 1\n",
    "        \n",
    "#воронки () в разрезе страница X пол\n",
    "def lay_month(m):\n",
    "    return [[np.sum(funnel[0,m,:,0]), np.sum(funnel[0,m,:,1])],\n",
    "            [np.sum(funnel[1,m,:,0]), np.sum(funnel[1,m,:,1])], \n",
    "            [np.sum(funnel[2,m,:,0]), np.sum(funnel[2,m,:,1])], \n",
    "            [np.sum(funnel[3,m,:,0]), np.sum(funnel[3,m,:,1])]]\n",
    "\n",
    "\n",
    "print(\"=========== month 1 ===============\")\n",
    "print(lay_month(0))\n",
    "print(\"=========== month 2 ===============\")\n",
    "print(lay_month(1))\n",
    "print(\"=========== month 3 ===============\")\n",
    "print(lay_month(2))\n",
    "print(\"=========== month 4 ===============\")\n",
    "print(lay_month(3))"
   ]
  }
 ],
 "metadata": {
  "kernelspec": {
   "display_name": "Python 3",
   "language": "python",
   "name": "python3"
  },
  "language_info": {
   "codemirror_mode": {
    "name": "ipython",
    "version": 3
   },
   "file_extension": ".py",
   "mimetype": "text/x-python",
   "name": "python",
   "nbconvert_exporter": "python",
   "pygments_lexer": "ipython3",
   "version": "3.8.3"
  }
 },
 "nbformat": 4,
 "nbformat_minor": 4
}
