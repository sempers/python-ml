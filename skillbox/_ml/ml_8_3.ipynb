{
  "nbformat": 4,
  "nbformat_minor": 0,
  "metadata": {
    "kernelspec": {
      "display_name": "Python 3",
      "language": "python",
      "name": "python3"
    },
    "language_info": {
      "codemirror_mode": {
        "name": "ipython",
        "version": 3
      },
      "file_extension": ".py",
      "mimetype": "text/x-python",
      "name": "python",
      "nbconvert_exporter": "python",
      "pygments_lexer": "ipython3",
      "version": "3.6.3"
    },
    "colab": {
      "name": "jun_ml_dimension_reduction_hw-5.ipynb",
      "provenance": [],
      "collapsed_sections": [],
      "toc_visible": true
    }
  },
  "cells": [
    {
      "cell_type": "markdown",
      "metadata": {
        "id": "q92frZ1hzNT3"
      },
      "source": [
        "## Урок 8. Домашнее задание \n",
        "### 8.1 Задание высокого уровня\n",
        "\n",
        "Давайте проверим, как t-sne может улучшить Ваши модели. Для начала загрузим данные и построим Baseline модель без преобразования входных данных"
      ]
    },
    {
      "cell_type": "code",
      "metadata": {
        "id": "_gcQ-CQ3zNUQ"
      },
      "source": [
        "import pandas as pd\n",
        "from sklearn.tree import DecisionTreeClassifier\n",
        "from sklearn.model_selection import train_test_split\n",
        "from sklearn.metrics import accuracy_score, roc_auc_score\n",
        "\n",
        "def eval_model(input_x, input_y):\n",
        "    \"\"\"Обучаем и валидируем модель\"\"\"\n",
        "    X_train, X_test, y_train, y_test = train_test_split(\n",
        "        input_x, input_y, test_size=.3, stratify=y, random_state=42\n",
        "    )\n",
        "    # Для примера возьмём неглубокое дерево решений\n",
        "    clf = DecisionTreeClassifier(max_depth=2, random_state=42)\n",
        "    clf.fit(X_train, y_train)\n",
        "    preds = clf.predict_proba(X_test)\n",
        "    acc_score = accuracy_score(y_test, preds.argmax(axis=1))\n",
        "    print('Accuracy: %.5f' % acc_score)\n",
        "    \n",
        "df_source = pd.read_csv('client_segmentation.csv')\n",
        "X = df_source[['call_diff','sms_diff','traffic_diff']].values\n",
        "y = df_source.customes_class.values"
      ],
      "execution_count": 4,
      "outputs": []
    },
    {
      "cell_type": "markdown",
      "metadata": {
        "id": "EGcbYYxLzNUq"
      },
      "source": [
        "Вычисляем скор baseline модели (по тестовым данным)"
      ]
    },
    {
      "cell_type": "code",
      "metadata": {
        "id": "iM-fSpU1zNUw",
        "outputId": "98e71dc6-70a7-4621-b897-9932f02189bf",
        "colab": {
          "base_uri": "https://localhost:8080/"
        }
      },
      "source": [
        "eval_model(X, y)"
      ],
      "execution_count": 5,
      "outputs": [
        {
          "output_type": "stream",
          "text": [
            "Accuracy: 0.80000\n"
          ],
          "name": "stdout"
        }
      ]
    },
    {
      "cell_type": "markdown",
      "metadata": {
        "id": "bWmS26jdzNVJ"
      },
      "source": [
        "Алгоритм выполнения домашней работы:\n",
        "\n",
        "* выполните PCA преобразование матрицы $X$, передайте новую матрицу в `eval_model`. Какое значение Accuracy получили?\n",
        "* выполните t-sne преобразование матрицы $X$, передайте новую матрицу в `eval_model`. Какое значение Accuracy получили?\n",
        "\n",
        "Какие выводы можно сделать?"
      ]
    },
    {
      "cell_type": "markdown",
      "metadata": {
        "id": "i-qWNTVlzNVa"
      },
      "source": [
        "В этом уроке мы познакомились с новым алгоритмом t-SNE. Какие у него есть недостатки?\n",
        "\n",
        "* требует бережной настройки параметров на валидационной выборке (см. документацию - там очень много параметров)\n",
        "* плохо работает, когда данных очень много.\n",
        "\n",
        "На больших объёмах данных (более 10к элементов) следует применять более простые алгоритмы - PCA или SVD."
      ]
    },
    {
      "cell_type": "code",
      "metadata": {
        "id": "o2F56pXCCipu",
        "outputId": "f9239d60-d437-4c16-c13c-e53a94aa34ad",
        "colab": {
          "base_uri": "https://localhost:8080/"
        }
      },
      "source": [
        "from sklearn.decomposition import PCA\n",
        "\n",
        "pca = PCA(n_components=2).fit(X)\n",
        "X_ = pca.transform(X)\n",
        "\n",
        "eval_model(X_, y) # На n_components=1 выдает вновь 0.8"
      ],
      "execution_count": 9,
      "outputs": [
        {
          "output_type": "stream",
          "text": [
            "Accuracy: 0.83333\n"
          ],
          "name": "stdout"
        }
      ]
    },
    {
      "cell_type": "code",
      "metadata": {
        "id": "2jrK2ZVYDPVQ",
        "outputId": "743aefbd-9895-40a2-aaf4-9fcd8d39c99f",
        "colab": {
          "base_uri": "https://localhost:8080/"
        }
      },
      "source": [
        "from sklearn.manifold import TSNE\n",
        "\n",
        "tsne = TSNE(n_components=2)\n",
        "X_ = tsne.fit_transform(X)\n",
        "\n",
        "eval_model(X_, y)\n",
        "\n",
        "#ЗНачительно лучшие результаты по Accuracy"
      ],
      "execution_count": 10,
      "outputs": [
        {
          "output_type": "stream",
          "text": [
            "Accuracy: 0.96667\n"
          ],
          "name": "stdout"
        }
      ]
    }
  ]
}