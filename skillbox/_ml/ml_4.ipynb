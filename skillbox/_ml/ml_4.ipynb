{
 "cells": [
  {
   "cell_type": "markdown",
   "metadata": {
    "id": "ZdghytLbBW9W"
   },
   "source": [
    "Задание простого уровня Загрузите данные из файла non_linear.csv и сгенерируйте данные до степени degree = 8 включительно. Обучите модель sklearn.linear_model.Lasso и модель sklearn.linear_model.Ridge на полученных данных, используйте коэффициент регуляризации  α=0.8  для обеих моделей. Постройте два столбчатых графика, на которых отобразите величину коэффициентов для Ridge регрессии и Lasso регрессии в виде столбиков."
   ]
  },
  {
   "cell_type": "code",
   "execution_count": 2,
   "metadata": {
    "id": "GbgJD1bVA2mQ",
    "slideshow": {
     "slide_type": "-"
    }
   },
   "outputs": [
    {
     "data": {
      "text/html": [
       "<div>\n",
       "<style scoped>\n",
       "    .dataframe tbody tr th:only-of-type {\n",
       "        vertical-align: middle;\n",
       "    }\n",
       "\n",
       "    .dataframe tbody tr th {\n",
       "        vertical-align: top;\n",
       "    }\n",
       "\n",
       "    .dataframe thead th {\n",
       "        text-align: right;\n",
       "    }\n",
       "</style>\n",
       "<table border=\"1\" class=\"dataframe\">\n",
       "  <thead>\n",
       "    <tr style=\"text-align: right;\">\n",
       "      <th></th>\n",
       "      <th>x_train</th>\n",
       "      <th>y_train</th>\n",
       "    </tr>\n",
       "  </thead>\n",
       "  <tbody>\n",
       "    <tr>\n",
       "      <th>0</th>\n",
       "      <td>0.138368</td>\n",
       "      <td>0.838812</td>\n",
       "    </tr>\n",
       "    <tr>\n",
       "      <th>1</th>\n",
       "      <td>0.157237</td>\n",
       "      <td>0.889313</td>\n",
       "    </tr>\n",
       "    <tr>\n",
       "      <th>2</th>\n",
       "      <td>0.188684</td>\n",
       "      <td>1.430040</td>\n",
       "    </tr>\n",
       "    <tr>\n",
       "      <th>3</th>\n",
       "      <td>0.685553</td>\n",
       "      <td>1.717309</td>\n",
       "    </tr>\n",
       "    <tr>\n",
       "      <th>4</th>\n",
       "      <td>0.874237</td>\n",
       "      <td>2.032588</td>\n",
       "    </tr>\n",
       "  </tbody>\n",
       "</table>\n",
       "</div>"
      ],
      "text/plain": [
       "    x_train   y_train\n",
       "0  0.138368  0.838812\n",
       "1  0.157237  0.889313\n",
       "2  0.188684  1.430040\n",
       "3  0.685553  1.717309\n",
       "4  0.874237  2.032588"
      ]
     },
     "execution_count": 2,
     "metadata": {},
     "output_type": "execute_result"
    }
   ],
   "source": [
    "import numpy as np\n",
    "import pandas as pd\n",
    "\n",
    "df = pd.read_csv(\"./data/non_linear.csv\")\n",
    "X = df[\"x_train\"].values\n",
    "Y = df[\"y_train\"].values\n",
    "df.head()\n"
   ]
  },
  {
   "cell_type": "code",
   "execution_count": 3,
   "metadata": {
    "slideshow": {
     "slide_type": "slide"
    }
   },
   "outputs": [
    {
     "name": "stderr",
     "output_type": "stream",
     "text": [
      "C:\\bin\\anaconda\\lib\\site-packages\\sklearn\\linear_model\\_coordinate_descent.py:529: ConvergenceWarning: Objective did not converge. You might want to increase the number of iterations. Duality gap: 4.335308493501588, tolerance: 0.003191225683219706\n",
      "  model = cd_fast.enet_coordinate_descent(\n"
     ]
    },
    {
     "name": "stdout",
     "output_type": "stream",
     "text": [
      "[ 0.00000000e+00 -0.00000000e+00 -0.00000000e+00 -1.23662052e-02\n",
      " -8.77130342e-03  9.34034433e-04  1.71519415e-04  3.88621101e-06\n",
      " -1.73045762e-06] \n",
      " [ 0.00000000e+00  5.05133950e-01  3.50113357e-01 -1.03076991e-04\n",
      " -2.30029368e-01  6.99603886e-02 -6.86910088e-04 -1.76964212e-03\n",
      "  1.58301480e-04]\n"
     ]
    },
    {
     "data": {
      "image/png": "[encoded data removed]",
      "text/plain": [
       "<Figure size 432x288 with 1 Axes>"
      ]
     },
     "metadata": {
      "needs_background": "light"
     },
     "output_type": "display_data"
    }
   ],
   "source": [
    "from sklearn.linear_model import Lasso, Ridge\n",
    "import matplotlib.pyplot as plt\n",
    "%matplotlib inline\n",
    "\n",
    "def generate_degrees(source_data: list, degree: int):\n",
    "    \"\"\"Функция, которая принимает на вход одномерный массив, а возвращает n-мерный\n",
    "    Для каждой степени от **0** до degree возводим x в эту степень\n",
    "    \"\"\"\n",
    "    return np.array([source_data**n for n in range(0, degree + 1)]).T\n",
    "\n",
    "X_ = generate_degrees(X, 8)\n",
    "lasso = Lasso(0.8)\n",
    "lasso.fit(X_, Y)\n",
    "ridge = Ridge(0.8)\n",
    "ridge.fit(X_, Y)\n",
    "\n",
    "print(lasso.coef_,'\\n', ridge.coef_)\n",
    "\n",
    "plt.bar(list(range(9)), ridge.coef_, color='blue', alpha=0.5)\n",
    "plt.bar(list(range(9)), lasso.coef_, color='orange', alpha=0.5)\n",
    "plt.show()\n",
    "\n",
    "#Невооруженным взглядом видно, насколько больше коэффициенты Ridge в данном конкретном случае"
   ]
  },
  {
   "cell_type": "markdown",
   "metadata": {
    "id": "ILpFJYMWBfNs"
   },
   "source": [
    "Задание среднего уровня Примените градиентный спуск к задаче прогнозирования цен на недвижимость в Бостоне. Какого качества на валидации удалось достичь по r2-score? Сколько итераций понадобилось?"
   ]
  },
  {
   "cell_type": "code",
   "execution_count": 8,
   "metadata": {
    "id": "ijIvIhXXBi3p"
   },
   "outputs": [
    {
     "name": "stdout",
     "output_type": "stream",
     "text": [
      "Итерации остановлены на шаге 173\n",
      "mse =  24.31387072896345\n",
      "r2_score =  0.6684538801729691\n"
     ]
    },
    {
     "data": {
      "image/png": "[encoded data removed]",
      "text/plain": [
       "<Figure size 432x288 with 1 Axes>"
      ]
     },
     "metadata": {
      "needs_background": "light"
     },
     "output_type": "display_data"
    }
   ],
   "source": [
    "from sklearn.datasets import load_boston\n",
    "from sklearn.model_selection import train_test_split\n",
    "from sklearn.linear_model import SGDRegressor\n",
    "from sklearn.metrics import mean_squared_error\n",
    "from scipy.spatial import distance\n",
    "from sklearn.metrics import r2_score\n",
    "from sklearn.preprocessing import StandardScaler\n",
    "\n",
    "boston_dataset = load_boston()\n",
    "scaler = StandardScaler()\n",
    "scaler.fit(boston_dataset.data)\n",
    "\n",
    "X = scaler.transform(boston_dataset.data)\n",
    "Y = boston_dataset.target\n",
    "\n",
    "Xt, Xv, Yt, Yv = train_test_split(X, Y, test_size=0.2, random_state=42)\n",
    "\n",
    "sgd = SGDRegressor(learning_rate='constant', eta0=0.001, fit_intercept=True, random_state=42)\n",
    "w_current, epsilon = np.random.random(13), 0.001 # 13 Признаков у нас в X\n",
    "\n",
    "#Запускаем SGD\n",
    "weight_evolution= []\n",
    "mse_evolution = []\n",
    "for step in list(range(10000)):\n",
    "    sgd = sgd.partial_fit(Xt, Yt)\n",
    "    weight_evolution.append(distance.euclidean(w_current, sgd.coef_))\n",
    "    if weight_evolution[-1] < epsilon:\n",
    "        print(\"Итерации остановлены на шаге %d\" % step); break\n",
    "    mse_evolution.append(mean_squared_error(Yv, sgd.predict(Xv)))\n",
    "    w_current = sgd.coef_.copy()\n",
    "\n",
    "    \n",
    "plt.plot(range(step), mse_evolution)\n",
    "print(\"mse = \", mse_evolution[-1])\n",
    "print(\"r2_score = \", r2_score(Yv, sgd.predict(Xv)))"
   ]
  },
  {
   "cell_type": "code",
   "execution_count": 13,
   "metadata": {},
   "outputs": [
    {
     "data": {
      "text/plain": [
       "array([[6.3200e-03, 1.8000e+01, 2.3100e+00, 0.0000e+00, 5.3800e-01,\n",
       "        6.5750e+00, 6.5200e+01, 4.0900e+00, 1.0000e+00, 2.9600e+02,\n",
       "        1.5300e+01, 3.9690e+02, 4.9800e+00],\n",
       "       [2.7310e-02, 0.0000e+00, 7.0700e+00, 0.0000e+00, 4.6900e-01,\n",
       "        6.4210e+00, 7.8900e+01, 4.9671e+00, 2.0000e+00, 2.4200e+02,\n",
       "        1.7800e+01, 3.9690e+02, 9.1400e+00],\n",
       "       [2.7290e-02, 0.0000e+00, 7.0700e+00, 0.0000e+00, 4.6900e-01,\n",
       "        7.1850e+00, 6.1100e+01, 4.9671e+00, 2.0000e+00, 2.4200e+02,\n",
       "        1.7800e+01, 3.9283e+02, 4.0300e+00],\n",
       "       [3.2370e-02, 0.0000e+00, 2.1800e+00, 0.0000e+00, 4.5800e-01,\n",
       "        6.9980e+00, 4.5800e+01, 6.0622e+00, 3.0000e+00, 2.2200e+02,\n",
       "        1.8700e+01, 3.9463e+02, 2.9400e+00],\n",
       "       [6.9050e-02, 0.0000e+00, 2.1800e+00, 0.0000e+00, 4.5800e-01,\n",
       "        7.1470e+00, 5.4200e+01, 6.0622e+00, 3.0000e+00, 2.2200e+02,\n",
       "        1.8700e+01, 3.9690e+02, 5.3300e+00]])"
      ]
     },
     "execution_count": 13,
     "metadata": {},
     "output_type": "execute_result"
    }
   ],
   "source": []
  },
  {
   "cell_type": "markdown",
   "metadata": {
    "id": "NTvgYjVhnE6h"
   },
   "source": [
    "### Урок 12. Домашняя работа\n",
    "\n",
    "**Задача высокого уровня** В реализацию функции `gradient` добавьте параметр $\\lambda$, чтобы получить регуляризованный градиентный спуск\n",
    "\n",
    "Формула поменяется следующим образом:\n",
    "$$\n",
    "\\left\\{\n",
    "\\begin{array}{cc}\n",
    "\\frac{\\partial L}{\\partial w_0} = \\frac{2}{n}\\cdot(-1)\\cdot \\sum_{i=1}^{n} (1\\cdot \\left(y_i - \\sum_{j=1}^{m}w_jx_j^i\\right) + \\lambda\\cdot 2\\cdot w_0)&\\\\\n",
    "\\frac{\\partial L}{\\partial w_k} = \\frac{2}{n}\\cdot(-1)\\cdot \\sum_{i=1}^{n} (x_k^i \\cdot\\left(y_i - \\sum_{j=1}^{m}w_jx_j^i\\right) + \\lambda\\cdot 2\\cdot w_k)& k\\neq 0 \\\\\n",
    "\\end{array}\n",
    "\\right.\n",
    "$$"
   ]
  },
  {
   "cell_type": "code",
   "execution_count": null,
   "metadata": {
    "id": "zxpLYBR9PuBe"
   },
   "outputs": [],
   "source": [
    "#Исходная функция\n",
    "def grad(X, y, w) -> np.array:\n",
    "    # количество обучающих примеров в выборке\n",
    "    n = X.shape[0]\n",
    "    # считаем прогноз\n",
    "    y_hat = X.dot(w.T)\n",
    "    # вычисляем ошибку прогноза\n",
    "    error = y - y_hat\n",
    "    # дальше pointwise перемножение - умножаем каждую из координат на ошибку\n",
    "    grad = np.multiply(X, error).sum(axis=0)*(-1.0)*2.0 / n\n",
    "    return grad, error\n",
    "\n",
    "#Функция с добавлением регуляризации делается просто - добавляем текущие веса с коэффициентом\n",
    "def grad_reg(X, y, w, _lambda):\n",
    "    # проверяю размерности без тестирования функции :)\n",
    "    n = X.shape[0]      # X.shape = (n, m); Y.shape = (n,1);  w.shape = (1,m);\n",
    "    L = y - X.dot(w.T)  # (n, 1)\n",
    "    sum_XL = np.sum(np.multiply(X, L), axis=0) # (X * L).shape = X.shape = (n,m); sum_XL.shape = (1,m)\n",
    "    grad = -2/n * (sum_XL + 2*_lambda*w)  # (1,m)\n",
    "    return grad"
   ]
  }
 ],
 "metadata": {
  "celltoolbar": "Slideshow",
  "colab": {
   "collapsed_sections": [],
   "name": "jun_ml_linear_regression_II-hw_12.ipynb",
   "provenance": [],
   "toc_visible": true
  },
  "kernelspec": {
   "display_name": "Python 3",
   "language": "python",
   "name": "python3"
  },
  "language_info": {
   "codemirror_mode": {
    "name": "ipython",
    "version": 3
   },
   "file_extension": ".py",
   "mimetype": "text/x-python",
   "name": "python",
   "nbconvert_exporter": "python",
   "pygments_lexer": "ipython3",
   "version": "3.8.3"
  }
 },
 "nbformat": 4,
 "nbformat_minor": 1
}
