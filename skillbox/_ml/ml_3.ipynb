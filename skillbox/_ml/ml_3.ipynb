{
 "cells": [
  {
   "cell_type": "markdown",
   "metadata": {
    "id": "WAyRDni_6GHU"
   },
   "source": [
    "### Урок 5. Домашняя работа\n",
    "\n",
    "Есть два набора точек - *x_hw* и *y_hw*. В рамках домашней работы нужно\n",
    "* визуализировать набор точек\n",
    "* найти коэффициенты регрессии $w_0, w_1$ по шагам, как в уроке\n",
    "* посчитать предсказание в виде $\\hat{y} = w_0 + w_1x$ и визуализировать его вместе с точками *x_hw* и *y_hw*"
   ]
  },
  {
   "cell_type": "markdown",
   "metadata": {},
   "source": [
    "### 3.5 ###"
   ]
  },
  {
   "cell_type": "code",
   "execution_count": 2,
   "metadata": {
    "id": "74wa1k6p6GHf"
   },
   "outputs": [],
   "source": [
    "x_hw = [50, 60, 70, 100]\n",
    "y_hw = [10, 15, 40, 45]"
   ]
  },
  {
   "cell_type": "code",
   "execution_count": 3,
   "metadata": {
    "colab": {
     "base_uri": "https://localhost:8080/"
    },
    "id": "MwMHony51itW",
    "outputId": "32609883-ea0b-449d-974a-fbb022600209"
   },
   "outputs": [
    {
     "data": {
      "text/plain": [
       "(array([[  1.,  50.],\n",
       "        [  1.,  60.],\n",
       "        [  1.,  70.],\n",
       "        [  1., 100.]]),\n",
       " array([[10],\n",
       "        [15],\n",
       "        [40],\n",
       "        [45]]))"
      ]
     },
     "execution_count": 3,
     "metadata": {},
     "output_type": "execute_result"
    }
   ],
   "source": [
    "import numpy as np\n",
    "\n",
    "X = np.vstack((np.ones((1,4)), x_hw)).T\n",
    "Y = np.array([y_hw]).T\n",
    "X, Y"
   ]
  },
  {
   "cell_type": "code",
   "execution_count": 4,
   "metadata": {
    "colab": {
     "base_uri": "https://localhost:8080/",
     "height": 299
    },
    "id": "x7h_sOWVrmmN",
    "outputId": "f5dbe601-d20c-4958-d48e-aafe46fd221e"
   },
   "outputs": [
    {
     "name": "stdout",
     "output_type": "stream",
     "text": [
      "[[-22.5       ]\n",
      " [  0.71428571]]\n"
     ]
    },
    {
     "data": {
      "image/png": "[encoded data removed]",
      "text/plain": [
       "<Figure size 432x288 with 1 Axes>"
      ]
     },
     "metadata": {
      "needs_background": "light"
     },
     "output_type": "display_data"
    }
   ],
   "source": [
    "import matplotlib.pyplot as plt\n",
    "%matplotlib inline\n",
    "\n",
    "plt.scatter(x_hw, y_hw)\n",
    "\n",
    "#Делаем SVD и выводим линейную функцию на график\n",
    "from numpy.linalg import inv\n",
    "\n",
    "W = inv((X.T).dot(X)).dot(X.T).dot(Y)\n",
    "print(W)\n",
    "\n",
    "X_support = np.linspace(50, 100, num=100)\n",
    "Y_model = W[0][0] + W[1][0]*X_support\n",
    "plt.plot(X_support, Y_model)\n",
    "plt.show()"
   ]
  },
  {
   "cell_type": "markdown",
   "metadata": {},
   "source": [
    "### 3.9 Z-score ###"
   ]
  },
  {
   "cell_type": "code",
   "execution_count": 5,
   "metadata": {},
   "outputs": [
    {
     "data": {
      "image/png": "[encoded data removed]",
      "text/plain": [
       "<Figure size 432x288 with 1 Axes>"
      ]
     },
     "metadata": {
      "needs_background": "light"
     },
     "output_type": "display_data"
    }
   ],
   "source": [
    "# 5 часть - z-score - Тренировочное задание\n",
    "from sklearn.preprocessing import StandardScaler\n",
    "from matplotlib import pyplot as plt\n",
    "\n",
    "x = np.linspace(1,10,num=10)\n",
    "y = np.array([1.,  3.,  4.,  2., 10.,  5.,  5.,  2.,  5., 10.], dtype=np.float32)\n",
    "\n",
    "#StandardScaler().fit_transform([y])\n",
    "y_ = StandardScaler().fit_transform(y.reshape((-1, 1)))\n",
    "\n",
    "plt.scatter(x, y, color=\"blue\")\n",
    "plt.scatter(x, y_, color=\"orange\")\n",
    "plt.show()"
   ]
  },
  {
   "cell_type": "markdown",
   "metadata": {},
   "source": [
    "### 3.11. Простое - Полиномиальная регрессия"
   ]
  },
  {
   "cell_type": "code",
   "execution_count": 6,
   "metadata": {
    "colab": {
     "base_uri": "https://localhost:8080/",
     "height": 367
    },
    "id": "XDsIu9AfstnT",
    "outputId": "3268d1e9-8837-48d6-9d1c-b375a42a432f"
   },
   "outputs": [
    {
     "name": "stdout",
     "output_type": "stream",
     "text": [
      "r2-scores:  [0.7722007722007722, 0.8921905330745116, 1.0, 1.0, 1.0, 1.0, 1.0, 1.0, 1.0, 1.0]\n",
      "\n",
      "W:  [[ 9.50000000e+02]\n",
      " [-4.43833333e+01]\n",
      " [ 6.70000000e-01]\n",
      " [-3.16666667e-03]]\n"
     ]
    },
    {
     "data": {
      "image/png": "[encoded data removed]",
      "text/plain": [
       "<Figure size 432x288 with 1 Axes>"
      ]
     },
     "metadata": {
      "needs_background": "light"
     },
     "output_type": "display_data"
    }
   ],
   "source": [
    "#2 часть - подбираем полином\n",
    "\n",
    "from sklearn.linear_model import LinearRegression\n",
    "from sklearn.metrics import r2_score\n",
    "\n",
    "def poly_X(degree):\n",
    "    if degree == 1:\n",
    "        return X\n",
    "    X_ = np.copy(X)\n",
    "    for j in range(2, degree+1):\n",
    "        X_ = np.hstack((X_, X[:, 1:]**j))\n",
    "    return X_\n",
    "\n",
    "models = []\n",
    "for i in range(1,11):\n",
    "    model = LinearRegression()\n",
    "    model.fit(poly_X(i), Y)\n",
    "    models.append(model)\n",
    "\n",
    "scores = [r2_score(Y, model.predict(poly_X(i+1))) for (i, model) in enumerate(models)]\n",
    "\n",
    "print('r2-scores: ',scores)\n",
    "#Отсюда вывод, что достаточно 3 степени полинома\n",
    "W = np.array(models[2].coef_)\n",
    "W[0][0] = models[2].intercept_\n",
    "print('\\nW: ', W.T)\n",
    "\n",
    "X_support = np.linspace(50, 100, num=100)\n",
    "Y_model = [W.dot(np.array([1, x, x**2, x**3])) for x in X_support]\n",
    "plt.scatter(x_hw, y_hw)\n",
    "plt.plot(X_support, Y_model)\n",
    "plt.show()"
   ]
  },
  {
   "cell_type": "markdown",
   "metadata": {},
   "source": [
    "### 3.11 - среднее"
   ]
  },
  {
   "cell_type": "code",
   "execution_count": 7,
   "metadata": {
    "colab": {
     "base_uri": "https://localhost:8080/"
    },
    "id": "uOPpQWv778Aj",
    "outputId": "59e99250-6c8e-4d8d-e5fb-4fa1d530d98e"
   },
   "outputs": [
    {
     "data": {
      "text/plain": [
       "array([[13.21428571],\n",
       "       [20.35714286],\n",
       "       [27.5       ],\n",
       "       [48.92857143]])"
      ]
     },
     "execution_count": 7,
     "metadata": {},
     "output_type": "execute_result"
    }
   ],
   "source": [
    "#3 часть - пишем класс, который опять же выполняет SVD?\n",
    "\n",
    "class MyLinearReg:\n",
    "    def __init__(self):\n",
    "        self.W = None\n",
    "    \n",
    "    def fit(self, x, y):\n",
    "        self.W = inv((x.T).dot(x)).dot(x.T).dot(y)\n",
    "    \n",
    "    def predict(self, x): # X может быть и батчем N строк\n",
    "        return X.dot(self.W)\n",
    "\n",
    "reg = MyLinearReg()\n",
    "reg.fit(X, Y)\n",
    "reg.predict(X)"
   ]
  },
  {
   "cell_type": "markdown",
   "metadata": {},
   "source": [
    "### 3.12. - высокое (Бостон)"
   ]
  },
  {
   "cell_type": "code",
   "execution_count": 8,
   "metadata": {
    "colab": {
     "base_uri": "https://localhost:8080/"
    },
    "id": "QzhDPWks-A5X",
    "outputId": "3b989749-d088-4f0c-c641-bcd14f42ba09"
   },
   "outputs": [
    {
     "data": {
      "text/plain": [
       "0.6687594935356314"
      ]
     },
     "execution_count": 8,
     "metadata": {},
     "output_type": "execute_result"
    }
   ],
   "source": [
    "# 4 часть - работаем с Бостоном\n",
    "from sklearn.datasets import load_boston\n",
    "from sklearn.model_selection import train_test_split\n",
    "\n",
    "X, Y = load_boston(return_X_y=True)\n",
    "Xt, Xv, Yt, Yv = train_test_split(X, Y, train_size=0.8, random_state=42)\n",
    "\n",
    "lr = LinearRegression()\n",
    "lr.fit(Xt, Yt)\n",
    "\n",
    "r2_score(Yv, lr.predict(Xv))"
   ]
  },
  {
   "cell_type": "markdown",
   "metadata": {},
   "source": [
    "### 3.9 Z-score ###"
   ]
  },
  {
   "cell_type": "code",
   "execution_count": 9,
   "metadata": {},
   "outputs": [
    {
     "data": {
      "text/plain": [
       "0.6844267283527146"
      ]
     },
     "execution_count": 9,
     "metadata": {},
     "output_type": "execute_result"
    }
   ],
   "source": [
    "# z-score на датасете бостона\n",
    "X_ = StandardScaler().fit_transform(X)\n",
    "Xt, Xv, Yt, Yv = train_test_split(X_, Y, random_state=42)\n",
    "\n",
    "lr = LinearRegression()\n",
    "lr.fit(Xt, Yt)\n",
    "\n",
    "r2_score(Yv, lr.predict(Xv))\n",
    "\n",
    "#R2-score немного вырос"
   ]
  }
 ],
 "metadata": {
  "colab": {
   "collapsed_sections": [],
   "name": "jun_ml_linear_regression_I_hw_5.ipynb",
   "provenance": []
  },
  "kernelspec": {
   "display_name": "Python 3",
   "language": "python",
   "name": "python3"
  },
  "language_info": {
   "codemirror_mode": {
    "name": "ipython",
    "version": 3
   },
   "file_extension": ".py",
   "mimetype": "text/x-python",
   "name": "python",
   "nbconvert_exporter": "python",
   "pygments_lexer": "ipython3",
   "version": "3.8.3"
  }
 },
 "nbformat": 4,
 "nbformat_minor": 1
}
