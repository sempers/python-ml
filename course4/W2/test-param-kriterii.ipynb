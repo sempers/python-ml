{
 "cells": [
  {
   "cell_type": "code",
   "execution_count": null,
   "metadata": {},
   "outputs": [],
   "source": [
    "#Тест параметрические критерии\n",
    "#Вопрос 1 - Статистика Лагранжа"
   ]
  },
  {
   "cell_type": "code",
   "execution_count": null,
   "metadata": {},
   "outputs": [],
   "source": [
    "#Вопрос 2 - Вариант, где используются несовпадения между двумя выборками + размер выборок n"
   ]
  },
  {
   "cell_type": "code",
   "execution_count": 36,
   "metadata": {},
   "outputs": [
    {
     "data": {
      "text/plain": [
       "(0.32410186177608225, 0.37293045872523534)"
      ]
     },
     "execution_count": 36,
     "metadata": {},
     "output_type": "execute_result"
    }
   ],
   "source": [
    "import math\n",
    "#Вопрос 3 - H0 зевота незаразительна, отклонения случайны (p1=p2), H1 - зевота заразительна\n",
    "#Зевание/Выборка    I    II\n",
    "#Зевает            10    4\n",
    "#Не зевает         24    12\n",
    "#n                 34    16\n",
    "p1 = 10/34\n",
    "p2 = 4/16\n",
    "n1 = 34\n",
    "n2 = 16\n",
    "P = (p1*n1 + p2*n2)/(n1 + n2)\n",
    "#Z-критерий\n",
    "z = (p1-p2)/math.sqrt(P*(1-P)*(1/n1 + 1/n2))\n",
    "\n",
    "from scipy.stats import norm\n",
    "            \n",
    "z, 1-norm.cdf(z)\n",
    "#Таким образом, разница татистически незначима ввиду высокого уровня значимости"
   ]
  },
  {
   "cell_type": "code",
   "execution_count": 20,
   "metadata": {},
   "outputs": [
    {
     "name": "stderr",
     "output_type": "stream",
     "text": [
      "C:\\bin\\anaconda3\\lib\\site-packages\\sklearn\\linear_model\\logistic.py:432: FutureWarning: Default solver will be changed to 'lbfgs' in 0.22. Specify a solver to silence this warning.\n",
      "  FutureWarning)\n",
      "C:\\bin\\anaconda3\\lib\\site-packages\\sklearn\\utils\\validation.py:724: DataConversionWarning: A column-vector y was passed when a 1d array was expected. Please change the shape of y to (n_samples, ), for example using ravel().\n",
      "  y = column_or_1d(y, warn=True)\n",
      "C:\\bin\\anaconda3\\lib\\site-packages\\sklearn\\linear_model\\logistic.py:432: FutureWarning: Default solver will be changed to 'lbfgs' in 0.22. Specify a solver to silence this warning.\n",
      "  FutureWarning)\n",
      "C:\\bin\\anaconda3\\lib\\site-packages\\sklearn\\utils\\validation.py:724: DataConversionWarning: A column-vector y was passed when a 1d array was expected. Please change the shape of y to (n_samples, ), for example using ravel().\n",
      "  y = column_or_1d(y, warn=True)\n"
     ]
    },
    {
     "data": {
      "text/plain": [
       "(array([1, 1, 1, 0, 0, 0, 1, 1, 1, 0, 0, 1, 1, 1, 0, 0, 0, 1, 0, 1, 1, 1,\n",
       "        1, 1, 1, 0, 1, 1, 0, 1, 1, 0, 0, 0, 0, 1, 0, 1, 1, 0, 0, 0, 0, 1,\n",
       "        1, 1, 0, 1, 0, 0]),\n",
       " array([1, 1, 1, 0, 0, 0, 1, 1, 1, 1, 0, 1, 1, 1, 0, 0, 0, 0, 0, 1, 1, 0,\n",
       "        1, 1, 1, 0, 1, 1, 0, 0, 1, 0, 0, 0, 0, 1, 0, 0, 0, 0, 1, 0, 0, 1,\n",
       "        1, 0, 1, 0, 0, 0], dtype=int64),\n",
       " array([1, 1, 1, 0, 0, 0, 1, 1, 1, 0, 0, 1, 1, 1, 1, 0, 0, 1, 0, 1, 1, 1,\n",
       "        1, 1, 1, 0, 1, 1, 0, 1, 1, 0, 0, 0, 0, 1, 0, 1, 1, 0, 0, 0, 0, 1,\n",
       "        1, 1, 0, 1, 0, 0], dtype=int64),\n",
       " array([0, 0, 0, 0, 0, 0, 0, 0, 0, 1, 0, 0, 0, 0, 0, 0, 0, 1, 0, 0, 0, 1,\n",
       "        0, 0, 0, 0, 0, 0, 0, 1, 0, 0, 0, 0, 0, 0, 0, 1, 1, 0, 1, 0, 0, 0,\n",
       "        0, 1, 1, 1, 0, 0], dtype=int64),\n",
       " array([0, 0, 0, 0, 0, 0, 0, 0, 0, 0, 0, 0, 0, 0, 1, 0, 0, 0, 0, 0, 0, 0,\n",
       "        0, 0, 0, 0, 0, 0, 0, 0, 0, 0, 0, 0, 0, 0, 0, 0, 0, 0, 0, 0, 0, 0,\n",
       "        0, 0, 0, 0, 0, 0], dtype=int64),\n",
       " array([ 0,  0,  0,  0,  0,  0,  0,  0,  0,  1,  0,  0,  0,  0, -1,  0,  0,\n",
       "         1,  0,  0,  0,  1,  0,  0,  0,  0,  0,  0,  0,  1,  0,  0,  0,  0,\n",
       "         0,  0,  0,  1,  1,  0,  1,  0,  0,  0,  0,  1,  1,  1,  0,  0],\n",
       "       dtype=int64))"
      ]
     },
     "execution_count": 20,
     "metadata": {},
     "output_type": "execute_result"
    }
   ],
   "source": [
    "#Вопрос 4\n",
    "#H0 - вероятности одинаковы\n",
    "#H1 - вероятности отличаются\n",
    "import pandas as pd\n",
    "import numpy as np\n",
    "from sklearn.model_selection import train_test_split\n",
    "from sklearn.linear_model import LogisticRegression\n",
    "\n",
    "df = pd.read_csv(\"banknotes.txt\", delimiter='\\t')\n",
    "\n",
    "df.head()\n",
    "\n",
    "train, test = train_test_split(df, test_size=50, train_size=150, random_state=1)\n",
    "\n",
    "X1 = train[[\"X1\", \"X2\", \"X3\"]]\n",
    "X2 = train[[\"X4\", \"X5\", \"X6\"]]\n",
    "y = train[[\"real\"]]\n",
    "\n",
    "\n",
    "classifier1 = LogisticRegression().fit(X1, y)\n",
    "classifier2 = LogisticRegression().fit(X2, y)\n",
    "\n",
    "answer1 = classifier1.predict(test[[\"X1\", \"X2\", \"X3\"]])\n",
    "answer2 = classifier2.predict(test[[\"X4\", \"X5\", \"X6\"]])\n",
    "\n",
    "real = np.array(test[\"real\"].tolist())\n",
    "\n",
    "diff1 = np.abs(real-answer1)\n",
    "diff2 = np.abs(real-answer2)\n",
    "diff3 = diff1 - diff2\n",
    "real, answer1, answer2, diff1, diff2, diff3"
   ]
  },
  {
   "cell_type": "code",
   "execution_count": 30,
   "metadata": {},
   "outputs": [
    {
     "data": {
      "text/plain": [
       "2.9386041680175268"
      ]
     },
     "execution_count": 30,
     "metadata": {},
     "output_type": "execute_result"
    }
   ],
   "source": [
    "import math\n",
    "#как видно из разниц ответов, классификатор 2 предсказывает значительно точнее на тестовой выборке\n",
    "#из diff3 посчитаем необходимые параметры для формулы Z-критерия для двух связанных выборок\n",
    "#f - когда X1 == 1, а X2 == 0, в нашем случае это количество единиц\n",
    "#g - когда X2 == 1, а X1 == 0, в нашем случае это количество минус единиц\n",
    "f = 10\n",
    "g = 1\n",
    "n = 50\n",
    "z = (f-g)/math.sqrt(f+g-((f-g)**2)/n)\n",
    "\n",
    "z"
   ]
  },
  {
   "cell_type": "code",
   "execution_count": 31,
   "metadata": {},
   "outputs": [
    {
     "data": {
      "text/plain": [
       "0.0032969384555543435"
      ]
     },
     "execution_count": 31,
     "metadata": {},
     "output_type": "execute_result"
    }
   ],
   "source": [
    "#Полученное значение критерия Z укладывается в nhb сигмы распределения N(0,1)\n",
    "#Посчитаем значимость для разницы долей, H1 - что различны!\n",
    "\n",
    "2*(1-norm.cdf(z))\n",
    "#Цифра 3"
   ]
  },
  {
   "cell_type": "code",
   "execution_count": 35,
   "metadata": {},
   "outputs": [
    {
     "data": {
      "text/plain": [
       "(0.18, 0.059945206279614305)"
      ]
     },
     "execution_count": 35,
     "metadata": {},
     "output_type": "execute_result"
    }
   ],
   "source": [
    "z_i = norm.ppf(0.975)\n",
    "i1 = (f-g)/n - z_i*math.sqrt((f+g)/(n**2) - ((f-g)**2)/(n**3)) #формула из лекций про доверительные интервалы\n",
    "(f-g)/n, i1\n",
    "#нужно "
   ]
  },
  {
   "cell_type": "code",
   "execution_count": null,
   "metadata": {},
   "outputs": [],
   "source": []
  }
 ],
 "metadata": {
  "kernelspec": {
   "display_name": "Python 3",
   "language": "python",
   "name": "python3"
  },
  "language_info": {
   "codemirror_mode": {
    "name": "ipython",
    "version": 3
   },
   "file_extension": ".py",
   "mimetype": "text/x-python",
   "name": "python",
   "nbconvert_exporter": "python",
   "pygments_lexer": "ipython3",
   "version": "3.7.4"
  }
 },
 "nbformat": 4,
 "nbformat_minor": 2
}
