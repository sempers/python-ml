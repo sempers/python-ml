{
 "cells": [
  {
   "cell_type": "code",
   "execution_count": 2,
   "metadata": {},
   "outputs": [],
   "source": [
    "#Тест Непараметрические критерии\n",
    "import math\n",
    "import numpy as np\n",
    "import pandas as pd\n",
    "\n",
    "#Вопрос 1 - гипотеза о равенстве средних двух независимых выборок\n",
    "#Вопрос 2 - H0: Fx1(x) = Fx2(x) против H1 ... X+delta\n",
    "#Вопрос 3 - ????"
   ]
  },
  {
   "cell_type": "code",
   "execution_count": 19,
   "metadata": {},
   "outputs": [
    {
     "data": {
      "text/plain": [
       "WilcoxonResult(statistic=17.0, pvalue=0.2845026979112075)"
      ]
     },
     "execution_count": 19,
     "metadata": {},
     "output_type": "execute_result"
    }
   ],
   "source": [
    "#Вопрос 4 - Лейкоцитарная лимфома\n",
    "#H0 = med=200\n",
    "obs =     np.array([  49,  58,  75, 110, 112, 132, 151, 276, 281, 362])\n",
    "obs_med = np.array([-151,-142,-125, -90, -88, -68, -49,  76,  81, 162])\n",
    "ranks =   np.array([   1,   8,    7,   6,  5,   2,   1,   3,   4,  10])\n",
    "\n",
    "def sign(x): return -1 if x<0 else 1\n",
    "W = 0\n",
    "for i in range(10):\n",
    "    s += ranks[i]*sign(obs_med[i])\n",
    "\n",
    "from statsmodels.stats.descriptivestats import sign_test\n",
    "from statsmodels.stats.weightstats import zconfint\n",
    "from scipy import stats\n",
    "\n",
    "stats.wilcoxon(obs_med)"
   ]
  },
  {
   "cell_type": "code",
   "execution_count": 36,
   "metadata": {},
   "outputs": [
    {
     "data": {
      "text/plain": [
       "(0.32410186177608225, 0.37293045872523534)"
      ]
     },
     "execution_count": 36,
     "metadata": {},
     "output_type": "execute_result"
    }
   ],
   "source": []
  },
  {
   "cell_type": "code",
   "execution_count": 20,
   "metadata": {},
   "outputs": [
    {
     "name": "stderr",
     "output_type": "stream",
     "text": [
      "C:\\bin\\anaconda3\\lib\\site-packages\\sklearn\\linear_model\\logistic.py:432: FutureWarning: Default solver will be changed to 'lbfgs' in 0.22. Specify a solver to silence this warning.\n",
      "  FutureWarning)\n",
      "C:\\bin\\anaconda3\\lib\\site-packages\\sklearn\\utils\\validation.py:724: DataConversionWarning: A column-vector y was passed when a 1d array was expected. Please change the shape of y to (n_samples, ), for example using ravel().\n",
      "  y = column_or_1d(y, warn=True)\n",
      "C:\\bin\\anaconda3\\lib\\site-packages\\sklearn\\linear_model\\logistic.py:432: FutureWarning: Default solver will be changed to 'lbfgs' in 0.22. Specify a solver to silence this warning.\n",
      "  FutureWarning)\n",
      "C:\\bin\\anaconda3\\lib\\site-packages\\sklearn\\utils\\validation.py:724: DataConversionWarning: A column-vector y was passed when a 1d array was expected. Please change the shape of y to (n_samples, ), for example using ravel().\n",
      "  y = column_or_1d(y, warn=True)\n"
     ]
    },
    {
     "data": {
      "text/plain": [
       "(array([1, 1, 1, 0, 0, 0, 1, 1, 1, 0, 0, 1, 1, 1, 0, 0, 0, 1, 0, 1, 1, 1,\n",
       "        1, 1, 1, 0, 1, 1, 0, 1, 1, 0, 0, 0, 0, 1, 0, 1, 1, 0, 0, 0, 0, 1,\n",
       "        1, 1, 0, 1, 0, 0]),\n",
       " array([1, 1, 1, 0, 0, 0, 1, 1, 1, 1, 0, 1, 1, 1, 0, 0, 0, 0, 0, 1, 1, 0,\n",
       "        1, 1, 1, 0, 1, 1, 0, 0, 1, 0, 0, 0, 0, 1, 0, 0, 0, 0, 1, 0, 0, 1,\n",
       "        1, 0, 1, 0, 0, 0], dtype=int64),\n",
       " array([1, 1, 1, 0, 0, 0, 1, 1, 1, 0, 0, 1, 1, 1, 1, 0, 0, 1, 0, 1, 1, 1,\n",
       "        1, 1, 1, 0, 1, 1, 0, 1, 1, 0, 0, 0, 0, 1, 0, 1, 1, 0, 0, 0, 0, 1,\n",
       "        1, 1, 0, 1, 0, 0], dtype=int64),\n",
       " array([0, 0, 0, 0, 0, 0, 0, 0, 0, 1, 0, 0, 0, 0, 0, 0, 0, 1, 0, 0, 0, 1,\n",
       "        0, 0, 0, 0, 0, 0, 0, 1, 0, 0, 0, 0, 0, 0, 0, 1, 1, 0, 1, 0, 0, 0,\n",
       "        0, 1, 1, 1, 0, 0], dtype=int64),\n",
       " array([0, 0, 0, 0, 0, 0, 0, 0, 0, 0, 0, 0, 0, 0, 1, 0, 0, 0, 0, 0, 0, 0,\n",
       "        0, 0, 0, 0, 0, 0, 0, 0, 0, 0, 0, 0, 0, 0, 0, 0, 0, 0, 0, 0, 0, 0,\n",
       "        0, 0, 0, 0, 0, 0], dtype=int64),\n",
       " array([ 0,  0,  0,  0,  0,  0,  0,  0,  0,  1,  0,  0,  0,  0, -1,  0,  0,\n",
       "         1,  0,  0,  0,  1,  0,  0,  0,  0,  0,  0,  0,  1,  0,  0,  0,  0,\n",
       "         0,  0,  0,  1,  1,  0,  1,  0,  0,  0,  0,  1,  1,  1,  0,  0],\n",
       "       dtype=int64))"
      ]
     },
     "execution_count": 20,
     "metadata": {},
     "output_type": "execute_result"
    }
   ],
   "source": [
    "#Вопрос 4\n",
    "#H0 - вероятности одинаковы\n",
    "#H1 - вероятности отличаются\n",
    "import pandas as pd\n",
    "import numpy as np\n",
    "from sklearn.model_selection import train_test_split\n",
    "from sklearn.linear_model import LogisticRegression\n",
    "\n",
    "df = pd.read_csv(\"banknotes.txt\", delimiter='\\t')\n",
    "\n",
    "df.head()\n",
    "\n",
    "train, test = train_test_split(df, test_size=50, train_size=150, random_state=1)\n",
    "\n",
    "X1 = train[[\"X1\", \"X2\", \"X3\"]]\n",
    "X2 = train[[\"X4\", \"X5\", \"X6\"]]\n",
    "y = train[[\"real\"]]\n",
    "\n",
    "\n",
    "classifier1 = LogisticRegression().fit(X1, y)\n",
    "classifier2 = LogisticRegression().fit(X2, y)\n",
    "\n",
    "answer1 = classifier1.predict(test[[\"X1\", \"X2\", \"X3\"]])\n",
    "answer2 = classifier2.predict(test[[\"X4\", \"X5\", \"X6\"]])\n",
    "\n",
    "real = np.array(test[\"real\"].tolist())\n",
    "\n",
    "#возьмем по модулю, т.к. нас волнует любая ошибка\n",
    "diff1 = np.abs(real-answer1)\n",
    "diff2 = np.abs(real-answer2)\n",
    "#здесь просто вычтем, чтобы разделить f и g\n",
    "diff3 = diff1 - diff2\n",
    "real, answer1, answer2, diff1, diff2, diff3"
   ]
  },
  {
   "cell_type": "code",
   "execution_count": 30,
   "metadata": {},
   "outputs": [
    {
     "data": {
      "text/plain": [
       "2.9386041680175268"
      ]
     },
     "execution_count": 30,
     "metadata": {},
     "output_type": "execute_result"
    }
   ],
   "source": [
    "import math\n",
    "#как видно из разниц ответов, классификатор 2 предсказывает значительно точнее на тестовой выборке\n",
    "#из diff3 посчитаем необходимые параметры для формулы Z-критерия для двух связанных выборок\n",
    "#f - когда X1 == 1, а X2 == 0, в нашем случае это количество единиц\n",
    "#g - когда X2 == 1, а X1 == 0, в нашем случае это количество минус единиц\n",
    "f = 10\n",
    "g = 1\n",
    "n = 50\n",
    "z = (f-g)/math.sqrt(f+g-((f-g)**2)/n)\n",
    "\n",
    "z"
   ]
  },
  {
   "cell_type": "code",
   "execution_count": 31,
   "metadata": {},
   "outputs": [
    {
     "data": {
      "text/plain": [
       "0.0032969384555543435"
      ]
     },
     "execution_count": 31,
     "metadata": {},
     "output_type": "execute_result"
    }
   ],
   "source": [
    "#Полученное значение критерия Z укладывается по крайней мере в 3 сигмы распределения N(0,1)\n",
    "#Посчитаем значимость для разницы долей, H1 - что различны!\n",
    "\n",
    "2*(1-norm.cdf(z))\n",
    "#Первая значимая цифра - 3!"
   ]
  },
  {
   "cell_type": "code",
   "execution_count": 35,
   "metadata": {},
   "outputs": [
    {
     "data": {
      "text/plain": [
       "(0.18, 0.059945206279614305)"
      ]
     },
     "execution_count": 35,
     "metadata": {},
     "output_type": "execute_result"
    }
   ],
   "source": [
    "z_i = norm.ppf(0.975)\n",
    "i1 = (f-g)/n - z_i*math.sqrt((f+g)/(n**2) - ((f-g)**2)/(n**3)) #формула из лекций про доверительные интервалы\n",
    "(f-g)/n, i1\n",
    "#нужна нижняя граница доверительного интервала"
   ]
  },
  {
   "cell_type": "code",
   "execution_count": 3,
   "metadata": {},
   "outputs": [
    {
     "data": {
      "text/plain": [
       "(1.6395901536859634, 0.05054520586730693)"
      ]
     },
     "execution_count": 3,
     "metadata": {},
     "output_type": "execute_result"
    }
   ],
   "source": [
    "import math\n",
    "from scipy.stats import norm\n",
    "#Вопросы 6-7\n",
    "#Используем Z-критерий для независимых выборок (n1 = 200000, n2=100, S1=100, S2=100, M1 = 525.0, M2=541.4)\n",
    "#H0 - p1=p2, H1 - p2>p1 \n",
    "m1=525.0\n",
    "m2=541.4\n",
    "n1=200000\n",
    "n2=100\n",
    "s1=100\n",
    "s2=100\n",
    "z = (m2-m1)/math.sqrt(s1**2/n1 + s1**2/n2)\n",
    "\n",
    "z, 1-norm.cdf(z)"
   ]
  },
  {
   "cell_type": "code",
   "execution_count": 4,
   "metadata": {},
   "outputs": [
    {
     "data": {
      "text/plain": [
       "(1.6495876546230752, 0.04951365084964976)"
      ]
     },
     "execution_count": 4,
     "metadata": {},
     "output_type": "execute_result"
    }
   ],
   "source": [
    "m1=525.0\n",
    "m2=541.5\n",
    "n1=200000\n",
    "n2=100\n",
    "s1=100\n",
    "s2=100\n",
    "z = (m2-m1)/math.sqrt(s1**2/n1 + s1**2/n2)\n",
    "\n",
    "z, 1-norm.cdf(z)"
   ]
  }
 ],
 "metadata": {
  "kernelspec": {
   "display_name": "Python 3",
   "language": "python",
   "name": "python3"
  },
  "language_info": {
   "codemirror_mode": {
    "name": "ipython",
    "version": 3
   },
   "file_extension": ".py",
   "mimetype": "text/x-python",
   "name": "python",
   "nbconvert_exporter": "python",
   "pygments_lexer": "ipython3",
   "version": "3.7.4"
  }
 },
 "nbformat": 4,
 "nbformat_minor": 2
}
