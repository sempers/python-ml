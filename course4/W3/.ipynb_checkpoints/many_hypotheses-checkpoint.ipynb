{
 "cells": [
  {
   "cell_type": "code",
   "execution_count": 3,
   "metadata": {},
   "outputs": [
    {
     "data": {
      "text/html": [
       "<div>\n",
       "<style scoped>\n",
       "    .dataframe tbody tr th:only-of-type {\n",
       "        vertical-align: middle;\n",
       "    }\n",
       "\n",
       "    .dataframe tbody tr th {\n",
       "        vertical-align: top;\n",
       "    }\n",
       "\n",
       "    .dataframe thead th {\n",
       "        text-align: right;\n",
       "    }\n",
       "</style>\n",
       "<table border=\"1\" class=\"dataframe\">\n",
       "  <thead>\n",
       "    <tr style=\"text-align: right;\">\n",
       "      <th></th>\n",
       "      <th>Unnamed: 0</th>\n",
       "      <th>C4.5</th>\n",
       "      <th>C4.5+m</th>\n",
       "      <th>C4.5+cf</th>\n",
       "      <th>C4.5+m+cf</th>\n",
       "    </tr>\n",
       "  </thead>\n",
       "  <tbody>\n",
       "    <tr>\n",
       "      <td>0</td>\n",
       "      <td>adult (sample)</td>\n",
       "      <td>0.763</td>\n",
       "      <td>0.768</td>\n",
       "      <td>0.771</td>\n",
       "      <td>0.798</td>\n",
       "    </tr>\n",
       "    <tr>\n",
       "      <td>1</td>\n",
       "      <td>breast cancer</td>\n",
       "      <td>0.599</td>\n",
       "      <td>0.591</td>\n",
       "      <td>0.590</td>\n",
       "      <td>0.569</td>\n",
       "    </tr>\n",
       "    <tr>\n",
       "      <td>2</td>\n",
       "      <td>breast cancer wisconsin</td>\n",
       "      <td>0.954</td>\n",
       "      <td>0.971</td>\n",
       "      <td>0.968</td>\n",
       "      <td>0.967</td>\n",
       "    </tr>\n",
       "    <tr>\n",
       "      <td>3</td>\n",
       "      <td>cmc</td>\n",
       "      <td>0.628</td>\n",
       "      <td>0.661</td>\n",
       "      <td>0.654</td>\n",
       "      <td>0.657</td>\n",
       "    </tr>\n",
       "    <tr>\n",
       "      <td>4</td>\n",
       "      <td>ionosphere</td>\n",
       "      <td>0.882</td>\n",
       "      <td>0.888</td>\n",
       "      <td>0.886</td>\n",
       "      <td>0.898</td>\n",
       "    </tr>\n",
       "  </tbody>\n",
       "</table>\n",
       "</div>"
      ],
      "text/plain": [
       "                Unnamed: 0   C4.5  C4.5+m  C4.5+cf  C4.5+m+cf\n",
       "0           adult (sample)  0.763   0.768    0.771      0.798\n",
       "1            breast cancer  0.599   0.591    0.590      0.569\n",
       "2  breast cancer wisconsin  0.954   0.971    0.968      0.967\n",
       "3                      cmc  0.628   0.661    0.654      0.657\n",
       "4               ionosphere  0.882   0.888    0.886      0.898"
      ]
     },
     "execution_count": 3,
     "metadata": {},
     "output_type": "execute_result"
    }
   ],
   "source": [
    "import pandas as pd\n",
    "import numpy as np\n",
    "import math\n",
    "from scipy import stats\n",
    "from statsmodels.stats.descriptivestats import sign_test\n",
    "from statsmodels.stats.weightstats import zconfint\n",
    "\n",
    "df = pd.read_csv(\"AUCs.txt\", delimiter=\"\\t\")\n",
    "\n",
    "df.head()\n",
    "\n",
    "#Вопрос 1 - Инвестиционные фонды\n"
   ]
  },
  {
   "cell_type": "code",
   "execution_count": 12,
   "metadata": {},
   "outputs": [
    {
     "data": {
      "text/plain": [
       "(WilcoxonResult(statistic=6.5, pvalue=0.01075713311978963),\n",
       " WilcoxonResult(statistic=43.0, pvalue=0.861262330095348),\n",
       " WilcoxonResult(statistic=11.0, pvalue=0.015906444101703374),\n",
       " WilcoxonResult(statistic=17.0, pvalue=0.046332729793395394),\n",
       " WilcoxonResult(statistic=22.0, pvalue=0.3278256758446406),\n",
       " WilcoxonResult(statistic=10.0, pvalue=0.022909099354356588))"
      ]
     },
     "execution_count": 12,
     "metadata": {},
     "output_type": "execute_result"
    }
   ],
   "source": [
    "#Вопрос2\n",
    "results = (stats.wilcoxon(df[\"C4.5\"], df[\"C4.5+m\"]),\n",
    "stats.wilcoxon(df[\"C4.5\"], df[\"C4.5+cf\"]),\n",
    "stats.wilcoxon(df[\"C4.5\"], df[\"C4.5+m+cf\"]),\n",
    "stats.wilcoxon(df[\"C4.5+m\"], df[\"C4.5+cf\"]),\n",
    "stats.wilcoxon(df[\"C4.5+m\"], df[\"C4.5+m+cf\"]),\n",
    "stats.wilcoxon(df[\"C4.5+cf\"], df[\"C4.5+m+cf\"]))\n",
    "\n",
    "results\n",
    "\n",
    "#Выбираем наименьшее значение pvalue"
   ]
  },
  {
   "cell_type": "code",
   "execution_count": null,
   "metadata": {},
   "outputs": [],
   "source": [
    "#Вопрос 3\n",
    "#Видим 4 различия"
   ]
  },
  {
   "cell_type": "code",
   "execution_count": 7,
   "metadata": {},
   "outputs": [
    {
     "data": {
      "text/plain": [
       "(0.8049285714285714,\n",
       " 0.8204285714285715,\n",
       " 0.8087857142857143,\n",
       " 0.8272142857142858)"
      ]
     },
     "execution_count": 7,
     "metadata": {},
     "output_type": "execute_result"
    }
   ],
   "source": [
    "#Вопрос 4\n",
    "(df[\"C4.5\"].mean(), df[\"C4.5+m\"].mean(), df[\"C4.5+cf\"].mean(), df[\"C4.5+m+cf\"].mean())\n",
    "\n",
    "#cf+m - FAIL"
   ]
  },
  {
   "cell_type": "code",
   "execution_count": 15,
   "metadata": {},
   "outputs": [
    {
     "data": {
      "text/plain": [
       "[['C4.5', 'C4.5+m', 0.01075713311978963, 0.008333333333333333],\n",
       " ['C4.5', 'C4.5+m+cf', 0.015906444101703374, 0.01],\n",
       " ['C4.5+cf', 'C4.5+m+cf', 0.022909099354356588, 0.0125],\n",
       " ['C4.5+m', 'C4.5+cf', 0.046332729793395394, 0.016666666666666666],\n",
       " ['C4.5+m', 'C4.5+m+cf', 0.3278256758446406, 0.025],\n",
       " ['C4.5', 'C4.5+cf', 0.861262330095348, 0.05]]"
      ]
     },
     "execution_count": 15,
     "metadata": {},
     "output_type": "execute_result"
    }
   ],
   "source": [
    "#Вопрос 5\n",
    "alpha = 0.05\n",
    "pvalues = [\n",
    "           [\"C4.5\", \"C4.5+m\", results[0].pvalue, alpha/6],\n",
    "           [\"C4.5\", \"C4.5+m+cf\", results[2].pvalue, alpha/5],\n",
    "           [\"C4.5+cf\", \"C4.5+m+cf\", results[5].pvalue, alpha/4],\n",
    "           [\"C4.5+m\", \"C4.5+cf\", results[3].pvalue, alpha/3],\n",
    "           [\"C4.5+m\", \"C4.5+m+cf\", results[4].pvalue, alpha/2],\n",
    "           [\"C4.5\", \"C4.5+cf\", results[1].pvalue, alpha]\n",
    "          ]\n",
    "\n",
    "pvalues\n",
    "#Ответ 0 SUCCESS"
   ]
  },
  {
   "cell_type": "code",
   "execution_count": null,
   "metadata": {},
   "outputs": [],
   "source": [
    "#Вопрос 6 1"
   ]
  },
  {
   "cell_type": "code",
   "execution_count": null,
   "metadata": {},
   "outputs": [],
   "source": [
    "#Вопрос 7 Некорректно SUCCESS"
   ]
  },
  {
   "cell_type": "code",
   "execution_count": null,
   "metadata": {},
   "outputs": [],
   "source": [
    "#Вопрос 8 Взять больше датасетов, Попробовать настроить больше гиперпараметров FAIL"
   ]
  }
 ],
 "metadata": {
  "kernelspec": {
   "display_name": "Python 3",
   "language": "python",
   "name": "python3"
  },
  "language_info": {
   "codemirror_mode": {
    "name": "ipython",
    "version": 3
   },
   "file_extension": ".py",
   "mimetype": "text/x-python",
   "name": "python",
   "nbconvert_exporter": "python",
   "pygments_lexer": "ipython3",
   "version": "3.7.4"
  }
 },
 "nbformat": 4,
 "nbformat_minor": 2
}
