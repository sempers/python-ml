{
 "cells": [
  {
   "cell_type": "code",
   "execution_count": 1,
   "metadata": {
    "scrolled": true
   },
   "outputs": [
    {
     "data": {
      "text/plain": [
       "(4361, array(['catholic', 'protestant', 'spirit', 'other'], dtype=object))"
      ]
     },
     "execution_count": 1,
     "metadata": {},
     "output_type": "execute_result"
    }
   ],
   "source": [
    "#Тест на регрессию\n",
    "\n",
    "import pandas as pd\n",
    "import numpy as np\n",
    "\n",
    "df = pd.read_csv(\"botswana.tsv\", delimiter='\\t')\n",
    "#Вопрос 1\n",
    "df[\"religion\"].count(), df[\"religion\"].unique()"
   ]
  },
  {
   "cell_type": "code",
   "execution_count": 2,
   "metadata": {
    "scrolled": false
   },
   "outputs": [
    {
     "data": {
      "text/plain": [
       "ceb         1834\n",
       "age         1834\n",
       "educ        1834\n",
       "religion    1834\n",
       "idlnchld    1834\n",
       "knowmeth    1834\n",
       "usemeth     1834\n",
       "evermarr    1834\n",
       "agefm       1834\n",
       "heduc       1834\n",
       "urban       1834\n",
       "electric    1834\n",
       "radio       1834\n",
       "tv          1834\n",
       "bicycle     1834\n",
       "dtype: int64"
      ]
     },
     "execution_count": 2,
     "metadata": {},
     "output_type": "execute_result"
    }
   ],
   "source": [
    "#Вопрос 2\n",
    "dropna = df.dropna()\n",
    "dropna.count()"
   ]
  },
  {
   "cell_type": "code",
   "execution_count": 3,
   "metadata": {},
   "outputs": [],
   "source": [
    "df[\"nevermarr\"] = np.abs(df[\"evermarr\"] - 1)\n",
    "df.drop(\"evermarr\", axis=1, inplace=True)\n",
    "#df.head()"
   ]
  },
  {
   "cell_type": "code",
   "execution_count": 4,
   "metadata": {},
   "outputs": [
    {
     "name": "stderr",
     "output_type": "stream",
     "text": [
      "C:\\bin\\anaconda3\\lib\\site-packages\\ipykernel_launcher.py:5: FutureWarning: set_value is deprecated and will be removed in a future release. Please use .at[] or .iat[] accessors instead\n",
      "  \"\"\"\n"
     ]
    },
    {
     "data": {
      "text/plain": [
       "123"
      ]
     },
     "execution_count": 4,
     "metadata": {},
     "output_type": "execute_result"
    }
   ],
   "source": [
    "df[\"agefm\"] = df[\"agefm\"].fillna(0)\n",
    "\n",
    "for index, row in df.iterrows():\n",
    "    if row[\"nevermarr\"] == 1 and np.isnan(row[\"heduc\"]):\n",
    "        df.set_value(index, \"heduc\", -1)\n",
    "        \n",
    "#Вопрос 3\n",
    "len(df[np.isnan(df[\"heduc\"])])"
   ]
  },
  {
   "cell_type": "code",
   "execution_count": 11,
   "metadata": {},
   "outputs": [
    {
     "data": {
      "text/plain": [
       "78264"
      ]
     },
     "execution_count": 11,
     "metadata": {},
     "output_type": "execute_result"
    }
   ],
   "source": [
    "#Вопрос 4\n",
    "df[\"idlnchld_noans\"] = np.isnan(df[\"idlnchld\"])*1\n",
    "df[\"heduc_noans\"] = np.isnan(df[\"heduc\"])*1\n",
    "df[\"usemeth_noans\"] = np.isnan(df[\"usemeth\"])*1\n",
    "\n",
    "df[\"idlnchld\"] = df[\"idlnchld\"].fillna(-1)\n",
    "df[\"heduc\"] = df[\"heduc\"].fillna(-2)\n",
    "df[\"usemeth\"] = df[\"usemeth\"].fillna(-1)\n",
    "\n",
    "\n",
    "df = df.dropna()\n",
    "df.shape[0] * df.shape[1]"
   ]
  },
  {
   "cell_type": "code",
   "execution_count": 13,
   "metadata": {},
   "outputs": [
    {
     "name": "stdout",
     "output_type": "stream",
     "text": [
      "                            OLS Regression Results                            \n",
      "==============================================================================\n",
      "Dep. Variable:                    ceb   R-squared:                       0.638\n",
      "Model:                            OLS   Adj. R-squared:                  0.637\n",
      "Method:                 Least Squares   F-statistic:                     477.9\n",
      "Date:                Mon, 01 Jun 2020   Prob (F-statistic):               0.00\n",
      "Time:                        17:18:44   Log-Likelihood:                -7767.4\n",
      "No. Observations:                4348   AIC:                         1.557e+04\n",
      "Df Residuals:                    4331   BIC:                         1.568e+04\n",
      "Df Model:                          16                                         \n",
      "Covariance Type:            nonrobust                                         \n",
      "==========================================================================================\n",
      "                             coef    std err          t      P>|t|      [0.025      0.975]\n",
      "------------------------------------------------------------------------------------------\n",
      "Intercept                 -0.9862      0.211     -4.668      0.000      -1.400      -0.572\n",
      "religion[T.other]         -0.0924      0.083     -1.108      0.268      -0.256       0.071\n",
      "religion[T.protestant]    -0.0216      0.083     -0.261      0.794      -0.184       0.141\n",
      "religion[T.spirit]        -0.0198      0.078     -0.254      0.800      -0.172       0.133\n",
      "age                        0.1736      0.003     53.381      0.000       0.167       0.180\n",
      "educ                      -0.0762      0.007    -10.373      0.000      -0.091      -0.062\n",
      "idlnchld                   0.0568      0.010      5.774      0.000       0.038       0.076\n",
      "knowmeth                   0.5744      0.122      4.726      0.000       0.336       0.813\n",
      "usemeth                    0.5464      0.044     12.306      0.000       0.459       0.633\n",
      "agefm                     -0.0630      0.007     -9.539      0.000      -0.076      -0.050\n",
      "heduc                     -0.0381      0.008     -5.051      0.000      -0.053      -0.023\n",
      "urban                     -0.2311      0.047     -4.866      0.000      -0.324      -0.138\n",
      "electric                  -0.2928      0.078     -3.768      0.000      -0.445      -0.140\n",
      "radio                     -0.0302      0.051     -0.589      0.556      -0.131       0.070\n",
      "tv                        -0.1741      0.093     -1.866      0.062      -0.357       0.009\n",
      "bicycle                    0.2138      0.051      4.225      0.000       0.115       0.313\n",
      "nevermarr                 -2.1640      0.147    -14.769      0.000      -2.451      -1.877\n",
      "idlnchld_noans                  0          0        nan        nan           0           0\n",
      "heduc_noans                     0          0        nan        nan           0           0\n",
      "usemeth_noans                   0          0        nan        nan           0           0\n",
      "==============================================================================\n",
      "Omnibus:                      226.303   Durbin-Watson:                   1.885\n",
      "Prob(Omnibus):                  0.000   Jarque-Bera (JB):              872.294\n",
      "Skew:                          -0.006   Prob(JB):                    3.84e-190\n",
      "Kurtosis:                       5.194   Cond. No.                          inf\n",
      "==============================================================================\n",
      "\n",
      "Warnings:\n",
      "[1] Standard Errors assume that the covariance matrix of the errors is correctly specified.\n",
      "[2] The smallest eigenvalue is      0. This might indicate that there are\n",
      "strong multicollinearity problems or that the design matrix is singular.\n"
     ]
    },
    {
     "name": "stderr",
     "output_type": "stream",
     "text": [
      "C:\\bin\\anaconda3\\lib\\site-packages\\statsmodels\\regression\\linear_model.py:1755: RuntimeWarning: divide by zero encountered in double_scalars\n",
      "  return np.sqrt(eigvals[0]/eigvals[-1])\n",
      "C:\\bin\\anaconda3\\lib\\site-packages\\statsmodels\\base\\model.py:1294: RuntimeWarning: invalid value encountered in true_divide\n",
      "  return self.params / self.bse\n",
      "C:\\bin\\anaconda3\\lib\\site-packages\\scipy\\stats\\_distn_infrastructure.py:903: RuntimeWarning: invalid value encountered in greater\n",
      "  return (a < x) & (x < b)\n",
      "C:\\bin\\anaconda3\\lib\\site-packages\\scipy\\stats\\_distn_infrastructure.py:903: RuntimeWarning: invalid value encountered in less\n",
      "  return (a < x) & (x < b)\n",
      "C:\\bin\\anaconda3\\lib\\site-packages\\scipy\\stats\\_distn_infrastructure.py:1912: RuntimeWarning: invalid value encountered in less_equal\n",
      "  cond2 = cond0 & (x <= _a)\n"
     ]
    }
   ],
   "source": [
    "import statsmodels.formula.api as smf\n",
    "#Вопрос 5. Постройте регрессию количества детей ceb на все имеющиеся признаки методом smf.ols, как в разобранном до этого примере. \n",
    "#Какой получился коэффициент детерминации R^2\n",
    "# Округлите до трёх знаков после десятичной точки.\n",
    "\n",
    "REGR_EXPR = 'ceb ~ age + educ + religion + idlnchld + knowmeth + usemeth + agefm + heduc + urban + electric + radio + tv + bicycle + nevermarr + idlnchld_noans + heduc_noans + usemeth_noans'\n",
    "\n",
    "m1 = smf.ols(REGR_EXPR, data=df)\n",
    "m1_fitted = m1.fit()\n",
    "print(m1_fitted.summary())"
   ]
  },
  {
   "cell_type": "code",
   "execution_count": 14,
   "metadata": {},
   "outputs": [
    {
     "data": {
      "text/plain": [
       "5.764853115575408e-223"
      ]
     },
     "execution_count": 14,
     "metadata": {},
     "output_type": "execute_result"
    }
   ],
   "source": [
    "import statsmodels.stats.api as sms\n",
    "\n",
    "#Вопрос 7. Проверьте критерием Бройша-Пагана гомоскедастичность ошибки в построенной модели. Выполняется ли она?\n",
    "\n",
    "sms.het_breuschpagan(m1_fitted.resid, m1_fitted.model.exog)[1]"
   ]
  },
  {
   "cell_type": "code",
   "execution_count": 21,
   "metadata": {},
   "outputs": [
    {
     "name": "stderr",
     "output_type": "stream",
     "text": [
      "C:\\bin\\anaconda3\\lib\\site-packages\\statsmodels\\regression\\linear_model.py:2018: InvalidTestWarning: F test for comparison is likely invalid with robust covariance, proceeding anyway\n",
      "  InvalidTestWarning)\n"
     ]
    },
    {
     "data": {
      "text/plain": [
       "(1.2438843022925365, nan, -5.0)"
      ]
     },
     "execution_count": 21,
     "metadata": {},
     "output_type": "execute_result"
    }
   ],
   "source": [
    "#Вопрос 8\n",
    "df1 = df.drop(columns=[\"radio\", \"tv\", \"religion\"])\n",
    "\n",
    "REGR_EXPR2 = 'ceb ~ age + educ + idlnchld + knowmeth + usemeth + agefm + heduc + urban + electric + bicycle + nevermarr + idlnchld_noans + heduc_noans + usemeth_noans'\n",
    "\n",
    "m1_fitted = m1.fit(cov_type='HC1')\n",
    "\n",
    "m2 = smf.ols(REGR_EXPR2, data=df1)\n",
    "m2_fitted = m2.fit(cov_type='HC1')\n",
    "\n",
    "sms.het_breuschpagan(m2_fitted.resid, m2_fitted.model.exog)[1]\n",
    "\n",
    "#m2 = smf.ols('ceb ~ age + educ + idlnchld + knowmeth + usemeth + agefm + heduc + urban + electric + bicycle + nevermarr', \n",
    "#             data=df1)\n",
    "#fitted2 = m2.fit()\n",
    "\n",
    "m2_fitted.compare_f_test(m1_fitted)"
   ]
  }
 ],
 "metadata": {
  "kernelspec": {
   "display_name": "Python 3",
   "language": "python",
   "name": "python3"
  },
  "language_info": {
   "codemirror_mode": {
    "name": "ipython",
    "version": 3
   },
   "file_extension": ".py",
   "mimetype": "text/x-python",
   "name": "python",
   "nbconvert_exporter": "python",
   "pygments_lexer": "ipython3",
   "version": "3.7.4"
  }
 },
 "nbformat": 4,
 "nbformat_minor": 2
}
