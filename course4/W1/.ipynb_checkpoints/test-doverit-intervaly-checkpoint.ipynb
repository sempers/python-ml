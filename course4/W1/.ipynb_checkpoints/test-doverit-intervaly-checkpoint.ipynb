{
 "cells": [
  {
   "cell_type": "code",
   "execution_count": 7,
   "metadata": {},
   "outputs": [],
   "source": [
    "import scipy.stats as stats\n",
    "import matplotlib.pyplot as plt\n",
    "%matplotlib inline\n",
    "import numpy as np"
   ]
  },
  {
   "cell_type": "code",
   "execution_count": 42,
   "metadata": {},
   "outputs": [
    {
     "data": {
      "text/plain": [
       "2.9677379253417944"
      ]
     },
     "execution_count": 42,
     "metadata": {},
     "output_type": "execute_result"
    }
   ],
   "source": [
    "#1 вопрос\n",
    "dist = stats.norm(0, 1)\n",
    "dist.ppf(0.9985)  #0.997 + 0.0015"
   ]
  },
  {
   "cell_type": "code",
   "execution_count": 43,
   "metadata": {},
   "outputs": [
    {
     "data": {
      "text/plain": [
       "0.9969996298510311"
      ]
     },
     "execution_count": 43,
     "metadata": {},
     "output_type": "execute_result"
    }
   ],
   "source": [
    "#Проверяем \n",
    "dist.cdf(2.9677) - dist.cdf(-2.9677)"
   ]
  },
  {
   "cell_type": "code",
   "execution_count": null,
   "metadata": {},
   "outputs": [],
   "source": [
    "#2 вопрос - St(n-1)\n",
    "#3 вопрос - хи-квадрат, Фишера\n",
    "#4 вопрос - f-q/n ...\n"
   ]
  },
  {
   "cell_type": "code",
   "execution_count": 5,
   "metadata": {},
   "outputs": [
    {
     "data": {
      "text/plain": [
       "(0.017128874388254486, 0.009422850412249705, 0.0077060239760047815)"
      ]
     },
     "execution_count": 5,
     "metadata": {},
     "output_type": "execute_result"
    }
   ],
   "source": [
    "#5 вопрос\n",
    "p1 = 189/11034 #плацебо\n",
    "p2 = 104/11037 #аспирин\n",
    "diff = p1 - p2\n",
    "p1, p2, diff"
   ]
  },
  {
   "cell_type": "code",
   "execution_count": 10,
   "metadata": {},
   "outputs": [
    {
     "data": {
      "text/plain": [
       "0.010724297276960124"
      ]
     },
     "execution_count": 10,
     "metadata": {},
     "output_type": "execute_result"
    }
   ],
   "source": [
    "import math\n",
    "#6 вопрос\n",
    "#строим доверительный интервал для разности долей p1-p2 по формуле для несвязанных выборок\n",
    "\n",
    "#z для верхнего квантиля Z(1-alpha/2)  1-alpha = 0.95\n",
    "z = stats.norm.ppf(0.975)\n",
    "#верхняя граница доверительного интервала\n",
    "C_U = diff + z*math.sqrt(p1*(1-p1)/11034 + p2*(1-p2)/11037)\n",
    "C_U"
   ]
  },
  {
   "cell_type": "code",
   "execution_count": 11,
   "metadata": {},
   "outputs": [
    {
     "data": {
      "text/plain": [
       "1.8320539419087138"
      ]
     },
     "execution_count": 11,
     "metadata": {},
     "output_type": "execute_result"
    }
   ],
   "source": [
    "#7 Вопрос\n",
    "\n",
    "chances1 = p1/(1-p1)\n",
    "chances2 = p2/(1-p2)\n",
    "\n",
    "chances1/chances2"
   ]
  },
  {
   "cell_type": "code",
   "execution_count": null,
   "metadata": {},
   "outputs": [],
   "source": [
    "#8 вопрос не стал делать"
   ]
  }
 ],
 "metadata": {
  "kernelspec": {
   "display_name": "Python 3",
   "language": "python",
   "name": "python3"
  },
  "language_info": {
   "codemirror_mode": {
    "name": "ipython",
    "version": 3
   },
   "file_extension": ".py",
   "mimetype": "text/x-python",
   "name": "python",
   "nbconvert_exporter": "python",
   "pygments_lexer": "ipython3",
   "version": "3.7.4"
  }
 },
 "nbformat": 4,
 "nbformat_minor": 2
}
