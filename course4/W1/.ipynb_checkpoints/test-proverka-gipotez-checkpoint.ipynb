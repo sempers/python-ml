{
 "cells": [
  {
   "cell_type": "code",
   "execution_count": 4,
   "metadata": {},
   "outputs": [
    {
     "data": {
      "text/plain": [
       "(0.5730534379509052, 0.7543687726587197)"
      ]
     },
     "execution_count": 4,
     "metadata": {},
     "output_type": "execute_result"
    }
   ],
   "source": [
    "#Вопрос 1\n",
    "#Нулевая гипотеза - то, что собранный показатель соответствует предсказанной вероятности, т.е. наш ресторан вполне обычный и средний\n",
    "#Альтернатива - то что отличается от среднего в любую сторону, т.о. альтернатива двусторонняя\n",
    "\n",
    "#Посчитаем доверительный интервал по Уилсону\n",
    "from statsmodels.stats.proportion import proportion_confint\n",
    "\n",
    "proportion_confint(67, 100, method='wilson')"
   ]
  },
  {
   "cell_type": "code",
   "execution_count": 9,
   "metadata": {},
   "outputs": [
    {
     "data": {
      "text/plain": [
       "0.08222258891386608"
      ]
     },
     "execution_count": 9,
     "metadata": {},
     "output_type": "execute_result"
    }
   ],
   "source": [
    "#Видим, что перекрывает значение 0.75, заданное общим распределением, посчитаем c помощью binom_test достигаемый уровень значимости\n",
    "\n",
    "from scipy.stats import binom_test\n",
    "\n",
    "binom_test(67, 100, p=0.75)\n",
    "# Это правильное значение"
   ]
  },
  {
   "cell_type": "code",
   "execution_count": null,
   "metadata": {},
   "outputs": [],
   "source": [
    "#Вопрос 2 - выбрать все галочки"
   ]
  },
  {
   "cell_type": "code",
   "execution_count": 12,
   "metadata": {},
   "outputs": [
    {
     "data": {
      "text/plain": [
       "23.36"
      ]
     },
     "execution_count": 12,
     "metadata": {},
     "output_type": "execute_result"
    }
   ],
   "source": [
    "#Вопрос 3\n",
    "import pandas as pd\n",
    "import numpy as np\n",
    "from scipy.stats import binned_statistic_2d\n",
    "pines = pd.read_csv(\"pines.txt\", delimiter='\\t')\n",
    "\n",
    "\n",
    "statistic = binned_statistic_2d(pines[\"sn\"], pines[\"we\"], values=None, statistic='count', bins=5).statistic\n",
    "\n",
    "np.sum(statistic)/25."
   ]
  },
  {
   "cell_type": "code",
   "execution_count": 28,
   "metadata": {},
   "outputs": [
    {
     "data": {
      "text/plain": [
       "Power_divergenceResult(statistic=150.58904109589042, pvalue=2.574669774967279e-20)"
      ]
     },
     "execution_count": 28,
     "metadata": {},
     "output_type": "execute_result"
    }
   ],
   "source": [
    "#Вопрос 4\n",
    "#линеаризуем массив частот деревьев (statistic)\n",
    "f_obs = np.reshape(statistic, (1, 25))\n",
    "#делаем теоретический массив частот \n",
    "f_exp = np.array([23.36]*25)\n",
    "\n",
    "from scipy.stats import chisquare\n",
    "chisquare(f_obs, f_exp, axis=None)\n",
    "\n",
    "#Вопрос 5 - т.к. pvalue близко к нулю, разумеется деревья растут совсем не равномерно"
   ]
  }
 ],
 "metadata": {
  "kernelspec": {
   "display_name": "Python 3",
   "language": "python",
   "name": "python3"
  },
  "language_info": {
   "codemirror_mode": {
    "name": "ipython",
    "version": 3
   },
   "file_extension": ".py",
   "mimetype": "text/x-python",
   "name": "python",
   "nbconvert_exporter": "python",
   "pygments_lexer": "ipython3",
   "version": "3.7.4"
  }
 },
 "nbformat": 4,
 "nbformat_minor": 2
}
